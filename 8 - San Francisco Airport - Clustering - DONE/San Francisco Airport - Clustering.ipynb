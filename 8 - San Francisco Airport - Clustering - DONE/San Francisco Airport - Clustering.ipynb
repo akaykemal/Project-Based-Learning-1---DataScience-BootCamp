{
 "cells": [
  {
   "cell_type": "markdown",
   "id": "a26c6c44",
   "metadata": {},
   "source": [
    "### We try to use clustering models for number of passengers and number of flights"
   ]
  },
  {
   "cell_type": "code",
   "execution_count": 1,
   "id": "93e377c5",
   "metadata": {},
   "outputs": [],
   "source": [
    "#import standard libraries\n",
    "import pandas as pd\n",
    "import numpy as np\n",
    "import seaborn as sns\n",
    "import matplotlib.pyplot as plt\n",
    "\n",
    "#import clustering libraries\n",
    "from sklearn.cluster import KMeans\n",
    "from sklearn.metrics import silhouette_score\n",
    "\n",
    "import warnings\n",
    "warnings.filterwarnings(\"ignore\")"
   ]
  },
  {
   "cell_type": "code",
   "execution_count": 2,
   "id": "57af3287",
   "metadata": {},
   "outputs": [],
   "source": [
    "df=pd.read_csv(\"air-traffic-passenger-statistics.csv\")"
   ]
  },
  {
   "cell_type": "code",
   "execution_count": 3,
   "id": "87227bc6",
   "metadata": {},
   "outputs": [
    {
     "data": {
      "text/html": [
       "<div>\n",
       "<style scoped>\n",
       "    .dataframe tbody tr th:only-of-type {\n",
       "        vertical-align: middle;\n",
       "    }\n",
       "\n",
       "    .dataframe tbody tr th {\n",
       "        vertical-align: top;\n",
       "    }\n",
       "\n",
       "    .dataframe thead th {\n",
       "        text-align: right;\n",
       "    }\n",
       "</style>\n",
       "<table border=\"1\" class=\"dataframe\">\n",
       "  <thead>\n",
       "    <tr style=\"text-align: right;\">\n",
       "      <th></th>\n",
       "      <th>Activity Period</th>\n",
       "      <th>Operating Airline</th>\n",
       "      <th>Operating Airline IATA Code</th>\n",
       "      <th>Published Airline</th>\n",
       "      <th>Published Airline IATA Code</th>\n",
       "      <th>GEO Summary</th>\n",
       "      <th>GEO Region</th>\n",
       "      <th>Activity Type Code</th>\n",
       "      <th>Price Category Code</th>\n",
       "      <th>Terminal</th>\n",
       "      <th>Boarding Area</th>\n",
       "      <th>Passenger Count</th>\n",
       "    </tr>\n",
       "  </thead>\n",
       "  <tbody>\n",
       "    <tr>\n",
       "      <th>0</th>\n",
       "      <td>200507</td>\n",
       "      <td>ATA Airlines</td>\n",
       "      <td>TZ</td>\n",
       "      <td>ATA Airlines</td>\n",
       "      <td>TZ</td>\n",
       "      <td>Domestic</td>\n",
       "      <td>US</td>\n",
       "      <td>Deplaned</td>\n",
       "      <td>Low Fare</td>\n",
       "      <td>Terminal 1</td>\n",
       "      <td>B</td>\n",
       "      <td>27271</td>\n",
       "    </tr>\n",
       "    <tr>\n",
       "      <th>1</th>\n",
       "      <td>200507</td>\n",
       "      <td>ATA Airlines</td>\n",
       "      <td>TZ</td>\n",
       "      <td>ATA Airlines</td>\n",
       "      <td>TZ</td>\n",
       "      <td>Domestic</td>\n",
       "      <td>US</td>\n",
       "      <td>Enplaned</td>\n",
       "      <td>Low Fare</td>\n",
       "      <td>Terminal 1</td>\n",
       "      <td>B</td>\n",
       "      <td>29131</td>\n",
       "    </tr>\n",
       "    <tr>\n",
       "      <th>2</th>\n",
       "      <td>200507</td>\n",
       "      <td>ATA Airlines</td>\n",
       "      <td>TZ</td>\n",
       "      <td>ATA Airlines</td>\n",
       "      <td>TZ</td>\n",
       "      <td>Domestic</td>\n",
       "      <td>US</td>\n",
       "      <td>Thru / Transit</td>\n",
       "      <td>Low Fare</td>\n",
       "      <td>Terminal 1</td>\n",
       "      <td>B</td>\n",
       "      <td>5415</td>\n",
       "    </tr>\n",
       "    <tr>\n",
       "      <th>3</th>\n",
       "      <td>200507</td>\n",
       "      <td>Air Canada</td>\n",
       "      <td>AC</td>\n",
       "      <td>Air Canada</td>\n",
       "      <td>AC</td>\n",
       "      <td>International</td>\n",
       "      <td>Canada</td>\n",
       "      <td>Deplaned</td>\n",
       "      <td>Other</td>\n",
       "      <td>Terminal 1</td>\n",
       "      <td>B</td>\n",
       "      <td>35156</td>\n",
       "    </tr>\n",
       "    <tr>\n",
       "      <th>4</th>\n",
       "      <td>200507</td>\n",
       "      <td>Air Canada</td>\n",
       "      <td>AC</td>\n",
       "      <td>Air Canada</td>\n",
       "      <td>AC</td>\n",
       "      <td>International</td>\n",
       "      <td>Canada</td>\n",
       "      <td>Enplaned</td>\n",
       "      <td>Other</td>\n",
       "      <td>Terminal 1</td>\n",
       "      <td>B</td>\n",
       "      <td>34090</td>\n",
       "    </tr>\n",
       "  </tbody>\n",
       "</table>\n",
       "</div>"
      ],
      "text/plain": [
       "   Activity Period Operating Airline Operating Airline IATA Code  \\\n",
       "0           200507      ATA Airlines                          TZ   \n",
       "1           200507      ATA Airlines                          TZ   \n",
       "2           200507      ATA Airlines                          TZ   \n",
       "3           200507        Air Canada                          AC   \n",
       "4           200507        Air Canada                          AC   \n",
       "\n",
       "  Published Airline Published Airline IATA Code    GEO Summary GEO Region  \\\n",
       "0      ATA Airlines                          TZ       Domestic         US   \n",
       "1      ATA Airlines                          TZ       Domestic         US   \n",
       "2      ATA Airlines                          TZ       Domestic         US   \n",
       "3        Air Canada                          AC  International     Canada   \n",
       "4        Air Canada                          AC  International     Canada   \n",
       "\n",
       "  Activity Type Code Price Category Code    Terminal Boarding Area  \\\n",
       "0           Deplaned            Low Fare  Terminal 1             B   \n",
       "1           Enplaned            Low Fare  Terminal 1             B   \n",
       "2     Thru / Transit            Low Fare  Terminal 1             B   \n",
       "3           Deplaned               Other  Terminal 1             B   \n",
       "4           Enplaned               Other  Terminal 1             B   \n",
       "\n",
       "   Passenger Count  \n",
       "0            27271  \n",
       "1            29131  \n",
       "2             5415  \n",
       "3            35156  \n",
       "4            34090  "
      ]
     },
     "execution_count": 3,
     "metadata": {},
     "output_type": "execute_result"
    }
   ],
   "source": [
    "df.head()"
   ]
  },
  {
   "cell_type": "code",
   "execution_count": 4,
   "id": "4a66bb29",
   "metadata": {},
   "outputs": [
    {
     "data": {
      "text/html": [
       "<div>\n",
       "<style scoped>\n",
       "    .dataframe tbody tr th:only-of-type {\n",
       "        vertical-align: middle;\n",
       "    }\n",
       "\n",
       "    .dataframe tbody tr th {\n",
       "        vertical-align: top;\n",
       "    }\n",
       "\n",
       "    .dataframe thead th {\n",
       "        text-align: right;\n",
       "    }\n",
       "</style>\n",
       "<table border=\"1\" class=\"dataframe\">\n",
       "  <thead>\n",
       "    <tr style=\"text-align: right;\">\n",
       "      <th></th>\n",
       "      <th>Activity Period</th>\n",
       "      <th>Operating Airline</th>\n",
       "      <th>Operating Airline IATA Code</th>\n",
       "      <th>Published Airline</th>\n",
       "      <th>Published Airline IATA Code</th>\n",
       "      <th>GEO Summary</th>\n",
       "      <th>GEO Region</th>\n",
       "      <th>Activity Type Code</th>\n",
       "      <th>Price Category Code</th>\n",
       "      <th>Terminal</th>\n",
       "      <th>Boarding Area</th>\n",
       "      <th>Passenger Count</th>\n",
       "    </tr>\n",
       "  </thead>\n",
       "  <tbody>\n",
       "    <tr>\n",
       "      <th>18880</th>\n",
       "      <td>201806</td>\n",
       "      <td>WOW Air</td>\n",
       "      <td>WW</td>\n",
       "      <td>WOW Air</td>\n",
       "      <td>WW</td>\n",
       "      <td>International</td>\n",
       "      <td>Europe</td>\n",
       "      <td>Enplaned</td>\n",
       "      <td>Other</td>\n",
       "      <td>International</td>\n",
       "      <td>G</td>\n",
       "      <td>50</td>\n",
       "    </tr>\n",
       "    <tr>\n",
       "      <th>18881</th>\n",
       "      <td>201806</td>\n",
       "      <td>WestJet Airlines</td>\n",
       "      <td>WS</td>\n",
       "      <td>WestJet Airlines</td>\n",
       "      <td>WS</td>\n",
       "      <td>International</td>\n",
       "      <td>Canada</td>\n",
       "      <td>Deplaned</td>\n",
       "      <td>Other</td>\n",
       "      <td>International</td>\n",
       "      <td>A</td>\n",
       "      <td>10868</td>\n",
       "    </tr>\n",
       "    <tr>\n",
       "      <th>18882</th>\n",
       "      <td>201806</td>\n",
       "      <td>WestJet Airlines</td>\n",
       "      <td>WS</td>\n",
       "      <td>WestJet Airlines</td>\n",
       "      <td>WS</td>\n",
       "      <td>International</td>\n",
       "      <td>Canada</td>\n",
       "      <td>Enplaned</td>\n",
       "      <td>Other</td>\n",
       "      <td>International</td>\n",
       "      <td>A</td>\n",
       "      <td>11664</td>\n",
       "    </tr>\n",
       "    <tr>\n",
       "      <th>18883</th>\n",
       "      <td>201806</td>\n",
       "      <td>XL Airways France</td>\n",
       "      <td>SE</td>\n",
       "      <td>XL Airways France</td>\n",
       "      <td>SE</td>\n",
       "      <td>International</td>\n",
       "      <td>Europe</td>\n",
       "      <td>Deplaned</td>\n",
       "      <td>Other</td>\n",
       "      <td>International</td>\n",
       "      <td>A</td>\n",
       "      <td>804</td>\n",
       "    </tr>\n",
       "    <tr>\n",
       "      <th>18884</th>\n",
       "      <td>201806</td>\n",
       "      <td>XL Airways France</td>\n",
       "      <td>SE</td>\n",
       "      <td>XL Airways France</td>\n",
       "      <td>SE</td>\n",
       "      <td>International</td>\n",
       "      <td>Europe</td>\n",
       "      <td>Enplaned</td>\n",
       "      <td>Other</td>\n",
       "      <td>International</td>\n",
       "      <td>A</td>\n",
       "      <td>1243</td>\n",
       "    </tr>\n",
       "  </tbody>\n",
       "</table>\n",
       "</div>"
      ],
      "text/plain": [
       "       Activity Period  Operating Airline Operating Airline IATA Code  \\\n",
       "18880           201806            WOW Air                          WW   \n",
       "18881           201806   WestJet Airlines                          WS   \n",
       "18882           201806   WestJet Airlines                          WS   \n",
       "18883           201806  XL Airways France                          SE   \n",
       "18884           201806  XL Airways France                          SE   \n",
       "\n",
       "       Published Airline Published Airline IATA Code    GEO Summary  \\\n",
       "18880            WOW Air                          WW  International   \n",
       "18881   WestJet Airlines                          WS  International   \n",
       "18882   WestJet Airlines                          WS  International   \n",
       "18883  XL Airways France                          SE  International   \n",
       "18884  XL Airways France                          SE  International   \n",
       "\n",
       "      GEO Region Activity Type Code Price Category Code       Terminal  \\\n",
       "18880     Europe           Enplaned               Other  International   \n",
       "18881     Canada           Deplaned               Other  International   \n",
       "18882     Canada           Enplaned               Other  International   \n",
       "18883     Europe           Deplaned               Other  International   \n",
       "18884     Europe           Enplaned               Other  International   \n",
       "\n",
       "      Boarding Area  Passenger Count  \n",
       "18880             G               50  \n",
       "18881             A            10868  \n",
       "18882             A            11664  \n",
       "18883             A              804  \n",
       "18884             A             1243  "
      ]
     },
     "execution_count": 4,
     "metadata": {},
     "output_type": "execute_result"
    }
   ],
   "source": [
    "df.tail()"
   ]
  },
  {
   "cell_type": "code",
   "execution_count": 5,
   "id": "20fd2ec5",
   "metadata": {},
   "outputs": [
    {
     "data": {
      "text/html": [
       "<div>\n",
       "<style scoped>\n",
       "    .dataframe tbody tr th:only-of-type {\n",
       "        vertical-align: middle;\n",
       "    }\n",
       "\n",
       "    .dataframe tbody tr th {\n",
       "        vertical-align: top;\n",
       "    }\n",
       "\n",
       "    .dataframe thead th {\n",
       "        text-align: right;\n",
       "    }\n",
       "</style>\n",
       "<table border=\"1\" class=\"dataframe\">\n",
       "  <thead>\n",
       "    <tr style=\"text-align: right;\">\n",
       "      <th></th>\n",
       "      <th>Activity Period</th>\n",
       "      <th>Operating Airline</th>\n",
       "      <th>Operating Airline IATA Code</th>\n",
       "      <th>Published Airline</th>\n",
       "      <th>Published Airline IATA Code</th>\n",
       "      <th>GEO Summary</th>\n",
       "      <th>GEO Region</th>\n",
       "      <th>Activity Type Code</th>\n",
       "      <th>Price Category Code</th>\n",
       "      <th>Terminal</th>\n",
       "      <th>Boarding Area</th>\n",
       "      <th>Passenger Count</th>\n",
       "    </tr>\n",
       "  </thead>\n",
       "  <tbody>\n",
       "    <tr>\n",
       "      <th>1764</th>\n",
       "      <td>200610</td>\n",
       "      <td>Horizon Air</td>\n",
       "      <td>QX</td>\n",
       "      <td>Alaska Airlines</td>\n",
       "      <td>AS</td>\n",
       "      <td>Domestic</td>\n",
       "      <td>US</td>\n",
       "      <td>Deplaned</td>\n",
       "      <td>Other</td>\n",
       "      <td>Terminal 1</td>\n",
       "      <td>B</td>\n",
       "      <td>4407</td>\n",
       "    </tr>\n",
       "    <tr>\n",
       "      <th>16060</th>\n",
       "      <td>201611</td>\n",
       "      <td>United Airlines</td>\n",
       "      <td>UA</td>\n",
       "      <td>United Airlines</td>\n",
       "      <td>UA</td>\n",
       "      <td>Domestic</td>\n",
       "      <td>US</td>\n",
       "      <td>Deplaned</td>\n",
       "      <td>Other</td>\n",
       "      <td>Terminal 3</td>\n",
       "      <td>E</td>\n",
       "      <td>274493</td>\n",
       "    </tr>\n",
       "    <tr>\n",
       "      <th>10771</th>\n",
       "      <td>201303</td>\n",
       "      <td>Virgin America</td>\n",
       "      <td>VX</td>\n",
       "      <td>Virgin America</td>\n",
       "      <td>VX</td>\n",
       "      <td>International</td>\n",
       "      <td>Mexico</td>\n",
       "      <td>Deplaned</td>\n",
       "      <td>Low Fare</td>\n",
       "      <td>International</td>\n",
       "      <td>A</td>\n",
       "      <td>5029</td>\n",
       "    </tr>\n",
       "    <tr>\n",
       "      <th>4599</th>\n",
       "      <td>200810</td>\n",
       "      <td>Hawaiian Airlines</td>\n",
       "      <td>HA</td>\n",
       "      <td>Hawaiian Airlines</td>\n",
       "      <td>HA</td>\n",
       "      <td>Domestic</td>\n",
       "      <td>US</td>\n",
       "      <td>Enplaned</td>\n",
       "      <td>Other</td>\n",
       "      <td>Terminal 1</td>\n",
       "      <td>C</td>\n",
       "      <td>7391</td>\n",
       "    </tr>\n",
       "    <tr>\n",
       "      <th>16929</th>\n",
       "      <td>201706</td>\n",
       "      <td>Air New Zealand</td>\n",
       "      <td>NZ</td>\n",
       "      <td>Air New Zealand</td>\n",
       "      <td>NZ</td>\n",
       "      <td>International</td>\n",
       "      <td>Australia / Oceania</td>\n",
       "      <td>Enplaned</td>\n",
       "      <td>Other</td>\n",
       "      <td>International</td>\n",
       "      <td>G</td>\n",
       "      <td>8394</td>\n",
       "    </tr>\n",
       "    <tr>\n",
       "      <th>526</th>\n",
       "      <td>200511</td>\n",
       "      <td>Korean Air Lines</td>\n",
       "      <td>KE</td>\n",
       "      <td>Korean Air Lines</td>\n",
       "      <td>KE</td>\n",
       "      <td>International</td>\n",
       "      <td>Asia</td>\n",
       "      <td>Deplaned</td>\n",
       "      <td>Other</td>\n",
       "      <td>International</td>\n",
       "      <td>A</td>\n",
       "      <td>4514</td>\n",
       "    </tr>\n",
       "    <tr>\n",
       "      <th>2862</th>\n",
       "      <td>200707</td>\n",
       "      <td>United Airlines - Pre 07/01/2013</td>\n",
       "      <td>UA</td>\n",
       "      <td>United Airlines - Pre 07/01/2013</td>\n",
       "      <td>UA</td>\n",
       "      <td>International</td>\n",
       "      <td>Canada</td>\n",
       "      <td>Enplaned</td>\n",
       "      <td>Other</td>\n",
       "      <td>Terminal 3</td>\n",
       "      <td>F</td>\n",
       "      <td>15437</td>\n",
       "    </tr>\n",
       "    <tr>\n",
       "      <th>10112</th>\n",
       "      <td>201210</td>\n",
       "      <td>Air Berlin</td>\n",
       "      <td>AB</td>\n",
       "      <td>Air Berlin</td>\n",
       "      <td>AB</td>\n",
       "      <td>International</td>\n",
       "      <td>Europe</td>\n",
       "      <td>Deplaned</td>\n",
       "      <td>Other</td>\n",
       "      <td>International</td>\n",
       "      <td>A</td>\n",
       "      <td>1188</td>\n",
       "    </tr>\n",
       "    <tr>\n",
       "      <th>17516</th>\n",
       "      <td>201709</td>\n",
       "      <td>Virgin America</td>\n",
       "      <td>VX</td>\n",
       "      <td>Virgin America</td>\n",
       "      <td>VX</td>\n",
       "      <td>International</td>\n",
       "      <td>Mexico</td>\n",
       "      <td>Deplaned</td>\n",
       "      <td>Low Fare</td>\n",
       "      <td>International</td>\n",
       "      <td>A</td>\n",
       "      <td>1910</td>\n",
       "    </tr>\n",
       "    <tr>\n",
       "      <th>8083</th>\n",
       "      <td>201104</td>\n",
       "      <td>Qantas Airways</td>\n",
       "      <td>QF</td>\n",
       "      <td>Qantas Airways</td>\n",
       "      <td>QF</td>\n",
       "      <td>International</td>\n",
       "      <td>Australia / Oceania</td>\n",
       "      <td>Enplaned</td>\n",
       "      <td>Other</td>\n",
       "      <td>International</td>\n",
       "      <td>A</td>\n",
       "      <td>4203</td>\n",
       "    </tr>\n",
       "  </tbody>\n",
       "</table>\n",
       "</div>"
      ],
      "text/plain": [
       "       Activity Period                 Operating Airline  \\\n",
       "1764            200610                       Horizon Air   \n",
       "16060           201611                   United Airlines   \n",
       "10771           201303                    Virgin America   \n",
       "4599            200810                 Hawaiian Airlines   \n",
       "16929           201706                   Air New Zealand   \n",
       "526             200511                  Korean Air Lines   \n",
       "2862            200707  United Airlines - Pre 07/01/2013   \n",
       "10112           201210                        Air Berlin   \n",
       "17516           201709                    Virgin America   \n",
       "8083            201104                    Qantas Airways   \n",
       "\n",
       "      Operating Airline IATA Code                 Published Airline  \\\n",
       "1764                           QX                   Alaska Airlines   \n",
       "16060                          UA                   United Airlines   \n",
       "10771                          VX                    Virgin America   \n",
       "4599                           HA                 Hawaiian Airlines   \n",
       "16929                          NZ                   Air New Zealand   \n",
       "526                            KE                  Korean Air Lines   \n",
       "2862                           UA  United Airlines - Pre 07/01/2013   \n",
       "10112                          AB                        Air Berlin   \n",
       "17516                          VX                    Virgin America   \n",
       "8083                           QF                    Qantas Airways   \n",
       "\n",
       "      Published Airline IATA Code    GEO Summary           GEO Region  \\\n",
       "1764                           AS       Domestic                   US   \n",
       "16060                          UA       Domestic                   US   \n",
       "10771                          VX  International               Mexico   \n",
       "4599                           HA       Domestic                   US   \n",
       "16929                          NZ  International  Australia / Oceania   \n",
       "526                            KE  International                 Asia   \n",
       "2862                           UA  International               Canada   \n",
       "10112                          AB  International               Europe   \n",
       "17516                          VX  International               Mexico   \n",
       "8083                           QF  International  Australia / Oceania   \n",
       "\n",
       "      Activity Type Code Price Category Code       Terminal Boarding Area  \\\n",
       "1764            Deplaned               Other     Terminal 1             B   \n",
       "16060           Deplaned               Other     Terminal 3             E   \n",
       "10771           Deplaned            Low Fare  International             A   \n",
       "4599            Enplaned               Other     Terminal 1             C   \n",
       "16929           Enplaned               Other  International             G   \n",
       "526             Deplaned               Other  International             A   \n",
       "2862            Enplaned               Other     Terminal 3             F   \n",
       "10112           Deplaned               Other  International             A   \n",
       "17516           Deplaned            Low Fare  International             A   \n",
       "8083            Enplaned               Other  International             A   \n",
       "\n",
       "       Passenger Count  \n",
       "1764              4407  \n",
       "16060           274493  \n",
       "10771             5029  \n",
       "4599              7391  \n",
       "16929             8394  \n",
       "526               4514  \n",
       "2862             15437  \n",
       "10112             1188  \n",
       "17516             1910  \n",
       "8083              4203  "
      ]
     },
     "execution_count": 5,
     "metadata": {},
     "output_type": "execute_result"
    }
   ],
   "source": [
    "df.sample(10)"
   ]
  },
  {
   "cell_type": "code",
   "execution_count": 6,
   "id": "5106d65d",
   "metadata": {},
   "outputs": [
    {
     "name": "stdout",
     "output_type": "stream",
     "text": [
      "<class 'pandas.core.frame.DataFrame'>\n",
      "RangeIndex: 18885 entries, 0 to 18884\n",
      "Data columns (total 12 columns):\n",
      " #   Column                       Non-Null Count  Dtype \n",
      "---  ------                       --------------  ----- \n",
      " 0   Activity Period              18885 non-null  int64 \n",
      " 1   Operating Airline            18885 non-null  object\n",
      " 2   Operating Airline IATA Code  18822 non-null  object\n",
      " 3   Published Airline            18885 non-null  object\n",
      " 4   Published Airline IATA Code  18822 non-null  object\n",
      " 5   GEO Summary                  18885 non-null  object\n",
      " 6   GEO Region                   18885 non-null  object\n",
      " 7   Activity Type Code           18885 non-null  object\n",
      " 8   Price Category Code          18885 non-null  object\n",
      " 9   Terminal                     18885 non-null  object\n",
      " 10  Boarding Area                18885 non-null  object\n",
      " 11  Passenger Count              18885 non-null  int64 \n",
      "dtypes: int64(2), object(10)\n",
      "memory usage: 1.7+ MB\n"
     ]
    }
   ],
   "source": [
    "df.info()"
   ]
  },
  {
   "cell_type": "code",
   "execution_count": 7,
   "id": "aa587ccb",
   "metadata": {},
   "outputs": [
    {
     "data": {
      "text/html": [
       "<div>\n",
       "<style scoped>\n",
       "    .dataframe tbody tr th:only-of-type {\n",
       "        vertical-align: middle;\n",
       "    }\n",
       "\n",
       "    .dataframe tbody tr th {\n",
       "        vertical-align: top;\n",
       "    }\n",
       "\n",
       "    .dataframe thead th {\n",
       "        text-align: right;\n",
       "    }\n",
       "</style>\n",
       "<table border=\"1\" class=\"dataframe\">\n",
       "  <thead>\n",
       "    <tr style=\"text-align: right;\">\n",
       "      <th></th>\n",
       "      <th>Activity Period</th>\n",
       "      <th>Passenger Count</th>\n",
       "    </tr>\n",
       "  </thead>\n",
       "  <tbody>\n",
       "    <tr>\n",
       "      <th>count</th>\n",
       "      <td>18885.000000</td>\n",
       "      <td>18885.000000</td>\n",
       "    </tr>\n",
       "    <tr>\n",
       "      <th>mean</th>\n",
       "      <td>201179.285994</td>\n",
       "      <td>29876.744400</td>\n",
       "    </tr>\n",
       "    <tr>\n",
       "      <th>std</th>\n",
       "      <td>385.755460</td>\n",
       "      <td>60626.072969</td>\n",
       "    </tr>\n",
       "    <tr>\n",
       "      <th>min</th>\n",
       "      <td>200507.000000</td>\n",
       "      <td>1.000000</td>\n",
       "    </tr>\n",
       "    <tr>\n",
       "      <th>25%</th>\n",
       "      <td>200811.000000</td>\n",
       "      <td>5352.000000</td>\n",
       "    </tr>\n",
       "    <tr>\n",
       "      <th>50%</th>\n",
       "      <td>201204.000000</td>\n",
       "      <td>9170.000000</td>\n",
       "    </tr>\n",
       "    <tr>\n",
       "      <th>75%</th>\n",
       "      <td>201509.000000</td>\n",
       "      <td>20718.000000</td>\n",
       "    </tr>\n",
       "    <tr>\n",
       "      <th>max</th>\n",
       "      <td>201806.000000</td>\n",
       "      <td>659837.000000</td>\n",
       "    </tr>\n",
       "  </tbody>\n",
       "</table>\n",
       "</div>"
      ],
      "text/plain": [
       "       Activity Period  Passenger Count\n",
       "count     18885.000000     18885.000000\n",
       "mean     201179.285994     29876.744400\n",
       "std         385.755460     60626.072969\n",
       "min      200507.000000         1.000000\n",
       "25%      200811.000000      5352.000000\n",
       "50%      201204.000000      9170.000000\n",
       "75%      201509.000000     20718.000000\n",
       "max      201806.000000    659837.000000"
      ]
     },
     "execution_count": 7,
     "metadata": {},
     "output_type": "execute_result"
    }
   ],
   "source": [
    "df.describe()"
   ]
  },
  {
   "cell_type": "code",
   "execution_count": 8,
   "id": "6f899ec4",
   "metadata": {},
   "outputs": [
    {
     "data": {
      "text/html": [
       "<div>\n",
       "<style scoped>\n",
       "    .dataframe tbody tr th:only-of-type {\n",
       "        vertical-align: middle;\n",
       "    }\n",
       "\n",
       "    .dataframe tbody tr th {\n",
       "        vertical-align: top;\n",
       "    }\n",
       "\n",
       "    .dataframe thead th {\n",
       "        text-align: right;\n",
       "    }\n",
       "</style>\n",
       "<table border=\"1\" class=\"dataframe\">\n",
       "  <thead>\n",
       "    <tr style=\"text-align: right;\">\n",
       "      <th></th>\n",
       "      <th>Activity Period</th>\n",
       "      <th>Passenger Count</th>\n",
       "    </tr>\n",
       "  </thead>\n",
       "  <tbody>\n",
       "    <tr>\n",
       "      <th>Activity Period</th>\n",
       "      <td>1.000000</td>\n",
       "      <td>0.050677</td>\n",
       "    </tr>\n",
       "    <tr>\n",
       "      <th>Passenger Count</th>\n",
       "      <td>0.050677</td>\n",
       "      <td>1.000000</td>\n",
       "    </tr>\n",
       "  </tbody>\n",
       "</table>\n",
       "</div>"
      ],
      "text/plain": [
       "                 Activity Period  Passenger Count\n",
       "Activity Period         1.000000         0.050677\n",
       "Passenger Count         0.050677         1.000000"
      ]
     },
     "execution_count": 8,
     "metadata": {},
     "output_type": "execute_result"
    }
   ],
   "source": [
    "df.corr()"
   ]
  },
  {
   "cell_type": "code",
   "execution_count": null,
   "id": "2477c87a",
   "metadata": {},
   "outputs": [],
   "source": []
  },
  {
   "cell_type": "code",
   "execution_count": 9,
   "id": "27b80c2a",
   "metadata": {},
   "outputs": [
    {
     "data": {
      "text/plain": [
       "Activity Period                 0\n",
       "Operating Airline               0\n",
       "Operating Airline IATA Code    63\n",
       "Published Airline               0\n",
       "Published Airline IATA Code    63\n",
       "GEO Summary                     0\n",
       "GEO Region                      0\n",
       "Activity Type Code              0\n",
       "Price Category Code             0\n",
       "Terminal                        0\n",
       "Boarding Area                   0\n",
       "Passenger Count                 0\n",
       "dtype: int64"
      ]
     },
     "execution_count": 9,
     "metadata": {},
     "output_type": "execute_result"
    }
   ],
   "source": [
    "df.isnull().sum()"
   ]
  },
  {
   "cell_type": "code",
   "execution_count": 10,
   "id": "90e86d15",
   "metadata": {},
   "outputs": [
    {
     "data": {
      "text/plain": [
       "UA    3807\n",
       "OO    1212\n",
       "AS     891\n",
       "VX     462\n",
       "DL     445\n",
       "      ... \n",
       "IB       6\n",
       "WO       3\n",
       "XP       2\n",
       "5Y       2\n",
       "EZ       2\n",
       "Name: Operating Airline IATA Code, Length: 82, dtype: int64"
      ]
     },
     "execution_count": 10,
     "metadata": {},
     "output_type": "execute_result"
    }
   ],
   "source": [
    "df[\"Operating Airline IATA Code\"].value_counts(ascending=False)"
   ]
  },
  {
   "cell_type": "code",
   "execution_count": 11,
   "id": "d1ddeab5",
   "metadata": {
    "scrolled": true
   },
   "outputs": [
    {
     "data": {
      "image/png": "[encoded data removed]",
      "text/plain": [
       "<Figure size 1296x360 with 1 Axes>"
      ]
     },
     "metadata": {
      "needs_background": "light"
     },
     "output_type": "display_data"
    }
   ],
   "source": [
    "plt.figure(figsize=(18,5))\n",
    "sns.countplot(x=df[\"Operating Airline IATA Code\"]);"
   ]
  },
  {
   "cell_type": "code",
   "execution_count": 12,
   "id": "43a5a376",
   "metadata": {},
   "outputs": [
    {
     "data": {
      "text/plain": [
       "UA     4649\n",
       "AS     1203\n",
       "DL      975\n",
       "AA      588\n",
       "AC      484\n",
       "       ... \n",
       "BBB       6\n",
       "WO        3\n",
       "EZ        2\n",
       "XP        2\n",
       "5Y        2\n",
       "Name: Published Airline IATA Code, Length: 73, dtype: int64"
      ]
     },
     "execution_count": 12,
     "metadata": {},
     "output_type": "execute_result"
    }
   ],
   "source": [
    "df[\"Published Airline IATA Code\"].value_counts(ascending=False)"
   ]
  },
  {
   "cell_type": "code",
   "execution_count": 13,
   "id": "8fc2685e",
   "metadata": {},
   "outputs": [
    {
     "data": {
      "image/png": "[encoded data removed]",
      "text/plain": [
       "<Figure size 1296x360 with 1 Axes>"
      ]
     },
     "metadata": {
      "needs_background": "light"
     },
     "output_type": "display_data"
    }
   ],
   "source": [
    "plt.figure(figsize=(18,5))\n",
    "sns.countplot(x=df[\"Published Airline IATA Code\"]);"
   ]
  },
  {
   "cell_type": "code",
   "execution_count": 14,
   "id": "dde24d87",
   "metadata": {},
   "outputs": [],
   "source": [
    "#we can use the real names instead of IATA Codes"
   ]
  },
  {
   "cell_type": "code",
   "execution_count": 15,
   "id": "6a823075",
   "metadata": {},
   "outputs": [],
   "source": [
    "#we can see that the Activity Period values are written like yyyymm, we should seperate them first"
   ]
  },
  {
   "cell_type": "code",
   "execution_count": 16,
   "id": "d2e26239",
   "metadata": {},
   "outputs": [],
   "source": [
    "df[\"Activity Year\"] = df[\"Activity Period\"].astype(str).str[:4]\n",
    "df[\"Activity Month\"] = df[\"Activity Period\"].astype(str).str[4:]"
   ]
  },
  {
   "cell_type": "code",
   "execution_count": 17,
   "id": "77f3f553",
   "metadata": {},
   "outputs": [],
   "source": [
    "# now convert them as integer"
   ]
  },
  {
   "cell_type": "code",
   "execution_count": 18,
   "id": "1bca3098",
   "metadata": {},
   "outputs": [],
   "source": [
    "df[\"Activity Year\"] = df[\"Activity Year\"].astype(int)\n",
    "df[\"Activity Month\"] = df[\"Activity Month\"].astype(int)"
   ]
  },
  {
   "cell_type": "code",
   "execution_count": 19,
   "id": "3947ffd8",
   "metadata": {},
   "outputs": [
    {
     "data": {
      "text/html": [
       "<div>\n",
       "<style scoped>\n",
       "    .dataframe tbody tr th:only-of-type {\n",
       "        vertical-align: middle;\n",
       "    }\n",
       "\n",
       "    .dataframe tbody tr th {\n",
       "        vertical-align: top;\n",
       "    }\n",
       "\n",
       "    .dataframe thead th {\n",
       "        text-align: right;\n",
       "    }\n",
       "</style>\n",
       "<table border=\"1\" class=\"dataframe\">\n",
       "  <thead>\n",
       "    <tr style=\"text-align: right;\">\n",
       "      <th></th>\n",
       "      <th>Activity Period</th>\n",
       "      <th>Operating Airline</th>\n",
       "      <th>Operating Airline IATA Code</th>\n",
       "      <th>Published Airline</th>\n",
       "      <th>Published Airline IATA Code</th>\n",
       "      <th>GEO Summary</th>\n",
       "      <th>GEO Region</th>\n",
       "      <th>Activity Type Code</th>\n",
       "      <th>Price Category Code</th>\n",
       "      <th>Terminal</th>\n",
       "      <th>Boarding Area</th>\n",
       "      <th>Passenger Count</th>\n",
       "      <th>Activity Year</th>\n",
       "      <th>Activity Month</th>\n",
       "    </tr>\n",
       "  </thead>\n",
       "  <tbody>\n",
       "    <tr>\n",
       "      <th>0</th>\n",
       "      <td>200507</td>\n",
       "      <td>ATA Airlines</td>\n",
       "      <td>TZ</td>\n",
       "      <td>ATA Airlines</td>\n",
       "      <td>TZ</td>\n",
       "      <td>Domestic</td>\n",
       "      <td>US</td>\n",
       "      <td>Deplaned</td>\n",
       "      <td>Low Fare</td>\n",
       "      <td>Terminal 1</td>\n",
       "      <td>B</td>\n",
       "      <td>27271</td>\n",
       "      <td>2005</td>\n",
       "      <td>7</td>\n",
       "    </tr>\n",
       "    <tr>\n",
       "      <th>1</th>\n",
       "      <td>200507</td>\n",
       "      <td>ATA Airlines</td>\n",
       "      <td>TZ</td>\n",
       "      <td>ATA Airlines</td>\n",
       "      <td>TZ</td>\n",
       "      <td>Domestic</td>\n",
       "      <td>US</td>\n",
       "      <td>Enplaned</td>\n",
       "      <td>Low Fare</td>\n",
       "      <td>Terminal 1</td>\n",
       "      <td>B</td>\n",
       "      <td>29131</td>\n",
       "      <td>2005</td>\n",
       "      <td>7</td>\n",
       "    </tr>\n",
       "    <tr>\n",
       "      <th>2</th>\n",
       "      <td>200507</td>\n",
       "      <td>ATA Airlines</td>\n",
       "      <td>TZ</td>\n",
       "      <td>ATA Airlines</td>\n",
       "      <td>TZ</td>\n",
       "      <td>Domestic</td>\n",
       "      <td>US</td>\n",
       "      <td>Thru / Transit</td>\n",
       "      <td>Low Fare</td>\n",
       "      <td>Terminal 1</td>\n",
       "      <td>B</td>\n",
       "      <td>5415</td>\n",
       "      <td>2005</td>\n",
       "      <td>7</td>\n",
       "    </tr>\n",
       "    <tr>\n",
       "      <th>3</th>\n",
       "      <td>200507</td>\n",
       "      <td>Air Canada</td>\n",
       "      <td>AC</td>\n",
       "      <td>Air Canada</td>\n",
       "      <td>AC</td>\n",
       "      <td>International</td>\n",
       "      <td>Canada</td>\n",
       "      <td>Deplaned</td>\n",
       "      <td>Other</td>\n",
       "      <td>Terminal 1</td>\n",
       "      <td>B</td>\n",
       "      <td>35156</td>\n",
       "      <td>2005</td>\n",
       "      <td>7</td>\n",
       "    </tr>\n",
       "    <tr>\n",
       "      <th>4</th>\n",
       "      <td>200507</td>\n",
       "      <td>Air Canada</td>\n",
       "      <td>AC</td>\n",
       "      <td>Air Canada</td>\n",
       "      <td>AC</td>\n",
       "      <td>International</td>\n",
       "      <td>Canada</td>\n",
       "      <td>Enplaned</td>\n",
       "      <td>Other</td>\n",
       "      <td>Terminal 1</td>\n",
       "      <td>B</td>\n",
       "      <td>34090</td>\n",
       "      <td>2005</td>\n",
       "      <td>7</td>\n",
       "    </tr>\n",
       "  </tbody>\n",
       "</table>\n",
       "</div>"
      ],
      "text/plain": [
       "   Activity Period Operating Airline Operating Airline IATA Code  \\\n",
       "0           200507      ATA Airlines                          TZ   \n",
       "1           200507      ATA Airlines                          TZ   \n",
       "2           200507      ATA Airlines                          TZ   \n",
       "3           200507        Air Canada                          AC   \n",
       "4           200507        Air Canada                          AC   \n",
       "\n",
       "  Published Airline Published Airline IATA Code    GEO Summary GEO Region  \\\n",
       "0      ATA Airlines                          TZ       Domestic         US   \n",
       "1      ATA Airlines                          TZ       Domestic         US   \n",
       "2      ATA Airlines                          TZ       Domestic         US   \n",
       "3        Air Canada                          AC  International     Canada   \n",
       "4        Air Canada                          AC  International     Canada   \n",
       "\n",
       "  Activity Type Code Price Category Code    Terminal Boarding Area  \\\n",
       "0           Deplaned            Low Fare  Terminal 1             B   \n",
       "1           Enplaned            Low Fare  Terminal 1             B   \n",
       "2     Thru / Transit            Low Fare  Terminal 1             B   \n",
       "3           Deplaned               Other  Terminal 1             B   \n",
       "4           Enplaned               Other  Terminal 1             B   \n",
       "\n",
       "   Passenger Count  Activity Year  Activity Month  \n",
       "0            27271           2005               7  \n",
       "1            29131           2005               7  \n",
       "2             5415           2005               7  \n",
       "3            35156           2005               7  \n",
       "4            34090           2005               7  "
      ]
     },
     "execution_count": 19,
     "metadata": {},
     "output_type": "execute_result"
    }
   ],
   "source": [
    "df.head()"
   ]
  },
  {
   "cell_type": "code",
   "execution_count": 20,
   "id": "934e1c2c",
   "metadata": {},
   "outputs": [],
   "source": [
    "# now we can delete \"Activity Period\"\n",
    "del df[\"Activity Period\"]"
   ]
  },
  {
   "cell_type": "code",
   "execution_count": 21,
   "id": "755dff4d",
   "metadata": {
    "scrolled": true
   },
   "outputs": [
    {
     "data": {
      "text/html": [
       "<div>\n",
       "<style scoped>\n",
       "    .dataframe tbody tr th:only-of-type {\n",
       "        vertical-align: middle;\n",
       "    }\n",
       "\n",
       "    .dataframe tbody tr th {\n",
       "        vertical-align: top;\n",
       "    }\n",
       "\n",
       "    .dataframe thead th {\n",
       "        text-align: right;\n",
       "    }\n",
       "</style>\n",
       "<table border=\"1\" class=\"dataframe\">\n",
       "  <thead>\n",
       "    <tr style=\"text-align: right;\">\n",
       "      <th></th>\n",
       "      <th>Operating Airline</th>\n",
       "      <th>Operating Airline IATA Code</th>\n",
       "      <th>Published Airline</th>\n",
       "      <th>Published Airline IATA Code</th>\n",
       "      <th>GEO Summary</th>\n",
       "      <th>GEO Region</th>\n",
       "      <th>Activity Type Code</th>\n",
       "      <th>Price Category Code</th>\n",
       "      <th>Terminal</th>\n",
       "      <th>Boarding Area</th>\n",
       "      <th>Passenger Count</th>\n",
       "      <th>Activity Year</th>\n",
       "      <th>Activity Month</th>\n",
       "    </tr>\n",
       "  </thead>\n",
       "  <tbody>\n",
       "    <tr>\n",
       "      <th>0</th>\n",
       "      <td>ATA Airlines</td>\n",
       "      <td>TZ</td>\n",
       "      <td>ATA Airlines</td>\n",
       "      <td>TZ</td>\n",
       "      <td>Domestic</td>\n",
       "      <td>US</td>\n",
       "      <td>Deplaned</td>\n",
       "      <td>Low Fare</td>\n",
       "      <td>Terminal 1</td>\n",
       "      <td>B</td>\n",
       "      <td>27271</td>\n",
       "      <td>2005</td>\n",
       "      <td>7</td>\n",
       "    </tr>\n",
       "    <tr>\n",
       "      <th>1</th>\n",
       "      <td>ATA Airlines</td>\n",
       "      <td>TZ</td>\n",
       "      <td>ATA Airlines</td>\n",
       "      <td>TZ</td>\n",
       "      <td>Domestic</td>\n",
       "      <td>US</td>\n",
       "      <td>Enplaned</td>\n",
       "      <td>Low Fare</td>\n",
       "      <td>Terminal 1</td>\n",
       "      <td>B</td>\n",
       "      <td>29131</td>\n",
       "      <td>2005</td>\n",
       "      <td>7</td>\n",
       "    </tr>\n",
       "    <tr>\n",
       "      <th>2</th>\n",
       "      <td>ATA Airlines</td>\n",
       "      <td>TZ</td>\n",
       "      <td>ATA Airlines</td>\n",
       "      <td>TZ</td>\n",
       "      <td>Domestic</td>\n",
       "      <td>US</td>\n",
       "      <td>Thru / Transit</td>\n",
       "      <td>Low Fare</td>\n",
       "      <td>Terminal 1</td>\n",
       "      <td>B</td>\n",
       "      <td>5415</td>\n",
       "      <td>2005</td>\n",
       "      <td>7</td>\n",
       "    </tr>\n",
       "    <tr>\n",
       "      <th>3</th>\n",
       "      <td>Air Canada</td>\n",
       "      <td>AC</td>\n",
       "      <td>Air Canada</td>\n",
       "      <td>AC</td>\n",
       "      <td>International</td>\n",
       "      <td>Canada</td>\n",
       "      <td>Deplaned</td>\n",
       "      <td>Other</td>\n",
       "      <td>Terminal 1</td>\n",
       "      <td>B</td>\n",
       "      <td>35156</td>\n",
       "      <td>2005</td>\n",
       "      <td>7</td>\n",
       "    </tr>\n",
       "    <tr>\n",
       "      <th>4</th>\n",
       "      <td>Air Canada</td>\n",
       "      <td>AC</td>\n",
       "      <td>Air Canada</td>\n",
       "      <td>AC</td>\n",
       "      <td>International</td>\n",
       "      <td>Canada</td>\n",
       "      <td>Enplaned</td>\n",
       "      <td>Other</td>\n",
       "      <td>Terminal 1</td>\n",
       "      <td>B</td>\n",
       "      <td>34090</td>\n",
       "      <td>2005</td>\n",
       "      <td>7</td>\n",
       "    </tr>\n",
       "  </tbody>\n",
       "</table>\n",
       "</div>"
      ],
      "text/plain": [
       "  Operating Airline Operating Airline IATA Code Published Airline  \\\n",
       "0      ATA Airlines                          TZ      ATA Airlines   \n",
       "1      ATA Airlines                          TZ      ATA Airlines   \n",
       "2      ATA Airlines                          TZ      ATA Airlines   \n",
       "3        Air Canada                          AC        Air Canada   \n",
       "4        Air Canada                          AC        Air Canada   \n",
       "\n",
       "  Published Airline IATA Code    GEO Summary GEO Region Activity Type Code  \\\n",
       "0                          TZ       Domestic         US           Deplaned   \n",
       "1                          TZ       Domestic         US           Enplaned   \n",
       "2                          TZ       Domestic         US     Thru / Transit   \n",
       "3                          AC  International     Canada           Deplaned   \n",
       "4                          AC  International     Canada           Enplaned   \n",
       "\n",
       "  Price Category Code    Terminal Boarding Area  Passenger Count  \\\n",
       "0            Low Fare  Terminal 1             B            27271   \n",
       "1            Low Fare  Terminal 1             B            29131   \n",
       "2            Low Fare  Terminal 1             B             5415   \n",
       "3               Other  Terminal 1             B            35156   \n",
       "4               Other  Terminal 1             B            34090   \n",
       "\n",
       "   Activity Year  Activity Month  \n",
       "0           2005               7  \n",
       "1           2005               7  \n",
       "2           2005               7  \n",
       "3           2005               7  \n",
       "4           2005               7  "
      ]
     },
     "execution_count": 21,
     "metadata": {},
     "output_type": "execute_result"
    }
   ],
   "source": [
    "df.head()"
   ]
  },
  {
   "cell_type": "code",
   "execution_count": 22,
   "id": "922b0968",
   "metadata": {},
   "outputs": [],
   "source": [
    "# EDA"
   ]
  },
  {
   "cell_type": "code",
   "execution_count": 23,
   "id": "fc7b7e82",
   "metadata": {},
   "outputs": [
    {
     "data": {
      "image/png": "[encoded data removed]",
      "text/plain": [
       "<Figure size 1296x360 with 1 Axes>"
      ]
     },
     "metadata": {
      "needs_background": "light"
     },
     "output_type": "display_data"
    }
   ],
   "source": [
    "plt.figure(figsize=(18,5))\n",
    "plt.xticks(rotation=90)\n",
    "sns.countplot(x=df[\"Operating Airline\"]);"
   ]
  },
  {
   "cell_type": "code",
   "execution_count": 24,
   "id": "06c98847",
   "metadata": {
    "scrolled": true
   },
   "outputs": [
    {
     "data": {
      "image/png": "[encoded data removed]",
      "text/plain": [
       "<Figure size 1296x360 with 1 Axes>"
      ]
     },
     "metadata": {
      "needs_background": "light"
     },
     "output_type": "display_data"
    }
   ],
   "source": [
    "plt.figure(figsize=(18,5))\n",
    "sns.countplot(x=df[\"GEO Region\"]);"
   ]
  },
  {
   "cell_type": "code",
   "execution_count": 25,
   "id": "392890ee",
   "metadata": {},
   "outputs": [
    {
     "data": {
      "image/png": "[encoded data removed]",
      "text/plain": [
       "<Figure size 432x288 with 1 Axes>"
      ]
     },
     "metadata": {
      "needs_background": "light"
     },
     "output_type": "display_data"
    }
   ],
   "source": [
    "sns.countplot(x=df[\"Activity Type Code\"]);"
   ]
  },
  {
   "cell_type": "code",
   "execution_count": 26,
   "id": "0c1bb740",
   "metadata": {},
   "outputs": [
    {
     "data": {
      "image/png": "[encoded data removed]",
      "text/plain": [
       "<Figure size 432x288 with 1 Axes>"
      ]
     },
     "metadata": {
      "needs_background": "light"
     },
     "output_type": "display_data"
    }
   ],
   "source": [
    "sns.countplot(x=df[\"Price Category Code\"]);"
   ]
  },
  {
   "cell_type": "code",
   "execution_count": 27,
   "id": "5194d492",
   "metadata": {},
   "outputs": [
    {
     "data": {
      "image/png": "[encoded data removed]",
      "text/plain": [
       "<Figure size 432x288 with 1 Axes>"
      ]
     },
     "metadata": {
      "needs_background": "light"
     },
     "output_type": "display_data"
    }
   ],
   "source": [
    "sns.countplot(x=df[\"Price Category Code\"]);"
   ]
  },
  {
   "cell_type": "code",
   "execution_count": 28,
   "id": "f2d2deaf",
   "metadata": {},
   "outputs": [
    {
     "data": {
      "image/png": "[encoded data removed]",
      "text/plain": [
       "<Figure size 432x288 with 1 Axes>"
      ]
     },
     "metadata": {
      "needs_background": "light"
     },
     "output_type": "display_data"
    }
   ],
   "source": [
    "sns.countplot(x=df[\"Boarding Area\"]);"
   ]
  },
  {
   "cell_type": "code",
   "execution_count": 29,
   "id": "63fdd56d",
   "metadata": {},
   "outputs": [
    {
     "data": {
      "text/plain": [
       "United Airlines - Pre 07/01/2013    2154\n",
       "United Airlines                     1653\n",
       "SkyWest Airlines                    1212\n",
       "Alaska Airlines                      891\n",
       "Virgin America                       462\n",
       "                                    ... \n",
       "Xtra Airways                           2\n",
       "Evergreen International Airlines       2\n",
       "Pacific Aviation                       2\n",
       "Icelandair EHF                         2\n",
       "Boeing Company                         1\n",
       "Name: Operating Airline, Length: 89, dtype: int64"
      ]
     },
     "execution_count": 29,
     "metadata": {},
     "output_type": "execute_result"
    }
   ],
   "source": [
    "df[\"Operating Airline\"].value_counts()"
   ]
  },
  {
   "cell_type": "code",
   "execution_count": 30,
   "id": "57be2e91",
   "metadata": {},
   "outputs": [
    {
     "data": {
      "text/html": [
       "<div>\n",
       "<style scoped>\n",
       "    .dataframe tbody tr th:only-of-type {\n",
       "        vertical-align: middle;\n",
       "    }\n",
       "\n",
       "    .dataframe tbody tr th {\n",
       "        vertical-align: top;\n",
       "    }\n",
       "\n",
       "    .dataframe thead th {\n",
       "        text-align: right;\n",
       "    }\n",
       "</style>\n",
       "<table border=\"1\" class=\"dataframe\">\n",
       "  <thead>\n",
       "    <tr style=\"text-align: right;\">\n",
       "      <th></th>\n",
       "      <th>Passenger Count</th>\n",
       "      <th>Activity Year</th>\n",
       "      <th>Activity Month</th>\n",
       "    </tr>\n",
       "    <tr>\n",
       "      <th>Operating Airline</th>\n",
       "      <th></th>\n",
       "      <th></th>\n",
       "      <th></th>\n",
       "    </tr>\n",
       "  </thead>\n",
       "  <tbody>\n",
       "    <tr>\n",
       "      <th>ABC Aerolineas S.A. de C.V. dba Interjet</th>\n",
       "      <td>15585</td>\n",
       "      <td>16144</td>\n",
       "      <td>36</td>\n",
       "    </tr>\n",
       "    <tr>\n",
       "      <th>ATA Airlines</th>\n",
       "      <td>384764</td>\n",
       "      <td>88255</td>\n",
       "      <td>300</td>\n",
       "    </tr>\n",
       "    <tr>\n",
       "      <th>Aer Lingus</th>\n",
       "      <td>777691</td>\n",
       "      <td>306034</td>\n",
       "      <td>986</td>\n",
       "    </tr>\n",
       "    <tr>\n",
       "      <th>Aeromexico</th>\n",
       "      <td>1672946</td>\n",
       "      <td>471074</td>\n",
       "      <td>1498</td>\n",
       "    </tr>\n",
       "    <tr>\n",
       "      <th>Air Berlin</th>\n",
       "      <td>235155</td>\n",
       "      <td>120792</td>\n",
       "      <td>450</td>\n",
       "    </tr>\n",
       "    <tr>\n",
       "      <th>...</th>\n",
       "      <td>...</td>\n",
       "      <td>...</td>\n",
       "      <td>...</td>\n",
       "    </tr>\n",
       "    <tr>\n",
       "      <th>WOW Air</th>\n",
       "      <td>295168</td>\n",
       "      <td>112956</td>\n",
       "      <td>345</td>\n",
       "    </tr>\n",
       "    <tr>\n",
       "      <th>WestJet Airlines</th>\n",
       "      <td>799801</td>\n",
       "      <td>271690</td>\n",
       "      <td>980</td>\n",
       "    </tr>\n",
       "    <tr>\n",
       "      <th>World Airways</th>\n",
       "      <td>785</td>\n",
       "      <td>6030</td>\n",
       "      <td>25</td>\n",
       "    </tr>\n",
       "    <tr>\n",
       "      <th>XL Airways France</th>\n",
       "      <td>118961</td>\n",
       "      <td>102745</td>\n",
       "      <td>364</td>\n",
       "    </tr>\n",
       "    <tr>\n",
       "      <th>Xtra Airways</th>\n",
       "      <td>146</td>\n",
       "      <td>4012</td>\n",
       "      <td>16</td>\n",
       "    </tr>\n",
       "  </tbody>\n",
       "</table>\n",
       "<p>89 rows × 3 columns</p>\n",
       "</div>"
      ],
      "text/plain": [
       "                                          Passenger Count  Activity Year  \\\n",
       "Operating Airline                                                          \n",
       "ABC Aerolineas S.A. de C.V. dba Interjet            15585          16144   \n",
       "ATA Airlines                                       384764          88255   \n",
       "Aer Lingus                                         777691         306034   \n",
       "Aeromexico                                        1672946         471074   \n",
       "Air Berlin                                         235155         120792   \n",
       "...                                                   ...            ...   \n",
       "WOW Air                                            295168         112956   \n",
       "WestJet Airlines                                   799801         271690   \n",
       "World Airways                                         785           6030   \n",
       "XL Airways France                                  118961         102745   \n",
       "Xtra Airways                                          146           4012   \n",
       "\n",
       "                                          Activity Month  \n",
       "Operating Airline                                         \n",
       "ABC Aerolineas S.A. de C.V. dba Interjet              36  \n",
       "ATA Airlines                                         300  \n",
       "Aer Lingus                                           986  \n",
       "Aeromexico                                          1498  \n",
       "Air Berlin                                           450  \n",
       "...                                                  ...  \n",
       "WOW Air                                              345  \n",
       "WestJet Airlines                                     980  \n",
       "World Airways                                         25  \n",
       "XL Airways France                                    364  \n",
       "Xtra Airways                                          16  \n",
       "\n",
       "[89 rows x 3 columns]"
      ]
     },
     "execution_count": 30,
     "metadata": {},
     "output_type": "execute_result"
    }
   ],
   "source": [
    "df.groupby(df[\"Operating Airline\"]).sum()"
   ]
  },
  {
   "cell_type": "code",
   "execution_count": 31,
   "id": "1880aad6",
   "metadata": {},
   "outputs": [
    {
     "data": {
      "text/plain": [
       "Operating Airline\n",
       "United Airlines                     112640408\n",
       "United Airlines - Pre 07/01/2013    105363917\n",
       "SkyWest Airlines                     44582356\n",
       "American Airlines                    43622387\n",
       "Virgin America                       37843920\n",
       "                                      ...    \n",
       "Xtra Airways                              146\n",
       "Ameriflight                               110\n",
       "Atlas Air, Inc                             68\n",
       "Boeing Company                             18\n",
       "Evergreen International Airlines            4\n",
       "Name: Passenger Count, Length: 89, dtype: int64"
      ]
     },
     "execution_count": 31,
     "metadata": {},
     "output_type": "execute_result"
    }
   ],
   "source": [
    "df.groupby(df[\"Operating Airline\"]).sum()[\"Passenger Count\"].sort_values(ascending=False)"
   ]
  },
  {
   "cell_type": "code",
   "execution_count": 32,
   "id": "e348d1e5",
   "metadata": {},
   "outputs": [],
   "source": [
    "# we want to cluster number of flights and number of passengers"
   ]
  },
  {
   "cell_type": "code",
   "execution_count": 33,
   "id": "ed77b1a4",
   "metadata": {},
   "outputs": [],
   "source": [
    "num_of_flights = df[\"Operating Airline\"].value_counts() # number of flights for each operating airline"
   ]
  },
  {
   "cell_type": "code",
   "execution_count": 34,
   "id": "08e064fb",
   "metadata": {},
   "outputs": [],
   "source": [
    "num_of_passenger = df.groupby(df[\"Operating Airline\"]).sum()[\"Passenger Count\"].sort_values(ascending=False)"
   ]
  },
  {
   "cell_type": "code",
   "execution_count": 35,
   "id": "10be928f",
   "metadata": {},
   "outputs": [
    {
     "data": {
      "text/plain": [
       "United Airlines - Pre 07/01/2013    2154\n",
       "United Airlines                     1653\n",
       "SkyWest Airlines                    1212\n",
       "Alaska Airlines                      891\n",
       "Virgin America                       462\n",
       "                                    ... \n",
       "Xtra Airways                           2\n",
       "Evergreen International Airlines       2\n",
       "Pacific Aviation                       2\n",
       "Icelandair EHF                         2\n",
       "Boeing Company                         1\n",
       "Name: Operating Airline, Length: 89, dtype: int64"
      ]
     },
     "execution_count": 35,
     "metadata": {},
     "output_type": "execute_result"
    }
   ],
   "source": [
    "num_of_flights"
   ]
  },
  {
   "cell_type": "code",
   "execution_count": 36,
   "id": "534c0026",
   "metadata": {},
   "outputs": [
    {
     "data": {
      "text/plain": [
       "Operating Airline\n",
       "United Airlines                     112640408\n",
       "United Airlines - Pre 07/01/2013    105363917\n",
       "SkyWest Airlines                     44582356\n",
       "American Airlines                    43622387\n",
       "Virgin America                       37843920\n",
       "                                      ...    \n",
       "Xtra Airways                              146\n",
       "Ameriflight                               110\n",
       "Atlas Air, Inc                             68\n",
       "Boeing Company                             18\n",
       "Evergreen International Airlines            4\n",
       "Name: Passenger Count, Length: 89, dtype: int64"
      ]
     },
     "execution_count": 36,
     "metadata": {},
     "output_type": "execute_result"
    }
   ],
   "source": [
    "num_of_passenger"
   ]
  },
  {
   "cell_type": "code",
   "execution_count": 37,
   "id": "e423e248",
   "metadata": {},
   "outputs": [],
   "source": [
    "#flights data frame\n",
    "fdf=pd.DataFrame(num_of_flights)"
   ]
  },
  {
   "cell_type": "code",
   "execution_count": 38,
   "id": "04b51135",
   "metadata": {},
   "outputs": [
    {
     "data": {
      "text/html": [
       "<div>\n",
       "<style scoped>\n",
       "    .dataframe tbody tr th:only-of-type {\n",
       "        vertical-align: middle;\n",
       "    }\n",
       "\n",
       "    .dataframe tbody tr th {\n",
       "        vertical-align: top;\n",
       "    }\n",
       "\n",
       "    .dataframe thead th {\n",
       "        text-align: right;\n",
       "    }\n",
       "</style>\n",
       "<table border=\"1\" class=\"dataframe\">\n",
       "  <thead>\n",
       "    <tr style=\"text-align: right;\">\n",
       "      <th></th>\n",
       "      <th>Operating Airline</th>\n",
       "    </tr>\n",
       "  </thead>\n",
       "  <tbody>\n",
       "    <tr>\n",
       "      <th>United Airlines - Pre 07/01/2013</th>\n",
       "      <td>2154</td>\n",
       "    </tr>\n",
       "    <tr>\n",
       "      <th>United Airlines</th>\n",
       "      <td>1653</td>\n",
       "    </tr>\n",
       "    <tr>\n",
       "      <th>SkyWest Airlines</th>\n",
       "      <td>1212</td>\n",
       "    </tr>\n",
       "    <tr>\n",
       "      <th>Alaska Airlines</th>\n",
       "      <td>891</td>\n",
       "    </tr>\n",
       "    <tr>\n",
       "      <th>Virgin America</th>\n",
       "      <td>462</td>\n",
       "    </tr>\n",
       "    <tr>\n",
       "      <th>...</th>\n",
       "      <td>...</td>\n",
       "    </tr>\n",
       "    <tr>\n",
       "      <th>Xtra Airways</th>\n",
       "      <td>2</td>\n",
       "    </tr>\n",
       "    <tr>\n",
       "      <th>Evergreen International Airlines</th>\n",
       "      <td>2</td>\n",
       "    </tr>\n",
       "    <tr>\n",
       "      <th>Pacific Aviation</th>\n",
       "      <td>2</td>\n",
       "    </tr>\n",
       "    <tr>\n",
       "      <th>Icelandair EHF</th>\n",
       "      <td>2</td>\n",
       "    </tr>\n",
       "    <tr>\n",
       "      <th>Boeing Company</th>\n",
       "      <td>1</td>\n",
       "    </tr>\n",
       "  </tbody>\n",
       "</table>\n",
       "<p>89 rows × 1 columns</p>\n",
       "</div>"
      ],
      "text/plain": [
       "                                  Operating Airline\n",
       "United Airlines - Pre 07/01/2013               2154\n",
       "United Airlines                                1653\n",
       "SkyWest Airlines                               1212\n",
       "Alaska Airlines                                 891\n",
       "Virgin America                                  462\n",
       "...                                             ...\n",
       "Xtra Airways                                      2\n",
       "Evergreen International Airlines                  2\n",
       "Pacific Aviation                                  2\n",
       "Icelandair EHF                                    2\n",
       "Boeing Company                                    1\n",
       "\n",
       "[89 rows x 1 columns]"
      ]
     },
     "execution_count": 38,
     "metadata": {},
     "output_type": "execute_result"
    }
   ],
   "source": [
    "fdf"
   ]
  },
  {
   "cell_type": "code",
   "execution_count": 39,
   "id": "01ff8332",
   "metadata": {},
   "outputs": [],
   "source": [
    "#passengers data frame"
   ]
  },
  {
   "cell_type": "code",
   "execution_count": 40,
   "id": "f69fd45f",
   "metadata": {},
   "outputs": [],
   "source": [
    "pdf=pd.DataFrame(num_of_passenger)"
   ]
  },
  {
   "cell_type": "code",
   "execution_count": 41,
   "id": "994b9061",
   "metadata": {},
   "outputs": [
    {
     "data": {
      "text/html": [
       "<div>\n",
       "<style scoped>\n",
       "    .dataframe tbody tr th:only-of-type {\n",
       "        vertical-align: middle;\n",
       "    }\n",
       "\n",
       "    .dataframe tbody tr th {\n",
       "        vertical-align: top;\n",
       "    }\n",
       "\n",
       "    .dataframe thead th {\n",
       "        text-align: right;\n",
       "    }\n",
       "</style>\n",
       "<table border=\"1\" class=\"dataframe\">\n",
       "  <thead>\n",
       "    <tr style=\"text-align: right;\">\n",
       "      <th></th>\n",
       "      <th>Passenger Count</th>\n",
       "    </tr>\n",
       "    <tr>\n",
       "      <th>Operating Airline</th>\n",
       "      <th></th>\n",
       "    </tr>\n",
       "  </thead>\n",
       "  <tbody>\n",
       "    <tr>\n",
       "      <th>United Airlines</th>\n",
       "      <td>112640408</td>\n",
       "    </tr>\n",
       "    <tr>\n",
       "      <th>United Airlines - Pre 07/01/2013</th>\n",
       "      <td>105363917</td>\n",
       "    </tr>\n",
       "    <tr>\n",
       "      <th>SkyWest Airlines</th>\n",
       "      <td>44582356</td>\n",
       "    </tr>\n",
       "    <tr>\n",
       "      <th>American Airlines</th>\n",
       "      <td>43622387</td>\n",
       "    </tr>\n",
       "    <tr>\n",
       "      <th>Virgin America</th>\n",
       "      <td>37843920</td>\n",
       "    </tr>\n",
       "    <tr>\n",
       "      <th>...</th>\n",
       "      <td>...</td>\n",
       "    </tr>\n",
       "    <tr>\n",
       "      <th>Xtra Airways</th>\n",
       "      <td>146</td>\n",
       "    </tr>\n",
       "    <tr>\n",
       "      <th>Ameriflight</th>\n",
       "      <td>110</td>\n",
       "    </tr>\n",
       "    <tr>\n",
       "      <th>Atlas Air, Inc</th>\n",
       "      <td>68</td>\n",
       "    </tr>\n",
       "    <tr>\n",
       "      <th>Boeing Company</th>\n",
       "      <td>18</td>\n",
       "    </tr>\n",
       "    <tr>\n",
       "      <th>Evergreen International Airlines</th>\n",
       "      <td>4</td>\n",
       "    </tr>\n",
       "  </tbody>\n",
       "</table>\n",
       "<p>89 rows × 1 columns</p>\n",
       "</div>"
      ],
      "text/plain": [
       "                                  Passenger Count\n",
       "Operating Airline                                \n",
       "United Airlines                         112640408\n",
       "United Airlines - Pre 07/01/2013        105363917\n",
       "SkyWest Airlines                         44582356\n",
       "American Airlines                        43622387\n",
       "Virgin America                           37843920\n",
       "...                                           ...\n",
       "Xtra Airways                                  146\n",
       "Ameriflight                                   110\n",
       "Atlas Air, Inc                                 68\n",
       "Boeing Company                                 18\n",
       "Evergreen International Airlines                4\n",
       "\n",
       "[89 rows x 1 columns]"
      ]
     },
     "execution_count": 41,
     "metadata": {},
     "output_type": "execute_result"
    }
   ],
   "source": [
    "pdf"
   ]
  },
  {
   "cell_type": "code",
   "execution_count": 42,
   "id": "4a394b91",
   "metadata": {},
   "outputs": [],
   "source": [
    "x=df[[\"Passenger Count\",\"Activity Year\"]]"
   ]
  },
  {
   "cell_type": "code",
   "execution_count": 43,
   "id": "59ea36f3",
   "metadata": {},
   "outputs": [
    {
     "data": {
      "text/html": [
       "<div>\n",
       "<style scoped>\n",
       "    .dataframe tbody tr th:only-of-type {\n",
       "        vertical-align: middle;\n",
       "    }\n",
       "\n",
       "    .dataframe tbody tr th {\n",
       "        vertical-align: top;\n",
       "    }\n",
       "\n",
       "    .dataframe thead th {\n",
       "        text-align: right;\n",
       "    }\n",
       "</style>\n",
       "<table border=\"1\" class=\"dataframe\">\n",
       "  <thead>\n",
       "    <tr style=\"text-align: right;\">\n",
       "      <th></th>\n",
       "      <th>Passenger Count</th>\n",
       "      <th>Activity Year</th>\n",
       "    </tr>\n",
       "  </thead>\n",
       "  <tbody>\n",
       "    <tr>\n",
       "      <th>0</th>\n",
       "      <td>27271</td>\n",
       "      <td>2005</td>\n",
       "    </tr>\n",
       "    <tr>\n",
       "      <th>1</th>\n",
       "      <td>29131</td>\n",
       "      <td>2005</td>\n",
       "    </tr>\n",
       "    <tr>\n",
       "      <th>2</th>\n",
       "      <td>5415</td>\n",
       "      <td>2005</td>\n",
       "    </tr>\n",
       "    <tr>\n",
       "      <th>3</th>\n",
       "      <td>35156</td>\n",
       "      <td>2005</td>\n",
       "    </tr>\n",
       "    <tr>\n",
       "      <th>4</th>\n",
       "      <td>34090</td>\n",
       "      <td>2005</td>\n",
       "    </tr>\n",
       "  </tbody>\n",
       "</table>\n",
       "</div>"
      ],
      "text/plain": [
       "   Passenger Count  Activity Year\n",
       "0            27271           2005\n",
       "1            29131           2005\n",
       "2             5415           2005\n",
       "3            35156           2005\n",
       "4            34090           2005"
      ]
     },
     "execution_count": 43,
     "metadata": {},
     "output_type": "execute_result"
    }
   ],
   "source": [
    "x.head()"
   ]
  },
  {
   "cell_type": "code",
   "execution_count": 44,
   "id": "6f2f1459",
   "metadata": {},
   "outputs": [],
   "source": [
    "model=KMeans(n_clusters=3)"
   ]
  },
  {
   "cell_type": "code",
   "execution_count": 45,
   "id": "9ac8eb26",
   "metadata": {},
   "outputs": [],
   "source": [
    "model=model.fit(x)"
   ]
  },
  {
   "cell_type": "code",
   "execution_count": 46,
   "id": "9a00f363",
   "metadata": {},
   "outputs": [],
   "source": [
    "tahmin=model.predict(x)"
   ]
  },
  {
   "cell_type": "code",
   "execution_count": 47,
   "id": "7b4ef425",
   "metadata": {},
   "outputs": [
    {
     "data": {
      "text/plain": [
       "array([0, 0, 0, ..., 0, 0, 0])"
      ]
     },
     "execution_count": 47,
     "metadata": {},
     "output_type": "execute_result"
    }
   ],
   "source": [
    "tahmin"
   ]
  },
  {
   "cell_type": "code",
   "execution_count": 48,
   "id": "c97e4e19",
   "metadata": {},
   "outputs": [],
   "source": [
    "x[\"clusters\"]=tahmin"
   ]
  },
  {
   "cell_type": "code",
   "execution_count": 49,
   "id": "16c4a253",
   "metadata": {},
   "outputs": [
    {
     "data": {
      "text/html": [
       "<div>\n",
       "<style scoped>\n",
       "    .dataframe tbody tr th:only-of-type {\n",
       "        vertical-align: middle;\n",
       "    }\n",
       "\n",
       "    .dataframe tbody tr th {\n",
       "        vertical-align: top;\n",
       "    }\n",
       "\n",
       "    .dataframe thead th {\n",
       "        text-align: right;\n",
       "    }\n",
       "</style>\n",
       "<table border=\"1\" class=\"dataframe\">\n",
       "  <thead>\n",
       "    <tr style=\"text-align: right;\">\n",
       "      <th></th>\n",
       "      <th>Passenger Count</th>\n",
       "      <th>Activity Year</th>\n",
       "      <th>clusters</th>\n",
       "    </tr>\n",
       "  </thead>\n",
       "  <tbody>\n",
       "    <tr>\n",
       "      <th>0</th>\n",
       "      <td>27271</td>\n",
       "      <td>2005</td>\n",
       "      <td>0</td>\n",
       "    </tr>\n",
       "    <tr>\n",
       "      <th>1</th>\n",
       "      <td>29131</td>\n",
       "      <td>2005</td>\n",
       "      <td>0</td>\n",
       "    </tr>\n",
       "    <tr>\n",
       "      <th>2</th>\n",
       "      <td>5415</td>\n",
       "      <td>2005</td>\n",
       "      <td>0</td>\n",
       "    </tr>\n",
       "    <tr>\n",
       "      <th>3</th>\n",
       "      <td>35156</td>\n",
       "      <td>2005</td>\n",
       "      <td>0</td>\n",
       "    </tr>\n",
       "    <tr>\n",
       "      <th>4</th>\n",
       "      <td>34090</td>\n",
       "      <td>2005</td>\n",
       "      <td>0</td>\n",
       "    </tr>\n",
       "  </tbody>\n",
       "</table>\n",
       "</div>"
      ],
      "text/plain": [
       "   Passenger Count  Activity Year  clusters\n",
       "0            27271           2005         0\n",
       "1            29131           2005         0\n",
       "2             5415           2005         0\n",
       "3            35156           2005         0\n",
       "4            34090           2005         0"
      ]
     },
     "execution_count": 49,
     "metadata": {},
     "output_type": "execute_result"
    }
   ],
   "source": [
    "x.head()"
   ]
  },
  {
   "cell_type": "code",
   "execution_count": 50,
   "id": "7efeb6d1",
   "metadata": {},
   "outputs": [
    {
     "data": {
      "text/plain": [
       "0.8286420911446416"
      ]
     },
     "execution_count": 50,
     "metadata": {},
     "output_type": "execute_result"
    }
   ],
   "source": [
    "silhouette_score(x,tahmin)"
   ]
  },
  {
   "cell_type": "code",
   "execution_count": 51,
   "id": "4f38a85e",
   "metadata": {},
   "outputs": [
    {
     "data": {
      "image/png": "[encoded data removed]",
      "text/plain": [
       "<Figure size 1080x432 with 2 Axes>"
      ]
     },
     "metadata": {
      "needs_background": "light"
     },
     "output_type": "display_data"
    }
   ],
   "source": [
    "plt.figure(figsize=(15,6))\n",
    "plt.scatter(x[\"Passenger Count\"],x[\"Activity Year\"],c=tahmin);\n",
    "plt.xlabel(\"Passenger Count\")\n",
    "plt.ylabel(\"Activity Year\")\n",
    "plt.colorbar()\n",
    "plt.grid()"
   ]
  },
  {
   "cell_type": "code",
   "execution_count": 52,
   "id": "0b9295b0",
   "metadata": {},
   "outputs": [],
   "source": [
    "# elbow method: grubu böle böle artik silhouette_score degismessze en uygun bölme o"
   ]
  },
  {
   "cell_type": "code",
   "execution_count": 53,
   "id": "edc5f0ef",
   "metadata": {},
   "outputs": [
    {
     "name": "stdout",
     "output_type": "stream",
     "text": [
      "Cluster  2  score  0.8596461549819766\n",
      "Cluster  3  score  0.8286420911446416\n",
      "Cluster  4  score  0.7860899725592359\n",
      "Cluster  5  score  0.7846346230991761\n",
      "Cluster  6  score  0.6590483787873\n",
      "Cluster  7  score  0.657979223458308\n",
      "Cluster  8  score  0.6467658367109702\n",
      "Cluster  9  score  0.6419060762598727\n",
      "Cluster  10  score  0.6158182446824819\n",
      "Cluster  11  score  0.6083911787466987\n"
     ]
    }
   ],
   "source": [
    "allscore = []\n",
    "allclusters = []\n",
    "uzakliklar = []\n",
    "\n",
    "# clustere göre score'in degismesi\n",
    "def clust(kactane):\n",
    "    \n",
    "    for i in range(1,kactane+1):\n",
    "        i=i+1\n",
    "        model=KMeans(n_clusters=i)\n",
    "        model=model.fit(x)\n",
    "        tahmin=model.predict(x)\n",
    "        score=silhouette_score(x,tahmin)\n",
    "        uzaklik=model.inertia_\n",
    "        print(\"Cluster \",i, \" score \",score)\n",
    "        #score ve uzaklik yukardaki listelere eklememiz lazim\n",
    "        allscore.append(score)\n",
    "        allclusters.append(i)\n",
    "        uzakliklar.append(uzaklik)\n",
    "clust(10)"
   ]
  },
  {
   "cell_type": "code",
   "execution_count": 54,
   "id": "992e10f9",
   "metadata": {},
   "outputs": [],
   "source": [
    "# bunun grafigini cizelim"
   ]
  },
  {
   "cell_type": "code",
   "execution_count": 55,
   "id": "f206eed0",
   "metadata": {},
   "outputs": [
    {
     "data": {
      "image/png": "[encoded data removed]",
      "text/plain": [
       "<Figure size 432x288 with 1 Axes>"
      ]
     },
     "metadata": {
      "needs_background": "light"
     },
     "output_type": "display_data"
    }
   ],
   "source": [
    "plt.xlabel(\"k\")\n",
    "plt.ylabel(\"uzakliklar\")\n",
    "plt.plot(allclusters,uzakliklar);\n",
    "#grafik nerde kiriliyor, orda durmamiz gerekiyor"
   ]
  },
  {
   "cell_type": "code",
   "execution_count": 56,
   "id": "d4a845de",
   "metadata": {},
   "outputs": [],
   "source": [
    "# model 2"
   ]
  },
  {
   "cell_type": "code",
   "execution_count": 57,
   "id": "ccc36f74",
   "metadata": {},
   "outputs": [],
   "source": [
    "model2=KMeans(n_clusters=5)"
   ]
  },
  {
   "cell_type": "code",
   "execution_count": 58,
   "id": "d1d7391b",
   "metadata": {},
   "outputs": [],
   "source": [
    "model2=model2.fit(x)"
   ]
  },
  {
   "cell_type": "code",
   "execution_count": 59,
   "id": "55b7acbe",
   "metadata": {},
   "outputs": [],
   "source": [
    "tahmin2=model2.predict(x)"
   ]
  },
  {
   "cell_type": "code",
   "execution_count": 60,
   "id": "183de3e9",
   "metadata": {},
   "outputs": [
    {
     "data": {
      "text/plain": [
       "array([0, 0, 0, ..., 0, 0, 0])"
      ]
     },
     "execution_count": 60,
     "metadata": {},
     "output_type": "execute_result"
    }
   ],
   "source": [
    "tahmin2"
   ]
  },
  {
   "cell_type": "code",
   "execution_count": 61,
   "id": "1f658fe9",
   "metadata": {},
   "outputs": [],
   "source": [
    "x[\"clusters\"]=tahmin2"
   ]
  },
  {
   "cell_type": "code",
   "execution_count": 62,
   "id": "cba3d79e",
   "metadata": {},
   "outputs": [
    {
     "data": {
      "text/html": [
       "<div>\n",
       "<style scoped>\n",
       "    .dataframe tbody tr th:only-of-type {\n",
       "        vertical-align: middle;\n",
       "    }\n",
       "\n",
       "    .dataframe tbody tr th {\n",
       "        vertical-align: top;\n",
       "    }\n",
       "\n",
       "    .dataframe thead th {\n",
       "        text-align: right;\n",
       "    }\n",
       "</style>\n",
       "<table border=\"1\" class=\"dataframe\">\n",
       "  <thead>\n",
       "    <tr style=\"text-align: right;\">\n",
       "      <th></th>\n",
       "      <th>Passenger Count</th>\n",
       "      <th>Activity Year</th>\n",
       "      <th>clusters</th>\n",
       "    </tr>\n",
       "  </thead>\n",
       "  <tbody>\n",
       "    <tr>\n",
       "      <th>0</th>\n",
       "      <td>27271</td>\n",
       "      <td>2005</td>\n",
       "      <td>0</td>\n",
       "    </tr>\n",
       "    <tr>\n",
       "      <th>1</th>\n",
       "      <td>29131</td>\n",
       "      <td>2005</td>\n",
       "      <td>0</td>\n",
       "    </tr>\n",
       "    <tr>\n",
       "      <th>2</th>\n",
       "      <td>5415</td>\n",
       "      <td>2005</td>\n",
       "      <td>0</td>\n",
       "    </tr>\n",
       "    <tr>\n",
       "      <th>3</th>\n",
       "      <td>35156</td>\n",
       "      <td>2005</td>\n",
       "      <td>3</td>\n",
       "    </tr>\n",
       "    <tr>\n",
       "      <th>4</th>\n",
       "      <td>34090</td>\n",
       "      <td>2005</td>\n",
       "      <td>3</td>\n",
       "    </tr>\n",
       "  </tbody>\n",
       "</table>\n",
       "</div>"
      ],
      "text/plain": [
       "   Passenger Count  Activity Year  clusters\n",
       "0            27271           2005         0\n",
       "1            29131           2005         0\n",
       "2             5415           2005         0\n",
       "3            35156           2005         3\n",
       "4            34090           2005         3"
      ]
     },
     "execution_count": 62,
     "metadata": {},
     "output_type": "execute_result"
    }
   ],
   "source": [
    "x.head()"
   ]
  },
  {
   "cell_type": "code",
   "execution_count": 63,
   "id": "02db2a2b",
   "metadata": {},
   "outputs": [
    {
     "data": {
      "text/plain": [
       "0.7846346238414775"
      ]
     },
     "execution_count": 63,
     "metadata": {},
     "output_type": "execute_result"
    }
   ],
   "source": [
    "silhouette_score(x,tahmin2)"
   ]
  },
  {
   "cell_type": "code",
   "execution_count": 64,
   "id": "ef34b077",
   "metadata": {},
   "outputs": [
    {
     "data": {
      "image/png": "[encoded data removed]",
      "text/plain": [
       "<Figure size 1080x432 with 2 Axes>"
      ]
     },
     "metadata": {
      "needs_background": "light"
     },
     "output_type": "display_data"
    }
   ],
   "source": [
    "plt.figure(figsize=(15,6))\n",
    "plt.scatter(x[\"Passenger Count\"],x[\"Activity Year\"],c=tahmin2);\n",
    "plt.xlabel(\"Passenger Count\")\n",
    "plt.ylabel(\"Activity Year\")\n",
    "plt.colorbar()\n",
    "plt.grid()"
   ]
  },
  {
   "cell_type": "code",
   "execution_count": 65,
   "id": "5e7d2c83",
   "metadata": {},
   "outputs": [
    {
     "name": "stdout",
     "output_type": "stream",
     "text": [
      "Cluster  2  score  0.8596461548835543\n",
      "Cluster  3  score  0.8286420909057404\n",
      "Cluster  4  score  0.7860284375130714\n",
      "Cluster  5  score  0.7844922842428561\n",
      "Cluster  6  score  0.6613371716399493\n",
      "Cluster  7  score  0.6609367992218328\n",
      "Cluster  8  score  0.6470522310149482\n",
      "Cluster  9  score  0.641340070334617\n",
      "Cluster  10  score  0.6139959200365959\n",
      "Cluster  11  score  0.6114364924323578\n"
     ]
    }
   ],
   "source": [
    "allscore = []\n",
    "allclusters = []\n",
    "uzakliklar = []\n",
    "\n",
    "# clustere göre score'in degismesi\n",
    "def clust(kactane):\n",
    "    \n",
    "    for i in range(1,kactane+1):\n",
    "        i=i+1\n",
    "        model=KMeans(n_clusters=i)\n",
    "        model=model.fit(x)\n",
    "        tahmin=model.predict(x)\n",
    "        score=silhouette_score(x,tahmin)\n",
    "        uzaklik=model.inertia_\n",
    "        print(\"Cluster \",i, \" score \",score)\n",
    "        #score ve uzaklik yukardaki listelere eklememiz lazim\n",
    "        allscore.append(score)\n",
    "        allclusters.append(i)\n",
    "        uzakliklar.append(uzaklik)\n",
    "clust(10)"
   ]
  },
  {
   "cell_type": "code",
   "execution_count": 66,
   "id": "e2566729",
   "metadata": {},
   "outputs": [
    {
     "data": {
      "image/png": "[encoded data removed]",
      "text/plain": [
       "<Figure size 432x288 with 1 Axes>"
      ]
     },
     "metadata": {
      "needs_background": "light"
     },
     "output_type": "display_data"
    }
   ],
   "source": [
    "plt.xlabel(\"k\")\n",
    "plt.ylabel(\"uzakliklar\")\n",
    "plt.plot(allclusters,uzakliklar);"
   ]
  },
  {
   "cell_type": "code",
   "execution_count": 67,
   "id": "4da6509e",
   "metadata": {},
   "outputs": [],
   "source": [
    "x=pd.get_dummies(df,drop_first=True)"
   ]
  },
  {
   "cell_type": "code",
   "execution_count": 68,
   "id": "e15cad66",
   "metadata": {},
   "outputs": [
    {
     "data": {
      "text/html": [
       "<div>\n",
       "<style scoped>\n",
       "    .dataframe tbody tr th:only-of-type {\n",
       "        vertical-align: middle;\n",
       "    }\n",
       "\n",
       "    .dataframe tbody tr th {\n",
       "        vertical-align: top;\n",
       "    }\n",
       "\n",
       "    .dataframe thead th {\n",
       "        text-align: right;\n",
       "    }\n",
       "</style>\n",
       "<table border=\"1\" class=\"dataframe\">\n",
       "  <thead>\n",
       "    <tr style=\"text-align: right;\">\n",
       "      <th></th>\n",
       "      <th>Passenger Count</th>\n",
       "      <th>Activity Year</th>\n",
       "      <th>Activity Month</th>\n",
       "      <th>Operating Airline_ATA Airlines</th>\n",
       "      <th>Operating Airline_Aer Lingus</th>\n",
       "      <th>Operating Airline_Aeromexico</th>\n",
       "      <th>Operating Airline_Air Berlin</th>\n",
       "      <th>Operating Airline_Air Canada</th>\n",
       "      <th>Operating Airline_Air Canada Jazz</th>\n",
       "      <th>Operating Airline_Air China</th>\n",
       "      <th>...</th>\n",
       "      <th>Terminal_Terminal 1</th>\n",
       "      <th>Terminal_Terminal 2</th>\n",
       "      <th>Terminal_Terminal 3</th>\n",
       "      <th>Boarding Area_B</th>\n",
       "      <th>Boarding Area_C</th>\n",
       "      <th>Boarding Area_D</th>\n",
       "      <th>Boarding Area_E</th>\n",
       "      <th>Boarding Area_F</th>\n",
       "      <th>Boarding Area_G</th>\n",
       "      <th>Boarding Area_Other</th>\n",
       "    </tr>\n",
       "  </thead>\n",
       "  <tbody>\n",
       "    <tr>\n",
       "      <th>0</th>\n",
       "      <td>27271</td>\n",
       "      <td>2005</td>\n",
       "      <td>7</td>\n",
       "      <td>1</td>\n",
       "      <td>0</td>\n",
       "      <td>0</td>\n",
       "      <td>0</td>\n",
       "      <td>0</td>\n",
       "      <td>0</td>\n",
       "      <td>0</td>\n",
       "      <td>...</td>\n",
       "      <td>1</td>\n",
       "      <td>0</td>\n",
       "      <td>0</td>\n",
       "      <td>1</td>\n",
       "      <td>0</td>\n",
       "      <td>0</td>\n",
       "      <td>0</td>\n",
       "      <td>0</td>\n",
       "      <td>0</td>\n",
       "      <td>0</td>\n",
       "    </tr>\n",
       "    <tr>\n",
       "      <th>1</th>\n",
       "      <td>29131</td>\n",
       "      <td>2005</td>\n",
       "      <td>7</td>\n",
       "      <td>1</td>\n",
       "      <td>0</td>\n",
       "      <td>0</td>\n",
       "      <td>0</td>\n",
       "      <td>0</td>\n",
       "      <td>0</td>\n",
       "      <td>0</td>\n",
       "      <td>...</td>\n",
       "      <td>1</td>\n",
       "      <td>0</td>\n",
       "      <td>0</td>\n",
       "      <td>1</td>\n",
       "      <td>0</td>\n",
       "      <td>0</td>\n",
       "      <td>0</td>\n",
       "      <td>0</td>\n",
       "      <td>0</td>\n",
       "      <td>0</td>\n",
       "    </tr>\n",
       "    <tr>\n",
       "      <th>2</th>\n",
       "      <td>5415</td>\n",
       "      <td>2005</td>\n",
       "      <td>7</td>\n",
       "      <td>1</td>\n",
       "      <td>0</td>\n",
       "      <td>0</td>\n",
       "      <td>0</td>\n",
       "      <td>0</td>\n",
       "      <td>0</td>\n",
       "      <td>0</td>\n",
       "      <td>...</td>\n",
       "      <td>1</td>\n",
       "      <td>0</td>\n",
       "      <td>0</td>\n",
       "      <td>1</td>\n",
       "      <td>0</td>\n",
       "      <td>0</td>\n",
       "      <td>0</td>\n",
       "      <td>0</td>\n",
       "      <td>0</td>\n",
       "      <td>0</td>\n",
       "    </tr>\n",
       "    <tr>\n",
       "      <th>3</th>\n",
       "      <td>35156</td>\n",
       "      <td>2005</td>\n",
       "      <td>7</td>\n",
       "      <td>0</td>\n",
       "      <td>0</td>\n",
       "      <td>0</td>\n",
       "      <td>0</td>\n",
       "      <td>1</td>\n",
       "      <td>0</td>\n",
       "      <td>0</td>\n",
       "      <td>...</td>\n",
       "      <td>1</td>\n",
       "      <td>0</td>\n",
       "      <td>0</td>\n",
       "      <td>1</td>\n",
       "      <td>0</td>\n",
       "      <td>0</td>\n",
       "      <td>0</td>\n",
       "      <td>0</td>\n",
       "      <td>0</td>\n",
       "      <td>0</td>\n",
       "    </tr>\n",
       "    <tr>\n",
       "      <th>4</th>\n",
       "      <td>34090</td>\n",
       "      <td>2005</td>\n",
       "      <td>7</td>\n",
       "      <td>0</td>\n",
       "      <td>0</td>\n",
       "      <td>0</td>\n",
       "      <td>0</td>\n",
       "      <td>1</td>\n",
       "      <td>0</td>\n",
       "      <td>0</td>\n",
       "      <td>...</td>\n",
       "      <td>1</td>\n",
       "      <td>0</td>\n",
       "      <td>0</td>\n",
       "      <td>1</td>\n",
       "      <td>0</td>\n",
       "      <td>0</td>\n",
       "      <td>0</td>\n",
       "      <td>0</td>\n",
       "      <td>0</td>\n",
       "      <td>0</td>\n",
       "    </tr>\n",
       "  </tbody>\n",
       "</table>\n",
       "<p>5 rows × 345 columns</p>\n",
       "</div>"
      ],
      "text/plain": [
       "   Passenger Count  Activity Year  Activity Month  \\\n",
       "0            27271           2005               7   \n",
       "1            29131           2005               7   \n",
       "2             5415           2005               7   \n",
       "3            35156           2005               7   \n",
       "4            34090           2005               7   \n",
       "\n",
       "   Operating Airline_ATA Airlines  Operating Airline_Aer Lingus  \\\n",
       "0                               1                             0   \n",
       "1                               1                             0   \n",
       "2                               1                             0   \n",
       "3                               0                             0   \n",
       "4                               0                             0   \n",
       "\n",
       "   Operating Airline_Aeromexico  Operating Airline_Air Berlin  \\\n",
       "0                             0                             0   \n",
       "1                             0                             0   \n",
       "2                             0                             0   \n",
       "3                             0                             0   \n",
       "4                             0                             0   \n",
       "\n",
       "   Operating Airline_Air Canada  Operating Airline_Air Canada Jazz  \\\n",
       "0                             0                                  0   \n",
       "1                             0                                  0   \n",
       "2                             0                                  0   \n",
       "3                             1                                  0   \n",
       "4                             1                                  0   \n",
       "\n",
       "   Operating Airline_Air China  ...  Terminal_Terminal 1  Terminal_Terminal 2  \\\n",
       "0                            0  ...                    1                    0   \n",
       "1                            0  ...                    1                    0   \n",
       "2                            0  ...                    1                    0   \n",
       "3                            0  ...                    1                    0   \n",
       "4                            0  ...                    1                    0   \n",
       "\n",
       "   Terminal_Terminal 3  Boarding Area_B  Boarding Area_C  Boarding Area_D  \\\n",
       "0                    0                1                0                0   \n",
       "1                    0                1                0                0   \n",
       "2                    0                1                0                0   \n",
       "3                    0                1                0                0   \n",
       "4                    0                1                0                0   \n",
       "\n",
       "   Boarding Area_E  Boarding Area_F  Boarding Area_G  Boarding Area_Other  \n",
       "0                0                0                0                    0  \n",
       "1                0                0                0                    0  \n",
       "2                0                0                0                    0  \n",
       "3                0                0                0                    0  \n",
       "4                0                0                0                    0  \n",
       "\n",
       "[5 rows x 345 columns]"
      ]
     },
     "execution_count": 68,
     "metadata": {},
     "output_type": "execute_result"
    }
   ],
   "source": [
    "x.head()"
   ]
  },
  {
   "cell_type": "code",
   "execution_count": 69,
   "id": "90f5e06f",
   "metadata": {},
   "outputs": [],
   "source": [
    "model3=KMeans(n_clusters=3)"
   ]
  },
  {
   "cell_type": "code",
   "execution_count": 70,
   "id": "7d9607a2",
   "metadata": {},
   "outputs": [],
   "source": [
    "model3=model3.fit(x)"
   ]
  },
  {
   "cell_type": "code",
   "execution_count": 71,
   "id": "ef958e55",
   "metadata": {},
   "outputs": [],
   "source": [
    "tahmin3=model3.predict(x)"
   ]
  },
  {
   "cell_type": "code",
   "execution_count": 72,
   "id": "16ff9b0c",
   "metadata": {},
   "outputs": [
    {
     "data": {
      "text/plain": [
       "array([0, 0, 0, ..., 0, 0, 0])"
      ]
     },
     "execution_count": 72,
     "metadata": {},
     "output_type": "execute_result"
    }
   ],
   "source": [
    "tahmin3"
   ]
  },
  {
   "cell_type": "code",
   "execution_count": 73,
   "id": "96180abe",
   "metadata": {},
   "outputs": [],
   "source": [
    "x[\"clusters\"]=tahmin3"
   ]
  },
  {
   "cell_type": "code",
   "execution_count": 74,
   "id": "be570280",
   "metadata": {},
   "outputs": [
    {
     "data": {
      "text/html": [
       "<div>\n",
       "<style scoped>\n",
       "    .dataframe tbody tr th:only-of-type {\n",
       "        vertical-align: middle;\n",
       "    }\n",
       "\n",
       "    .dataframe tbody tr th {\n",
       "        vertical-align: top;\n",
       "    }\n",
       "\n",
       "    .dataframe thead th {\n",
       "        text-align: right;\n",
       "    }\n",
       "</style>\n",
       "<table border=\"1\" class=\"dataframe\">\n",
       "  <thead>\n",
       "    <tr style=\"text-align: right;\">\n",
       "      <th></th>\n",
       "      <th>Passenger Count</th>\n",
       "      <th>Activity Year</th>\n",
       "      <th>Activity Month</th>\n",
       "      <th>Operating Airline_ATA Airlines</th>\n",
       "      <th>Operating Airline_Aer Lingus</th>\n",
       "      <th>Operating Airline_Aeromexico</th>\n",
       "      <th>Operating Airline_Air Berlin</th>\n",
       "      <th>Operating Airline_Air Canada</th>\n",
       "      <th>Operating Airline_Air Canada Jazz</th>\n",
       "      <th>Operating Airline_Air China</th>\n",
       "      <th>...</th>\n",
       "      <th>Terminal_Terminal 2</th>\n",
       "      <th>Terminal_Terminal 3</th>\n",
       "      <th>Boarding Area_B</th>\n",
       "      <th>Boarding Area_C</th>\n",
       "      <th>Boarding Area_D</th>\n",
       "      <th>Boarding Area_E</th>\n",
       "      <th>Boarding Area_F</th>\n",
       "      <th>Boarding Area_G</th>\n",
       "      <th>Boarding Area_Other</th>\n",
       "      <th>clusters</th>\n",
       "    </tr>\n",
       "  </thead>\n",
       "  <tbody>\n",
       "    <tr>\n",
       "      <th>0</th>\n",
       "      <td>27271</td>\n",
       "      <td>2005</td>\n",
       "      <td>7</td>\n",
       "      <td>1</td>\n",
       "      <td>0</td>\n",
       "      <td>0</td>\n",
       "      <td>0</td>\n",
       "      <td>0</td>\n",
       "      <td>0</td>\n",
       "      <td>0</td>\n",
       "      <td>...</td>\n",
       "      <td>0</td>\n",
       "      <td>0</td>\n",
       "      <td>1</td>\n",
       "      <td>0</td>\n",
       "      <td>0</td>\n",
       "      <td>0</td>\n",
       "      <td>0</td>\n",
       "      <td>0</td>\n",
       "      <td>0</td>\n",
       "      <td>0</td>\n",
       "    </tr>\n",
       "    <tr>\n",
       "      <th>1</th>\n",
       "      <td>29131</td>\n",
       "      <td>2005</td>\n",
       "      <td>7</td>\n",
       "      <td>1</td>\n",
       "      <td>0</td>\n",
       "      <td>0</td>\n",
       "      <td>0</td>\n",
       "      <td>0</td>\n",
       "      <td>0</td>\n",
       "      <td>0</td>\n",
       "      <td>...</td>\n",
       "      <td>0</td>\n",
       "      <td>0</td>\n",
       "      <td>1</td>\n",
       "      <td>0</td>\n",
       "      <td>0</td>\n",
       "      <td>0</td>\n",
       "      <td>0</td>\n",
       "      <td>0</td>\n",
       "      <td>0</td>\n",
       "      <td>0</td>\n",
       "    </tr>\n",
       "    <tr>\n",
       "      <th>2</th>\n",
       "      <td>5415</td>\n",
       "      <td>2005</td>\n",
       "      <td>7</td>\n",
       "      <td>1</td>\n",
       "      <td>0</td>\n",
       "      <td>0</td>\n",
       "      <td>0</td>\n",
       "      <td>0</td>\n",
       "      <td>0</td>\n",
       "      <td>0</td>\n",
       "      <td>...</td>\n",
       "      <td>0</td>\n",
       "      <td>0</td>\n",
       "      <td>1</td>\n",
       "      <td>0</td>\n",
       "      <td>0</td>\n",
       "      <td>0</td>\n",
       "      <td>0</td>\n",
       "      <td>0</td>\n",
       "      <td>0</td>\n",
       "      <td>0</td>\n",
       "    </tr>\n",
       "    <tr>\n",
       "      <th>3</th>\n",
       "      <td>35156</td>\n",
       "      <td>2005</td>\n",
       "      <td>7</td>\n",
       "      <td>0</td>\n",
       "      <td>0</td>\n",
       "      <td>0</td>\n",
       "      <td>0</td>\n",
       "      <td>1</td>\n",
       "      <td>0</td>\n",
       "      <td>0</td>\n",
       "      <td>...</td>\n",
       "      <td>0</td>\n",
       "      <td>0</td>\n",
       "      <td>1</td>\n",
       "      <td>0</td>\n",
       "      <td>0</td>\n",
       "      <td>0</td>\n",
       "      <td>0</td>\n",
       "      <td>0</td>\n",
       "      <td>0</td>\n",
       "      <td>0</td>\n",
       "    </tr>\n",
       "    <tr>\n",
       "      <th>4</th>\n",
       "      <td>34090</td>\n",
       "      <td>2005</td>\n",
       "      <td>7</td>\n",
       "      <td>0</td>\n",
       "      <td>0</td>\n",
       "      <td>0</td>\n",
       "      <td>0</td>\n",
       "      <td>1</td>\n",
       "      <td>0</td>\n",
       "      <td>0</td>\n",
       "      <td>...</td>\n",
       "      <td>0</td>\n",
       "      <td>0</td>\n",
       "      <td>1</td>\n",
       "      <td>0</td>\n",
       "      <td>0</td>\n",
       "      <td>0</td>\n",
       "      <td>0</td>\n",
       "      <td>0</td>\n",
       "      <td>0</td>\n",
       "      <td>0</td>\n",
       "    </tr>\n",
       "  </tbody>\n",
       "</table>\n",
       "<p>5 rows × 346 columns</p>\n",
       "</div>"
      ],
      "text/plain": [
       "   Passenger Count  Activity Year  Activity Month  \\\n",
       "0            27271           2005               7   \n",
       "1            29131           2005               7   \n",
       "2             5415           2005               7   \n",
       "3            35156           2005               7   \n",
       "4            34090           2005               7   \n",
       "\n",
       "   Operating Airline_ATA Airlines  Operating Airline_Aer Lingus  \\\n",
       "0                               1                             0   \n",
       "1                               1                             0   \n",
       "2                               1                             0   \n",
       "3                               0                             0   \n",
       "4                               0                             0   \n",
       "\n",
       "   Operating Airline_Aeromexico  Operating Airline_Air Berlin  \\\n",
       "0                             0                             0   \n",
       "1                             0                             0   \n",
       "2                             0                             0   \n",
       "3                             0                             0   \n",
       "4                             0                             0   \n",
       "\n",
       "   Operating Airline_Air Canada  Operating Airline_Air Canada Jazz  \\\n",
       "0                             0                                  0   \n",
       "1                             0                                  0   \n",
       "2                             0                                  0   \n",
       "3                             1                                  0   \n",
       "4                             1                                  0   \n",
       "\n",
       "   Operating Airline_Air China  ...  Terminal_Terminal 2  Terminal_Terminal 3  \\\n",
       "0                            0  ...                    0                    0   \n",
       "1                            0  ...                    0                    0   \n",
       "2                            0  ...                    0                    0   \n",
       "3                            0  ...                    0                    0   \n",
       "4                            0  ...                    0                    0   \n",
       "\n",
       "   Boarding Area_B  Boarding Area_C  Boarding Area_D  Boarding Area_E  \\\n",
       "0                1                0                0                0   \n",
       "1                1                0                0                0   \n",
       "2                1                0                0                0   \n",
       "3                1                0                0                0   \n",
       "4                1                0                0                0   \n",
       "\n",
       "   Boarding Area_F  Boarding Area_G  Boarding Area_Other  clusters  \n",
       "0                0                0                    0         0  \n",
       "1                0                0                    0         0  \n",
       "2                0                0                    0         0  \n",
       "3                0                0                    0         0  \n",
       "4                0                0                    0         0  \n",
       "\n",
       "[5 rows x 346 columns]"
      ]
     },
     "execution_count": 74,
     "metadata": {},
     "output_type": "execute_result"
    }
   ],
   "source": [
    "x.head()"
   ]
  },
  {
   "cell_type": "code",
   "execution_count": 75,
   "id": "5bf3c3d5",
   "metadata": {},
   "outputs": [
    {
     "data": {
      "text/plain": [
       "0.8285979403860193"
      ]
     },
     "execution_count": 75,
     "metadata": {},
     "output_type": "execute_result"
    }
   ],
   "source": [
    "silhouette_score(x,tahmin3)"
   ]
  },
  {
   "cell_type": "code",
   "execution_count": 76,
   "id": "aadb88bc",
   "metadata": {},
   "outputs": [
    {
     "data": {
      "image/png": "[encoded data removed]",
      "text/plain": [
       "<Figure size 720x432 with 2 Axes>"
      ]
     },
     "metadata": {
      "needs_background": "light"
     },
     "output_type": "display_data"
    }
   ],
   "source": [
    "plt.figure(figsize=(10,6))\n",
    "plt.scatter(x[\"Passenger Count\"],x[\"Activity Year\"],c=tahmin3);\n",
    "plt.xlabel(\"Passenger Count\")\n",
    "plt.ylabel(\"Activity Year\")\n",
    "plt.colorbar()\n",
    "plt.grid()"
   ]
  },
  {
   "cell_type": "code",
   "execution_count": null,
   "id": "3c7b002d",
   "metadata": {},
   "outputs": [],
   "source": []
  }
 ],
 "metadata": {
  "kernelspec": {
   "display_name": "Python 3 (ipykernel)",
   "language": "python",
   "name": "python3"
  },
  "language_info": {
   "codemirror_mode": {
    "name": "ipython",
    "version": 3
   },
   "file_extension": ".py",
   "mimetype": "text/x-python",
   "name": "python",
   "nbconvert_exporter": "python",
   "pygments_lexer": "ipython3",
   "version": "3.9.12"
  }
 },
 "nbformat": 4,
 "nbformat_minor": 5
}
