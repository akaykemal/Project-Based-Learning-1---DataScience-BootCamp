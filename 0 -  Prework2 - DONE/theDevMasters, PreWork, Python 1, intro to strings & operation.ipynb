{
 "cells": [
  {
   "cell_type": "markdown",
   "metadata": {},
   "source": [
    "# theDevMasters PreWork - Notebook 1\n",
    "Welcome to theDevMasters! We're excited to teach you python, data science, and machine learning. Let's learn together!"
   ]
  },
  {
   "cell_type": "markdown",
   "metadata": {},
   "source": [
    "## Using Jupyter Notebook\n",
    "This file is called a Jupyter notebook. Jupyter notebook can be used for many things. It can run R or Julia code, and has a terminal (or command prompt) option as well. We'll be using it to run Python code. You can also use it to take notes using markdown. \n",
    "\n",
    "A Jupyter notebook is comprised of cells, which are boxes. You can click on a cell to edit it. To run the code in a cell you can press __SHIFT__ and __ENTER__ at the same time, or you can press the Play button above. \n",
    "\n",
    "By default a cell is set up for code. If a cell is in code mode you'll see __In [ ]:__ to the left of the code. When you run the cell the line number will have __[\\*]__ while it is processing. When it is done processing a line number will appear, for example __In [2]:__ Run the cell below to see the line number:"
   ]
  },
  {
   "cell_type": "code",
   "execution_count": 2,
   "metadata": {},
   "outputs": [
    {
     "name": "stdout",
     "output_type": "stream",
     "text": [
      "Hello Data Scientist.\n"
     ]
    }
   ],
   "source": [
    "print('Hello Data Scientist.')"
   ]
  },
  {
   "cell_type": "markdown",
   "metadata": {},
   "source": [
    "If you need to edit a code cell just click on the cell and make your changes. Then you can run the cell again for the changes to take effect. Change the above cell to say 'Hello Data Scientist' instead of 'Hello World'. You should see the line number of the cell change from 1 to 2. "
   ]
  },
  {
   "cell_type": "markdown",
   "metadata": {},
   "source": [
    "## Using Markdown Cells\n",
    "To change a cell to markdown choose 'Markdown' from the dropdown in the header of the Juypter notebook. Enter your notes (using markdown for extra capabilities) then run the cell to display. To edit a markdown cell double click then make your changes. Edit the cell below to see how markdown is formed."
   ]
  },
  {
   "cell_type": "markdown",
   "metadata": {},
   "source": [
    "# Make a header with a hash sign\n",
    "## Make a subheading with 2 - 6 hash signs\n",
    "### Make even smaller headers\n",
    "\n",
    "Type as usual for regular text. \n",
    "\n",
    "*This text will be italic*\n",
    "_This will also be italic_\n",
    "\n",
    "**This text will be bold**\n",
    "__This will also be bold__\n",
    "\n",
    "_You **can** combine them_\n",
    "\n",
    "Make an unordered list like this: \n",
    "\n",
    "* Item 1\n",
    "* Item 2\n",
    "  * Item 2a\n",
    "  * Item 2b\n",
    "  \n",
    "Or an ordered list like this: \n",
    "\n",
    "1. Item 1\n",
    "1. Item 2\n",
    "1. Item 3\n",
    "   1. Item 3a\n",
    "   1. Item 3b\n",
    "   \n",
    "You can add links like this: \n",
    "[This link has more markdown tips!](https://guides.github.com/features/mastering-markdown/)"
   ]
  },
  {
   "cell_type": "markdown",
   "metadata": {},
   "source": [
    "# More Jupyter Tips: \n",
    "* You can add more cells by pressing the __PLUS__ button above. \n",
    "* You can cut a cell by clicking on the __SCISSORS__ button above. \n",
    "* You can copy a cell by clicking on the __COPY__ button above. \n",
    "* You can paste a cut or copied cell by clicking on the __PASTE__ button above. \n",
    "\n",
    "If your notebook stops working you can restart the notebook by clicking on the __KERNAL__ button above then clicking __RESTART, RESTART AND CLEAR OUTPUT,__ or __RESTART AND RUN ALL__ options. "
   ]
  },
  {
   "cell_type": "markdown",
   "metadata": {},
   "source": [
    "# Let's Start Coding!\n",
    "## Comments\n",
    "In Python you can make a comment using the # sign. Comments are ignored by the computer when the code is run. Comments are useful for making notes on what the code is doing and why."
   ]
  },
  {
   "cell_type": "code",
   "execution_count": 3,
   "metadata": {},
   "outputs": [
    {
     "name": "stdout",
     "output_type": "stream",
     "text": [
      "Hello Python Programmer!\n"
     ]
    }
   ],
   "source": [
    "#This is a comment\n",
    "print('Hello Python Programmer!') # Comments can be on the same line as code"
   ]
  },
  {
   "cell_type": "markdown",
   "metadata": {},
   "source": [
    "Your turn - Write your own comments below:"
   ]
  },
  {
   "cell_type": "code",
   "execution_count": 3,
   "metadata": {},
   "outputs": [],
   "source": [
    "# Kemal is coding today"
   ]
  },
  {
   "cell_type": "markdown",
   "metadata": {},
   "source": [
    "## Literal Constants\n",
    "Literal constants represent themselves, and connot be changed. For example, __2__ will always represent 2 and nothing else - it's value will always be __2__. Literal constants can be numbers or strings (text). "
   ]
  },
  {
   "cell_type": "code",
   "execution_count": 4,
   "metadata": {},
   "outputs": [
    {
     "data": {
      "text/plain": [
       "2"
      ]
     },
     "execution_count": 4,
     "metadata": {},
     "output_type": "execute_result"
    }
   ],
   "source": [
    "# This is a literal constant - it's value cannot change\n",
    "2"
   ]
  },
  {
   "cell_type": "code",
   "execution_count": 7,
   "metadata": {},
   "outputs": [
    {
     "data": {
      "text/plain": [
       "'This sentence is a literal constant'"
      ]
     },
     "execution_count": 7,
     "metadata": {},
     "output_type": "execute_result"
    }
   ],
   "source": [
    "# This is also a literal constant - it cannot change\n",
    "'This sentence is a literal constant'"
   ]
  },
  {
   "cell_type": "markdown",
   "metadata": {},
   "source": [
    "### Exercise 1 :"
   ]
  },
  {
   "cell_type": "markdown",
   "metadata": {},
   "source": [
    "Create your own literal constants below. Make at least 2 literal constants, one number and one string. "
   ]
  },
  {
   "cell_type": "code",
   "execution_count": 5,
   "metadata": {},
   "outputs": [
    {
     "data": {
      "text/plain": [
       "1996"
      ]
     },
     "execution_count": 5,
     "metadata": {},
     "output_type": "execute_result"
    }
   ],
   "source": [
    "1996"
   ]
  },
  {
   "cell_type": "code",
   "execution_count": 6,
   "metadata": {},
   "outputs": [
    {
     "data": {
      "text/plain": [
       "'The Applied Data Science Course from prof Acar is great'"
      ]
     },
     "execution_count": 6,
     "metadata": {},
     "output_type": "execute_result"
    }
   ],
   "source": [
    "'The Applied Data Science Course from prof Acar is great'"
   ]
  },
  {
   "cell_type": "markdown",
   "metadata": {},
   "source": [
    "## Numbers\n",
    "There are two types of numbers: __integers__ and __floats__. An integer is a number that does not use a decimal place. A float is a 'floating point' number, that is, it contains a decimal point. "
   ]
  },
  {
   "cell_type": "code",
   "execution_count": null,
   "metadata": {
    "collapsed": true
   },
   "outputs": [],
   "source": [
    "# This number is an integer\n",
    "2"
   ]
  },
  {
   "cell_type": "code",
   "execution_count": null,
   "metadata": {
    "collapsed": true
   },
   "outputs": [],
   "source": [
    "# This number is a float\n",
    "2.5"
   ]
  },
  {
   "cell_type": "code",
   "execution_count": null,
   "metadata": {
    "collapsed": true
   },
   "outputs": [],
   "source": [
    "# This is another float\n",
    "0.8"
   ]
  },
  {
   "cell_type": "markdown",
   "metadata": {},
   "source": [
    "### Exercise 2 :"
   ]
  },
  {
   "cell_type": "markdown",
   "metadata": {},
   "source": [
    "You can convert between a float and an integer using a built-in Python function. \n",
    "\n",
    "To change a float to an integer use the syntax: __`int(3.8)`__"
   ]
  },
  {
   "cell_type": "code",
   "execution_count": 7,
   "metadata": {},
   "outputs": [
    {
     "data": {
      "text/plain": [
       "3"
      ]
     },
     "execution_count": 7,
     "metadata": {},
     "output_type": "execute_result"
    }
   ],
   "source": [
    "int(3.8)"
   ]
  },
  {
   "cell_type": "markdown",
   "metadata": {},
   "source": [
    "To change an integer to a float use the syntax: __`float(4)`__"
   ]
  },
  {
   "cell_type": "code",
   "execution_count": 8,
   "metadata": {},
   "outputs": [
    {
     "data": {
      "text/plain": [
       "4.0"
      ]
     },
     "execution_count": 8,
     "metadata": {},
     "output_type": "execute_result"
    }
   ],
   "source": [
    "float(4)"
   ]
  },
  {
   "cell_type": "markdown",
   "metadata": {},
   "source": [
    "Transform a float to an integer and converts an integer to a float below: "
   ]
  },
  {
   "cell_type": "code",
   "execution_count": 9,
   "metadata": {},
   "outputs": [
    {
     "data": {
      "text/plain": [
       "19"
      ]
     },
     "execution_count": 9,
     "metadata": {},
     "output_type": "execute_result"
    }
   ],
   "source": [
    "int(19.96)"
   ]
  },
  {
   "cell_type": "code",
   "execution_count": 10,
   "metadata": {},
   "outputs": [
    {
     "data": {
      "text/plain": [
       "5.0"
      ]
     },
     "execution_count": 10,
     "metadata": {},
     "output_type": "execute_result"
    }
   ],
   "source": [
    "float(5)"
   ]
  },
  {
   "cell_type": "markdown",
   "metadata": {},
   "source": [
    "## Strings \n",
    "A string is a sequence of characters. There are three notations for strings: \n",
    "* __Single Quote__ notation: `'this is a string'`\n",
    "* __Double Quote__ notation: `\"this is a string\"`\n",
    "* __Triple Quotes__ notation: `'''this is also a string'''`\n",
    "\n",
    "You can nest different types of quotes within strings, but you have to start and end a string with the same type of quote!"
   ]
  },
  {
   "cell_type": "code",
   "execution_count": 11,
   "metadata": {},
   "outputs": [
    {
     "data": {
      "text/plain": [
       "'This is a multi-line string, \\nwhich continues on as many lines as you need. \\n\\nYou can even add other strings inside: \\n\"This is a double quote string\"\\n\\'And this is a single quote string\\'.\\n'"
      ]
     },
     "execution_count": 11,
     "metadata": {},
     "output_type": "execute_result"
    }
   ],
   "source": [
    "'''This is a multi-line string, \n",
    "which continues on as many lines as you need. \n",
    "\n",
    "You can even add other strings inside: \n",
    "\"This is a double quote string\"\n",
    "'And this is a single quote string'.\n",
    "'''"
   ]
  },
  {
   "cell_type": "markdown",
   "metadata": {},
   "source": [
    "Usually single or double quotes are used for shorter strings, while triple quotes are used for multi-line strings, but this is just a convention. "
   ]
  },
  {
   "cell_type": "markdown",
   "metadata": {},
   "source": [
    "### Excerise 3 :"
   ]
  },
  {
   "cell_type": "markdown",
   "metadata": {},
   "source": [
    "Create your own strings below - be sure to use each type of quote:"
   ]
  },
  {
   "cell_type": "code",
   "execution_count": 14,
   "metadata": {},
   "outputs": [
    {
     "data": {
      "text/plain": [
       "'This is great'"
      ]
     },
     "execution_count": 14,
     "metadata": {},
     "output_type": "execute_result"
    }
   ],
   "source": [
    "\"This is great\""
   ]
  },
  {
   "cell_type": "code",
   "execution_count": 15,
   "metadata": {},
   "outputs": [
    {
     "data": {
      "text/plain": [
       "'This is even greater'"
      ]
     },
     "execution_count": 15,
     "metadata": {},
     "output_type": "execute_result"
    }
   ],
   "source": [
    "'This is even greater'"
   ]
  },
  {
   "cell_type": "code",
   "execution_count": 16,
   "metadata": {},
   "outputs": [
    {
     "data": {
      "text/plain": [
       "'I\\'m sure that this \"Data Science Course\" is the greatest'"
      ]
     },
     "execution_count": 16,
     "metadata": {},
     "output_type": "execute_result"
    }
   ],
   "source": [
    "'''I'm sure that this \"Data Science Course\" is the greatest'''"
   ]
  },
  {
   "cell_type": "markdown",
   "metadata": {},
   "source": [
    "### Basic methods for strings: \n",
    "There are several helpful, built-in methods for strings. For example: "
   ]
  },
  {
   "cell_type": "code",
   "execution_count": 18,
   "metadata": {},
   "outputs": [],
   "source": [
    "my_str = 'My string'"
   ]
  },
  {
   "cell_type": "code",
   "execution_count": 19,
   "metadata": {},
   "outputs": [
    {
     "data": {
      "text/plain": [
       "'My string'"
      ]
     },
     "execution_count": 19,
     "metadata": {},
     "output_type": "execute_result"
    }
   ],
   "source": [
    "my_str"
   ]
  },
  {
   "cell_type": "code",
   "execution_count": 20,
   "metadata": {},
   "outputs": [],
   "source": [
    "my_str = 'niagara'"
   ]
  },
  {
   "cell_type": "code",
   "execution_count": 21,
   "metadata": {},
   "outputs": [
    {
     "data": {
      "text/plain": [
       "'niagara'"
      ]
     },
     "execution_count": 21,
     "metadata": {},
     "output_type": "execute_result"
    }
   ],
   "source": [
    "my_str"
   ]
  },
  {
   "cell_type": "markdown",
   "metadata": {},
   "source": [
    "You can make a string uppercase using the method upper like this: __`my_str.upper()`__"
   ]
  },
  {
   "cell_type": "code",
   "execution_count": 22,
   "metadata": {},
   "outputs": [
    {
     "data": {
      "text/plain": [
       "'NIAGARA'"
      ]
     },
     "execution_count": 22,
     "metadata": {},
     "output_type": "execute_result"
    }
   ],
   "source": [
    "my_str.upper()"
   ]
  },
  {
   "cell_type": "markdown",
   "metadata": {},
   "source": [
    "You can make a string lowercase using the method lower like this: __`my_str.lower()`__"
   ]
  },
  {
   "cell_type": "code",
   "execution_count": 23,
   "metadata": {},
   "outputs": [
    {
     "data": {
      "text/plain": [
       "'niagara'"
      ]
     },
     "execution_count": 23,
     "metadata": {},
     "output_type": "execute_result"
    }
   ],
   "source": [
    "my_str.lower()"
   ]
  },
  {
   "cell_type": "markdown",
   "metadata": {},
   "source": [
    "We can also use slicing methods to extract a single letter of a string. You can slice a string using the index of the letters. The first letter is index 0. For example, to get the first letter of our string we can do: \n",
    "__`my_str[0]`__"
   ]
  },
  {
   "cell_type": "code",
   "execution_count": 24,
   "metadata": {},
   "outputs": [
    {
     "data": {
      "text/plain": [
       "'n'"
      ]
     },
     "execution_count": 24,
     "metadata": {},
     "output_type": "execute_result"
    }
   ],
   "source": [
    "my_str[0]"
   ]
  },
  {
   "cell_type": "markdown",
   "metadata": {},
   "source": [
    "We can also index from the end of the string by using a negative index. For example, to get the last letter of our string we can use: \n",
    "__`my_str[-1]`__"
   ]
  },
  {
   "cell_type": "code",
   "execution_count": 25,
   "metadata": {},
   "outputs": [
    {
     "data": {
      "text/plain": [
       "'a'"
      ]
     },
     "execution_count": 25,
     "metadata": {},
     "output_type": "execute_result"
    }
   ],
   "source": [
    "my_str[-1]"
   ]
  },
  {
   "cell_type": "markdown",
   "metadata": {},
   "source": [
    "Slicing will also allow us to extract a subsequence from the string. The syntax is: \n",
    "\n",
    "__`my_str[i:j]`__ where i is the starting index and j is the ending index. In Python the lower bound is included, but the upper bound is not included. For example, if we wanted the first three letters of our string we could use the syntax: __`my_str[0:4]`__"
   ]
  },
  {
   "cell_type": "code",
   "execution_count": 28,
   "metadata": {},
   "outputs": [
    {
     "data": {
      "text/plain": [
       "'niag'"
      ]
     },
     "execution_count": 28,
     "metadata": {},
     "output_type": "execute_result"
    }
   ],
   "source": [
    "my_str[0:4]"
   ]
  },
  {
   "cell_type": "markdown",
   "metadata": {},
   "source": [
    "Slicing can also use an extended syntax: \n",
    "\n",
    "__`my_str[i:j:k]`__ where i is the starting index, j is the ending index, and k is the stride or the step between indices. For example, if we wanted every other letter of the first 6 characters we could use: \n",
    "\n",
    "__`my_str[0:7:2]`__"
   ]
  },
  {
   "cell_type": "code",
   "execution_count": 29,
   "metadata": {},
   "outputs": [
    {
     "data": {
      "text/plain": [
       "'naaa'"
      ]
     },
     "execution_count": 29,
     "metadata": {},
     "output_type": "execute_result"
    }
   ],
   "source": [
    "my_str[0:7:2]"
   ]
  },
  {
   "cell_type": "markdown",
   "metadata": {},
   "source": [
    "Slicing doesn't require a start or an end index. Leaving off the starting index is equivalent to specifing the first index, 0. Leaving off the ending index is equivalent to the index of the last character. For example, we can slice the first 4 charactes with the syntax: __`my_str[:5]`__"
   ]
  },
  {
   "cell_type": "code",
   "execution_count": 30,
   "metadata": {},
   "outputs": [
    {
     "data": {
      "text/plain": [
       "'niaga'"
      ]
     },
     "execution_count": 30,
     "metadata": {},
     "output_type": "execute_result"
    }
   ],
   "source": [
    "my_str[:5]"
   ]
  },
  {
   "cell_type": "markdown",
   "metadata": {},
   "source": [
    "Or we can slice the characters from index 5 to the end of the string with the syntax: __`my_str[5:]`__"
   ]
  },
  {
   "cell_type": "code",
   "execution_count": 31,
   "metadata": {},
   "outputs": [
    {
     "data": {
      "text/plain": [
       "'ra'"
      ]
     },
     "execution_count": 31,
     "metadata": {},
     "output_type": "execute_result"
    }
   ],
   "source": [
    "my_str[5:]"
   ]
  },
  {
   "cell_type": "markdown",
   "metadata": {},
   "source": [
    "We could get every other character for the entire string with the syntax: __`my_str[::2]`__"
   ]
  },
  {
   "cell_type": "code",
   "execution_count": 32,
   "metadata": {},
   "outputs": [
    {
     "data": {
      "text/plain": [
       "'naaa'"
      ]
     },
     "execution_count": 32,
     "metadata": {},
     "output_type": "execute_result"
    }
   ],
   "source": [
    "my_str[::2]"
   ]
  },
  {
   "cell_type": "markdown",
   "metadata": {},
   "source": [
    "Or we could use -1 as the step in the extended syntax to get the string in reversed order: __`my_str[::-1]`__"
   ]
  },
  {
   "cell_type": "code",
   "execution_count": 33,
   "metadata": {},
   "outputs": [
    {
     "data": {
      "text/plain": [
       "'aragain'"
      ]
     },
     "execution_count": 33,
     "metadata": {},
     "output_type": "execute_result"
    }
   ],
   "source": [
    "my_str[::-1]"
   ]
  },
  {
   "cell_type": "markdown",
   "metadata": {},
   "source": [
    "# Variables\n",
    "Variables are used for storing and manipulating information. Their value can vary, which means that the value can change. You can store anything using a variable. They are given names that are used to access their values. \n",
    "\n",
    "## Variable naming rules:\n",
    "* The first character of the name must be a letter of the alphabet or an underscore\n",
    "* The rest of the name can be letters (upper or lower case), underscores, or digits 0-9\n",
    "* Variable names are case sensitive. For example, MYVARIABLE and myvariable are different\n",
    "* Variable names cannot be a reserved word in Python. For example, __break__, __def__, or __for__ are not allowed. \n",
    "\n",
    "Create a variable by typing the name you'd like to use, then the = sign and the value you'd like to store. The syntax is: \n",
    "\n",
    "__`my_profession = 'Data Scientist'\n",
    "my_number = 123456789`__"
   ]
  },
  {
   "cell_type": "code",
   "execution_count": 34,
   "metadata": {},
   "outputs": [],
   "source": [
    "my_professor = 'Zafer Acar'\n",
    "my_number = '007'"
   ]
  },
  {
   "cell_type": "markdown",
   "metadata": {},
   "source": [
    "You can access the value of a variable by the variable's name. In Python we can use the __`print()`__ function to print a something to the screen. For example: \n",
    "\n",
    "__`print(my_profession)\n",
    "print('My number is: ', my_number)`__"
   ]
  },
  {
   "cell_type": "code",
   "execution_count": 35,
   "metadata": {},
   "outputs": [
    {
     "name": "stdout",
     "output_type": "stream",
     "text": [
      "Zafer Acar\n",
      "007\n"
     ]
    }
   ],
   "source": [
    "print(my_professor)\n",
    "print(my_number)"
   ]
  },
  {
   "cell_type": "markdown",
   "metadata": {},
   "source": [
    "# Operators and Expressions\n",
    "Operators are functionality that do something and can be represented by symbols such as __+__ or by special keywords. Operators require some data to operate on and this data is called an __operand__. \n",
    "\n",
    "## Here is a quick overview of mathematic operators: \n",
    "* __+__ (plus): Adds two items\n",
    "* __-__ (minus): Subtracts one number from the other. If the first operand is absent it is assumed to be zero. \n",
    "* __\\*__ (multiplication): Gives the multiplication of the two numbers or returns a string repeated that many times. \n",
    "* __\\*\\*__ (power): Returns the first number to the power of the second number\n",
    "* __/__ (divide): Divide the first number by the second number. NOTE!! In Python version 2 integer division is used a decimal result will only be returned if at least one of the number is a float. For example: 2/5 would return 2. In Python version 3, 2.5 would be returned. \n",
    "* __//__ (divide and floor): Divide the first number by the second number and round the answer to the nearest whole number. \n",
    "* __%__ (modulo): Returns the remainder of the division\n",
    "\n",
    "These operators can be used in conjunction with numbers to form expressions. For example: \n",
    "\n",
    "__`5 / 2`__"
   ]
  },
  {
   "cell_type": "code",
   "execution_count": 36,
   "metadata": {},
   "outputs": [
    {
     "data": {
      "text/plain": [
       "2.5"
      ]
     },
     "execution_count": 36,
     "metadata": {},
     "output_type": "execute_result"
    }
   ],
   "source": [
    "5 / float(2) # using python3"
   ]
  },
  {
   "cell_type": "markdown",
   "metadata": {},
   "source": [
    "__REMEMBER!!__ in Python 2, division between two integers will return an integer. One of the numbers must be a float to return a decimal value. If the above expression printed __2__ then you're using __Python 2__ if the above expression printed __2.5__ then you're using __Python 3__!\n",
    "\n",
    "We can also save numbers in variables to be used in expressions. This can make our code more readable. For example: \n",
    "\n",
    "__`days_in_year = 365\n",
    "days_in_week = 7\n",
    "weeks_in_year = days_in_year / float(days_in_week)\n",
    "print(weeks_in_year)`__"
   ]
  },
  {
   "cell_type": "code",
   "execution_count": 37,
   "metadata": {},
   "outputs": [
    {
     "name": "stdout",
     "output_type": "stream",
     "text": [
      "52.142857142857146\n"
     ]
    }
   ],
   "source": [
    "days_in_year = 365\n",
    "days_in_week = 7\n",
    "weeks_in_year = days_in_year / float(days_in_week)\n",
    "print(weeks_in_year)"
   ]
  },
  {
   "cell_type": "markdown",
   "metadata": {},
   "source": [
    "### Exercise 4 :"
   ]
  },
  {
   "cell_type": "markdown",
   "metadata": {},
   "source": [
    "Let's practice expressions with some examples: \n",
    "\n",
    "This expression will assign 10 to my_sum. Change the 0 to make my_sum 20. \n",
    "\n",
    "__`my_sum = 10 + 0\n",
    "print(my_sum)`__"
   ]
  },
  {
   "cell_type": "code",
   "execution_count": 38,
   "metadata": {},
   "outputs": [
    {
     "name": "stdout",
     "output_type": "stream",
     "text": [
      "20\n"
     ]
    }
   ],
   "source": [
    "my_sum = 10 + 10\n",
    "print(my_sum)"
   ]
  },
  {
   "cell_type": "markdown",
   "metadata": {},
   "source": [
    "This expression will assign 0 to my_multi. Change the 0 to make my_multi 60. \n",
    "\n",
    "__`my_multi = 6 * 0\n",
    "print(my_multi)`__"
   ]
  },
  {
   "cell_type": "code",
   "execution_count": 39,
   "metadata": {},
   "outputs": [
    {
     "name": "stdout",
     "output_type": "stream",
     "text": [
      "60\n"
     ]
    }
   ],
   "source": [
    "my_multi = 6 * 10\n",
    "print(my_multi)"
   ]
  },
  {
   "cell_type": "markdown",
   "metadata": {},
   "source": [
    "Let's find how many inches are in a meter. Some constants are given for you: \n",
    "\n",
    "__`in_per_mm = 0.0393701\n",
    "mm_per_meter = 1000`__\n",
    "\n",
    "Print the number of inches in a meter. "
   ]
  },
  {
   "cell_type": "code",
   "execution_count": 41,
   "metadata": {},
   "outputs": [
    {
     "name": "stdout",
     "output_type": "stream",
     "text": [
      "39.3701\n"
     ]
    }
   ],
   "source": [
    "in_per_mm = 0.0393701\n",
    "mm_per_meter = 1000\n",
    "in_per_m = in_per_mm * mm_per_meter\n",
    "print(in_per_m)"
   ]
  },
  {
   "cell_type": "markdown",
   "metadata": {},
   "source": [
    "Let's convert a temperature from fahrenheit to celcius. Subtract 32 from the temperature, multiply by 5, then divide by 9. Hint: Don't forget, division is different in Python 2!"
   ]
  },
  {
   "cell_type": "code",
   "execution_count": 42,
   "metadata": {},
   "outputs": [
    {
     "name": "stdout",
     "output_type": "stream",
     "text": [
      "10.0\n"
     ]
    }
   ],
   "source": [
    "temp_f = 50\n",
    "temp_c = (temp_f-32)*5/9\n",
    "print(temp_c)"
   ]
  },
  {
   "cell_type": "markdown",
   "metadata": {},
   "source": [
    "We have 25 cookies and 7 friends at our party. If we wanted to give each friend 3 cookies how many cookies would we have left? Use the modulo (%) operator for this question!"
   ]
  },
  {
   "cell_type": "code",
   "execution_count": 43,
   "metadata": {},
   "outputs": [
    {
     "name": "stdout",
     "output_type": "stream",
     "text": [
      "4\n"
     ]
    }
   ],
   "source": [
    "num_cookies = 25\n",
    "num_friends = 7\n",
    "cookie_left = num_cookies%num_friends\n",
    "print(cookie_left)"
   ]
  },
  {
   "cell_type": "markdown",
   "metadata": {},
   "source": [
    "Calculate what percentage of the year we have off from work. Assume a year is exactly 52 weeks long and that we have 2 days off per week. "
   ]
  },
  {
   "cell_type": "code",
   "execution_count": 93,
   "metadata": {},
   "outputs": [
    {
     "name": "stdout",
     "output_type": "stream",
     "text": [
      "0.2857142857142857 %\n"
     ]
    }
   ],
   "source": [
    "offdays=2*52\n",
    "workdays=52*7\n",
    "freedays=offdays/workdays\n",
    "print(freedays,\"%\")"
   ]
  },
  {
   "cell_type": "markdown",
   "metadata": {},
   "source": [
    "Let's take the above question one step further. Assume that our job also gives us 12 holidays off per year. What is the new percentage? HINT: You can use () to change the order of operations!"
   ]
  },
  {
   "cell_type": "code",
   "execution_count": 96,
   "metadata": {},
   "outputs": [
    {
     "name": "stdout",
     "output_type": "stream",
     "text": [
      "0.31868131868131866 %\n"
     ]
    }
   ],
   "source": [
    "freedays=(offdays+12)/workdays\n",
    "print(freedays,\"%\")"
   ]
  },
  {
   "cell_type": "markdown",
   "metadata": {},
   "source": [
    "You're playing on a basketball team. You've had four games this season. Calculate your average points per game. "
   ]
  },
  {
   "cell_type": "code",
   "execution_count": 97,
   "metadata": {},
   "outputs": [
    {
     "name": "stdout",
     "output_type": "stream",
     "text": [
      "18.0\n"
     ]
    }
   ],
   "source": [
    "pts1 = 17\n",
    "pts2 = 24\n",
    "pts3 = 11\n",
    "pts4 = 20\n",
    "\n",
    "avg=(pts1+pts2+pts3+pts4)/4\n",
    "print(avg)"
   ]
  },
  {
   "cell_type": "markdown",
   "metadata": {},
   "source": [
    "## Here is a quick overview of comparison operators: \n",
    "Comparison operators return either True or False depending on how the operands relate to each other. Here is a list of the comparison operators and how they work: \n",
    "* __>__ (greater than): Returns whether x is greater than y\n",
    "* __<__ (less than): Returns whether x is less than y\n",
    "* __>=__ (greater than or equal to): Returns whether x is greater than or equal to y\n",
    "* __<=__ (less than or equal to): Returns whether x is less than or equal to y\n",
    "* __==__ (equal to): Compares if the items are equal\n",
    "* __!=__ (not equal to): Compares if the items are not equal\n",
    "\n",
    "These operators can be used in conjunction with numbers to form expressions. For example: \n",
    "\n",
    "__`4 == 5`__ \n",
    "\n",
    "This will return False, because 4 and 5 are not equal"
   ]
  },
  {
   "cell_type": "code",
   "execution_count": 98,
   "metadata": {},
   "outputs": [
    {
     "data": {
      "text/plain": [
       "False"
      ]
     },
     "execution_count": 98,
     "metadata": {},
     "output_type": "execute_result"
    }
   ],
   "source": [
    "4 == 5"
   ]
  },
  {
   "cell_type": "markdown",
   "metadata": {},
   "source": [
    "__`4 != 5`__\n",
    "\n",
    "This will return True, because 4 and 5 are not equal"
   ]
  },
  {
   "cell_type": "code",
   "execution_count": 99,
   "metadata": {},
   "outputs": [
    {
     "data": {
      "text/plain": [
       "True"
      ]
     },
     "execution_count": 99,
     "metadata": {},
     "output_type": "execute_result"
    }
   ],
   "source": [
    "4 != 5"
   ]
  },
  {
   "cell_type": "markdown",
   "metadata": {},
   "source": [
    "__`3 < 5`__\n",
    "\n",
    "This will return True, because 3 is less than 5"
   ]
  },
  {
   "cell_type": "code",
   "execution_count": 100,
   "metadata": {},
   "outputs": [
    {
     "data": {
      "text/plain": [
       "True"
      ]
     },
     "execution_count": 100,
     "metadata": {},
     "output_type": "execute_result"
    }
   ],
   "source": [
    "3<5"
   ]
  },
  {
   "cell_type": "markdown",
   "metadata": {},
   "source": [
    "Practice a few examples here: "
   ]
  },
  {
   "cell_type": "code",
   "execution_count": null,
   "metadata": {
    "collapsed": true
   },
   "outputs": [],
   "source": [
    "6 >= 5"
   ]
  },
  {
   "cell_type": "code",
   "execution_count": 101,
   "metadata": {},
   "outputs": [
    {
     "data": {
      "text/plain": [
       "False"
      ]
     },
     "execution_count": 101,
     "metadata": {},
     "output_type": "execute_result"
    }
   ],
   "source": [
    "7 < 5 < 3"
   ]
  },
  {
   "cell_type": "code",
   "execution_count": 102,
   "metadata": {},
   "outputs": [
    {
     "data": {
      "text/plain": [
       "True"
      ]
     },
     "execution_count": 102,
     "metadata": {},
     "output_type": "execute_result"
    }
   ],
   "source": [
    "3 < 5 < 9"
   ]
  },
  {
   "cell_type": "code",
   "execution_count": 103,
   "metadata": {},
   "outputs": [
    {
     "data": {
      "text/plain": [
       "False"
      ]
     },
     "execution_count": 103,
     "metadata": {},
     "output_type": "execute_result"
    }
   ],
   "source": [
    "4 < 2"
   ]
  },
  {
   "cell_type": "markdown",
   "metadata": {},
   "source": [
    "## Here are a few more operators: \n",
    "These operators can be used in conjunction with other operators to make more complex comparisons. These become very important when we start using if an else statements: \n",
    "* __not__ (boolean not): If x is True, returns False. If x is False, returns True. \n",
    "* __&__ (boolean and) also seen as __and__: Returns True if __both__ expressions are true. Returns False if one or both of the expressions are False.\n",
    "* __|__ (boolean or) also seen as __or__: Returns True is __at least one__ expression is True. Returns False if both of the expressions are False. \n",
    "\n",
    "The __not__ operator will return the opposite boolean. For example: \n",
    "\n",
    "__`x = True\n",
    "not x`__"
   ]
  },
  {
   "cell_type": "code",
   "execution_count": 104,
   "metadata": {},
   "outputs": [
    {
     "data": {
      "text/plain": [
       "False"
      ]
     },
     "execution_count": 104,
     "metadata": {},
     "output_type": "execute_result"
    }
   ],
   "source": [
    "x = True\n",
    "not x"
   ]
  },
  {
   "cell_type": "markdown",
   "metadata": {},
   "source": [
    "We can use the __&__ operator to chain comparisons together. For example: \n",
    "\n",
    "__`a = 1\n",
    "b = 2\n",
    "c = 3\n",
    "(a < b) & (a < c)`__"
   ]
  },
  {
   "cell_type": "code",
   "execution_count": 106,
   "metadata": {},
   "outputs": [
    {
     "data": {
      "text/plain": [
       "True"
      ]
     },
     "execution_count": 106,
     "metadata": {},
     "output_type": "execute_result"
    }
   ],
   "source": [
    "a = 1\n",
    "b = 2\n",
    "c = 3\n",
    "(a < b) & (a < c)"
   ]
  },
  {
   "cell_type": "markdown",
   "metadata": {},
   "source": [
    "We can also use the __or__ operator to chain comparisons together. For example: \n",
    "\n",
    "__`(a < b) or (a > c)`__"
   ]
  },
  {
   "cell_type": "code",
   "execution_count": 108,
   "metadata": {},
   "outputs": [
    {
     "data": {
      "text/plain": [
       "True"
      ]
     },
     "execution_count": 108,
     "metadata": {},
     "output_type": "execute_result"
    }
   ],
   "source": [
    "(a<b) | (a>c) # or veya | ayni isi görüyor"
   ]
  },
  {
   "cell_type": "markdown",
   "metadata": {},
   "source": [
    "Practice some more examples here: "
   ]
  },
  {
   "cell_type": "code",
   "execution_count": 109,
   "metadata": {},
   "outputs": [
    {
     "data": {
      "text/plain": [
       "False"
      ]
     },
     "execution_count": 109,
     "metadata": {},
     "output_type": "execute_result"
    }
   ],
   "source": [
    "(a>b) & (c>b)"
   ]
  },
  {
   "cell_type": "code",
   "execution_count": 110,
   "metadata": {},
   "outputs": [
    {
     "data": {
      "text/plain": [
       "True"
      ]
     },
     "execution_count": 110,
     "metadata": {},
     "output_type": "execute_result"
    }
   ],
   "source": [
    "(a!=b) | (c!=a)"
   ]
  },
  {
   "cell_type": "code",
   "execution_count": 111,
   "metadata": {},
   "outputs": [
    {
     "data": {
      "text/plain": [
       "True"
      ]
     },
     "execution_count": 111,
     "metadata": {},
     "output_type": "execute_result"
    }
   ],
   "source": [
    "(a<b) and (b<c)"
   ]
  }
 ],
 "metadata": {
  "anaconda-cloud": {},
  "kernelspec": {
   "display_name": "Python 3 (ipykernel)",
   "language": "python",
   "name": "python3"
  },
  "language_info": {
   "codemirror_mode": {
    "name": "ipython",
    "version": 3
   },
   "file_extension": ".py",
   "mimetype": "text/x-python",
   "name": "python",
   "nbconvert_exporter": "python",
   "pygments_lexer": "ipython3",
   "version": "3.9.12"
  }
 },
 "nbformat": 4,
 "nbformat_minor": 1
}
