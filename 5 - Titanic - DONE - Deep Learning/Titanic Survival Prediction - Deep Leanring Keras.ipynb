{
 "cells": [
  {
   "cell_type": "code",
   "execution_count": 1,
   "id": "be7df7ab",
   "metadata": {},
   "outputs": [],
   "source": [
    "#Classification - kisi ölmüs mü kalmis mi? sorusu cevap evet hayir"
   ]
  },
  {
   "cell_type": "code",
   "execution_count": 2,
   "id": "2cb3d161",
   "metadata": {},
   "outputs": [],
   "source": [
    "import pandas as pd\n",
    "\n",
    "import warnings\n",
    "warnings.simplefilter('ignore')"
   ]
  },
  {
   "cell_type": "code",
   "execution_count": 3,
   "id": "813fa825",
   "metadata": {},
   "outputs": [],
   "source": [
    "df1=pd.read_csv(\"ttrain.csv\")"
   ]
  },
  {
   "cell_type": "code",
   "execution_count": 4,
   "id": "8ee0d62f",
   "metadata": {},
   "outputs": [],
   "source": [
    "df2=pd.read_csv(\"ttest.csv\")"
   ]
  },
  {
   "cell_type": "code",
   "execution_count": 5,
   "id": "a6f64427",
   "metadata": {},
   "outputs": [],
   "source": [
    "# soru: train dosyasiyla modeli egitip test dosyasindaki verileri tahmin etmeniz gerekiyor\n",
    "# basari orani kaggle verecek, basari orani kaggle yükleyecez\n",
    "#kaggle > 0.40 basariyiz"
   ]
  },
  {
   "cell_type": "markdown",
   "id": "72eb0076",
   "metadata": {},
   "source": [
    "# EDA - Exploratory Data Analaysis"
   ]
  },
  {
   "cell_type": "code",
   "execution_count": 6,
   "id": "aaf9c940",
   "metadata": {},
   "outputs": [
    {
     "data": {
      "text/plain": [
       "(891, 12)"
      ]
     },
     "execution_count": 6,
     "metadata": {},
     "output_type": "execute_result"
    }
   ],
   "source": [
    "df1.shape"
   ]
  },
  {
   "cell_type": "code",
   "execution_count": 7,
   "id": "7de31e14",
   "metadata": {},
   "outputs": [
    {
     "data": {
      "text/plain": [
       "(418, 11)"
      ]
     },
     "execution_count": 7,
     "metadata": {},
     "output_type": "execute_result"
    }
   ],
   "source": [
    "df2.shape # neden 11 sutun? bu kisi hayatta mi bilmiyoruz, Survived sutun yok"
   ]
  },
  {
   "cell_type": "code",
   "execution_count": 8,
   "id": "0f927205",
   "metadata": {},
   "outputs": [
    {
     "data": {
      "text/html": [
       "<div>\n",
       "<style scoped>\n",
       "    .dataframe tbody tr th:only-of-type {\n",
       "        vertical-align: middle;\n",
       "    }\n",
       "\n",
       "    .dataframe tbody tr th {\n",
       "        vertical-align: top;\n",
       "    }\n",
       "\n",
       "    .dataframe thead th {\n",
       "        text-align: right;\n",
       "    }\n",
       "</style>\n",
       "<table border=\"1\" class=\"dataframe\">\n",
       "  <thead>\n",
       "    <tr style=\"text-align: right;\">\n",
       "      <th></th>\n",
       "      <th>PassengerId</th>\n",
       "      <th>Survived</th>\n",
       "      <th>Pclass</th>\n",
       "      <th>Name</th>\n",
       "      <th>Sex</th>\n",
       "      <th>Age</th>\n",
       "      <th>SibSp</th>\n",
       "      <th>Parch</th>\n",
       "      <th>Ticket</th>\n",
       "      <th>Fare</th>\n",
       "      <th>Cabin</th>\n",
       "      <th>Embarked</th>\n",
       "    </tr>\n",
       "  </thead>\n",
       "  <tbody>\n",
       "    <tr>\n",
       "      <th>305</th>\n",
       "      <td>306</td>\n",
       "      <td>1</td>\n",
       "      <td>1</td>\n",
       "      <td>Allison, Master. Hudson Trevor</td>\n",
       "      <td>male</td>\n",
       "      <td>0.92</td>\n",
       "      <td>1</td>\n",
       "      <td>2</td>\n",
       "      <td>113781</td>\n",
       "      <td>151.55</td>\n",
       "      <td>C22 C26</td>\n",
       "      <td>S</td>\n",
       "    </tr>\n",
       "  </tbody>\n",
       "</table>\n",
       "</div>"
      ],
      "text/plain": [
       "     PassengerId  Survived  Pclass                            Name   Sex  \\\n",
       "305          306         1       1  Allison, Master. Hudson Trevor  male   \n",
       "\n",
       "      Age  SibSp  Parch  Ticket    Fare    Cabin Embarked  \n",
       "305  0.92      1      2  113781  151.55  C22 C26        S  "
      ]
     },
     "execution_count": 8,
     "metadata": {},
     "output_type": "execute_result"
    }
   ],
   "source": [
    "df1.sample()"
   ]
  },
  {
   "cell_type": "code",
   "execution_count": 9,
   "id": "25f82f0b",
   "metadata": {},
   "outputs": [
    {
     "data": {
      "text/html": [
       "<div>\n",
       "<style scoped>\n",
       "    .dataframe tbody tr th:only-of-type {\n",
       "        vertical-align: middle;\n",
       "    }\n",
       "\n",
       "    .dataframe tbody tr th {\n",
       "        vertical-align: top;\n",
       "    }\n",
       "\n",
       "    .dataframe thead th {\n",
       "        text-align: right;\n",
       "    }\n",
       "</style>\n",
       "<table border=\"1\" class=\"dataframe\">\n",
       "  <thead>\n",
       "    <tr style=\"text-align: right;\">\n",
       "      <th></th>\n",
       "      <th>PassengerId</th>\n",
       "      <th>Pclass</th>\n",
       "      <th>Name</th>\n",
       "      <th>Sex</th>\n",
       "      <th>Age</th>\n",
       "      <th>SibSp</th>\n",
       "      <th>Parch</th>\n",
       "      <th>Ticket</th>\n",
       "      <th>Fare</th>\n",
       "      <th>Cabin</th>\n",
       "      <th>Embarked</th>\n",
       "    </tr>\n",
       "  </thead>\n",
       "  <tbody>\n",
       "    <tr>\n",
       "      <th>368</th>\n",
       "      <td>1260</td>\n",
       "      <td>1</td>\n",
       "      <td>Gibson, Mrs. Leonard (Pauline C Boeson)</td>\n",
       "      <td>female</td>\n",
       "      <td>45.0</td>\n",
       "      <td>0</td>\n",
       "      <td>1</td>\n",
       "      <td>112378</td>\n",
       "      <td>59.4</td>\n",
       "      <td>NaN</td>\n",
       "      <td>C</td>\n",
       "    </tr>\n",
       "  </tbody>\n",
       "</table>\n",
       "</div>"
      ],
      "text/plain": [
       "     PassengerId  Pclass                                     Name     Sex  \\\n",
       "368         1260       1  Gibson, Mrs. Leonard (Pauline C Boeson)  female   \n",
       "\n",
       "      Age  SibSp  Parch  Ticket  Fare Cabin Embarked  \n",
       "368  45.0      0      1  112378  59.4   NaN        C  "
      ]
     },
     "execution_count": 9,
     "metadata": {},
     "output_type": "execute_result"
    }
   ],
   "source": [
    "df2.sample()"
   ]
  },
  {
   "cell_type": "code",
   "execution_count": 10,
   "id": "092d3261",
   "metadata": {},
   "outputs": [],
   "source": [
    "# survived sutun dan modeli egitmemizi istiyor model\n",
    "# ve olmayan sutunu tahin etmemizi istiyor\n",
    "# ancak bu veri de bir problem var: bazi veriler eksik\n",
    "# eksikleri nasil tamamliyacagiz?\n",
    "# iki seyi birlestiriyoruz"
   ]
  },
  {
   "cell_type": "code",
   "execution_count": 11,
   "id": "7bbf96ac",
   "metadata": {},
   "outputs": [],
   "source": [
    "df=df1.append(df2)"
   ]
  },
  {
   "cell_type": "code",
   "execution_count": 12,
   "id": "23223cc5",
   "metadata": {},
   "outputs": [
    {
     "data": {
      "text/html": [
       "<div>\n",
       "<style scoped>\n",
       "    .dataframe tbody tr th:only-of-type {\n",
       "        vertical-align: middle;\n",
       "    }\n",
       "\n",
       "    .dataframe tbody tr th {\n",
       "        vertical-align: top;\n",
       "    }\n",
       "\n",
       "    .dataframe thead th {\n",
       "        text-align: right;\n",
       "    }\n",
       "</style>\n",
       "<table border=\"1\" class=\"dataframe\">\n",
       "  <thead>\n",
       "    <tr style=\"text-align: right;\">\n",
       "      <th></th>\n",
       "      <th>PassengerId</th>\n",
       "      <th>Survived</th>\n",
       "      <th>Pclass</th>\n",
       "      <th>Name</th>\n",
       "      <th>Sex</th>\n",
       "      <th>Age</th>\n",
       "      <th>SibSp</th>\n",
       "      <th>Parch</th>\n",
       "      <th>Ticket</th>\n",
       "      <th>Fare</th>\n",
       "      <th>Cabin</th>\n",
       "      <th>Embarked</th>\n",
       "    </tr>\n",
       "  </thead>\n",
       "  <tbody>\n",
       "    <tr>\n",
       "      <th>786</th>\n",
       "      <td>787</td>\n",
       "      <td>1.0</td>\n",
       "      <td>3</td>\n",
       "      <td>Sjoblom, Miss. Anna Sofia</td>\n",
       "      <td>female</td>\n",
       "      <td>18.0</td>\n",
       "      <td>0</td>\n",
       "      <td>0</td>\n",
       "      <td>3101265</td>\n",
       "      <td>7.4958</td>\n",
       "      <td>NaN</td>\n",
       "      <td>S</td>\n",
       "    </tr>\n",
       "  </tbody>\n",
       "</table>\n",
       "</div>"
      ],
      "text/plain": [
       "     PassengerId  Survived  Pclass                       Name     Sex   Age  \\\n",
       "786          787       1.0       3  Sjoblom, Miss. Anna Sofia  female  18.0   \n",
       "\n",
       "     SibSp  Parch   Ticket    Fare Cabin Embarked  \n",
       "786      0      0  3101265  7.4958   NaN        S  "
      ]
     },
     "execution_count": 12,
     "metadata": {},
     "output_type": "execute_result"
    }
   ],
   "source": [
    "df.sample()"
   ]
  },
  {
   "cell_type": "code",
   "execution_count": 13,
   "id": "1ff84c1d",
   "metadata": {
    "scrolled": true
   },
   "outputs": [
    {
     "data": {
      "text/plain": [
       "(1309, 12)"
      ]
     },
     "execution_count": 13,
     "metadata": {},
     "output_type": "execute_result"
    }
   ],
   "source": [
    "df.shape"
   ]
  },
  {
   "cell_type": "code",
   "execution_count": 14,
   "id": "35a41c31",
   "metadata": {},
   "outputs": [
    {
     "name": "stdout",
     "output_type": "stream",
     "text": [
      "<class 'pandas.core.frame.DataFrame'>\n",
      "Int64Index: 1309 entries, 0 to 417\n",
      "Data columns (total 12 columns):\n",
      " #   Column       Non-Null Count  Dtype  \n",
      "---  ------       --------------  -----  \n",
      " 0   PassengerId  1309 non-null   int64  \n",
      " 1   Survived     891 non-null    float64\n",
      " 2   Pclass       1309 non-null   int64  \n",
      " 3   Name         1309 non-null   object \n",
      " 4   Sex          1309 non-null   object \n",
      " 5   Age          1046 non-null   float64\n",
      " 6   SibSp        1309 non-null   int64  \n",
      " 7   Parch        1309 non-null   int64  \n",
      " 8   Ticket       1309 non-null   object \n",
      " 9   Fare         1308 non-null   float64\n",
      " 10  Cabin        295 non-null    object \n",
      " 11  Embarked     1307 non-null   object \n",
      "dtypes: float64(3), int64(4), object(5)\n",
      "memory usage: 132.9+ KB\n"
     ]
    }
   ],
   "source": [
    "# bos yeri var mi yok mu? daha önce bos veri nasil doldurulu yapmadik\n",
    "df.info()\n",
    "#pclass 1. sinif mi 2. sinif mi 3. sinif mi\n",
    "#SibSp gemi de kardesi var mi\n",
    "#Parch gemi de ailesi var mi\n",
    "#Fare ödedigi para\n",
    "#embarked handi limandan bindi"
   ]
  },
  {
   "cell_type": "code",
   "execution_count": 15,
   "id": "905e0fc3",
   "metadata": {},
   "outputs": [
    {
     "data": {
      "text/plain": [
       "PassengerId       0\n",
       "Survived        418\n",
       "Pclass            0\n",
       "Name              0\n",
       "Sex               0\n",
       "Age             263\n",
       "SibSp             0\n",
       "Parch             0\n",
       "Ticket            0\n",
       "Fare              1\n",
       "Cabin          1014\n",
       "Embarked          2\n",
       "dtype: int64"
      ]
     },
     "execution_count": 15,
     "metadata": {},
     "output_type": "execute_result"
    }
   ],
   "source": [
    "df.isnull().sum() # 418 hayatta kaldi mi? soru bu, bunu tahmin edecegiz"
   ]
  },
  {
   "cell_type": "code",
   "execution_count": 16,
   "id": "8f18fdbe",
   "metadata": {},
   "outputs": [],
   "source": [
    "# veri adedi (df.shape den bak) 1309/1014 (Cabin eksik aded) = 0,77 - verinin 77% bos\n",
    "# bir sutun da veri 20% den fazlasi bos ise o sutunu silebilirz\n",
    "# istedigimiz sonuca ulasamasak ve o sutuna illa ihtiyac varsa ekleyin"
   ]
  },
  {
   "cell_type": "markdown",
   "id": "117f6f4a",
   "metadata": {},
   "source": [
    "* bos veri doldurmanin 8 farkli yöntemi var\n",
    "* 1 Mean - ortalama\n",
    "* 2 Median - Orta Deger\n",
    "* 3 En Yakin Komsu\n",
    "* 4 Regression\n",
    "* 5 Fforward\n",
    "* 6 Bbackword\n",
    "* 7 En uygun olani ile dolduruyor (all of the above)"
   ]
  },
  {
   "cell_type": "code",
   "execution_count": 17,
   "id": "fb98c36e",
   "metadata": {},
   "outputs": [],
   "source": [
    "# Fare'i doldurmaya baslayalim - rakam oldugu icin mesela mean veya median ile"
   ]
  },
  {
   "cell_type": "code",
   "execution_count": 18,
   "id": "f3ce6136",
   "metadata": {},
   "outputs": [
    {
     "data": {
      "text/plain": [
       "(33.2954792813456, 512.3292, 0.0, 51.75866823917414)"
      ]
     },
     "execution_count": 18,
     "metadata": {},
     "output_type": "execute_result"
    }
   ],
   "source": [
    "df['Fare'].mean(),df['Fare'].max(),df['Fare'].min(),df['Fare'].std()"
   ]
  },
  {
   "cell_type": "code",
   "execution_count": 19,
   "id": "a848d75a",
   "metadata": {},
   "outputs": [],
   "source": [
    "df['Fare']=df['Fare'].fillna(df['Fare'].mean())"
   ]
  },
  {
   "cell_type": "code",
   "execution_count": 20,
   "id": "aeb18c70",
   "metadata": {},
   "outputs": [],
   "source": [
    "import seaborn as sns"
   ]
  },
  {
   "cell_type": "code",
   "execution_count": 21,
   "id": "e73f1948",
   "metadata": {},
   "outputs": [
    {
     "data": {
      "image/png": "[encoded data removed]",
      "text/plain": [
       "<Figure size 432x288 with 1 Axes>"
      ]
     },
     "metadata": {
      "needs_background": "light"
     },
     "output_type": "display_data"
    }
   ],
   "source": [
    "sns.countplot(x=df['Embarked']); # rakam degil yazi, en cok tekrar eden neyse onunla doldurma daha mantikli"
   ]
  },
  {
   "cell_type": "code",
   "execution_count": 22,
   "id": "377da1f4",
   "metadata": {},
   "outputs": [
    {
     "data": {
      "text/plain": [
       "0    S\n",
       "Name: Embarked, dtype: object"
      ]
     },
     "execution_count": 22,
     "metadata": {},
     "output_type": "execute_result"
    }
   ],
   "source": [
    "df[\"Embarked\"].mode() # mode en cok tekrar eden demek"
   ]
  },
  {
   "cell_type": "code",
   "execution_count": 23,
   "id": "644268f5",
   "metadata": {},
   "outputs": [
    {
     "data": {
      "text/plain": [
       "S    0.699311\n",
       "C    0.206580\n",
       "Q    0.094109\n",
       "Name: Embarked, dtype: float64"
      ]
     },
     "execution_count": 23,
     "metadata": {},
     "output_type": "execute_result"
    }
   ],
   "source": [
    "df['Embarked'].value_counts(normalize=True)"
   ]
  },
  {
   "cell_type": "code",
   "execution_count": 24,
   "id": "7a871976",
   "metadata": {},
   "outputs": [],
   "source": [
    "df['Embarked']=df['Embarked'].fillna(df['Embarked'].mode)\n",
    "# veya df['Embarked']=df['Embarked'].fillna(\"S\") - bildigimiz icin"
   ]
  },
  {
   "cell_type": "code",
   "execution_count": 25,
   "id": "e17398f8",
   "metadata": {},
   "outputs": [
    {
     "data": {
      "image/png": "[encoded data removed]",
      "text/plain": [
       "<Figure size 432x288 with 1 Axes>"
      ]
     },
     "metadata": {
      "needs_background": "light"
     },
     "output_type": "display_data"
    }
   ],
   "source": [
    "sns.countplot(x='Embarked',hue='Survived',data=df);"
   ]
  },
  {
   "cell_type": "code",
   "execution_count": 26,
   "id": "e672eef9",
   "metadata": {},
   "outputs": [
    {
     "data": {
      "text/plain": [
       "PassengerId       0\n",
       "Survived        418\n",
       "Pclass            0\n",
       "Name              0\n",
       "Sex               0\n",
       "Age             263\n",
       "SibSp             0\n",
       "Parch             0\n",
       "Ticket            0\n",
       "Fare              0\n",
       "Cabin          1014\n",
       "Embarked          0\n",
       "dtype: int64"
      ]
     },
     "execution_count": 26,
     "metadata": {},
     "output_type": "execute_result"
    }
   ],
   "source": [
    "df.isnull().sum()"
   ]
  },
  {
   "cell_type": "code",
   "execution_count": 27,
   "id": "d6e066a2",
   "metadata": {},
   "outputs": [],
   "source": [
    "# cabin de 20% fazlazi bos diye silecegiz"
   ]
  },
  {
   "cell_type": "code",
   "execution_count": 28,
   "id": "e01e560f",
   "metadata": {},
   "outputs": [],
   "source": [
    "del df['Cabin']\n",
    "#df.drop(['Cabin'],axis=1,inplace=True) - burda 1 den fazla sutun silmek icin 'Cabin', 'Ticket', '..',.."
   ]
  },
  {
   "cell_type": "code",
   "execution_count": 29,
   "id": "cf4b7f37",
   "metadata": {},
   "outputs": [
    {
     "data": {
      "text/plain": [
       "PassengerId      0\n",
       "Survived       418\n",
       "Pclass           0\n",
       "Name             0\n",
       "Sex              0\n",
       "Age            263\n",
       "SibSp            0\n",
       "Parch            0\n",
       "Ticket           0\n",
       "Fare             0\n",
       "Embarked         0\n",
       "dtype: int64"
      ]
     },
     "execution_count": 29,
     "metadata": {},
     "output_type": "execute_result"
    }
   ],
   "source": [
    "df.isnull().sum()"
   ]
  },
  {
   "cell_type": "raw",
   "id": "032a541c",
   "metadata": {},
   "source": [
    "Age - yasi nasil doldurabiliriz?\n",
    "- ortalama\n",
    "- orta deger\n",
    "- o zamanin kültürüne gitmek latzim:\n",
    "    - erkekler daha kücük kizlarla evleniyorlardi\n",
    "    - dolaysiyla evli kadinlari ayirip yas ortalamasi ayri hesap\n",
    "    - cocuklarin yas ortami ayri\n",
    "    - ailesi olani vb..."
   ]
  },
  {
   "cell_type": "code",
   "execution_count": 30,
   "id": "85820f87",
   "metadata": {},
   "outputs": [
    {
     "data": {
      "text/html": [
       "<div>\n",
       "<style scoped>\n",
       "    .dataframe tbody tr th:only-of-type {\n",
       "        vertical-align: middle;\n",
       "    }\n",
       "\n",
       "    .dataframe tbody tr th {\n",
       "        vertical-align: top;\n",
       "    }\n",
       "\n",
       "    .dataframe thead th {\n",
       "        text-align: right;\n",
       "    }\n",
       "</style>\n",
       "<table border=\"1\" class=\"dataframe\">\n",
       "  <thead>\n",
       "    <tr style=\"text-align: right;\">\n",
       "      <th></th>\n",
       "      <th>PassengerId</th>\n",
       "      <th>Survived</th>\n",
       "      <th>Pclass</th>\n",
       "      <th>Name</th>\n",
       "      <th>Sex</th>\n",
       "      <th>Age</th>\n",
       "      <th>SibSp</th>\n",
       "      <th>Parch</th>\n",
       "      <th>Ticket</th>\n",
       "      <th>Fare</th>\n",
       "      <th>Embarked</th>\n",
       "    </tr>\n",
       "  </thead>\n",
       "  <tbody>\n",
       "    <tr>\n",
       "      <th>0</th>\n",
       "      <td>1</td>\n",
       "      <td>0.0</td>\n",
       "      <td>3</td>\n",
       "      <td>Braund, Mr. Owen Harris</td>\n",
       "      <td>male</td>\n",
       "      <td>22.0</td>\n",
       "      <td>1</td>\n",
       "      <td>0</td>\n",
       "      <td>A/5 21171</td>\n",
       "      <td>7.2500</td>\n",
       "      <td>S</td>\n",
       "    </tr>\n",
       "    <tr>\n",
       "      <th>1</th>\n",
       "      <td>2</td>\n",
       "      <td>1.0</td>\n",
       "      <td>1</td>\n",
       "      <td>Cumings, Mrs. John Bradley (Florence Briggs Th...</td>\n",
       "      <td>female</td>\n",
       "      <td>38.0</td>\n",
       "      <td>1</td>\n",
       "      <td>0</td>\n",
       "      <td>PC 17599</td>\n",
       "      <td>71.2833</td>\n",
       "      <td>C</td>\n",
       "    </tr>\n",
       "    <tr>\n",
       "      <th>2</th>\n",
       "      <td>3</td>\n",
       "      <td>1.0</td>\n",
       "      <td>3</td>\n",
       "      <td>Heikkinen, Miss. Laina</td>\n",
       "      <td>female</td>\n",
       "      <td>26.0</td>\n",
       "      <td>0</td>\n",
       "      <td>0</td>\n",
       "      <td>STON/O2. 3101282</td>\n",
       "      <td>7.9250</td>\n",
       "      <td>S</td>\n",
       "    </tr>\n",
       "    <tr>\n",
       "      <th>3</th>\n",
       "      <td>4</td>\n",
       "      <td>1.0</td>\n",
       "      <td>1</td>\n",
       "      <td>Futrelle, Mrs. Jacques Heath (Lily May Peel)</td>\n",
       "      <td>female</td>\n",
       "      <td>35.0</td>\n",
       "      <td>1</td>\n",
       "      <td>0</td>\n",
       "      <td>113803</td>\n",
       "      <td>53.1000</td>\n",
       "      <td>S</td>\n",
       "    </tr>\n",
       "    <tr>\n",
       "      <th>4</th>\n",
       "      <td>5</td>\n",
       "      <td>0.0</td>\n",
       "      <td>3</td>\n",
       "      <td>Allen, Mr. William Henry</td>\n",
       "      <td>male</td>\n",
       "      <td>35.0</td>\n",
       "      <td>0</td>\n",
       "      <td>0</td>\n",
       "      <td>373450</td>\n",
       "      <td>8.0500</td>\n",
       "      <td>S</td>\n",
       "    </tr>\n",
       "  </tbody>\n",
       "</table>\n",
       "</div>"
      ],
      "text/plain": [
       "   PassengerId  Survived  Pclass  \\\n",
       "0            1       0.0       3   \n",
       "1            2       1.0       1   \n",
       "2            3       1.0       3   \n",
       "3            4       1.0       1   \n",
       "4            5       0.0       3   \n",
       "\n",
       "                                                Name     Sex   Age  SibSp  \\\n",
       "0                            Braund, Mr. Owen Harris    male  22.0      1   \n",
       "1  Cumings, Mrs. John Bradley (Florence Briggs Th...  female  38.0      1   \n",
       "2                             Heikkinen, Miss. Laina  female  26.0      0   \n",
       "3       Futrelle, Mrs. Jacques Heath (Lily May Peel)  female  35.0      1   \n",
       "4                           Allen, Mr. William Henry    male  35.0      0   \n",
       "\n",
       "   Parch            Ticket     Fare Embarked  \n",
       "0      0         A/5 21171   7.2500        S  \n",
       "1      0          PC 17599  71.2833        C  \n",
       "2      0  STON/O2. 3101282   7.9250        S  \n",
       "3      0            113803  53.1000        S  \n",
       "4      0            373450   8.0500        S  "
      ]
     },
     "execution_count": 30,
     "metadata": {},
     "output_type": "execute_result"
    }
   ],
   "source": [
    "df.head()"
   ]
  },
  {
   "cell_type": "code",
   "execution_count": 31,
   "id": "1ecc0c6c",
   "metadata": {},
   "outputs": [
    {
     "data": {
      "text/html": [
       "<div>\n",
       "<style scoped>\n",
       "    .dataframe tbody tr th:only-of-type {\n",
       "        vertical-align: middle;\n",
       "    }\n",
       "\n",
       "    .dataframe tbody tr th {\n",
       "        vertical-align: top;\n",
       "    }\n",
       "\n",
       "    .dataframe thead th {\n",
       "        text-align: right;\n",
       "    }\n",
       "</style>\n",
       "<table border=\"1\" class=\"dataframe\">\n",
       "  <thead>\n",
       "    <tr style=\"text-align: right;\">\n",
       "      <th></th>\n",
       "      <th>PassengerId</th>\n",
       "      <th>Survived</th>\n",
       "      <th>Pclass</th>\n",
       "      <th>Name</th>\n",
       "      <th>Sex</th>\n",
       "      <th>Age</th>\n",
       "      <th>SibSp</th>\n",
       "      <th>Parch</th>\n",
       "      <th>Ticket</th>\n",
       "      <th>Fare</th>\n",
       "      <th>Embarked</th>\n",
       "    </tr>\n",
       "  </thead>\n",
       "  <tbody>\n",
       "    <tr>\n",
       "      <th>304</th>\n",
       "      <td>305</td>\n",
       "      <td>0.0</td>\n",
       "      <td>3</td>\n",
       "      <td>Williams, Mr. Howard Hugh \"Harry\"</td>\n",
       "      <td>male</td>\n",
       "      <td>NaN</td>\n",
       "      <td>0</td>\n",
       "      <td>0</td>\n",
       "      <td>A/5 2466</td>\n",
       "      <td>8.0500</td>\n",
       "      <td>S</td>\n",
       "    </tr>\n",
       "    <tr>\n",
       "      <th>165</th>\n",
       "      <td>1057</td>\n",
       "      <td>NaN</td>\n",
       "      <td>3</td>\n",
       "      <td>Kink-Heilmann, Mrs. Anton (Luise Heilmann)</td>\n",
       "      <td>female</td>\n",
       "      <td>26.0</td>\n",
       "      <td>1</td>\n",
       "      <td>1</td>\n",
       "      <td>315153</td>\n",
       "      <td>22.0250</td>\n",
       "      <td>S</td>\n",
       "    </tr>\n",
       "    <tr>\n",
       "      <th>236</th>\n",
       "      <td>237</td>\n",
       "      <td>0.0</td>\n",
       "      <td>2</td>\n",
       "      <td>Hold, Mr. Stephen</td>\n",
       "      <td>male</td>\n",
       "      <td>44.0</td>\n",
       "      <td>1</td>\n",
       "      <td>0</td>\n",
       "      <td>26707</td>\n",
       "      <td>26.0000</td>\n",
       "      <td>S</td>\n",
       "    </tr>\n",
       "    <tr>\n",
       "      <th>708</th>\n",
       "      <td>709</td>\n",
       "      <td>1.0</td>\n",
       "      <td>1</td>\n",
       "      <td>Cleaver, Miss. Alice</td>\n",
       "      <td>female</td>\n",
       "      <td>22.0</td>\n",
       "      <td>0</td>\n",
       "      <td>0</td>\n",
       "      <td>113781</td>\n",
       "      <td>151.5500</td>\n",
       "      <td>S</td>\n",
       "    </tr>\n",
       "    <tr>\n",
       "      <th>529</th>\n",
       "      <td>530</td>\n",
       "      <td>0.0</td>\n",
       "      <td>2</td>\n",
       "      <td>Hocking, Mr. Richard George</td>\n",
       "      <td>male</td>\n",
       "      <td>23.0</td>\n",
       "      <td>2</td>\n",
       "      <td>1</td>\n",
       "      <td>29104</td>\n",
       "      <td>11.5000</td>\n",
       "      <td>S</td>\n",
       "    </tr>\n",
       "    <tr>\n",
       "      <th>285</th>\n",
       "      <td>286</td>\n",
       "      <td>0.0</td>\n",
       "      <td>3</td>\n",
       "      <td>Stankovic, Mr. Ivan</td>\n",
       "      <td>male</td>\n",
       "      <td>33.0</td>\n",
       "      <td>0</td>\n",
       "      <td>0</td>\n",
       "      <td>349239</td>\n",
       "      <td>8.6625</td>\n",
       "      <td>C</td>\n",
       "    </tr>\n",
       "    <tr>\n",
       "      <th>293</th>\n",
       "      <td>294</td>\n",
       "      <td>0.0</td>\n",
       "      <td>3</td>\n",
       "      <td>Haas, Miss. Aloisia</td>\n",
       "      <td>female</td>\n",
       "      <td>24.0</td>\n",
       "      <td>0</td>\n",
       "      <td>0</td>\n",
       "      <td>349236</td>\n",
       "      <td>8.8500</td>\n",
       "      <td>S</td>\n",
       "    </tr>\n",
       "    <tr>\n",
       "      <th>108</th>\n",
       "      <td>109</td>\n",
       "      <td>0.0</td>\n",
       "      <td>3</td>\n",
       "      <td>Rekic, Mr. Tido</td>\n",
       "      <td>male</td>\n",
       "      <td>38.0</td>\n",
       "      <td>0</td>\n",
       "      <td>0</td>\n",
       "      <td>349249</td>\n",
       "      <td>7.8958</td>\n",
       "      <td>S</td>\n",
       "    </tr>\n",
       "    <tr>\n",
       "      <th>336</th>\n",
       "      <td>1228</td>\n",
       "      <td>NaN</td>\n",
       "      <td>2</td>\n",
       "      <td>de Brito, Mr. Jose Joaquim</td>\n",
       "      <td>male</td>\n",
       "      <td>32.0</td>\n",
       "      <td>0</td>\n",
       "      <td>0</td>\n",
       "      <td>244360</td>\n",
       "      <td>13.0000</td>\n",
       "      <td>S</td>\n",
       "    </tr>\n",
       "    <tr>\n",
       "      <th>228</th>\n",
       "      <td>229</td>\n",
       "      <td>0.0</td>\n",
       "      <td>2</td>\n",
       "      <td>Fahlstrom, Mr. Arne Jonas</td>\n",
       "      <td>male</td>\n",
       "      <td>18.0</td>\n",
       "      <td>0</td>\n",
       "      <td>0</td>\n",
       "      <td>236171</td>\n",
       "      <td>13.0000</td>\n",
       "      <td>S</td>\n",
       "    </tr>\n",
       "  </tbody>\n",
       "</table>\n",
       "</div>"
      ],
      "text/plain": [
       "     PassengerId  Survived  Pclass  \\\n",
       "304          305       0.0       3   \n",
       "165         1057       NaN       3   \n",
       "236          237       0.0       2   \n",
       "708          709       1.0       1   \n",
       "529          530       0.0       2   \n",
       "285          286       0.0       3   \n",
       "293          294       0.0       3   \n",
       "108          109       0.0       3   \n",
       "336         1228       NaN       2   \n",
       "228          229       0.0       2   \n",
       "\n",
       "                                           Name     Sex   Age  SibSp  Parch  \\\n",
       "304           Williams, Mr. Howard Hugh \"Harry\"    male   NaN      0      0   \n",
       "165  Kink-Heilmann, Mrs. Anton (Luise Heilmann)  female  26.0      1      1   \n",
       "236                           Hold, Mr. Stephen    male  44.0      1      0   \n",
       "708                        Cleaver, Miss. Alice  female  22.0      0      0   \n",
       "529                 Hocking, Mr. Richard George    male  23.0      2      1   \n",
       "285                         Stankovic, Mr. Ivan    male  33.0      0      0   \n",
       "293                         Haas, Miss. Aloisia  female  24.0      0      0   \n",
       "108                             Rekic, Mr. Tido    male  38.0      0      0   \n",
       "336                  de Brito, Mr. Jose Joaquim    male  32.0      0      0   \n",
       "228                   Fahlstrom, Mr. Arne Jonas    male  18.0      0      0   \n",
       "\n",
       "       Ticket      Fare Embarked  \n",
       "304  A/5 2466    8.0500        S  \n",
       "165    315153   22.0250        S  \n",
       "236     26707   26.0000        S  \n",
       "708    113781  151.5500        S  \n",
       "529     29104   11.5000        S  \n",
       "285    349239    8.6625        C  \n",
       "293    349236    8.8500        S  \n",
       "108    349249    7.8958        S  \n",
       "336    244360   13.0000        S  \n",
       "228    236171   13.0000        S  "
      ]
     },
     "execution_count": 31,
     "metadata": {},
     "output_type": "execute_result"
    }
   ],
   "source": [
    "df.sample(10)"
   ]
  },
  {
   "cell_type": "raw",
   "id": "d267c8a6",
   "metadata": {},
   "source": [
    "# isimlerde ünvanlar var, mesela miss, mr., mrs., Master...\n",
    "Johnson, Mr. Malkolm Joackim - misal\n",
    "# bunu bulmak icin ilk boslugu bulup, virgülden sonra ilk boslugu atla ve noktaya kadar kismi al"
   ]
  },
  {
   "cell_type": "code",
   "execution_count": 32,
   "id": "1d0f92b5",
   "metadata": {},
   "outputs": [],
   "source": [
    "#Feature Engineering"
   ]
  },
  {
   "cell_type": "code",
   "execution_count": 33,
   "id": "0d1e4b04",
   "metadata": {},
   "outputs": [],
   "source": [
    "#ünvan sutun ilave ediyoruz\n",
    "        #df name icinde   cikart , boslugu ve noktada dur\n",
    "df['Title']=df['Name'].str.extract(' ([A-Za-z]+)\\.', expand=False) "
   ]
  },
  {
   "cell_type": "code",
   "execution_count": 34,
   "id": "40f27ba9",
   "metadata": {},
   "outputs": [
    {
     "data": {
      "text/html": [
       "<div>\n",
       "<style scoped>\n",
       "    .dataframe tbody tr th:only-of-type {\n",
       "        vertical-align: middle;\n",
       "    }\n",
       "\n",
       "    .dataframe tbody tr th {\n",
       "        vertical-align: top;\n",
       "    }\n",
       "\n",
       "    .dataframe thead th {\n",
       "        text-align: right;\n",
       "    }\n",
       "</style>\n",
       "<table border=\"1\" class=\"dataframe\">\n",
       "  <thead>\n",
       "    <tr style=\"text-align: right;\">\n",
       "      <th></th>\n",
       "      <th>PassengerId</th>\n",
       "      <th>Survived</th>\n",
       "      <th>Pclass</th>\n",
       "      <th>Name</th>\n",
       "      <th>Sex</th>\n",
       "      <th>Age</th>\n",
       "      <th>SibSp</th>\n",
       "      <th>Parch</th>\n",
       "      <th>Ticket</th>\n",
       "      <th>Fare</th>\n",
       "      <th>Embarked</th>\n",
       "      <th>Title</th>\n",
       "    </tr>\n",
       "  </thead>\n",
       "  <tbody>\n",
       "    <tr>\n",
       "      <th>0</th>\n",
       "      <td>1</td>\n",
       "      <td>0.0</td>\n",
       "      <td>3</td>\n",
       "      <td>Braund, Mr. Owen Harris</td>\n",
       "      <td>male</td>\n",
       "      <td>22.0</td>\n",
       "      <td>1</td>\n",
       "      <td>0</td>\n",
       "      <td>A/5 21171</td>\n",
       "      <td>7.2500</td>\n",
       "      <td>S</td>\n",
       "      <td>Mr</td>\n",
       "    </tr>\n",
       "    <tr>\n",
       "      <th>1</th>\n",
       "      <td>2</td>\n",
       "      <td>1.0</td>\n",
       "      <td>1</td>\n",
       "      <td>Cumings, Mrs. John Bradley (Florence Briggs Th...</td>\n",
       "      <td>female</td>\n",
       "      <td>38.0</td>\n",
       "      <td>1</td>\n",
       "      <td>0</td>\n",
       "      <td>PC 17599</td>\n",
       "      <td>71.2833</td>\n",
       "      <td>C</td>\n",
       "      <td>Mrs</td>\n",
       "    </tr>\n",
       "    <tr>\n",
       "      <th>2</th>\n",
       "      <td>3</td>\n",
       "      <td>1.0</td>\n",
       "      <td>3</td>\n",
       "      <td>Heikkinen, Miss. Laina</td>\n",
       "      <td>female</td>\n",
       "      <td>26.0</td>\n",
       "      <td>0</td>\n",
       "      <td>0</td>\n",
       "      <td>STON/O2. 3101282</td>\n",
       "      <td>7.9250</td>\n",
       "      <td>S</td>\n",
       "      <td>Miss</td>\n",
       "    </tr>\n",
       "    <tr>\n",
       "      <th>3</th>\n",
       "      <td>4</td>\n",
       "      <td>1.0</td>\n",
       "      <td>1</td>\n",
       "      <td>Futrelle, Mrs. Jacques Heath (Lily May Peel)</td>\n",
       "      <td>female</td>\n",
       "      <td>35.0</td>\n",
       "      <td>1</td>\n",
       "      <td>0</td>\n",
       "      <td>113803</td>\n",
       "      <td>53.1000</td>\n",
       "      <td>S</td>\n",
       "      <td>Mrs</td>\n",
       "    </tr>\n",
       "    <tr>\n",
       "      <th>4</th>\n",
       "      <td>5</td>\n",
       "      <td>0.0</td>\n",
       "      <td>3</td>\n",
       "      <td>Allen, Mr. William Henry</td>\n",
       "      <td>male</td>\n",
       "      <td>35.0</td>\n",
       "      <td>0</td>\n",
       "      <td>0</td>\n",
       "      <td>373450</td>\n",
       "      <td>8.0500</td>\n",
       "      <td>S</td>\n",
       "      <td>Mr</td>\n",
       "    </tr>\n",
       "  </tbody>\n",
       "</table>\n",
       "</div>"
      ],
      "text/plain": [
       "   PassengerId  Survived  Pclass  \\\n",
       "0            1       0.0       3   \n",
       "1            2       1.0       1   \n",
       "2            3       1.0       3   \n",
       "3            4       1.0       1   \n",
       "4            5       0.0       3   \n",
       "\n",
       "                                                Name     Sex   Age  SibSp  \\\n",
       "0                            Braund, Mr. Owen Harris    male  22.0      1   \n",
       "1  Cumings, Mrs. John Bradley (Florence Briggs Th...  female  38.0      1   \n",
       "2                             Heikkinen, Miss. Laina  female  26.0      0   \n",
       "3       Futrelle, Mrs. Jacques Heath (Lily May Peel)  female  35.0      1   \n",
       "4                           Allen, Mr. William Henry    male  35.0      0   \n",
       "\n",
       "   Parch            Ticket     Fare Embarked Title  \n",
       "0      0         A/5 21171   7.2500        S    Mr  \n",
       "1      0          PC 17599  71.2833        C   Mrs  \n",
       "2      0  STON/O2. 3101282   7.9250        S  Miss  \n",
       "3      0            113803  53.1000        S   Mrs  \n",
       "4      0            373450   8.0500        S    Mr  "
      ]
     },
     "execution_count": 34,
     "metadata": {},
     "output_type": "execute_result"
    }
   ],
   "source": [
    "df.head()"
   ]
  },
  {
   "cell_type": "code",
   "execution_count": 35,
   "id": "d81b31e2",
   "metadata": {},
   "outputs": [],
   "source": [
    "del df['Name'] #Title var diye Name sutun cikabilir"
   ]
  },
  {
   "cell_type": "code",
   "execution_count": 36,
   "id": "40a6dba5",
   "metadata": {},
   "outputs": [
    {
     "data": {
      "text/plain": [
       "array(['Mr', 'Mrs', 'Miss', 'Master', 'Don', 'Rev', 'Dr', 'Mme', 'Ms',\n",
       "       'Major', 'Lady', 'Sir', 'Mlle', 'Col', 'Capt', 'Countess',\n",
       "       'Jonkheer', 'Dona'], dtype=object)"
      ]
     },
     "execution_count": 36,
     "metadata": {},
     "output_type": "execute_result"
    }
   ],
   "source": [
    "df['Title'].unique() # Title'in icinde neler var"
   ]
  },
  {
   "cell_type": "code",
   "execution_count": 37,
   "id": "3ae2ef35",
   "metadata": {},
   "outputs": [
    {
     "data": {
      "text/plain": [
       "Mr          757\n",
       "Miss        260\n",
       "Mrs         197\n",
       "Master       61\n",
       "Rev           8\n",
       "Dr            8\n",
       "Col           4\n",
       "Mlle          2\n",
       "Major         2\n",
       "Ms            2\n",
       "Lady          1\n",
       "Sir           1\n",
       "Mme           1\n",
       "Don           1\n",
       "Capt          1\n",
       "Countess      1\n",
       "Jonkheer      1\n",
       "Dona          1\n",
       "Name: Title, dtype: int64"
      ]
     },
     "execution_count": 37,
     "metadata": {},
     "output_type": "execute_result"
    }
   ],
   "source": [
    "df['Title'].value_counts()"
   ]
  },
  {
   "cell_type": "code",
   "execution_count": 38,
   "id": "6f985e8b",
   "metadata": {},
   "outputs": [
    {
     "data": {
      "image/png": "[encoded data removed]",
      "text/plain": [
       "<Figure size 432x288 with 1 Axes>"
      ]
     },
     "metadata": {
      "needs_background": "light"
     },
     "output_type": "display_data"
    }
   ],
   "source": [
    "sns.countplot(x=df['Title']);"
   ]
  },
  {
   "cell_type": "code",
   "execution_count": 39,
   "id": "01e3eb1e",
   "metadata": {},
   "outputs": [
    {
     "data": {
      "text/plain": [
       "male      843\n",
       "female    466\n",
       "Name: Sex, dtype: int64"
      ]
     },
     "execution_count": 39,
     "metadata": {},
     "output_type": "execute_result"
    }
   ],
   "source": [
    "df['Sex'].value_counts()"
   ]
  },
  {
   "cell_type": "code",
   "execution_count": 40,
   "id": "9f71c2ba",
   "metadata": {},
   "outputs": [],
   "source": [
    "# 1 rakamlilari Mr. gibi seyler ekleyebiliriz, nasil yapacagiz?\n",
    "#replace(neleri degis, nelerle degis)\n",
    "df[\"Title\"]=df[\"Title\"].replace([\"Ms\",\"Mlle\"],\"Miss\")\n",
    "df[\"Title\"]=df[\"Title\"].replace([\"Mme\",\"Countess\",\"Lady\",\"Dona\"],\"Mrs\")\n",
    "df[\"Title\"]=df[\"Title\"].replace([\"Rev\",\"Jonkheer\",\"Don\",\"Sir\",\"Major\",\"Dr\",\"Capt\",\"Col\"],\"Mr\")"
   ]
  },
  {
   "cell_type": "code",
   "execution_count": 41,
   "id": "ffb3b5e7",
   "metadata": {
    "scrolled": true
   },
   "outputs": [
    {
     "data": {
      "text/plain": [
       "Mr        783\n",
       "Miss      264\n",
       "Mrs       201\n",
       "Master     61\n",
       "Name: Title, dtype: int64"
      ]
     },
     "execution_count": 41,
     "metadata": {},
     "output_type": "execute_result"
    }
   ],
   "source": [
    "df['Title'].value_counts()"
   ]
  },
  {
   "cell_type": "code",
   "execution_count": 42,
   "id": "b52ed38c",
   "metadata": {},
   "outputs": [
    {
     "data": {
      "text/plain": [
       "count    1046.000000\n",
       "mean       29.881138\n",
       "std        14.413493\n",
       "min         0.170000\n",
       "25%        21.000000\n",
       "50%        28.000000\n",
       "75%        39.000000\n",
       "max        80.000000\n",
       "Name: Age, dtype: float64"
      ]
     },
     "execution_count": 42,
     "metadata": {},
     "output_type": "execute_result"
    }
   ],
   "source": [
    "df.Age.describe()"
   ]
  },
  {
   "cell_type": "code",
   "execution_count": 43,
   "id": "65c1a998",
   "metadata": {},
   "outputs": [],
   "source": [
    "# Kadinlarin ve Erkleklerin yas ortalamarini bulalim"
   ]
  },
  {
   "cell_type": "code",
   "execution_count": 44,
   "id": "c069e887",
   "metadata": {},
   "outputs": [
    {
     "data": {
      "text/plain": [
       "Sex\n",
       "female    28.687088\n",
       "male      30.585228\n",
       "Name: Age, dtype: float64"
      ]
     },
     "execution_count": 44,
     "metadata": {},
     "output_type": "execute_result"
    }
   ],
   "source": [
    "# hangi gruplara göre topla?\n",
    "# \"Sex\", cinsiyete göre topla, yasini bul, yasin ortalamasini al\n",
    "df.groupby(\"Sex\")[\"Age\"].mean()"
   ]
  },
  {
   "cell_type": "code",
   "execution_count": 45,
   "id": "3369b99f",
   "metadata": {},
   "outputs": [
    {
     "data": {
      "text/plain": [
       "9.101753246753248"
      ]
     },
     "execution_count": 45,
     "metadata": {},
     "output_type": "execute_result"
    }
   ],
   "source": [
    "df[df['Age']<18][\"Age\"].mean() # 18 yas altindakilerin ortalamasi"
   ]
  },
  {
   "cell_type": "raw",
   "id": "359855d0",
   "metadata": {},
   "source": [
    "Age'in yeni degeri, df Age'in eski yerindeki bosluklari doldur\n",
    "groupby nasil, neye göre groupby\n",
    "Mr. larin yas ortalamasini ayri hesapla, Mr. larin boslarini onunla doldur,\n",
    "aynisi Miss, Mrs, Master icin"
   ]
  },
  {
   "cell_type": "code",
   "execution_count": 46,
   "id": "27aca6bf",
   "metadata": {},
   "outputs": [],
   "source": [
    "            # Title'in icinden Age'i al, Age'in orta degeri ile doldur\n",
    "df[\"Age\"]=df[\"Age\"].fillna(df.groupby(\"Title\")[\"Age\"].transform(\"median\"))"
   ]
  },
  {
   "cell_type": "code",
   "execution_count": 47,
   "id": "6d514d85",
   "metadata": {},
   "outputs": [
    {
     "data": {
      "text/plain": [
       "PassengerId      0\n",
       "Survived       418\n",
       "Pclass           0\n",
       "Sex              0\n",
       "Age              0\n",
       "SibSp            0\n",
       "Parch            0\n",
       "Ticket           0\n",
       "Fare             0\n",
       "Embarked         0\n",
       "Title            0\n",
       "dtype: int64"
      ]
     },
     "execution_count": 47,
     "metadata": {},
     "output_type": "execute_result"
    }
   ],
   "source": [
    "df.isnull().sum() # artik bütün verilerimiz dolu. bos olan yok\n",
    "#sadece tahmin etmemiz gereken 418 var"
   ]
  },
  {
   "cell_type": "code",
   "execution_count": 48,
   "id": "ee74974a",
   "metadata": {},
   "outputs": [],
   "source": [
    "# bir de aile sayisi cok önemli - yine Feature Engineering"
   ]
  },
  {
   "cell_type": "code",
   "execution_count": 49,
   "id": "d8d947cf",
   "metadata": {},
   "outputs": [],
   "source": [
    "# gemideki kardes sayisini aliyoruz\n",
    "# kardesleri + ailesi + 1(Kendisi) = Ailesinin büyüklügü\n",
    "df[\"Family\"]=df[\"SibSp\"]+df[\"Parch\"]+1\n",
    "#aile olmasi hayatta kalmasi riskini arttiriyor"
   ]
  },
  {
   "cell_type": "code",
   "execution_count": 50,
   "id": "d9580061",
   "metadata": {},
   "outputs": [
    {
     "data": {
      "text/html": [
       "<div>\n",
       "<style scoped>\n",
       "    .dataframe tbody tr th:only-of-type {\n",
       "        vertical-align: middle;\n",
       "    }\n",
       "\n",
       "    .dataframe tbody tr th {\n",
       "        vertical-align: top;\n",
       "    }\n",
       "\n",
       "    .dataframe thead th {\n",
       "        text-align: right;\n",
       "    }\n",
       "</style>\n",
       "<table border=\"1\" class=\"dataframe\">\n",
       "  <thead>\n",
       "    <tr style=\"text-align: right;\">\n",
       "      <th></th>\n",
       "      <th>PassengerId</th>\n",
       "      <th>Survived</th>\n",
       "      <th>Pclass</th>\n",
       "      <th>Sex</th>\n",
       "      <th>Age</th>\n",
       "      <th>SibSp</th>\n",
       "      <th>Parch</th>\n",
       "      <th>Ticket</th>\n",
       "      <th>Fare</th>\n",
       "      <th>Embarked</th>\n",
       "      <th>Title</th>\n",
       "      <th>Family</th>\n",
       "    </tr>\n",
       "  </thead>\n",
       "  <tbody>\n",
       "    <tr>\n",
       "      <th>0</th>\n",
       "      <td>1</td>\n",
       "      <td>0.0</td>\n",
       "      <td>3</td>\n",
       "      <td>male</td>\n",
       "      <td>22.0</td>\n",
       "      <td>1</td>\n",
       "      <td>0</td>\n",
       "      <td>A/5 21171</td>\n",
       "      <td>7.2500</td>\n",
       "      <td>S</td>\n",
       "      <td>Mr</td>\n",
       "      <td>2</td>\n",
       "    </tr>\n",
       "    <tr>\n",
       "      <th>1</th>\n",
       "      <td>2</td>\n",
       "      <td>1.0</td>\n",
       "      <td>1</td>\n",
       "      <td>female</td>\n",
       "      <td>38.0</td>\n",
       "      <td>1</td>\n",
       "      <td>0</td>\n",
       "      <td>PC 17599</td>\n",
       "      <td>71.2833</td>\n",
       "      <td>C</td>\n",
       "      <td>Mrs</td>\n",
       "      <td>2</td>\n",
       "    </tr>\n",
       "    <tr>\n",
       "      <th>2</th>\n",
       "      <td>3</td>\n",
       "      <td>1.0</td>\n",
       "      <td>3</td>\n",
       "      <td>female</td>\n",
       "      <td>26.0</td>\n",
       "      <td>0</td>\n",
       "      <td>0</td>\n",
       "      <td>STON/O2. 3101282</td>\n",
       "      <td>7.9250</td>\n",
       "      <td>S</td>\n",
       "      <td>Miss</td>\n",
       "      <td>1</td>\n",
       "    </tr>\n",
       "    <tr>\n",
       "      <th>3</th>\n",
       "      <td>4</td>\n",
       "      <td>1.0</td>\n",
       "      <td>1</td>\n",
       "      <td>female</td>\n",
       "      <td>35.0</td>\n",
       "      <td>1</td>\n",
       "      <td>0</td>\n",
       "      <td>113803</td>\n",
       "      <td>53.1000</td>\n",
       "      <td>S</td>\n",
       "      <td>Mrs</td>\n",
       "      <td>2</td>\n",
       "    </tr>\n",
       "    <tr>\n",
       "      <th>4</th>\n",
       "      <td>5</td>\n",
       "      <td>0.0</td>\n",
       "      <td>3</td>\n",
       "      <td>male</td>\n",
       "      <td>35.0</td>\n",
       "      <td>0</td>\n",
       "      <td>0</td>\n",
       "      <td>373450</td>\n",
       "      <td>8.0500</td>\n",
       "      <td>S</td>\n",
       "      <td>Mr</td>\n",
       "      <td>1</td>\n",
       "    </tr>\n",
       "  </tbody>\n",
       "</table>\n",
       "</div>"
      ],
      "text/plain": [
       "   PassengerId  Survived  Pclass     Sex   Age  SibSp  Parch  \\\n",
       "0            1       0.0       3    male  22.0      1      0   \n",
       "1            2       1.0       1  female  38.0      1      0   \n",
       "2            3       1.0       3  female  26.0      0      0   \n",
       "3            4       1.0       1  female  35.0      1      0   \n",
       "4            5       0.0       3    male  35.0      0      0   \n",
       "\n",
       "             Ticket     Fare Embarked Title  Family  \n",
       "0         A/5 21171   7.2500        S    Mr       2  \n",
       "1          PC 17599  71.2833        C   Mrs       2  \n",
       "2  STON/O2. 3101282   7.9250        S  Miss       1  \n",
       "3            113803  53.1000        S   Mrs       2  \n",
       "4            373450   8.0500        S    Mr       1  "
      ]
     },
     "execution_count": 50,
     "metadata": {},
     "output_type": "execute_result"
    }
   ],
   "source": [
    "df.head()"
   ]
  },
  {
   "cell_type": "code",
   "execution_count": 51,
   "id": "c6e76457",
   "metadata": {},
   "outputs": [],
   "source": [
    "# verilerde Passenger-Id'nin bir önemin olmadigini düsünüyoruz, Ticket de ayni\n",
    "# lakin bir fark edecekse bir ilave ederek bakriz bir de silerek sonra mesela ilave ederek daha iyi oran cikti diye yazariz"
   ]
  },
  {
   "cell_type": "code",
   "execution_count": 52,
   "id": "f09303fd",
   "metadata": {},
   "outputs": [],
   "source": [
    "# inplace=True df'ye yeni esitleme gerekmiyor yani bu aslinda df=df.drop...\n",
    "df.drop([\"PassengerId\",\"Ticket\"],axis=1,inplace=True)"
   ]
  },
  {
   "cell_type": "code",
   "execution_count": 53,
   "id": "b383d71b",
   "metadata": {},
   "outputs": [
    {
     "data": {
      "text/html": [
       "<div>\n",
       "<style scoped>\n",
       "    .dataframe tbody tr th:only-of-type {\n",
       "        vertical-align: middle;\n",
       "    }\n",
       "\n",
       "    .dataframe tbody tr th {\n",
       "        vertical-align: top;\n",
       "    }\n",
       "\n",
       "    .dataframe thead th {\n",
       "        text-align: right;\n",
       "    }\n",
       "</style>\n",
       "<table border=\"1\" class=\"dataframe\">\n",
       "  <thead>\n",
       "    <tr style=\"text-align: right;\">\n",
       "      <th></th>\n",
       "      <th>Survived</th>\n",
       "      <th>Pclass</th>\n",
       "      <th>Sex</th>\n",
       "      <th>Age</th>\n",
       "      <th>SibSp</th>\n",
       "      <th>Parch</th>\n",
       "      <th>Fare</th>\n",
       "      <th>Embarked</th>\n",
       "      <th>Title</th>\n",
       "      <th>Family</th>\n",
       "    </tr>\n",
       "  </thead>\n",
       "  <tbody>\n",
       "    <tr>\n",
       "      <th>0</th>\n",
       "      <td>0.0</td>\n",
       "      <td>3</td>\n",
       "      <td>male</td>\n",
       "      <td>22.0</td>\n",
       "      <td>1</td>\n",
       "      <td>0</td>\n",
       "      <td>7.2500</td>\n",
       "      <td>S</td>\n",
       "      <td>Mr</td>\n",
       "      <td>2</td>\n",
       "    </tr>\n",
       "    <tr>\n",
       "      <th>1</th>\n",
       "      <td>1.0</td>\n",
       "      <td>1</td>\n",
       "      <td>female</td>\n",
       "      <td>38.0</td>\n",
       "      <td>1</td>\n",
       "      <td>0</td>\n",
       "      <td>71.2833</td>\n",
       "      <td>C</td>\n",
       "      <td>Mrs</td>\n",
       "      <td>2</td>\n",
       "    </tr>\n",
       "    <tr>\n",
       "      <th>2</th>\n",
       "      <td>1.0</td>\n",
       "      <td>3</td>\n",
       "      <td>female</td>\n",
       "      <td>26.0</td>\n",
       "      <td>0</td>\n",
       "      <td>0</td>\n",
       "      <td>7.9250</td>\n",
       "      <td>S</td>\n",
       "      <td>Miss</td>\n",
       "      <td>1</td>\n",
       "    </tr>\n",
       "    <tr>\n",
       "      <th>3</th>\n",
       "      <td>1.0</td>\n",
       "      <td>1</td>\n",
       "      <td>female</td>\n",
       "      <td>35.0</td>\n",
       "      <td>1</td>\n",
       "      <td>0</td>\n",
       "      <td>53.1000</td>\n",
       "      <td>S</td>\n",
       "      <td>Mrs</td>\n",
       "      <td>2</td>\n",
       "    </tr>\n",
       "    <tr>\n",
       "      <th>4</th>\n",
       "      <td>0.0</td>\n",
       "      <td>3</td>\n",
       "      <td>male</td>\n",
       "      <td>35.0</td>\n",
       "      <td>0</td>\n",
       "      <td>0</td>\n",
       "      <td>8.0500</td>\n",
       "      <td>S</td>\n",
       "      <td>Mr</td>\n",
       "      <td>1</td>\n",
       "    </tr>\n",
       "  </tbody>\n",
       "</table>\n",
       "</div>"
      ],
      "text/plain": [
       "   Survived  Pclass     Sex   Age  SibSp  Parch     Fare Embarked Title  \\\n",
       "0       0.0       3    male  22.0      1      0   7.2500        S    Mr   \n",
       "1       1.0       1  female  38.0      1      0  71.2833        C   Mrs   \n",
       "2       1.0       3  female  26.0      0      0   7.9250        S  Miss   \n",
       "3       1.0       1  female  35.0      1      0  53.1000        S   Mrs   \n",
       "4       0.0       3    male  35.0      0      0   8.0500        S    Mr   \n",
       "\n",
       "   Family  \n",
       "0       2  \n",
       "1       2  \n",
       "2       1  \n",
       "3       2  \n",
       "4       1  "
      ]
     },
     "execution_count": 53,
     "metadata": {},
     "output_type": "execute_result"
    }
   ],
   "source": [
    "df.head()"
   ]
  },
  {
   "cell_type": "code",
   "execution_count": 54,
   "id": "8b920261",
   "metadata": {},
   "outputs": [],
   "source": [
    "# simdi yazilari rakamlara cevirmemiz lazim - ne yapiyoruz? --> get_dummies\n",
    "# asil veriyi bozmamak icin data diyoruz"
   ]
  },
  {
   "cell_type": "code",
   "execution_count": 55,
   "id": "280d325f",
   "metadata": {},
   "outputs": [],
   "source": [
    "data=pd.get_dummies(df,drop_first=True)\n",
    "#drop_first yerine drop_last da diyebiliriz"
   ]
  },
  {
   "cell_type": "code",
   "execution_count": 56,
   "id": "212428c8",
   "metadata": {},
   "outputs": [
    {
     "data": {
      "text/html": [
       "<div>\n",
       "<style scoped>\n",
       "    .dataframe tbody tr th:only-of-type {\n",
       "        vertical-align: middle;\n",
       "    }\n",
       "\n",
       "    .dataframe tbody tr th {\n",
       "        vertical-align: top;\n",
       "    }\n",
       "\n",
       "    .dataframe thead th {\n",
       "        text-align: right;\n",
       "    }\n",
       "</style>\n",
       "<table border=\"1\" class=\"dataframe\">\n",
       "  <thead>\n",
       "    <tr style=\"text-align: right;\">\n",
       "      <th></th>\n",
       "      <th>Survived</th>\n",
       "      <th>Pclass</th>\n",
       "      <th>Age</th>\n",
       "      <th>SibSp</th>\n",
       "      <th>Parch</th>\n",
       "      <th>Fare</th>\n",
       "      <th>Family</th>\n",
       "      <th>Sex_male</th>\n",
       "      <th>Embarked_C</th>\n",
       "      <th>Embarked_Q</th>\n",
       "      <th>Embarked_S</th>\n",
       "      <th>Title_Miss</th>\n",
       "      <th>Title_Mr</th>\n",
       "      <th>Title_Mrs</th>\n",
       "    </tr>\n",
       "  </thead>\n",
       "  <tbody>\n",
       "    <tr>\n",
       "      <th>0</th>\n",
       "      <td>0.0</td>\n",
       "      <td>3</td>\n",
       "      <td>22.0</td>\n",
       "      <td>1</td>\n",
       "      <td>0</td>\n",
       "      <td>7.2500</td>\n",
       "      <td>2</td>\n",
       "      <td>1</td>\n",
       "      <td>0</td>\n",
       "      <td>0</td>\n",
       "      <td>1</td>\n",
       "      <td>0</td>\n",
       "      <td>1</td>\n",
       "      <td>0</td>\n",
       "    </tr>\n",
       "    <tr>\n",
       "      <th>1</th>\n",
       "      <td>1.0</td>\n",
       "      <td>1</td>\n",
       "      <td>38.0</td>\n",
       "      <td>1</td>\n",
       "      <td>0</td>\n",
       "      <td>71.2833</td>\n",
       "      <td>2</td>\n",
       "      <td>0</td>\n",
       "      <td>1</td>\n",
       "      <td>0</td>\n",
       "      <td>0</td>\n",
       "      <td>0</td>\n",
       "      <td>0</td>\n",
       "      <td>1</td>\n",
       "    </tr>\n",
       "    <tr>\n",
       "      <th>2</th>\n",
       "      <td>1.0</td>\n",
       "      <td>3</td>\n",
       "      <td>26.0</td>\n",
       "      <td>0</td>\n",
       "      <td>0</td>\n",
       "      <td>7.9250</td>\n",
       "      <td>1</td>\n",
       "      <td>0</td>\n",
       "      <td>0</td>\n",
       "      <td>0</td>\n",
       "      <td>1</td>\n",
       "      <td>1</td>\n",
       "      <td>0</td>\n",
       "      <td>0</td>\n",
       "    </tr>\n",
       "    <tr>\n",
       "      <th>3</th>\n",
       "      <td>1.0</td>\n",
       "      <td>1</td>\n",
       "      <td>35.0</td>\n",
       "      <td>1</td>\n",
       "      <td>0</td>\n",
       "      <td>53.1000</td>\n",
       "      <td>2</td>\n",
       "      <td>0</td>\n",
       "      <td>0</td>\n",
       "      <td>0</td>\n",
       "      <td>1</td>\n",
       "      <td>0</td>\n",
       "      <td>0</td>\n",
       "      <td>1</td>\n",
       "    </tr>\n",
       "    <tr>\n",
       "      <th>4</th>\n",
       "      <td>0.0</td>\n",
       "      <td>3</td>\n",
       "      <td>35.0</td>\n",
       "      <td>0</td>\n",
       "      <td>0</td>\n",
       "      <td>8.0500</td>\n",
       "      <td>1</td>\n",
       "      <td>1</td>\n",
       "      <td>0</td>\n",
       "      <td>0</td>\n",
       "      <td>1</td>\n",
       "      <td>0</td>\n",
       "      <td>1</td>\n",
       "      <td>0</td>\n",
       "    </tr>\n",
       "  </tbody>\n",
       "</table>\n",
       "</div>"
      ],
      "text/plain": [
       "   Survived  Pclass   Age  SibSp  Parch     Fare  Family  Sex_male  \\\n",
       "0       0.0       3  22.0      1      0   7.2500       2         1   \n",
       "1       1.0       1  38.0      1      0  71.2833       2         0   \n",
       "2       1.0       3  26.0      0      0   7.9250       1         0   \n",
       "3       1.0       1  35.0      1      0  53.1000       2         0   \n",
       "4       0.0       3  35.0      0      0   8.0500       1         1   \n",
       "\n",
       "   Embarked_C  Embarked_Q  Embarked_S  Title_Miss  Title_Mr  Title_Mrs  \n",
       "0           0           0           1           0         1          0  \n",
       "1           1           0           0           0         0          1  \n",
       "2           0           0           1           1         0          0  \n",
       "3           0           0           1           0         0          1  \n",
       "4           0           0           1           0         1          0  "
      ]
     },
     "execution_count": 56,
     "metadata": {},
     "output_type": "execute_result"
    }
   ],
   "source": [
    "data.head() #sparse Matrix olustugunu görüyoruz - artik verimiz hazir"
   ]
  },
  {
   "cell_type": "code",
   "execution_count": 57,
   "id": "b142523c",
   "metadata": {},
   "outputs": [],
   "source": [
    "#train ve testi ayiriyoruz (basta birlestirdik veriyi hazir hale getirdik, simdi bölüyrouz)"
   ]
  },
  {
   "cell_type": "code",
   "execution_count": 58,
   "id": "3a38086a",
   "metadata": {},
   "outputs": [],
   "source": [
    "#df'nin icersinden basi ne olursa olsun ilk 891 aliyoruz --> ttrain.csv de 891 satir sayisi vardi\n",
    "train=data[:891]\n",
    "#test icin 891'den basla ve kalani al\n",
    "test=data[891:]"
   ]
  },
  {
   "cell_type": "code",
   "execution_count": 59,
   "id": "18b1d8ec",
   "metadata": {},
   "outputs": [],
   "source": [
    "# y'ye yani hedefe survivor sutun icersini eklicez"
   ]
  },
  {
   "cell_type": "code",
   "execution_count": 60,
   "id": "533ebf1a",
   "metadata": {},
   "outputs": [],
   "source": [
    "y=train[\"Survived\"]"
   ]
  },
  {
   "cell_type": "code",
   "execution_count": 61,
   "id": "37848ec5",
   "metadata": {},
   "outputs": [],
   "source": [
    "# x'e de kalan sutunlari esitlestircez"
   ]
  },
  {
   "cell_type": "code",
   "execution_count": 62,
   "id": "9857c565",
   "metadata": {},
   "outputs": [],
   "source": [
    "x=train.drop(\"Survived\",axis=1) # burda Survived'i silip diger hepsini ekliyor"
   ]
  },
  {
   "cell_type": "markdown",
   "id": "eaad85d6",
   "metadata": {},
   "source": [
    "# Deep Learning - Keras - Classification"
   ]
  },
  {
   "cell_type": "code",
   "execution_count": 63,
   "id": "1ba7d8d5",
   "metadata": {
    "collapsed": true
   },
   "outputs": [
    {
     "name": "stdout",
     "output_type": "stream",
     "text": [
      "Requirement already satisfied: tensorflow in c:\\users\\kemal\\anaconda3\\lib\\site-packages (2.10.0)\n",
      "Requirement already satisfied: typing-extensions>=3.6.6 in c:\\users\\kemal\\anaconda3\\lib\\site-packages (from tensorflow) (4.1.1)\n",
      "Requirement already satisfied: gast<=0.4.0,>=0.2.1 in c:\\users\\kemal\\anaconda3\\lib\\site-packages (from tensorflow) (0.4.0)\n",
      "Requirement already satisfied: astunparse>=1.6.0 in c:\\users\\kemal\\anaconda3\\lib\\site-packages (from tensorflow) (1.6.3)\n",
      "Requirement already satisfied: tensorboard<2.11,>=2.10 in c:\\users\\kemal\\anaconda3\\lib\\site-packages (from tensorflow) (2.10.1)\n",
      "Requirement already satisfied: termcolor>=1.1.0 in c:\\users\\kemal\\anaconda3\\lib\\site-packages (from tensorflow) (2.0.1)\n",
      "Requirement already satisfied: six>=1.12.0 in c:\\users\\kemal\\anaconda3\\lib\\site-packages (from tensorflow) (1.16.0)\n",
      "Requirement already satisfied: libclang>=13.0.0 in c:\\users\\kemal\\anaconda3\\lib\\site-packages (from tensorflow) (14.0.6)\n",
      "Requirement already satisfied: numpy>=1.20 in c:\\users\\kemal\\anaconda3\\lib\\site-packages (from tensorflow) (1.21.5)\n",
      "Requirement already satisfied: keras<2.11,>=2.10.0 in c:\\users\\kemal\\anaconda3\\lib\\site-packages (from tensorflow) (2.10.0)\n",
      "Requirement already satisfied: keras-preprocessing>=1.1.1 in c:\\users\\kemal\\anaconda3\\lib\\site-packages (from tensorflow) (1.1.2)\n",
      "Requirement already satisfied: flatbuffers>=2.0 in c:\\users\\kemal\\anaconda3\\lib\\site-packages (from tensorflow) (22.9.24)\n",
      "Requirement already satisfied: packaging in c:\\users\\kemal\\anaconda3\\lib\\site-packages (from tensorflow) (21.3)\n",
      "Requirement already satisfied: google-pasta>=0.1.1 in c:\\users\\kemal\\anaconda3\\lib\\site-packages (from tensorflow) (0.2.0)\n",
      "Requirement already satisfied: absl-py>=1.0.0 in c:\\users\\kemal\\anaconda3\\lib\\site-packages (from tensorflow) (1.3.0)\n",
      "Requirement already satisfied: tensorflow-io-gcs-filesystem>=0.23.1 in c:\\users\\kemal\\anaconda3\\lib\\site-packages (from tensorflow) (0.27.0)\n",
      "Requirement already satisfied: opt-einsum>=2.3.2 in c:\\users\\kemal\\anaconda3\\lib\\site-packages (from tensorflow) (3.3.0)\n",
      "Requirement already satisfied: wrapt>=1.11.0 in c:\\users\\kemal\\anaconda3\\lib\\site-packages (from tensorflow) (1.12.1)\n",
      "Requirement already satisfied: grpcio<2.0,>=1.24.3 in c:\\users\\kemal\\anaconda3\\lib\\site-packages (from tensorflow) (1.42.0)\n",
      "Requirement already satisfied: protobuf<3.20,>=3.9.2 in c:\\users\\kemal\\anaconda3\\lib\\site-packages (from tensorflow) (3.19.1)\n",
      "Requirement already satisfied: setuptools in c:\\users\\kemal\\anaconda3\\lib\\site-packages (from tensorflow) (61.2.0)\n",
      "Requirement already satisfied: h5py>=2.9.0 in c:\\users\\kemal\\anaconda3\\lib\\site-packages (from tensorflow) (3.6.0)\n",
      "Requirement already satisfied: tensorflow-estimator<2.11,>=2.10.0 in c:\\users\\kemal\\anaconda3\\lib\\site-packages (from tensorflow) (2.10.0)\n",
      "Requirement already satisfied: wheel<1.0,>=0.23.0 in c:\\users\\kemal\\anaconda3\\lib\\site-packages (from astunparse>=1.6.0->tensorflow) (0.37.1)\n",
      "Requirement already satisfied: tensorboard-data-server<0.7.0,>=0.6.0 in c:\\users\\kemal\\anaconda3\\lib\\site-packages (from tensorboard<2.11,>=2.10->tensorflow) (0.6.1)\n",
      "Requirement already satisfied: markdown>=2.6.8 in c:\\users\\kemal\\anaconda3\\lib\\site-packages (from tensorboard<2.11,>=2.10->tensorflow) (3.3.4)\n",
      "Requirement already satisfied: requests<3,>=2.21.0 in c:\\users\\kemal\\anaconda3\\lib\\site-packages (from tensorboard<2.11,>=2.10->tensorflow) (2.27.1)\n",
      "Requirement already satisfied: werkzeug>=1.0.1 in c:\\users\\kemal\\anaconda3\\lib\\site-packages (from tensorboard<2.11,>=2.10->tensorflow) (2.0.3)\n",
      "Requirement already satisfied: tensorboard-plugin-wit>=1.6.0 in c:\\users\\kemal\\anaconda3\\lib\\site-packages (from tensorboard<2.11,>=2.10->tensorflow) (1.8.1)\n",
      "Requirement already satisfied: google-auth-oauthlib<0.5,>=0.4.1 in c:\\users\\kemal\\anaconda3\\lib\\site-packages (from tensorboard<2.11,>=2.10->tensorflow) (0.4.6)\n",
      "Requirement already satisfied: google-auth<3,>=1.6.3 in c:\\users\\kemal\\anaconda3\\lib\\site-packages (from tensorboard<2.11,>=2.10->tensorflow) (1.33.0)\n",
      "Requirement already satisfied: cachetools<5.0,>=2.0.0 in c:\\users\\kemal\\anaconda3\\lib\\site-packages (from google-auth<3,>=1.6.3->tensorboard<2.11,>=2.10->tensorflow) (4.2.2)\n",
      "Requirement already satisfied: rsa<5,>=3.1.4 in c:\\users\\kemal\\anaconda3\\lib\\site-packages (from google-auth<3,>=1.6.3->tensorboard<2.11,>=2.10->tensorflow) (4.7.2)\n",
      "Requirement already satisfied: pyasn1-modules>=0.2.1 in c:\\users\\kemal\\anaconda3\\lib\\site-packages (from google-auth<3,>=1.6.3->tensorboard<2.11,>=2.10->tensorflow) (0.2.8)\n",
      "Requirement already satisfied: requests-oauthlib>=0.7.0 in c:\\users\\kemal\\anaconda3\\lib\\site-packages (from google-auth-oauthlib<0.5,>=0.4.1->tensorboard<2.11,>=2.10->tensorflow) (1.3.1)\n",
      "Requirement already satisfied: pyasn1<0.5.0,>=0.4.6 in c:\\users\\kemal\\anaconda3\\lib\\site-packages (from pyasn1-modules>=0.2.1->google-auth<3,>=1.6.3->tensorboard<2.11,>=2.10->tensorflow) (0.4.8)\n",
      "Requirement already satisfied: urllib3<1.27,>=1.21.1 in c:\\users\\kemal\\anaconda3\\lib\\site-packages (from requests<3,>=2.21.0->tensorboard<2.11,>=2.10->tensorflow) (1.26.9)\n",
      "Requirement already satisfied: certifi>=2017.4.17 in c:\\users\\kemal\\anaconda3\\lib\\site-packages (from requests<3,>=2.21.0->tensorboard<2.11,>=2.10->tensorflow) (2021.10.8)\n",
      "Requirement already satisfied: idna<4,>=2.5 in c:\\users\\kemal\\anaconda3\\lib\\site-packages (from requests<3,>=2.21.0->tensorboard<2.11,>=2.10->tensorflow) (3.3)\n",
      "Requirement already satisfied: charset-normalizer~=2.0.0 in c:\\users\\kemal\\anaconda3\\lib\\site-packages (from requests<3,>=2.21.0->tensorboard<2.11,>=2.10->tensorflow) (2.0.4)\n",
      "Requirement already satisfied: oauthlib>=3.0.0 in c:\\users\\kemal\\anaconda3\\lib\\site-packages (from requests-oauthlib>=0.7.0->google-auth-oauthlib<0.5,>=0.4.1->tensorboard<2.11,>=2.10->tensorflow) (3.2.2)\n",
      "Requirement already satisfied: pyparsing!=3.0.5,>=2.0.2 in c:\\users\\kemal\\anaconda3\\lib\\site-packages (from packaging->tensorflow) (3.0.4)\n"
     ]
    }
   ],
   "source": [
    "#!pip install tensorflow"
   ]
  },
  {
   "cell_type": "code",
   "execution_count": 74,
   "id": "829c866b",
   "metadata": {},
   "outputs": [],
   "source": [
    "import pandas as pd\n",
    "import tensorflow as tf\n",
    "import matplotlib.pyplot as plt\n",
    "\n",
    "#import tensorflow keras models\n",
    "from tensorflow.keras.models import Sequential #bir siraya koymaya saglicak\n",
    "from tensorflow.keras.layers import Dense "
   ]
  },
  {
   "cell_type": "code",
   "execution_count": 65,
   "id": "7d768a7d",
   "metadata": {},
   "outputs": [
    {
     "data": {
      "text/plain": [
       "(891, 13)"
      ]
     },
     "execution_count": 65,
     "metadata": {},
     "output_type": "execute_result"
    }
   ],
   "source": [
    "x.shape"
   ]
  },
  {
   "cell_type": "code",
   "execution_count": 66,
   "id": "48eaf534",
   "metadata": {},
   "outputs": [
    {
     "data": {
      "text/plain": [
       "(891,)"
      ]
     },
     "execution_count": 66,
     "metadata": {},
     "output_type": "execute_result"
    }
   ],
   "source": [
    "y.shape"
   ]
  },
  {
   "cell_type": "code",
   "execution_count": 67,
   "id": "c7c0c760",
   "metadata": {},
   "outputs": [],
   "source": [
    "model=Sequential()\n",
    "model.add(Dense(8,activation='relu')) # Dense Layer eklemek = 1. Nüronun ikinci Layer'nin bütün nüronlarina baglanmasi\n",
    "model.add(Dense(12,activation='relu')) # nüron sayisi arttirma basari orani arttiriyor\n",
    "model.add(Dense(12,activation='relu'))\n",
    "model.add(Dense(8,activation='relu'))\n",
    "model.add(Dense(6,activation='relu'))\n",
    "model.add(Dense(4,activation='relu'))\n",
    "model.add(Dense(2,activation='relu'))\n",
    "model.add(Dense(1,activation='sigmoid')) # sonu 1 olmasi lazim ve classification oldugu icin sigmoid - output\n",
    "model.compile(loss=\"binary_crossentropy\",optimizer=\"adam\", metrics=\"accuracy\") #binary= 0 veya 1"
   ]
  },
  {
   "cell_type": "code",
   "execution_count": 68,
   "id": "a7da36bd",
   "metadata": {
    "collapsed": true
   },
   "outputs": [
    {
     "name": "stdout",
     "output_type": "stream",
     "text": [
      "Epoch 1/150\n",
      "90/90 [==============================] - 1s 531us/step - loss: 0.6910 - accuracy: 0.6105\n",
      "Epoch 2/150\n",
      "90/90 [==============================] - 0s 707us/step - loss: 0.6810 - accuracy: 0.6599\n",
      "Epoch 3/150\n",
      "90/90 [==============================] - 0s 702us/step - loss: 0.6706 - accuracy: 0.6779\n",
      "Epoch 4/150\n",
      "90/90 [==============================] - 0s 707us/step - loss: 0.6589 - accuracy: 0.6880\n",
      "Epoch 5/150\n",
      "90/90 [==============================] - 0s 702us/step - loss: 0.6517 - accuracy: 0.6902\n",
      "Epoch 6/150\n",
      "90/90 [==============================] - 0s 531us/step - loss: 0.6438 - accuracy: 0.7015\n",
      "Epoch 7/150\n",
      "90/90 [==============================] - 0s 532us/step - loss: 0.6431 - accuracy: 0.7048\n",
      "Epoch 8/150\n",
      "90/90 [==============================] - 0s 701us/step - loss: 0.6326 - accuracy: 0.7194\n",
      "Epoch 9/150\n",
      "90/90 [==============================] - 0s 707us/step - loss: 0.6263 - accuracy: 0.7217\n",
      "Epoch 10/150\n",
      "90/90 [==============================] - 0s 843us/step - loss: 0.6223 - accuracy: 0.7228\n",
      "Epoch 11/150\n",
      "90/90 [==============================] - 0s 527us/step - loss: 0.6170 - accuracy: 0.7284\n",
      "Epoch 12/150\n",
      "90/90 [==============================] - 0s 531us/step - loss: 0.6140 - accuracy: 0.7116\n",
      "Epoch 13/150\n",
      "90/90 [==============================] - 0s 702us/step - loss: 0.6106 - accuracy: 0.7149\n",
      "Epoch 14/150\n",
      "90/90 [==============================] - 0s 707us/step - loss: 0.6021 - accuracy: 0.7262\n",
      "Epoch 15/150\n",
      "90/90 [==============================] - 0s 527us/step - loss: 0.5912 - accuracy: 0.7374\n",
      "Epoch 16/150\n",
      "90/90 [==============================] - 0s 707us/step - loss: 0.5883 - accuracy: 0.7475\n",
      "Epoch 17/150\n",
      "90/90 [==============================] - 0s 707us/step - loss: 0.5610 - accuracy: 0.7834\n",
      "Epoch 18/150\n",
      "90/90 [==============================] - 0s 702us/step - loss: 0.5476 - accuracy: 0.7890\n",
      "Epoch 19/150\n",
      "90/90 [==============================] - 0s 531us/step - loss: 0.5371 - accuracy: 0.7901\n",
      "Epoch 20/150\n",
      "90/90 [==============================] - 0s 549us/step - loss: 0.5184 - accuracy: 0.8025\n",
      "Epoch 21/150\n",
      "90/90 [==============================] - 0s 684us/step - loss: 0.5492 - accuracy: 0.7598\n",
      "Epoch 22/150\n",
      "90/90 [==============================] - 0s 531us/step - loss: 0.5539 - accuracy: 0.7654\n",
      "Epoch 23/150\n",
      "90/90 [==============================] - 0s 702us/step - loss: 0.5096 - accuracy: 0.8058\n",
      "Epoch 24/150\n",
      "90/90 [==============================] - 0s 707us/step - loss: 0.5022 - accuracy: 0.8081\n",
      "Epoch 25/150\n",
      "90/90 [==============================] - 0s 577us/step - loss: 0.5011 - accuracy: 0.8058\n",
      "Epoch 26/150\n",
      "90/90 [==============================] - 0s 527us/step - loss: 0.4946 - accuracy: 0.8114\n",
      "Epoch 27/150\n",
      "90/90 [==============================] - 0s 707us/step - loss: 0.4856 - accuracy: 0.8092\n",
      "Epoch 28/150\n",
      "90/90 [==============================] - 0s 702us/step - loss: 0.4881 - accuracy: 0.8081\n",
      "Epoch 29/150\n",
      "90/90 [==============================] - 0s 707us/step - loss: 0.4772 - accuracy: 0.8148\n",
      "Epoch 30/150\n",
      "90/90 [==============================] - 0s 707us/step - loss: 0.4833 - accuracy: 0.8081\n",
      "Epoch 31/150\n",
      "90/90 [==============================] - 0s 527us/step - loss: 0.4874 - accuracy: 0.8070\n",
      "Epoch 32/150\n",
      "90/90 [==============================] - 0s 707us/step - loss: 0.4758 - accuracy: 0.8103\n",
      "Epoch 33/150\n",
      "90/90 [==============================] - 0s 702us/step - loss: 0.4745 - accuracy: 0.8137\n",
      "Epoch 34/150\n",
      "90/90 [==============================] - 0s 707us/step - loss: 0.4675 - accuracy: 0.8215\n",
      "Epoch 35/150\n",
      "90/90 [==============================] - 0s 707us/step - loss: 0.4670 - accuracy: 0.8171\n",
      "Epoch 36/150\n",
      "90/90 [==============================] - 0s 527us/step - loss: 0.4749 - accuracy: 0.8148\n",
      "Epoch 37/150\n",
      "90/90 [==============================] - 0s 701us/step - loss: 0.5014 - accuracy: 0.7980\n",
      "Epoch 38/150\n",
      "90/90 [==============================] - 0s 702us/step - loss: 0.4599 - accuracy: 0.8238\n",
      "Epoch 39/150\n",
      "90/90 [==============================] - 0s 707us/step - loss: 0.4692 - accuracy: 0.8070\n",
      "Epoch 40/150\n",
      "90/90 [==============================] - 0s 707us/step - loss: 0.4573 - accuracy: 0.8249\n",
      "Epoch 41/150\n",
      "90/90 [==============================] - 0s 527us/step - loss: 0.4550 - accuracy: 0.8272\n",
      "Epoch 42/150\n",
      "90/90 [==============================] - 0s 531us/step - loss: 0.4553 - accuracy: 0.8215\n",
      "Epoch 43/150\n",
      "90/90 [==============================] - 0s 702us/step - loss: 0.4543 - accuracy: 0.8159\n",
      "Epoch 44/150\n",
      "90/90 [==============================] - 0s 707us/step - loss: 0.4508 - accuracy: 0.8249\n",
      "Epoch 45/150\n",
      "90/90 [==============================] - 0s 527us/step - loss: 0.4520 - accuracy: 0.8193\n",
      "Epoch 46/150\n",
      "90/90 [==============================] - 0s 527us/step - loss: 0.4509 - accuracy: 0.8193\n",
      "Epoch 47/150\n",
      "90/90 [==============================] - 0s 707us/step - loss: 0.4472 - accuracy: 0.8272\n",
      "Epoch 48/150\n",
      "90/90 [==============================] - 0s 702us/step - loss: 0.4585 - accuracy: 0.8114\n",
      "Epoch 49/150\n",
      "90/90 [==============================] - 0s 531us/step - loss: 0.4568 - accuracy: 0.8227\n",
      "Epoch 50/150\n",
      "90/90 [==============================] - 0s 707us/step - loss: 0.4536 - accuracy: 0.8215\n",
      "Epoch 51/150\n",
      "90/90 [==============================] - 0s 527us/step - loss: 0.4447 - accuracy: 0.8204\n",
      "Epoch 52/150\n",
      "90/90 [==============================] - 0s 531us/step - loss: 0.4459 - accuracy: 0.8227\n",
      "Epoch 53/150\n",
      "90/90 [==============================] - 0s 702us/step - loss: 0.4350 - accuracy: 0.8249\n",
      "Epoch 54/150\n",
      "90/90 [==============================] - 0s 707us/step - loss: 0.4420 - accuracy: 0.8294\n",
      "Epoch 55/150\n",
      "90/90 [==============================] - 0s 707us/step - loss: 0.4394 - accuracy: 0.8249\n",
      "Epoch 56/150\n",
      "90/90 [==============================] - 0s 702us/step - loss: 0.4459 - accuracy: 0.8193\n",
      "Epoch 57/150\n",
      "90/90 [==============================] - 0s 531us/step - loss: 0.4485 - accuracy: 0.8238\n",
      "Epoch 58/150\n",
      "90/90 [==============================] - 0s 702us/step - loss: 0.4415 - accuracy: 0.8249\n",
      "Epoch 59/150\n",
      "90/90 [==============================] - 0s 707us/step - loss: 0.4413 - accuracy: 0.8238\n",
      "Epoch 60/150\n",
      "90/90 [==============================] - 0s 707us/step - loss: 0.4459 - accuracy: 0.8193\n",
      "Epoch 61/150\n",
      "90/90 [==============================] - 0s 527us/step - loss: 0.4266 - accuracy: 0.8339\n",
      "Epoch 62/150\n",
      "90/90 [==============================] - 0s 707us/step - loss: 0.4359 - accuracy: 0.8260\n",
      "Epoch 63/150\n",
      "90/90 [==============================] - 0s 702us/step - loss: 0.4338 - accuracy: 0.8294\n",
      "Epoch 64/150\n",
      "90/90 [==============================] - 0s 707us/step - loss: 0.4332 - accuracy: 0.8249\n",
      "Epoch 65/150\n",
      "90/90 [==============================] - 0s 707us/step - loss: 0.4344 - accuracy: 0.8283\n",
      "Epoch 66/150\n",
      "90/90 [==============================] - 0s 702us/step - loss: 0.4374 - accuracy: 0.8227\n",
      "Epoch 67/150\n",
      "90/90 [==============================] - 0s 701us/step - loss: 0.4316 - accuracy: 0.8272\n",
      "Epoch 68/150\n",
      "90/90 [==============================] - 0s 527us/step - loss: 0.4399 - accuracy: 0.8215\n",
      "Epoch 69/150\n",
      "90/90 [==============================] - 0s 707us/step - loss: 0.4514 - accuracy: 0.8171\n",
      "Epoch 70/150\n",
      "90/90 [==============================] - 0s 707us/step - loss: 0.4340 - accuracy: 0.8272\n",
      "Epoch 71/150\n",
      "90/90 [==============================] - 0s 702us/step - loss: 0.4351 - accuracy: 0.8238\n",
      "Epoch 72/150\n",
      "90/90 [==============================] - 0s 707us/step - loss: 0.4350 - accuracy: 0.8272\n",
      "Epoch 73/150\n",
      "90/90 [==============================] - 0s 527us/step - loss: 0.4462 - accuracy: 0.8182\n",
      "Epoch 74/150\n",
      "90/90 [==============================] - 0s 531us/step - loss: 0.4273 - accuracy: 0.8305\n",
      "Epoch 75/150\n",
      "90/90 [==============================] - 0s 531us/step - loss: 0.4265 - accuracy: 0.8227\n",
      "Epoch 76/150\n",
      "90/90 [==============================] - 0s 702us/step - loss: 0.4212 - accuracy: 0.8294\n",
      "Epoch 77/150\n",
      "90/90 [==============================] - 0s 707us/step - loss: 0.4390 - accuracy: 0.8193\n",
      "Epoch 78/150\n",
      "90/90 [==============================] - 0s 702us/step - loss: 0.4305 - accuracy: 0.8283\n",
      "Epoch 79/150\n",
      "90/90 [==============================] - 0s 707us/step - loss: 0.4251 - accuracy: 0.8316\n",
      "Epoch 80/150\n",
      "90/90 [==============================] - 0s 707us/step - loss: 0.4177 - accuracy: 0.8328\n",
      "Epoch 81/150\n"
     ]
    },
    {
     "name": "stdout",
     "output_type": "stream",
     "text": [
      "90/90 [==============================] - 0s 702us/step - loss: 0.4401 - accuracy: 0.8148\n",
      "Epoch 82/150\n",
      "90/90 [==============================] - 0s 707us/step - loss: 0.4293 - accuracy: 0.8215\n",
      "Epoch 83/150\n",
      "90/90 [==============================] - 0s 707us/step - loss: 0.4248 - accuracy: 0.8249\n",
      "Epoch 84/150\n",
      "90/90 [==============================] - 0s 702us/step - loss: 0.4298 - accuracy: 0.8171\n",
      "Epoch 85/150\n",
      "90/90 [==============================] - 0s 707us/step - loss: 0.4203 - accuracy: 0.8249\n",
      "Epoch 86/150\n",
      "90/90 [==============================] - 0s 718us/step - loss: 0.4280 - accuracy: 0.8193\n",
      "Epoch 87/150\n",
      "90/90 [==============================] - 0s 514us/step - loss: 0.4211 - accuracy: 0.8249\n",
      "Epoch 88/150\n",
      "90/90 [==============================] - 0s 538us/step - loss: 0.4150 - accuracy: 0.8238\n",
      "Epoch 89/150\n",
      "90/90 [==============================] - 0s 700us/step - loss: 0.4229 - accuracy: 0.8238\n",
      "Epoch 90/150\n",
      "90/90 [==============================] - 0s 712us/step - loss: 0.4125 - accuracy: 0.8294\n",
      "Epoch 91/150\n",
      "90/90 [==============================] - 0s 702us/step - loss: 0.4322 - accuracy: 0.8182\n",
      "Epoch 92/150\n",
      "90/90 [==============================] - 0s 572us/step - loss: 0.4141 - accuracy: 0.8238\n",
      "Epoch 93/150\n",
      "90/90 [==============================] - 0s 707us/step - loss: 0.4207 - accuracy: 0.8283\n",
      "Epoch 94/150\n",
      "90/90 [==============================] - 0s 702us/step - loss: 0.4523 - accuracy: 0.7991\n",
      "Epoch 95/150\n",
      "90/90 [==============================] - 0s 707us/step - loss: 0.4231 - accuracy: 0.8204\n",
      "Epoch 96/150\n",
      "90/90 [==============================] - 0s 707us/step - loss: 0.4235 - accuracy: 0.8249\n",
      "Epoch 97/150\n",
      "90/90 [==============================] - 0s 527us/step - loss: 0.4175 - accuracy: 0.8249\n",
      "Epoch 98/150\n",
      "90/90 [==============================] - 0s 531us/step - loss: 0.4116 - accuracy: 0.8283\n",
      "Epoch 99/150\n",
      "90/90 [==============================] - 0s 702us/step - loss: 0.4583 - accuracy: 0.7946\n",
      "Epoch 100/150\n",
      "90/90 [==============================] - 0s 531us/step - loss: 0.4202 - accuracy: 0.8328\n",
      "Epoch 101/150\n",
      "90/90 [==============================] - 0s 707us/step - loss: 0.4211 - accuracy: 0.8249\n",
      "Epoch 102/150\n",
      "90/90 [==============================] - 0s 702us/step - loss: 0.4151 - accuracy: 0.8215\n",
      "Epoch 103/150\n",
      "90/90 [==============================] - 0s 707us/step - loss: 0.4116 - accuracy: 0.8227\n",
      "Epoch 104/150\n",
      "90/90 [==============================] - 0s 678us/step - loss: 0.4060 - accuracy: 0.8260\n",
      "Epoch 105/150\n",
      "90/90 [==============================] - 0s 555us/step - loss: 0.4028 - accuracy: 0.8384\n",
      "Epoch 106/150\n",
      "90/90 [==============================] - 0s 707us/step - loss: 0.4084 - accuracy: 0.8238\n",
      "Epoch 107/150\n",
      "90/90 [==============================] - 0s 702us/step - loss: 0.4036 - accuracy: 0.8260\n",
      "Epoch 108/150\n",
      "90/90 [==============================] - 0s 531us/step - loss: 0.3997 - accuracy: 0.8339\n",
      "Epoch 109/150\n",
      "90/90 [==============================] - 0s 702us/step - loss: 0.3971 - accuracy: 0.8350\n",
      "Epoch 110/150\n",
      "90/90 [==============================] - 0s 707us/step - loss: 0.4213 - accuracy: 0.8159\n",
      "Epoch 111/150\n",
      "90/90 [==============================] - 0s 600us/step - loss: 0.4062 - accuracy: 0.8159\n",
      "Epoch 112/150\n",
      "90/90 [==============================] - 0s 527us/step - loss: 0.4149 - accuracy: 0.8249\n",
      "Epoch 113/150\n",
      "90/90 [==============================] - 0s 707us/step - loss: 0.4025 - accuracy: 0.8272\n",
      "Epoch 114/150\n",
      "90/90 [==============================] - 0s 702us/step - loss: 0.4040 - accuracy: 0.8272\n",
      "Epoch 115/150\n",
      "90/90 [==============================] - 0s 707us/step - loss: 0.4035 - accuracy: 0.8272\n",
      "Epoch 116/150\n",
      "90/90 [==============================] - 0s 707us/step - loss: 0.4006 - accuracy: 0.8260\n",
      "Epoch 117/150\n",
      "90/90 [==============================] - 0s 702us/step - loss: 0.3994 - accuracy: 0.8328\n",
      "Epoch 118/150\n",
      "90/90 [==============================] - 0s 531us/step - loss: 0.4095 - accuracy: 0.8294\n",
      "Epoch 119/150\n",
      "90/90 [==============================] - 0s 702us/step - loss: 0.3998 - accuracy: 0.8350\n",
      "Epoch 120/150\n",
      "90/90 [==============================] - 0s 707us/step - loss: 0.4010 - accuracy: 0.8328\n",
      "Epoch 121/150\n",
      "90/90 [==============================] - 0s 707us/step - loss: 0.4011 - accuracy: 0.8238\n",
      "Epoch 122/150\n",
      "90/90 [==============================] - 0s 527us/step - loss: 0.3986 - accuracy: 0.8305\n",
      "Epoch 123/150\n",
      "90/90 [==============================] - 0s 531us/step - loss: 0.4174 - accuracy: 0.8215\n",
      "Epoch 124/150\n",
      "90/90 [==============================] - 0s 702us/step - loss: 0.4078 - accuracy: 0.8215\n",
      "Epoch 125/150\n",
      "90/90 [==============================] - 0s 707us/step - loss: 0.4047 - accuracy: 0.8238\n",
      "Epoch 126/150\n",
      "90/90 [==============================] - 0s 684us/step - loss: 0.4004 - accuracy: 0.8227\n",
      "Epoch 127/150\n",
      "90/90 [==============================] - 0s 527us/step - loss: 0.4044 - accuracy: 0.8305\n",
      "Epoch 128/150\n",
      "90/90 [==============================] - 0s 707us/step - loss: 0.4115 - accuracy: 0.8260\n",
      "Epoch 129/150\n",
      "90/90 [==============================] - 0s 702us/step - loss: 0.3898 - accuracy: 0.8361\n",
      "Epoch 130/150\n",
      "90/90 [==============================] - 0s 707us/step - loss: 0.3991 - accuracy: 0.8305\n",
      "Epoch 131/150\n",
      "90/90 [==============================] - 0s 527us/step - loss: 0.3922 - accuracy: 0.8294\n",
      "Epoch 132/150\n",
      "90/90 [==============================] - 0s 707us/step - loss: 0.4032 - accuracy: 0.8294\n",
      "Epoch 133/150\n",
      "90/90 [==============================] - 0s 707us/step - loss: 0.4038 - accuracy: 0.8204\n",
      "Epoch 134/150\n",
      "90/90 [==============================] - 0s 702us/step - loss: 0.3985 - accuracy: 0.8238\n",
      "Epoch 135/150\n",
      "90/90 [==============================] - 0s 707us/step - loss: 0.4028 - accuracy: 0.8305\n",
      "Epoch 136/150\n",
      "90/90 [==============================] - 0s 527us/step - loss: 0.4003 - accuracy: 0.8272\n",
      "Epoch 137/150\n",
      "90/90 [==============================] - 0s 531us/step - loss: 0.3952 - accuracy: 0.8294\n",
      "Epoch 138/150\n",
      "90/90 [==============================] - 0s 707us/step - loss: 0.3919 - accuracy: 0.8339\n",
      "Epoch 139/150\n",
      "90/90 [==============================] - 0s 702us/step - loss: 0.3877 - accuracy: 0.8294\n",
      "Epoch 140/150\n",
      "90/90 [==============================] - 0s 701us/step - loss: 0.3871 - accuracy: 0.8406\n",
      "Epoch 141/150\n",
      "90/90 [==============================] - 0s 527us/step - loss: 0.3941 - accuracy: 0.8328\n",
      "Epoch 142/150\n",
      "90/90 [==============================] - 0s 531us/step - loss: 0.3884 - accuracy: 0.8418\n",
      "Epoch 143/150\n",
      "90/90 [==============================] - 0s 707us/step - loss: 0.3914 - accuracy: 0.8350\n",
      "Epoch 144/150\n",
      "90/90 [==============================] - 0s 702us/step - loss: 0.3902 - accuracy: 0.8328\n",
      "Epoch 145/150\n",
      "90/90 [==============================] - 0s 707us/step - loss: 0.3861 - accuracy: 0.8373\n",
      "Epoch 146/150\n",
      "90/90 [==============================] - 0s 527us/step - loss: 0.3941 - accuracy: 0.8316\n",
      "Epoch 147/150\n",
      "90/90 [==============================] - 0s 531us/step - loss: 0.3853 - accuracy: 0.8294\n",
      "Epoch 148/150\n",
      "90/90 [==============================] - 0s 707us/step - loss: 0.3908 - accuracy: 0.8272\n",
      "Epoch 149/150\n",
      "90/90 [==============================] - 0s 702us/step - loss: 0.4088 - accuracy: 0.8238\n",
      "Epoch 150/150\n",
      "90/90 [==============================] - 0s 707us/step - loss: 0.3960 - accuracy: 0.8339\n"
     ]
    },
    {
     "data": {
      "text/plain": [
       "<keras.callbacks.History at 0x1b2f255dca0>"
      ]
     },
     "execution_count": 68,
     "metadata": {},
     "output_type": "execute_result"
    }
   ],
   "source": [
    "model.fit(x,y,epochs=150,batch_size=10,verbose=1) \n",
    "# verbose asagdaki rakamlari gösteriyor, 0 da göstermiyor\n",
    "#batch-size: bir seferde 10 satir aliyor, verinin bir kismini aliyor isliyor sonra digerini aliyor, degirmen gibi ögütüyür, veriyi isliyor yeni veri aliyor bölük bölük\n",
    "#epoch= sokakta kac defa gidip geliyor"
   ]
  },
  {
   "cell_type": "code",
   "execution_count": 69,
   "id": "e594009d",
   "metadata": {
    "collapsed": true
   },
   "outputs": [
    {
     "name": "stdout",
     "output_type": "stream",
     "text": [
      "Model: \"sequential\"\n",
      "_________________________________________________________________\n",
      " Layer (type)                Output Shape              Param #   \n",
      "=================================================================\n",
      " dense (Dense)               (None, 8)                 112       \n",
      "                                                                 \n",
      " dense_1 (Dense)             (None, 12)                108       \n",
      "                                                                 \n",
      " dense_2 (Dense)             (None, 12)                156       \n",
      "                                                                 \n",
      " dense_3 (Dense)             (None, 8)                 104       \n",
      "                                                                 \n",
      " dense_4 (Dense)             (None, 6)                 54        \n",
      "                                                                 \n",
      " dense_5 (Dense)             (None, 4)                 28        \n",
      "                                                                 \n",
      " dense_6 (Dense)             (None, 2)                 10        \n",
      "                                                                 \n",
      " dense_7 (Dense)             (None, 1)                 3         \n",
      "                                                                 \n",
      "=================================================================\n",
      "Total params: 575\n",
      "Trainable params: 575\n",
      "Non-trainable params: 0\n",
      "_________________________________________________________________\n"
     ]
    }
   ],
   "source": [
    "model.summary()"
   ]
  },
  {
   "cell_type": "code",
   "execution_count": 70,
   "id": "d701389a",
   "metadata": {},
   "outputs": [
    {
     "name": "stdout",
     "output_type": "stream",
     "text": [
      "28/28 [==============================] - 0s 579us/step - loss: 0.3854 - accuracy: 0.8361\n"
     ]
    }
   ],
   "source": [
    "scores=model.evaluate(x,y)"
   ]
  },
  {
   "cell_type": "code",
   "execution_count": 71,
   "id": "7e7db2e4",
   "metadata": {},
   "outputs": [
    {
     "data": {
      "text/plain": [
       "0.38541439175605774"
      ]
     },
     "execution_count": 71,
     "metadata": {},
     "output_type": "execute_result"
    }
   ],
   "source": [
    "scores[0] # loss"
   ]
  },
  {
   "cell_type": "code",
   "execution_count": 72,
   "id": "0ed649e5",
   "metadata": {},
   "outputs": [
    {
     "data": {
      "text/plain": [
       "0.8361391425132751"
      ]
     },
     "execution_count": 72,
     "metadata": {},
     "output_type": "execute_result"
    }
   ],
   "source": [
    "scores[1] # accuracy"
   ]
  },
  {
   "cell_type": "code",
   "execution_count": 73,
   "id": "36a7e0c1",
   "metadata": {
    "collapsed": true
   },
   "outputs": [
    {
     "name": "stdout",
     "output_type": "stream",
     "text": [
      "Epoch 1/19\n",
      "72/72 [==============================] - 0s 1ms/step - loss: 0.4073 - accuracy: 0.8174 - val_loss: 0.3083 - val_accuracy: 0.8939\n",
      "Epoch 2/19\n",
      "72/72 [==============================] - 0s 979us/step - loss: 0.4122 - accuracy: 0.8230 - val_loss: 0.3093 - val_accuracy: 0.8883\n",
      "Epoch 3/19\n",
      "72/72 [==============================] - 0s 886us/step - loss: 0.4125 - accuracy: 0.8216 - val_loss: 0.3117 - val_accuracy: 0.8771\n",
      "Epoch 4/19\n",
      "72/72 [==============================] - 0s 958us/step - loss: 0.4110 - accuracy: 0.8188 - val_loss: 0.3047 - val_accuracy: 0.8659\n",
      "Epoch 5/19\n",
      "72/72 [==============================] - 0s 880us/step - loss: 0.4105 - accuracy: 0.8230 - val_loss: 0.3136 - val_accuracy: 0.8827\n",
      "Epoch 6/19\n",
      "72/72 [==============================] - 0s 1ms/step - loss: 0.4114 - accuracy: 0.8188 - val_loss: 0.3320 - val_accuracy: 0.8603\n",
      "Epoch 7/19\n",
      "72/72 [==============================] - 0s 886us/step - loss: 0.4104 - accuracy: 0.8230 - val_loss: 0.3169 - val_accuracy: 0.8771\n",
      "Epoch 8/19\n",
      "72/72 [==============================] - 0s 880us/step - loss: 0.3994 - accuracy: 0.8230 - val_loss: 0.3073 - val_accuracy: 0.8771\n",
      "Epoch 9/19\n",
      "72/72 [==============================] - 0s 886us/step - loss: 0.4040 - accuracy: 0.8244 - val_loss: 0.3175 - val_accuracy: 0.8827\n",
      "Epoch 10/19\n",
      "72/72 [==============================] - 0s 886us/step - loss: 0.4055 - accuracy: 0.8146 - val_loss: 0.3183 - val_accuracy: 0.8771\n",
      "Epoch 11/19\n",
      "72/72 [==============================] - 0s 944us/step - loss: 0.4035 - accuracy: 0.8272 - val_loss: 0.3109 - val_accuracy: 0.8771\n",
      "Epoch 12/19\n",
      "72/72 [==============================] - 0s 822us/step - loss: 0.4054 - accuracy: 0.8258 - val_loss: 0.3271 - val_accuracy: 0.8659\n",
      "Epoch 13/19\n",
      "72/72 [==============================] - 0s 886us/step - loss: 0.4013 - accuracy: 0.8230 - val_loss: 0.3225 - val_accuracy: 0.8883\n",
      "Epoch 14/19\n",
      "72/72 [==============================] - 0s 894us/step - loss: 0.3950 - accuracy: 0.8244 - val_loss: 0.3452 - val_accuracy: 0.8492\n",
      "Epoch 15/19\n",
      "72/72 [==============================] - 0s 880us/step - loss: 0.4074 - accuracy: 0.8272 - val_loss: 0.3441 - val_accuracy: 0.8547\n",
      "Epoch 16/19\n",
      "72/72 [==============================] - 0s 1ms/step - loss: 0.4243 - accuracy: 0.8174 - val_loss: 0.3653 - val_accuracy: 0.8603\n",
      "Epoch 17/19\n",
      "72/72 [==============================] - 0s 1ms/step - loss: 0.4187 - accuracy: 0.8230 - val_loss: 0.3274 - val_accuracy: 0.8771\n",
      "Epoch 18/19\n",
      "72/72 [==============================] - 0s 972us/step - loss: 0.3996 - accuracy: 0.8216 - val_loss: 0.3355 - val_accuracy: 0.8659\n",
      "Epoch 19/19\n",
      "72/72 [==============================] - 0s 843us/step - loss: 0.4017 - accuracy: 0.8160 - val_loss: 0.3288 - val_accuracy: 0.8715\n"
     ]
    }
   ],
   "source": [
    "history=model.fit(x,y,epochs=19,validation_split=0.20,batch_size=10,verbose=1) \n",
    "# train test split yerine burda validation split -> test yerine validation kelimesi"
   ]
  },
  {
   "cell_type": "code",
   "execution_count": 75,
   "id": "151ab48f",
   "metadata": {},
   "outputs": [
    {
     "data": {
      "image/png": "[encoded data removed]",
      "text/plain": [
       "<Figure size 432x288 with 1 Axes>"
      ]
     },
     "metadata": {
      "needs_background": "light"
     },
     "output_type": "display_data"
    }
   ],
   "source": [
    "plt.plot(history.history[\"accuracy\"],label=\"Accuracy\")\n",
    "plt.plot(history.history[\"val_accuracy\"],label=\"ValAccuracy\")\n",
    "plt.legend();"
   ]
  },
  {
   "cell_type": "code",
   "execution_count": null,
   "id": "6b46f244",
   "metadata": {},
   "outputs": [],
   "source": []
  }
 ],
 "metadata": {
  "kernelspec": {
   "display_name": "Python 3 (ipykernel)",
   "language": "python",
   "name": "python3"
  },
  "language_info": {
   "codemirror_mode": {
    "name": "ipython",
    "version": 3
   },
   "file_extension": ".py",
   "mimetype": "text/x-python",
   "name": "python",
   "nbconvert_exporter": "python",
   "pygments_lexer": "ipython3",
   "version": "3.9.12"
  }
 },
 "nbformat": 4,
 "nbformat_minor": 5
}
