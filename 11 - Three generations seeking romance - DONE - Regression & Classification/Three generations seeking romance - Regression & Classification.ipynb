{
 "cells": [
  {
   "cell_type": "markdown",
   "id": "e4dc4c53",
   "metadata": {},
   "source": [
    "**This is a  Regression & Classification project**\n",
    "\n",
    "A DATA SCIENCE APPROACH TO PROFILING ONLINE DATERS ACCORDING TO AGE & GENERATION<br>\n",
    "1 - Can your dating profile predict your age?<br>\n",
    "2 - Can your dating profile predict the generation you belong to? (Millennial, Gen X-er, or Boomers)\n",
    "Using a dataset of almost 60,000 anonymized entries from the dating platform OKCupid, You will explore \n",
    "the above questions using supervised machine learning techniques. You will examine different aspects or \n",
    "features of user profiles and see which ones you will integrate into your models to achieve the most\n",
    " satisfactory scores. You will use regression techniques to tackle the first question and classification\n",
    " models to address the second.<br>\n",
    "By exploring the “last_online” feature’s min and max, the OKCupid dataset could be inferred \n",
    "to be dated around 2011 or 2012. At the time, a “Millennial” would be aged from 18 to 32, a “Gen X-er” 33 to 47,\n",
    " and “Boomers” from 48 to 70 years "
   ]
  },
  {
   "cell_type": "code",
   "execution_count": 1,
   "id": "b70a7c59",
   "metadata": {},
   "outputs": [],
   "source": [
    "#import standard libraries\n",
    "import pandas as pd\n",
    "pd.set_option(\"display.max_rows\",100)\n",
    "pd.set_option(\"display.max_columns\",100)\n",
    "import seaborn as sns\n",
    "import matplotlib.pyplot as plt\n",
    "import numpy as np"
   ]
  },
  {
   "cell_type": "code",
   "execution_count": 2,
   "id": "d9236923",
   "metadata": {},
   "outputs": [
    {
     "name": "stderr",
     "output_type": "stream",
     "text": [
      "C:\\Users\\Kemal\\AppData\\Local\\Temp\\ipykernel_3720\\341952611.py:1: DtypeWarning: Columns (1,2,3,4,5,6,7,8,9,10,11,12,13,14,15,16,19,20,21,22,23,24,25,26,27,28,29,30) have mixed types. Specify dtype option on import or set low_memory=False.\n",
      "  df=pd.read_csv(\"profiles.csv\")\n"
     ]
    }
   ],
   "source": [
    "df=pd.read_csv(\"profiles.csv\")"
   ]
  },
  {
   "cell_type": "code",
   "execution_count": 3,
   "id": "8d0a5799",
   "metadata": {},
   "outputs": [
    {
     "data": {
      "text/html": [
       "<div>\n",
       "<style scoped>\n",
       "    .dataframe tbody tr th:only-of-type {\n",
       "        vertical-align: middle;\n",
       "    }\n",
       "\n",
       "    .dataframe tbody tr th {\n",
       "        vertical-align: top;\n",
       "    }\n",
       "\n",
       "    .dataframe thead th {\n",
       "        text-align: right;\n",
       "    }\n",
       "</style>\n",
       "<table border=\"1\" class=\"dataframe\">\n",
       "  <thead>\n",
       "    <tr style=\"text-align: right;\">\n",
       "      <th></th>\n",
       "      <th>age</th>\n",
       "      <th>body_type</th>\n",
       "      <th>diet</th>\n",
       "      <th>drinks</th>\n",
       "      <th>drugs</th>\n",
       "      <th>education</th>\n",
       "      <th>essay0</th>\n",
       "      <th>essay1</th>\n",
       "      <th>essay2</th>\n",
       "      <th>essay3</th>\n",
       "      <th>essay4</th>\n",
       "      <th>essay5</th>\n",
       "      <th>essay6</th>\n",
       "      <th>essay7</th>\n",
       "      <th>essay8</th>\n",
       "      <th>essay9</th>\n",
       "      <th>ethnicity</th>\n",
       "      <th>height</th>\n",
       "      <th>income</th>\n",
       "      <th>job</th>\n",
       "      <th>last_online</th>\n",
       "      <th>location</th>\n",
       "      <th>offspring</th>\n",
       "      <th>orientation</th>\n",
       "      <th>pets</th>\n",
       "      <th>religion</th>\n",
       "      <th>sex</th>\n",
       "      <th>sign</th>\n",
       "      <th>smokes</th>\n",
       "      <th>speaks</th>\n",
       "      <th>status</th>\n",
       "    </tr>\n",
       "  </thead>\n",
       "  <tbody>\n",
       "    <tr>\n",
       "      <th>0</th>\n",
       "      <td>22.0</td>\n",
       "      <td>a little extra</td>\n",
       "      <td>strictly anything</td>\n",
       "      <td>socially</td>\n",
       "      <td>never</td>\n",
       "      <td>working on college/university</td>\n",
       "      <td>about me:&lt;br /&gt;\\n&lt;br /&gt;\\ni would love to think...</td>\n",
       "      <td>currently working as an international agent fo...</td>\n",
       "      <td>making people laugh.&lt;br /&gt;\\nranting about a go...</td>\n",
       "      <td>the way i look. i am a six foot half asian, ha...</td>\n",
       "      <td>books:&lt;br /&gt;\\nabsurdistan, the republic, of mi...</td>\n",
       "      <td>food.&lt;br /&gt;\\nwater.&lt;br /&gt;\\ncell phone.&lt;br /&gt;\\n...</td>\n",
       "      <td>duality and humorous things</td>\n",
       "      <td>trying to find someone to hang out with. i am ...</td>\n",
       "      <td>i am new to california and looking for someone...</td>\n",
       "      <td>you want to be swept off your feet!&lt;br /&gt;\\nyou...</td>\n",
       "      <td>asian, white</td>\n",
       "      <td>75.0</td>\n",
       "      <td>-1.0</td>\n",
       "      <td>transportation</td>\n",
       "      <td>2012-06-28-20-30</td>\n",
       "      <td>south san francisco, california</td>\n",
       "      <td>doesn&amp;rsquo;t have kids, but might want them</td>\n",
       "      <td>straight</td>\n",
       "      <td>likes dogs and likes cats</td>\n",
       "      <td>agnosticism and very serious about it</td>\n",
       "      <td>m</td>\n",
       "      <td>gemini</td>\n",
       "      <td>sometimes</td>\n",
       "      <td>english</td>\n",
       "      <td>single</td>\n",
       "    </tr>\n",
       "    <tr>\n",
       "      <th>1</th>\n",
       "      <td>35.0</td>\n",
       "      <td>average</td>\n",
       "      <td>mostly other</td>\n",
       "      <td>often</td>\n",
       "      <td>sometimes</td>\n",
       "      <td>working on space camp</td>\n",
       "      <td>i am a chef: this is what that means.&lt;br /&gt;\\n1...</td>\n",
       "      <td>dedicating everyday to being an unbelievable b...</td>\n",
       "      <td>being silly. having ridiculous amonts of fun w...</td>\n",
       "      <td>NaN</td>\n",
       "      <td>i am die hard christopher moore fan. i don't r...</td>\n",
       "      <td>delicious porkness in all of its glories.&lt;br /...</td>\n",
       "      <td>NaN</td>\n",
       "      <td>NaN</td>\n",
       "      <td>i am very open and will share just about anyth...</td>\n",
       "      <td>NaN</td>\n",
       "      <td>white</td>\n",
       "      <td>70.0</td>\n",
       "      <td>80000.0</td>\n",
       "      <td>hospitality / travel</td>\n",
       "      <td>2012-06-29-21-41</td>\n",
       "      <td>oakland, california</td>\n",
       "      <td>doesn&amp;rsquo;t have kids, but might want them</td>\n",
       "      <td>straight</td>\n",
       "      <td>likes dogs and likes cats</td>\n",
       "      <td>agnosticism but not too serious about it</td>\n",
       "      <td>m</td>\n",
       "      <td>cancer</td>\n",
       "      <td>no</td>\n",
       "      <td>english (fluently), spanish (poorly), french (...</td>\n",
       "      <td>single</td>\n",
       "    </tr>\n",
       "    <tr>\n",
       "      <th>2</th>\n",
       "      <td>38.0</td>\n",
       "      <td>thin</td>\n",
       "      <td>anything</td>\n",
       "      <td>socially</td>\n",
       "      <td>NaN</td>\n",
       "      <td>graduated from masters program</td>\n",
       "      <td>i'm not ashamed of much, but writing public te...</td>\n",
       "      <td>i make nerdy software for musicians, artists, ...</td>\n",
       "      <td>improvising in different contexts. alternating...</td>\n",
       "      <td>my large jaw and large glasses are the physica...</td>\n",
       "      <td>okay this is where the cultural matrix gets so...</td>\n",
       "      <td>movement&lt;br /&gt;\\nconversation&lt;br /&gt;\\ncreation&lt;b...</td>\n",
       "      <td>NaN</td>\n",
       "      <td>viewing. listening. dancing. talking. drinking...</td>\n",
       "      <td>when i was five years old, i was known as \"the...</td>\n",
       "      <td>you are bright, open, intense, silly, ironic, ...</td>\n",
       "      <td>NaN</td>\n",
       "      <td>68.0</td>\n",
       "      <td>-1.0</td>\n",
       "      <td>NaN</td>\n",
       "      <td>2012-06-27-09-10</td>\n",
       "      <td>san francisco, california</td>\n",
       "      <td>NaN</td>\n",
       "      <td>straight</td>\n",
       "      <td>has cats</td>\n",
       "      <td>NaN</td>\n",
       "      <td>m</td>\n",
       "      <td>pisces but it doesn&amp;rsquo;t matter</td>\n",
       "      <td>no</td>\n",
       "      <td>english, french, c++</td>\n",
       "      <td>available</td>\n",
       "    </tr>\n",
       "    <tr>\n",
       "      <th>3</th>\n",
       "      <td>23.0</td>\n",
       "      <td>thin</td>\n",
       "      <td>vegetarian</td>\n",
       "      <td>socially</td>\n",
       "      <td>NaN</td>\n",
       "      <td>working on college/university</td>\n",
       "      <td>i work in a library and go to school. . .</td>\n",
       "      <td>reading things written by old dead people</td>\n",
       "      <td>playing synthesizers and organizing books acco...</td>\n",
       "      <td>socially awkward but i do my best</td>\n",
       "      <td>bataille, celine, beckett. . .&lt;br /&gt;\\nlynch, j...</td>\n",
       "      <td>NaN</td>\n",
       "      <td>cats and german philosophy</td>\n",
       "      <td>NaN</td>\n",
       "      <td>NaN</td>\n",
       "      <td>you feel so inclined.</td>\n",
       "      <td>white</td>\n",
       "      <td>71.0</td>\n",
       "      <td>20000.0</td>\n",
       "      <td>student</td>\n",
       "      <td>2012-06-28-14-22</td>\n",
       "      <td>berkeley, california</td>\n",
       "      <td>doesn&amp;rsquo;t want kids</td>\n",
       "      <td>straight</td>\n",
       "      <td>likes cats</td>\n",
       "      <td>NaN</td>\n",
       "      <td>m</td>\n",
       "      <td>pisces</td>\n",
       "      <td>no</td>\n",
       "      <td>english, german (poorly)</td>\n",
       "      <td>single</td>\n",
       "    </tr>\n",
       "    <tr>\n",
       "      <th>4</th>\n",
       "      <td>29.0</td>\n",
       "      <td>athletic</td>\n",
       "      <td>NaN</td>\n",
       "      <td>socially</td>\n",
       "      <td>never</td>\n",
       "      <td>graduated from college/university</td>\n",
       "      <td>hey how's it going? currently vague on the pro...</td>\n",
       "      <td>work work work work + play</td>\n",
       "      <td>creating imagery to look at:&lt;br /&gt;\\nhttp://bag...</td>\n",
       "      <td>i smile a lot and my inquisitive nature</td>\n",
       "      <td>music: bands, rappers, musicians&lt;br /&gt;\\nat the...</td>\n",
       "      <td>NaN</td>\n",
       "      <td>NaN</td>\n",
       "      <td>NaN</td>\n",
       "      <td>NaN</td>\n",
       "      <td>NaN</td>\n",
       "      <td>asian, black, other</td>\n",
       "      <td>66.0</td>\n",
       "      <td>-1.0</td>\n",
       "      <td>artistic / musical / writer</td>\n",
       "      <td>2012-06-27-21-26</td>\n",
       "      <td>san francisco, california</td>\n",
       "      <td>NaN</td>\n",
       "      <td>straight</td>\n",
       "      <td>likes dogs and likes cats</td>\n",
       "      <td>NaN</td>\n",
       "      <td>m</td>\n",
       "      <td>aquarius</td>\n",
       "      <td>no</td>\n",
       "      <td>english</td>\n",
       "      <td>single</td>\n",
       "    </tr>\n",
       "  </tbody>\n",
       "</table>\n",
       "</div>"
      ],
      "text/plain": [
       "    age       body_type               diet    drinks      drugs  \\\n",
       "0  22.0  a little extra  strictly anything  socially      never   \n",
       "1  35.0         average       mostly other     often  sometimes   \n",
       "2  38.0            thin           anything  socially        NaN   \n",
       "3  23.0            thin         vegetarian  socially        NaN   \n",
       "4  29.0        athletic                NaN  socially      never   \n",
       "\n",
       "                           education  \\\n",
       "0      working on college/university   \n",
       "1              working on space camp   \n",
       "2     graduated from masters program   \n",
       "3      working on college/university   \n",
       "4  graduated from college/university   \n",
       "\n",
       "                                              essay0  \\\n",
       "0  about me:<br />\\n<br />\\ni would love to think...   \n",
       "1  i am a chef: this is what that means.<br />\\n1...   \n",
       "2  i'm not ashamed of much, but writing public te...   \n",
       "3          i work in a library and go to school. . .   \n",
       "4  hey how's it going? currently vague on the pro...   \n",
       "\n",
       "                                              essay1  \\\n",
       "0  currently working as an international agent fo...   \n",
       "1  dedicating everyday to being an unbelievable b...   \n",
       "2  i make nerdy software for musicians, artists, ...   \n",
       "3          reading things written by old dead people   \n",
       "4                         work work work work + play   \n",
       "\n",
       "                                              essay2  \\\n",
       "0  making people laugh.<br />\\nranting about a go...   \n",
       "1  being silly. having ridiculous amonts of fun w...   \n",
       "2  improvising in different contexts. alternating...   \n",
       "3  playing synthesizers and organizing books acco...   \n",
       "4  creating imagery to look at:<br />\\nhttp://bag...   \n",
       "\n",
       "                                              essay3  \\\n",
       "0  the way i look. i am a six foot half asian, ha...   \n",
       "1                                                NaN   \n",
       "2  my large jaw and large glasses are the physica...   \n",
       "3                  socially awkward but i do my best   \n",
       "4            i smile a lot and my inquisitive nature   \n",
       "\n",
       "                                              essay4  \\\n",
       "0  books:<br />\\nabsurdistan, the republic, of mi...   \n",
       "1  i am die hard christopher moore fan. i don't r...   \n",
       "2  okay this is where the cultural matrix gets so...   \n",
       "3  bataille, celine, beckett. . .<br />\\nlynch, j...   \n",
       "4  music: bands, rappers, musicians<br />\\nat the...   \n",
       "\n",
       "                                              essay5  \\\n",
       "0  food.<br />\\nwater.<br />\\ncell phone.<br />\\n...   \n",
       "1  delicious porkness in all of its glories.<br /...   \n",
       "2  movement<br />\\nconversation<br />\\ncreation<b...   \n",
       "3                                                NaN   \n",
       "4                                                NaN   \n",
       "\n",
       "                        essay6  \\\n",
       "0  duality and humorous things   \n",
       "1                          NaN   \n",
       "2                          NaN   \n",
       "3   cats and german philosophy   \n",
       "4                          NaN   \n",
       "\n",
       "                                              essay7  \\\n",
       "0  trying to find someone to hang out with. i am ...   \n",
       "1                                                NaN   \n",
       "2  viewing. listening. dancing. talking. drinking...   \n",
       "3                                                NaN   \n",
       "4                                                NaN   \n",
       "\n",
       "                                              essay8  \\\n",
       "0  i am new to california and looking for someone...   \n",
       "1  i am very open and will share just about anyth...   \n",
       "2  when i was five years old, i was known as \"the...   \n",
       "3                                                NaN   \n",
       "4                                                NaN   \n",
       "\n",
       "                                              essay9            ethnicity  \\\n",
       "0  you want to be swept off your feet!<br />\\nyou...         asian, white   \n",
       "1                                                NaN                white   \n",
       "2  you are bright, open, intense, silly, ironic, ...                  NaN   \n",
       "3                              you feel so inclined.                white   \n",
       "4                                                NaN  asian, black, other   \n",
       "\n",
       "   height   income                          job       last_online  \\\n",
       "0    75.0     -1.0               transportation  2012-06-28-20-30   \n",
       "1    70.0  80000.0         hospitality / travel  2012-06-29-21-41   \n",
       "2    68.0     -1.0                          NaN  2012-06-27-09-10   \n",
       "3    71.0  20000.0                      student  2012-06-28-14-22   \n",
       "4    66.0     -1.0  artistic / musical / writer  2012-06-27-21-26   \n",
       "\n",
       "                          location  \\\n",
       "0  south san francisco, california   \n",
       "1              oakland, california   \n",
       "2        san francisco, california   \n",
       "3             berkeley, california   \n",
       "4        san francisco, california   \n",
       "\n",
       "                                      offspring orientation  \\\n",
       "0  doesn&rsquo;t have kids, but might want them    straight   \n",
       "1  doesn&rsquo;t have kids, but might want them    straight   \n",
       "2                                           NaN    straight   \n",
       "3                       doesn&rsquo;t want kids    straight   \n",
       "4                                           NaN    straight   \n",
       "\n",
       "                        pets                                  religion sex  \\\n",
       "0  likes dogs and likes cats     agnosticism and very serious about it   m   \n",
       "1  likes dogs and likes cats  agnosticism but not too serious about it   m   \n",
       "2                   has cats                                       NaN   m   \n",
       "3                 likes cats                                       NaN   m   \n",
       "4  likes dogs and likes cats                                       NaN   m   \n",
       "\n",
       "                                 sign     smokes  \\\n",
       "0                              gemini  sometimes   \n",
       "1                              cancer         no   \n",
       "2  pisces but it doesn&rsquo;t matter         no   \n",
       "3                              pisces         no   \n",
       "4                            aquarius         no   \n",
       "\n",
       "                                              speaks     status  \n",
       "0                                            english     single  \n",
       "1  english (fluently), spanish (poorly), french (...     single  \n",
       "2                               english, french, c++  available  \n",
       "3                           english, german (poorly)     single  \n",
       "4                                            english     single  "
      ]
     },
     "execution_count": 3,
     "metadata": {},
     "output_type": "execute_result"
    }
   ],
   "source": [
    "df.head()"
   ]
  },
  {
   "cell_type": "code",
   "execution_count": 4,
   "id": "e2e9107a",
   "metadata": {},
   "outputs": [
    {
     "data": {
      "text/html": [
       "<div>\n",
       "<style scoped>\n",
       "    .dataframe tbody tr th:only-of-type {\n",
       "        vertical-align: middle;\n",
       "    }\n",
       "\n",
       "    .dataframe tbody tr th {\n",
       "        vertical-align: top;\n",
       "    }\n",
       "\n",
       "    .dataframe thead th {\n",
       "        text-align: right;\n",
       "    }\n",
       "</style>\n",
       "<table border=\"1\" class=\"dataframe\">\n",
       "  <thead>\n",
       "    <tr style=\"text-align: right;\">\n",
       "      <th></th>\n",
       "      <th>age</th>\n",
       "      <th>body_type</th>\n",
       "      <th>diet</th>\n",
       "      <th>drinks</th>\n",
       "      <th>drugs</th>\n",
       "      <th>education</th>\n",
       "      <th>essay0</th>\n",
       "      <th>essay1</th>\n",
       "      <th>essay2</th>\n",
       "      <th>essay3</th>\n",
       "      <th>essay4</th>\n",
       "      <th>essay5</th>\n",
       "      <th>essay6</th>\n",
       "      <th>essay7</th>\n",
       "      <th>essay8</th>\n",
       "      <th>essay9</th>\n",
       "      <th>ethnicity</th>\n",
       "      <th>height</th>\n",
       "      <th>income</th>\n",
       "      <th>job</th>\n",
       "      <th>last_online</th>\n",
       "      <th>location</th>\n",
       "      <th>offspring</th>\n",
       "      <th>orientation</th>\n",
       "      <th>pets</th>\n",
       "      <th>religion</th>\n",
       "      <th>sex</th>\n",
       "      <th>sign</th>\n",
       "      <th>smokes</th>\n",
       "      <th>speaks</th>\n",
       "      <th>status</th>\n",
       "    </tr>\n",
       "  </thead>\n",
       "  <tbody>\n",
       "    <tr>\n",
       "      <th>3381</th>\n",
       "      <td>28.0</td>\n",
       "      <td>athletic</td>\n",
       "      <td>mostly anything</td>\n",
       "      <td>often</td>\n",
       "      <td>sometimes</td>\n",
       "      <td>graduated from college/university</td>\n",
       "      <td>originally from the boston area, went to colle...</td>\n",
       "      <td>trying to revive my teenage dreams of being a ...</td>\n",
       "      <td>bubble bobble and crafting ok cupid profiles.....</td>\n",
       "      <td>the word brooding has been thrown around a lot...</td>\n",
       "      <td>hate to contribute to the geek stereotype but ...</td>\n",
       "      <td>1. oxygen&lt;br /&gt;\\n2. water&lt;br /&gt;\\n3. food&lt;br /&gt;...</td>\n",
       "      <td>how awesome carl sagan was.</td>\n",
       "      <td>just moved here so am trying to figure that out.</td>\n",
       "      <td>when i was young my parents bought me a spike ...</td>\n",
       "      <td>you either think that han shot first or you kn...</td>\n",
       "      <td>white</td>\n",
       "      <td>68.0</td>\n",
       "      <td>-1.0</td>\n",
       "      <td>science / tech / engineering</td>\n",
       "      <td>2012-06-29-18-15</td>\n",
       "      <td>san francisco, california</td>\n",
       "      <td>doesn&amp;rsquo;t have kids</td>\n",
       "      <td>straight</td>\n",
       "      <td>likes dogs and likes cats</td>\n",
       "      <td>atheism and very serious about it</td>\n",
       "      <td>m</td>\n",
       "      <td>leo and it&amp;rsquo;s fun to think about</td>\n",
       "      <td>trying to quit</td>\n",
       "      <td>english</td>\n",
       "      <td>single</td>\n",
       "    </tr>\n",
       "    <tr>\n",
       "      <th>48052</th>\n",
       "      <td>NaN</td>\n",
       "      <td>NaN</td>\n",
       "      <td>NaN</td>\n",
       "      <td>NaN</td>\n",
       "      <td>NaN</td>\n",
       "      <td>NaN</td>\n",
       "      <td>NaN</td>\n",
       "      <td>NaN</td>\n",
       "      <td>NaN</td>\n",
       "      <td>NaN</td>\n",
       "      <td>NaN</td>\n",
       "      <td>NaN</td>\n",
       "      <td>NaN</td>\n",
       "      <td>NaN</td>\n",
       "      <td>NaN</td>\n",
       "      <td>NaN</td>\n",
       "      <td>NaN</td>\n",
       "      <td>NaN</td>\n",
       "      <td>NaN</td>\n",
       "      <td>NaN</td>\n",
       "      <td>NaN</td>\n",
       "      <td>NaN</td>\n",
       "      <td>NaN</td>\n",
       "      <td>NaN</td>\n",
       "      <td>NaN</td>\n",
       "      <td>NaN</td>\n",
       "      <td>NaN</td>\n",
       "      <td>NaN</td>\n",
       "      <td>NaN</td>\n",
       "      <td>NaN</td>\n",
       "      <td>NaN</td>\n",
       "    </tr>\n",
       "    <tr>\n",
       "      <th>26131</th>\n",
       "      <td>NaN</td>\n",
       "      <td>NaN</td>\n",
       "      <td>NaN</td>\n",
       "      <td>NaN</td>\n",
       "      <td>NaN</td>\n",
       "      <td>NaN</td>\n",
       "      <td>NaN</td>\n",
       "      <td>NaN</td>\n",
       "      <td>NaN</td>\n",
       "      <td>NaN</td>\n",
       "      <td>NaN</td>\n",
       "      <td>NaN</td>\n",
       "      <td>NaN</td>\n",
       "      <td>NaN</td>\n",
       "      <td>NaN</td>\n",
       "      <td>NaN</td>\n",
       "      <td>NaN</td>\n",
       "      <td>NaN</td>\n",
       "      <td>NaN</td>\n",
       "      <td>NaN</td>\n",
       "      <td>NaN</td>\n",
       "      <td>NaN</td>\n",
       "      <td>NaN</td>\n",
       "      <td>NaN</td>\n",
       "      <td>NaN</td>\n",
       "      <td>NaN</td>\n",
       "      <td>NaN</td>\n",
       "      <td>NaN</td>\n",
       "      <td>NaN</td>\n",
       "      <td>NaN</td>\n",
       "      <td>NaN</td>\n",
       "    </tr>\n",
       "    <tr>\n",
       "      <th>30722</th>\n",
       "      <td>NaN</td>\n",
       "      <td>NaN</td>\n",
       "      <td>NaN</td>\n",
       "      <td>NaN</td>\n",
       "      <td>NaN</td>\n",
       "      <td>NaN</td>\n",
       "      <td>NaN</td>\n",
       "      <td>NaN</td>\n",
       "      <td>NaN</td>\n",
       "      <td>NaN</td>\n",
       "      <td>NaN</td>\n",
       "      <td>NaN</td>\n",
       "      <td>NaN</td>\n",
       "      <td>NaN</td>\n",
       "      <td>NaN</td>\n",
       "      <td>NaN</td>\n",
       "      <td>NaN</td>\n",
       "      <td>NaN</td>\n",
       "      <td>NaN</td>\n",
       "      <td>NaN</td>\n",
       "      <td>NaN</td>\n",
       "      <td>NaN</td>\n",
       "      <td>NaN</td>\n",
       "      <td>NaN</td>\n",
       "      <td>NaN</td>\n",
       "      <td>NaN</td>\n",
       "      <td>NaN</td>\n",
       "      <td>NaN</td>\n",
       "      <td>NaN</td>\n",
       "      <td>NaN</td>\n",
       "      <td>NaN</td>\n",
       "    </tr>\n",
       "    <tr>\n",
       "      <th>10207</th>\n",
       "      <td>NaN</td>\n",
       "      <td>NaN</td>\n",
       "      <td>NaN</td>\n",
       "      <td>NaN</td>\n",
       "      <td>NaN</td>\n",
       "      <td>NaN</td>\n",
       "      <td>NaN</td>\n",
       "      <td>NaN</td>\n",
       "      <td>NaN</td>\n",
       "      <td>NaN</td>\n",
       "      <td>NaN</td>\n",
       "      <td>NaN</td>\n",
       "      <td>NaN</td>\n",
       "      <td>NaN</td>\n",
       "      <td>NaN</td>\n",
       "      <td>NaN</td>\n",
       "      <td>NaN</td>\n",
       "      <td>NaN</td>\n",
       "      <td>NaN</td>\n",
       "      <td>NaN</td>\n",
       "      <td>NaN</td>\n",
       "      <td>NaN</td>\n",
       "      <td>NaN</td>\n",
       "      <td>NaN</td>\n",
       "      <td>NaN</td>\n",
       "      <td>NaN</td>\n",
       "      <td>NaN</td>\n",
       "      <td>NaN</td>\n",
       "      <td>NaN</td>\n",
       "      <td>NaN</td>\n",
       "      <td>NaN</td>\n",
       "    </tr>\n",
       "    <tr>\n",
       "      <th>43248</th>\n",
       "      <td>NaN</td>\n",
       "      <td>NaN</td>\n",
       "      <td>NaN</td>\n",
       "      <td>NaN</td>\n",
       "      <td>NaN</td>\n",
       "      <td>NaN</td>\n",
       "      <td>NaN</td>\n",
       "      <td>NaN</td>\n",
       "      <td>NaN</td>\n",
       "      <td>NaN</td>\n",
       "      <td>NaN</td>\n",
       "      <td>NaN</td>\n",
       "      <td>NaN</td>\n",
       "      <td>NaN</td>\n",
       "      <td>NaN</td>\n",
       "      <td>NaN</td>\n",
       "      <td>NaN</td>\n",
       "      <td>NaN</td>\n",
       "      <td>NaN</td>\n",
       "      <td>NaN</td>\n",
       "      <td>NaN</td>\n",
       "      <td>NaN</td>\n",
       "      <td>NaN</td>\n",
       "      <td>NaN</td>\n",
       "      <td>NaN</td>\n",
       "      <td>NaN</td>\n",
       "      <td>NaN</td>\n",
       "      <td>NaN</td>\n",
       "      <td>NaN</td>\n",
       "      <td>NaN</td>\n",
       "      <td>NaN</td>\n",
       "    </tr>\n",
       "    <tr>\n",
       "      <th>51027</th>\n",
       "      <td>NaN</td>\n",
       "      <td>NaN</td>\n",
       "      <td>NaN</td>\n",
       "      <td>NaN</td>\n",
       "      <td>NaN</td>\n",
       "      <td>NaN</td>\n",
       "      <td>NaN</td>\n",
       "      <td>NaN</td>\n",
       "      <td>NaN</td>\n",
       "      <td>NaN</td>\n",
       "      <td>NaN</td>\n",
       "      <td>NaN</td>\n",
       "      <td>NaN</td>\n",
       "      <td>NaN</td>\n",
       "      <td>NaN</td>\n",
       "      <td>NaN</td>\n",
       "      <td>NaN</td>\n",
       "      <td>NaN</td>\n",
       "      <td>NaN</td>\n",
       "      <td>NaN</td>\n",
       "      <td>NaN</td>\n",
       "      <td>NaN</td>\n",
       "      <td>NaN</td>\n",
       "      <td>NaN</td>\n",
       "      <td>NaN</td>\n",
       "      <td>NaN</td>\n",
       "      <td>NaN</td>\n",
       "      <td>NaN</td>\n",
       "      <td>NaN</td>\n",
       "      <td>NaN</td>\n",
       "      <td>NaN</td>\n",
       "    </tr>\n",
       "    <tr>\n",
       "      <th>863</th>\n",
       "      <td>29.0</td>\n",
       "      <td>average</td>\n",
       "      <td>mostly anything</td>\n",
       "      <td>socially</td>\n",
       "      <td>never</td>\n",
       "      <td>graduated from college/university</td>\n",
       "      <td>naturally inquisitive. light traveler. led by ...</td>\n",
       "      <td>consultant by design. currently living in chic...</td>\n",
       "      <td>being open minded. my job. getting incredibly ...</td>\n",
       "      <td>NaN</td>\n",
       "      <td>american gods and anansi boys are my favorite ...</td>\n",
       "      <td>family, friends. sense of wonder, creativity, ...</td>\n",
       "      <td>how to get more involved and be more active in...</td>\n",
       "      <td>going for a run, followed by dinner, more work...</td>\n",
       "      <td>if there's one thing i've learned from you, in...</td>\n",
       "      <td>you want to.</td>\n",
       "      <td>white</td>\n",
       "      <td>72.0</td>\n",
       "      <td>-1.0</td>\n",
       "      <td>computer / hardware / software</td>\n",
       "      <td>2012-06-25-23-06</td>\n",
       "      <td>palo alto, california</td>\n",
       "      <td>NaN</td>\n",
       "      <td>straight</td>\n",
       "      <td>NaN</td>\n",
       "      <td>NaN</td>\n",
       "      <td>m</td>\n",
       "      <td>NaN</td>\n",
       "      <td>no</td>\n",
       "      <td>english (fluently), c++ (okay)</td>\n",
       "      <td>single</td>\n",
       "    </tr>\n",
       "    <tr>\n",
       "      <th>25307</th>\n",
       "      <td>NaN</td>\n",
       "      <td>NaN</td>\n",
       "      <td>NaN</td>\n",
       "      <td>NaN</td>\n",
       "      <td>NaN</td>\n",
       "      <td>NaN</td>\n",
       "      <td>NaN</td>\n",
       "      <td>NaN</td>\n",
       "      <td>NaN</td>\n",
       "      <td>NaN</td>\n",
       "      <td>NaN</td>\n",
       "      <td>NaN</td>\n",
       "      <td>NaN</td>\n",
       "      <td>NaN</td>\n",
       "      <td>NaN</td>\n",
       "      <td>NaN</td>\n",
       "      <td>NaN</td>\n",
       "      <td>NaN</td>\n",
       "      <td>NaN</td>\n",
       "      <td>NaN</td>\n",
       "      <td>NaN</td>\n",
       "      <td>NaN</td>\n",
       "      <td>NaN</td>\n",
       "      <td>NaN</td>\n",
       "      <td>NaN</td>\n",
       "      <td>NaN</td>\n",
       "      <td>NaN</td>\n",
       "      <td>NaN</td>\n",
       "      <td>NaN</td>\n",
       "      <td>NaN</td>\n",
       "      <td>NaN</td>\n",
       "    </tr>\n",
       "    <tr>\n",
       "      <th>27399</th>\n",
       "      <td>NaN</td>\n",
       "      <td>NaN</td>\n",
       "      <td>NaN</td>\n",
       "      <td>NaN</td>\n",
       "      <td>NaN</td>\n",
       "      <td>NaN</td>\n",
       "      <td>NaN</td>\n",
       "      <td>NaN</td>\n",
       "      <td>NaN</td>\n",
       "      <td>NaN</td>\n",
       "      <td>NaN</td>\n",
       "      <td>NaN</td>\n",
       "      <td>NaN</td>\n",
       "      <td>NaN</td>\n",
       "      <td>NaN</td>\n",
       "      <td>NaN</td>\n",
       "      <td>NaN</td>\n",
       "      <td>NaN</td>\n",
       "      <td>NaN</td>\n",
       "      <td>NaN</td>\n",
       "      <td>NaN</td>\n",
       "      <td>NaN</td>\n",
       "      <td>NaN</td>\n",
       "      <td>NaN</td>\n",
       "      <td>NaN</td>\n",
       "      <td>NaN</td>\n",
       "      <td>NaN</td>\n",
       "      <td>NaN</td>\n",
       "      <td>NaN</td>\n",
       "      <td>NaN</td>\n",
       "      <td>NaN</td>\n",
       "    </tr>\n",
       "  </tbody>\n",
       "</table>\n",
       "</div>"
      ],
      "text/plain": [
       "        age body_type             diet    drinks      drugs  \\\n",
       "3381   28.0  athletic  mostly anything     often  sometimes   \n",
       "48052   NaN       NaN              NaN       NaN        NaN   \n",
       "26131   NaN       NaN              NaN       NaN        NaN   \n",
       "30722   NaN       NaN              NaN       NaN        NaN   \n",
       "10207   NaN       NaN              NaN       NaN        NaN   \n",
       "43248   NaN       NaN              NaN       NaN        NaN   \n",
       "51027   NaN       NaN              NaN       NaN        NaN   \n",
       "863    29.0   average  mostly anything  socially      never   \n",
       "25307   NaN       NaN              NaN       NaN        NaN   \n",
       "27399   NaN       NaN              NaN       NaN        NaN   \n",
       "\n",
       "                               education  \\\n",
       "3381   graduated from college/university   \n",
       "48052                                NaN   \n",
       "26131                                NaN   \n",
       "30722                                NaN   \n",
       "10207                                NaN   \n",
       "43248                                NaN   \n",
       "51027                                NaN   \n",
       "863    graduated from college/university   \n",
       "25307                                NaN   \n",
       "27399                                NaN   \n",
       "\n",
       "                                                  essay0  \\\n",
       "3381   originally from the boston area, went to colle...   \n",
       "48052                                                NaN   \n",
       "26131                                                NaN   \n",
       "30722                                                NaN   \n",
       "10207                                                NaN   \n",
       "43248                                                NaN   \n",
       "51027                                                NaN   \n",
       "863    naturally inquisitive. light traveler. led by ...   \n",
       "25307                                                NaN   \n",
       "27399                                                NaN   \n",
       "\n",
       "                                                  essay1  \\\n",
       "3381   trying to revive my teenage dreams of being a ...   \n",
       "48052                                                NaN   \n",
       "26131                                                NaN   \n",
       "30722                                                NaN   \n",
       "10207                                                NaN   \n",
       "43248                                                NaN   \n",
       "51027                                                NaN   \n",
       "863    consultant by design. currently living in chic...   \n",
       "25307                                                NaN   \n",
       "27399                                                NaN   \n",
       "\n",
       "                                                  essay2  \\\n",
       "3381   bubble bobble and crafting ok cupid profiles.....   \n",
       "48052                                                NaN   \n",
       "26131                                                NaN   \n",
       "30722                                                NaN   \n",
       "10207                                                NaN   \n",
       "43248                                                NaN   \n",
       "51027                                                NaN   \n",
       "863    being open minded. my job. getting incredibly ...   \n",
       "25307                                                NaN   \n",
       "27399                                                NaN   \n",
       "\n",
       "                                                  essay3  \\\n",
       "3381   the word brooding has been thrown around a lot...   \n",
       "48052                                                NaN   \n",
       "26131                                                NaN   \n",
       "30722                                                NaN   \n",
       "10207                                                NaN   \n",
       "43248                                                NaN   \n",
       "51027                                                NaN   \n",
       "863                                                  NaN   \n",
       "25307                                                NaN   \n",
       "27399                                                NaN   \n",
       "\n",
       "                                                  essay4  \\\n",
       "3381   hate to contribute to the geek stereotype but ...   \n",
       "48052                                                NaN   \n",
       "26131                                                NaN   \n",
       "30722                                                NaN   \n",
       "10207                                                NaN   \n",
       "43248                                                NaN   \n",
       "51027                                                NaN   \n",
       "863    american gods and anansi boys are my favorite ...   \n",
       "25307                                                NaN   \n",
       "27399                                                NaN   \n",
       "\n",
       "                                                  essay5  \\\n",
       "3381   1. oxygen<br />\\n2. water<br />\\n3. food<br />...   \n",
       "48052                                                NaN   \n",
       "26131                                                NaN   \n",
       "30722                                                NaN   \n",
       "10207                                                NaN   \n",
       "43248                                                NaN   \n",
       "51027                                                NaN   \n",
       "863    family, friends. sense of wonder, creativity, ...   \n",
       "25307                                                NaN   \n",
       "27399                                                NaN   \n",
       "\n",
       "                                                  essay6  \\\n",
       "3381                         how awesome carl sagan was.   \n",
       "48052                                                NaN   \n",
       "26131                                                NaN   \n",
       "30722                                                NaN   \n",
       "10207                                                NaN   \n",
       "43248                                                NaN   \n",
       "51027                                                NaN   \n",
       "863    how to get more involved and be more active in...   \n",
       "25307                                                NaN   \n",
       "27399                                                NaN   \n",
       "\n",
       "                                                  essay7  \\\n",
       "3381    just moved here so am trying to figure that out.   \n",
       "48052                                                NaN   \n",
       "26131                                                NaN   \n",
       "30722                                                NaN   \n",
       "10207                                                NaN   \n",
       "43248                                                NaN   \n",
       "51027                                                NaN   \n",
       "863    going for a run, followed by dinner, more work...   \n",
       "25307                                                NaN   \n",
       "27399                                                NaN   \n",
       "\n",
       "                                                  essay8  \\\n",
       "3381   when i was young my parents bought me a spike ...   \n",
       "48052                                                NaN   \n",
       "26131                                                NaN   \n",
       "30722                                                NaN   \n",
       "10207                                                NaN   \n",
       "43248                                                NaN   \n",
       "51027                                                NaN   \n",
       "863    if there's one thing i've learned from you, in...   \n",
       "25307                                                NaN   \n",
       "27399                                                NaN   \n",
       "\n",
       "                                                  essay9 ethnicity  height  \\\n",
       "3381   you either think that han shot first or you kn...     white    68.0   \n",
       "48052                                                NaN       NaN     NaN   \n",
       "26131                                                NaN       NaN     NaN   \n",
       "30722                                                NaN       NaN     NaN   \n",
       "10207                                                NaN       NaN     NaN   \n",
       "43248                                                NaN       NaN     NaN   \n",
       "51027                                                NaN       NaN     NaN   \n",
       "863                                         you want to.     white    72.0   \n",
       "25307                                                NaN       NaN     NaN   \n",
       "27399                                                NaN       NaN     NaN   \n",
       "\n",
       "       income                             job       last_online  \\\n",
       "3381     -1.0    science / tech / engineering  2012-06-29-18-15   \n",
       "48052     NaN                             NaN               NaN   \n",
       "26131     NaN                             NaN               NaN   \n",
       "30722     NaN                             NaN               NaN   \n",
       "10207     NaN                             NaN               NaN   \n",
       "43248     NaN                             NaN               NaN   \n",
       "51027     NaN                             NaN               NaN   \n",
       "863      -1.0  computer / hardware / software  2012-06-25-23-06   \n",
       "25307     NaN                             NaN               NaN   \n",
       "27399     NaN                             NaN               NaN   \n",
       "\n",
       "                        location                offspring orientation  \\\n",
       "3381   san francisco, california  doesn&rsquo;t have kids    straight   \n",
       "48052                        NaN                      NaN         NaN   \n",
       "26131                        NaN                      NaN         NaN   \n",
       "30722                        NaN                      NaN         NaN   \n",
       "10207                        NaN                      NaN         NaN   \n",
       "43248                        NaN                      NaN         NaN   \n",
       "51027                        NaN                      NaN         NaN   \n",
       "863        palo alto, california                      NaN    straight   \n",
       "25307                        NaN                      NaN         NaN   \n",
       "27399                        NaN                      NaN         NaN   \n",
       "\n",
       "                            pets                           religion  sex  \\\n",
       "3381   likes dogs and likes cats  atheism and very serious about it    m   \n",
       "48052                        NaN                                NaN  NaN   \n",
       "26131                        NaN                                NaN  NaN   \n",
       "30722                        NaN                                NaN  NaN   \n",
       "10207                        NaN                                NaN  NaN   \n",
       "43248                        NaN                                NaN  NaN   \n",
       "51027                        NaN                                NaN  NaN   \n",
       "863                          NaN                                NaN    m   \n",
       "25307                        NaN                                NaN  NaN   \n",
       "27399                        NaN                                NaN  NaN   \n",
       "\n",
       "                                        sign          smokes  \\\n",
       "3381   leo and it&rsquo;s fun to think about  trying to quit   \n",
       "48052                                    NaN             NaN   \n",
       "26131                                    NaN             NaN   \n",
       "30722                                    NaN             NaN   \n",
       "10207                                    NaN             NaN   \n",
       "43248                                    NaN             NaN   \n",
       "51027                                    NaN             NaN   \n",
       "863                                      NaN              no   \n",
       "25307                                    NaN             NaN   \n",
       "27399                                    NaN             NaN   \n",
       "\n",
       "                               speaks  status  \n",
       "3381                          english  single  \n",
       "48052                             NaN     NaN  \n",
       "26131                             NaN     NaN  \n",
       "30722                             NaN     NaN  \n",
       "10207                             NaN     NaN  \n",
       "43248                             NaN     NaN  \n",
       "51027                             NaN     NaN  \n",
       "863    english (fluently), c++ (okay)  single  \n",
       "25307                             NaN     NaN  \n",
       "27399                             NaN     NaN  "
      ]
     },
     "execution_count": 4,
     "metadata": {},
     "output_type": "execute_result"
    }
   ],
   "source": [
    "df.sample(10)"
   ]
  },
  {
   "cell_type": "code",
   "execution_count": 5,
   "id": "3657ca49",
   "metadata": {},
   "outputs": [],
   "source": [
    "# in this sample we can see that we have rows with only NaN values"
   ]
  },
  {
   "cell_type": "code",
   "execution_count": 6,
   "id": "6c3bcf68",
   "metadata": {},
   "outputs": [
    {
     "data": {
      "text/plain": [
       "(60552, 31)"
      ]
     },
     "execution_count": 6,
     "metadata": {},
     "output_type": "execute_result"
    }
   ],
   "source": [
    "df.shape"
   ]
  },
  {
   "cell_type": "code",
   "execution_count": 7,
   "id": "55aee601",
   "metadata": {},
   "outputs": [
    {
     "name": "stdout",
     "output_type": "stream",
     "text": [
      "<class 'pandas.core.frame.DataFrame'>\n",
      "RangeIndex: 60552 entries, 0 to 60551\n",
      "Data columns (total 31 columns):\n",
      " #   Column       Non-Null Count  Dtype  \n",
      "---  ------       --------------  -----  \n",
      " 0   age          9514 non-null   float64\n",
      " 1   body_type    8666 non-null   object \n",
      " 2   diet         5761 non-null   object \n",
      " 3   drinks       9012 non-null   object \n",
      " 4   drugs        7215 non-null   object \n",
      " 5   education    8459 non-null   object \n",
      " 6   essay0       8667 non-null   object \n",
      " 7   essay1       8347 non-null   object \n",
      " 8   essay2       8049 non-null   object \n",
      " 9   essay3       7690 non-null   object \n",
      " 10  essay4       7879 non-null   object \n",
      " 11  essay5       7814 non-null   object \n",
      " 12  essay6       7352 non-null   object \n",
      " 13  essay7       7553 non-null   object \n",
      " 14  essay8       6361 non-null   object \n",
      " 15  essay9       7554 non-null   object \n",
      " 16  ethnicity    8565 non-null   object \n",
      " 17  height       9514 non-null   float64\n",
      " 18  income       9514 non-null   float64\n",
      " 19  job          8183 non-null   object \n",
      " 20  last_online  9514 non-null   object \n",
      " 21  location     9514 non-null   object \n",
      " 22  offspring    3886 non-null   object \n",
      " 23  orientation  9514 non-null   object \n",
      " 24  pets         6352 non-null   object \n",
      " 25  religion     6261 non-null   object \n",
      " 26  sex          9514 non-null   object \n",
      " 27  sign         7776 non-null   object \n",
      " 28  smokes       8596 non-null   object \n",
      " 29  speaks       9508 non-null   object \n",
      " 30  status       9514 non-null   object \n",
      "dtypes: float64(3), object(28)\n",
      "memory usage: 14.3+ MB\n"
     ]
    }
   ],
   "source": [
    "df.info()"
   ]
  },
  {
   "cell_type": "code",
   "execution_count": 8,
   "id": "8b6cb317",
   "metadata": {},
   "outputs": [
    {
     "data": {
      "text/html": [
       "<div>\n",
       "<style scoped>\n",
       "    .dataframe tbody tr th:only-of-type {\n",
       "        vertical-align: middle;\n",
       "    }\n",
       "\n",
       "    .dataframe tbody tr th {\n",
       "        vertical-align: top;\n",
       "    }\n",
       "\n",
       "    .dataframe thead th {\n",
       "        text-align: right;\n",
       "    }\n",
       "</style>\n",
       "<table border=\"1\" class=\"dataframe\">\n",
       "  <thead>\n",
       "    <tr style=\"text-align: right;\">\n",
       "      <th></th>\n",
       "      <th>age</th>\n",
       "      <th>height</th>\n",
       "      <th>income</th>\n",
       "    </tr>\n",
       "  </thead>\n",
       "  <tbody>\n",
       "    <tr>\n",
       "      <th>age</th>\n",
       "      <td>1.000000</td>\n",
       "      <td>-0.022078</td>\n",
       "      <td>0.011424</td>\n",
       "    </tr>\n",
       "    <tr>\n",
       "      <th>height</th>\n",
       "      <td>-0.022078</td>\n",
       "      <td>1.000000</td>\n",
       "      <td>0.073105</td>\n",
       "    </tr>\n",
       "    <tr>\n",
       "      <th>income</th>\n",
       "      <td>0.011424</td>\n",
       "      <td>0.073105</td>\n",
       "      <td>1.000000</td>\n",
       "    </tr>\n",
       "  </tbody>\n",
       "</table>\n",
       "</div>"
      ],
      "text/plain": [
       "             age    height    income\n",
       "age     1.000000 -0.022078  0.011424\n",
       "height -0.022078  1.000000  0.073105\n",
       "income  0.011424  0.073105  1.000000"
      ]
     },
     "execution_count": 8,
     "metadata": {},
     "output_type": "execute_result"
    }
   ],
   "source": [
    "df.corr()"
   ]
  },
  {
   "cell_type": "code",
   "execution_count": 9,
   "id": "94634b5c",
   "metadata": {},
   "outputs": [
    {
     "data": {
      "text/plain": [
       "age            51038\n",
       "body_type      51886\n",
       "diet           54791\n",
       "drinks         51540\n",
       "drugs          53337\n",
       "education      52093\n",
       "essay0         51885\n",
       "essay1         52205\n",
       "essay2         52503\n",
       "essay3         52862\n",
       "essay4         52673\n",
       "essay5         52738\n",
       "essay6         53200\n",
       "essay7         52999\n",
       "essay8         54191\n",
       "essay9         52998\n",
       "ethnicity      51987\n",
       "height         51038\n",
       "income         51038\n",
       "job            52369\n",
       "last_online    51038\n",
       "location       51038\n",
       "offspring      56666\n",
       "orientation    51038\n",
       "pets           54200\n",
       "religion       54291\n",
       "sex            51038\n",
       "sign           52776\n",
       "smokes         51956\n",
       "speaks         51044\n",
       "status         51038\n",
       "dtype: int64"
      ]
     },
     "execution_count": 9,
     "metadata": {},
     "output_type": "execute_result"
    }
   ],
   "source": [
    "df.isnull().sum()"
   ]
  },
  {
   "cell_type": "code",
   "execution_count": 10,
   "id": "21ea1a4b",
   "metadata": {},
   "outputs": [],
   "source": [
    "#Remove missing values.\n",
    "#‘all’ : If all values are NA, drop that row\n",
    "df.dropna(axis=0,how=\"all\",inplace=True)"
   ]
  },
  {
   "cell_type": "code",
   "execution_count": 11,
   "id": "12a2df6b",
   "metadata": {},
   "outputs": [
    {
     "data": {
      "text/plain": [
       "(9514, 31)"
      ]
     },
     "execution_count": 11,
     "metadata": {},
     "output_type": "execute_result"
    }
   ],
   "source": [
    "df.shape # reduced from +60k rows to 9514"
   ]
  },
  {
   "cell_type": "code",
   "execution_count": 12,
   "id": "a559cc58",
   "metadata": {},
   "outputs": [
    {
     "data": {
      "text/plain": [
       "age               0\n",
       "body_type       848\n",
       "diet           3753\n",
       "drinks          502\n",
       "drugs          2299\n",
       "education      1055\n",
       "essay0          847\n",
       "essay1         1167\n",
       "essay2         1465\n",
       "essay3         1824\n",
       "essay4         1635\n",
       "essay5         1700\n",
       "essay6         2162\n",
       "essay7         1961\n",
       "essay8         3153\n",
       "essay9         1960\n",
       "ethnicity       949\n",
       "height            0\n",
       "income            0\n",
       "job            1331\n",
       "last_online       0\n",
       "location          0\n",
       "offspring      5628\n",
       "orientation       0\n",
       "pets           3162\n",
       "religion       3253\n",
       "sex               0\n",
       "sign           1738\n",
       "smokes          918\n",
       "speaks            6\n",
       "status            0\n",
       "dtype: int64"
      ]
     },
     "execution_count": 12,
     "metadata": {},
     "output_type": "execute_result"
    }
   ],
   "source": [
    "df.isnull().sum()"
   ]
  },
  {
   "cell_type": "code",
   "execution_count": 19,
   "id": "fced2b50",
   "metadata": {},
   "outputs": [
    {
     "data": {
      "image/png": "[encoded data removed]",
      "text/plain": [
       "<Figure size 1224x360 with 1 Axes>"
      ]
     },
     "metadata": {
      "needs_background": "light"
     },
     "output_type": "display_data"
    }
   ],
   "source": [
    "plt.figure(figsize=(17,5))\n",
    "sns.histplot(x=df[\"age\"]);"
   ]
  },
  {
   "cell_type": "code",
   "execution_count": 24,
   "id": "1344e998",
   "metadata": {},
   "outputs": [
    {
     "data": {
      "text/html": [
       "<div>\n",
       "<style scoped>\n",
       "    .dataframe tbody tr th:only-of-type {\n",
       "        vertical-align: middle;\n",
       "    }\n",
       "\n",
       "    .dataframe tbody tr th {\n",
       "        vertical-align: top;\n",
       "    }\n",
       "\n",
       "    .dataframe thead th {\n",
       "        text-align: right;\n",
       "    }\n",
       "</style>\n",
       "<table border=\"1\" class=\"dataframe\">\n",
       "  <thead>\n",
       "    <tr style=\"text-align: right;\">\n",
       "      <th></th>\n",
       "      <th>age</th>\n",
       "      <th>body_type</th>\n",
       "      <th>diet</th>\n",
       "      <th>drinks</th>\n",
       "      <th>drugs</th>\n",
       "      <th>education</th>\n",
       "      <th>essay0</th>\n",
       "      <th>essay1</th>\n",
       "      <th>essay2</th>\n",
       "      <th>essay3</th>\n",
       "      <th>essay4</th>\n",
       "      <th>essay5</th>\n",
       "      <th>essay6</th>\n",
       "      <th>essay7</th>\n",
       "      <th>essay8</th>\n",
       "      <th>essay9</th>\n",
       "      <th>ethnicity</th>\n",
       "      <th>height</th>\n",
       "      <th>income</th>\n",
       "      <th>job</th>\n",
       "      <th>last_online</th>\n",
       "      <th>location</th>\n",
       "      <th>offspring</th>\n",
       "      <th>orientation</th>\n",
       "      <th>pets</th>\n",
       "      <th>religion</th>\n",
       "      <th>sex</th>\n",
       "      <th>sign</th>\n",
       "      <th>smokes</th>\n",
       "      <th>speaks</th>\n",
       "      <th>status</th>\n",
       "    </tr>\n",
       "  </thead>\n",
       "  <tbody>\n",
       "    <tr>\n",
       "      <th>0</th>\n",
       "      <td>22.0</td>\n",
       "      <td>a little extra</td>\n",
       "      <td>strictly anything</td>\n",
       "      <td>socially</td>\n",
       "      <td>never</td>\n",
       "      <td>working on college/university</td>\n",
       "      <td>about me:&lt;br /&gt;\\n&lt;br /&gt;\\ni would love to think...</td>\n",
       "      <td>currently working as an international agent fo...</td>\n",
       "      <td>making people laugh.&lt;br /&gt;\\nranting about a go...</td>\n",
       "      <td>the way i look. i am a six foot half asian, ha...</td>\n",
       "      <td>books:&lt;br /&gt;\\nabsurdistan, the republic, of mi...</td>\n",
       "      <td>food.&lt;br /&gt;\\nwater.&lt;br /&gt;\\ncell phone.&lt;br /&gt;\\n...</td>\n",
       "      <td>duality and humorous things</td>\n",
       "      <td>trying to find someone to hang out with. i am ...</td>\n",
       "      <td>i am new to california and looking for someone...</td>\n",
       "      <td>you want to be swept off your feet!&lt;br /&gt;\\nyou...</td>\n",
       "      <td>asian, white</td>\n",
       "      <td>75.0</td>\n",
       "      <td>-1.0</td>\n",
       "      <td>transportation</td>\n",
       "      <td>2012-06-28-20-30</td>\n",
       "      <td>south san francisco, california</td>\n",
       "      <td>doesn&amp;rsquo;t have kids, but might want them</td>\n",
       "      <td>straight</td>\n",
       "      <td>likes dogs and likes cats</td>\n",
       "      <td>agnosticism and very serious about it</td>\n",
       "      <td>m</td>\n",
       "      <td>gemini</td>\n",
       "      <td>sometimes</td>\n",
       "      <td>english</td>\n",
       "      <td>single</td>\n",
       "    </tr>\n",
       "    <tr>\n",
       "      <th>1</th>\n",
       "      <td>35.0</td>\n",
       "      <td>average</td>\n",
       "      <td>mostly other</td>\n",
       "      <td>often</td>\n",
       "      <td>sometimes</td>\n",
       "      <td>working on space camp</td>\n",
       "      <td>i am a chef: this is what that means.&lt;br /&gt;\\n1...</td>\n",
       "      <td>dedicating everyday to being an unbelievable b...</td>\n",
       "      <td>being silly. having ridiculous amonts of fun w...</td>\n",
       "      <td>NaN</td>\n",
       "      <td>i am die hard christopher moore fan. i don't r...</td>\n",
       "      <td>delicious porkness in all of its glories.&lt;br /...</td>\n",
       "      <td>NaN</td>\n",
       "      <td>NaN</td>\n",
       "      <td>i am very open and will share just about anyth...</td>\n",
       "      <td>NaN</td>\n",
       "      <td>white</td>\n",
       "      <td>70.0</td>\n",
       "      <td>80000.0</td>\n",
       "      <td>hospitality / travel</td>\n",
       "      <td>2012-06-29-21-41</td>\n",
       "      <td>oakland, california</td>\n",
       "      <td>doesn&amp;rsquo;t have kids, but might want them</td>\n",
       "      <td>straight</td>\n",
       "      <td>likes dogs and likes cats</td>\n",
       "      <td>agnosticism but not too serious about it</td>\n",
       "      <td>m</td>\n",
       "      <td>cancer</td>\n",
       "      <td>no</td>\n",
       "      <td>english (fluently), spanish (poorly), french (...</td>\n",
       "      <td>single</td>\n",
       "    </tr>\n",
       "  </tbody>\n",
       "</table>\n",
       "</div>"
      ],
      "text/plain": [
       "    age       body_type               diet    drinks      drugs  \\\n",
       "0  22.0  a little extra  strictly anything  socially      never   \n",
       "1  35.0         average       mostly other     often  sometimes   \n",
       "\n",
       "                       education  \\\n",
       "0  working on college/university   \n",
       "1          working on space camp   \n",
       "\n",
       "                                              essay0  \\\n",
       "0  about me:<br />\\n<br />\\ni would love to think...   \n",
       "1  i am a chef: this is what that means.<br />\\n1...   \n",
       "\n",
       "                                              essay1  \\\n",
       "0  currently working as an international agent fo...   \n",
       "1  dedicating everyday to being an unbelievable b...   \n",
       "\n",
       "                                              essay2  \\\n",
       "0  making people laugh.<br />\\nranting about a go...   \n",
       "1  being silly. having ridiculous amonts of fun w...   \n",
       "\n",
       "                                              essay3  \\\n",
       "0  the way i look. i am a six foot half asian, ha...   \n",
       "1                                                NaN   \n",
       "\n",
       "                                              essay4  \\\n",
       "0  books:<br />\\nabsurdistan, the republic, of mi...   \n",
       "1  i am die hard christopher moore fan. i don't r...   \n",
       "\n",
       "                                              essay5  \\\n",
       "0  food.<br />\\nwater.<br />\\ncell phone.<br />\\n...   \n",
       "1  delicious porkness in all of its glories.<br /...   \n",
       "\n",
       "                        essay6  \\\n",
       "0  duality and humorous things   \n",
       "1                          NaN   \n",
       "\n",
       "                                              essay7  \\\n",
       "0  trying to find someone to hang out with. i am ...   \n",
       "1                                                NaN   \n",
       "\n",
       "                                              essay8  \\\n",
       "0  i am new to california and looking for someone...   \n",
       "1  i am very open and will share just about anyth...   \n",
       "\n",
       "                                              essay9     ethnicity  height  \\\n",
       "0  you want to be swept off your feet!<br />\\nyou...  asian, white    75.0   \n",
       "1                                                NaN         white    70.0   \n",
       "\n",
       "    income                   job       last_online  \\\n",
       "0     -1.0        transportation  2012-06-28-20-30   \n",
       "1  80000.0  hospitality / travel  2012-06-29-21-41   \n",
       "\n",
       "                          location  \\\n",
       "0  south san francisco, california   \n",
       "1              oakland, california   \n",
       "\n",
       "                                      offspring orientation  \\\n",
       "0  doesn&rsquo;t have kids, but might want them    straight   \n",
       "1  doesn&rsquo;t have kids, but might want them    straight   \n",
       "\n",
       "                        pets                                  religion sex  \\\n",
       "0  likes dogs and likes cats     agnosticism and very serious about it   m   \n",
       "1  likes dogs and likes cats  agnosticism but not too serious about it   m   \n",
       "\n",
       "     sign     smokes                                             speaks  \\\n",
       "0  gemini  sometimes                                            english   \n",
       "1  cancer         no  english (fluently), spanish (poorly), french (...   \n",
       "\n",
       "   status  \n",
       "0  single  \n",
       "1  single  "
      ]
     },
     "execution_count": 24,
     "metadata": {},
     "output_type": "execute_result"
    }
   ],
   "source": [
    "df.head(2)"
   ]
  },
  {
   "cell_type": "code",
   "execution_count": 25,
   "id": "01432c97",
   "metadata": {
    "scrolled": true
   },
   "outputs": [
    {
     "data": {
      "image/png": "[encoded data removed]",
      "text/plain": [
       "<Figure size 1224x360 with 1 Axes>"
      ]
     },
     "metadata": {
      "needs_background": "light"
     },
     "output_type": "display_data"
    }
   ],
   "source": [
    "plt.figure(figsize=(17,5))\n",
    "sns.countplot(x=df[\"body_type\"]);"
   ]
  },
  {
   "cell_type": "code",
   "execution_count": 234,
   "id": "96e094dd",
   "metadata": {
    "collapsed": true
   },
   "outputs": [
    {
     "data": {
      "text/plain": [
       "mesomorph    4840\n",
       "ectomorph    3283\n",
       "endomorph    1391\n",
       "Name: body_type, dtype: int64"
      ]
     },
     "execution_count": 234,
     "metadata": {},
     "output_type": "execute_result"
    }
   ],
   "source": [
    "df.body_type.value_counts()"
   ]
  },
  {
   "cell_type": "code",
   "execution_count": 26,
   "id": "779049dc",
   "metadata": {},
   "outputs": [],
   "source": [
    "#body type dictionary\n",
    "bodytype={\"a little extra\":\"endomorph\",\"curvy\":\"endomorph\", \"full figured\":\"endomorph\",\"rather not say\":\"endomorph\",\"used up\":\"endomorph\",\"overweight\":\"endomorph\",    \n",
    "          \"average\":\"ectomorph\",\"thin\":\"ectomorph\",\"skinny\":\"ectomorph\",\n",
    "          \"athletic\":\"mesomorph\",\"fit\":\"mesomorph\",\"jacked\":\"mesomorph\"}\n",
    "df.body_type.replace(bodytype,inplace=True)"
   ]
  },
  {
   "cell_type": "code",
   "execution_count": 27,
   "id": "9985f554",
   "metadata": {},
   "outputs": [
    {
     "data": {
      "image/png": "[encoded data removed]",
      "text/plain": [
       "<Figure size 432x288 with 1 Axes>"
      ]
     },
     "metadata": {
      "needs_background": "light"
     },
     "output_type": "display_data"
    }
   ],
   "source": [
    "sns.countplot(x=df[\"body_type\"]);"
   ]
  },
  {
   "cell_type": "code",
   "execution_count": 28,
   "id": "0edb8370",
   "metadata": {},
   "outputs": [
    {
     "data": {
      "text/plain": [
       "0    mesomorph\n",
       "Name: body_type, dtype: object"
      ]
     },
     "execution_count": 28,
     "metadata": {},
     "output_type": "execute_result"
    }
   ],
   "source": [
    "df.body_type.mode()"
   ]
  },
  {
   "cell_type": "code",
   "execution_count": 29,
   "id": "ef35142d",
   "metadata": {},
   "outputs": [],
   "source": [
    "df[\"body_type\"].fillna(\"mesomorph\",inplace=True)\n",
    "#I don't think filling body types with mode is that logical in real terms, but I didn't know what to choose else"
   ]
  },
  {
   "cell_type": "code",
   "execution_count": 30,
   "id": "e2883a34",
   "metadata": {},
   "outputs": [
    {
     "data": {
      "text/plain": [
       "mostly anything        2621\n",
       "anything               1067\n",
       "strictly anything       835\n",
       "mostly vegetarian       568\n",
       "mostly other            154\n",
       "strictly vegetarian     135\n",
       "vegetarian              111\n",
       "strictly other           64\n",
       "mostly vegan             52\n",
       "other                    52\n",
       "strictly vegan           40\n",
       "vegan                    28\n",
       "mostly halal             13\n",
       "mostly kosher            12\n",
       "strictly halal            4\n",
       "strictly kosher           2\n",
       "kosher                    2\n",
       "halal                     1\n",
       "Name: diet, dtype: int64"
      ]
     },
     "execution_count": 30,
     "metadata": {},
     "output_type": "execute_result"
    }
   ],
   "source": [
    "df.diet.value_counts()"
   ]
  },
  {
   "cell_type": "code",
   "execution_count": 31,
   "id": "02c3b47b",
   "metadata": {},
   "outputs": [],
   "source": [
    "#diet type dictionary\n",
    "diettype={\"mostly anything\":\"anything\",\"strictly anything\":\"anything\",\"mostly other\":\"anything\",\n",
    "          \"mostly vegetarian\":\"vegetarian\",\"strictly vegetarian\":\"vegetarian\",\n",
    "          \"mostly other\":\"other\",\"strictly other\":\"other\",\n",
    "          \"mostly vegan\":\"vegan\",\"strictly vegan\":\"vegan\",\n",
    "          \"mostly halal\":\"halal\",\"strictly halal\":\"halal\",\n",
    "          \"mostly kosher\":\"kosher\",\"strictly kosher\":\"kosher\"}\n",
    "df.diet.replace(diettype,inplace=True)"
   ]
  },
  {
   "cell_type": "code",
   "execution_count": 32,
   "id": "4e7d414b",
   "metadata": {},
   "outputs": [
    {
     "data": {
      "image/png": "[encoded data removed]",
      "text/plain": [
       "<Figure size 576x360 with 1 Axes>"
      ]
     },
     "metadata": {
      "needs_background": "light"
     },
     "output_type": "display_data"
    }
   ],
   "source": [
    "plt.figure(figsize=(8,5))\n",
    "sns.countplot(x=df[\"diet\"]);"
   ]
  },
  {
   "cell_type": "code",
   "execution_count": 33,
   "id": "a30fa5fa",
   "metadata": {},
   "outputs": [
    {
     "data": {
      "text/plain": [
       "0    anything\n",
       "Name: diet, dtype: object"
      ]
     },
     "execution_count": 33,
     "metadata": {},
     "output_type": "execute_result"
    }
   ],
   "source": [
    "df.diet.mode()"
   ]
  },
  {
   "cell_type": "code",
   "execution_count": 34,
   "id": "64997f80",
   "metadata": {},
   "outputs": [],
   "source": [
    "df.diet.fillna(\"anything\",inplace=True)"
   ]
  },
  {
   "cell_type": "code",
   "execution_count": 237,
   "id": "3a1b70b1",
   "metadata": {},
   "outputs": [
    {
     "data": {
      "image/png": "[encoded data removed]",
      "text/plain": [
       "<Figure size 576x360 with 1 Axes>"
      ]
     },
     "metadata": {
      "needs_background": "light"
     },
     "output_type": "display_data"
    }
   ],
   "source": [
    "plt.figure(figsize=(8,5))\n",
    "sns.countplot(x=df[\"drinks\"]);"
   ]
  },
  {
   "cell_type": "code",
   "execution_count": 36,
   "id": "34de385f",
   "metadata": {},
   "outputs": [
    {
     "data": {
      "text/plain": [
       "0    socially\n",
       "Name: drinks, dtype: object"
      ]
     },
     "execution_count": 36,
     "metadata": {},
     "output_type": "execute_result"
    }
   ],
   "source": [
    "df.drinks.mode()"
   ]
  },
  {
   "cell_type": "code",
   "execution_count": 37,
   "id": "c9257984",
   "metadata": {},
   "outputs": [],
   "source": [
    "df.drinks.fillna(\"socially\",inplace=True)"
   ]
  },
  {
   "cell_type": "code",
   "execution_count": 235,
   "id": "bfc05a31",
   "metadata": {},
   "outputs": [
    {
     "data": {
      "image/png": "[encoded data removed]",
      "text/plain": [
       "<Figure size 432x288 with 1 Axes>"
      ]
     },
     "metadata": {
      "needs_background": "light"
     },
     "output_type": "display_data"
    }
   ],
   "source": [
    "sns.countplot(x=df[\"drugs\"]);"
   ]
  },
  {
   "cell_type": "code",
   "execution_count": 39,
   "id": "3d94640c",
   "metadata": {},
   "outputs": [],
   "source": [
    "df.drugs.fillna(\"never\",inplace=True)"
   ]
  },
  {
   "cell_type": "code",
   "execution_count": 40,
   "id": "ca91de81",
   "metadata": {},
   "outputs": [
    {
     "data": {
      "text/plain": [
       "graduated from college/university    3770\n",
       "graduated from masters program       1402\n",
       "working on college/university         969\n",
       "working on masters program            251\n",
       "graduated from two-year college       245\n",
       "graduated from high school            205\n",
       "graduated from ph.d program           203\n",
       "graduated from law school             177\n",
       "working on two-year college           159\n",
       "working on ph.d program               159\n",
       "dropped out of college/university     149\n",
       "college/university                    134\n",
       "graduated from space camp             104\n",
       "dropped out of space camp              87\n",
       "working on space camp                  73\n",
       "graduated from med school              73\n",
       "working on law school                  55\n",
       "two-year college                       43\n",
       "working on med school                  41\n",
       "dropped out of two-year college        34\n",
       "masters program                        21\n",
       "working on high school                 20\n",
       "dropped out of ph.d program            19\n",
       "dropped out of masters program         16\n",
       "dropped out of high school             13\n",
       "high school                            13\n",
       "space camp                             10\n",
       "ph.d program                            5\n",
       "law school                              4\n",
       "dropped out of law school               3\n",
       "dropped out of med school               2\n",
       "Name: education, dtype: int64"
      ]
     },
     "execution_count": 40,
     "metadata": {},
     "output_type": "execute_result"
    }
   ],
   "source": [
    "df.education.value_counts()"
   ]
  },
  {
   "cell_type": "code",
   "execution_count": 41,
   "id": "9b3bf04e",
   "metadata": {},
   "outputs": [],
   "source": [
    "df[\"education\"].replace({\"working on\":\"student\",\"graduated from\":\"graduated\",\"dropped out\":\"dropped\"},regex=True)\n",
    "df[\"education\"]=df[\"education\"].str.split().str[0]\n",
    "df[\"education\"].replace({\"college/university\":\"student\",\"two-year\":\"student\",\"masters\":\"student\",\"working\":\"student\",\"space\":\"student\",\"ph.d\":\"graduated\",\"law\":\"graduated\",\"high\":\"graduated\"},regex=True,inplace=True)"
   ]
  },
  {
   "cell_type": "code",
   "execution_count": 42,
   "id": "3bba8ecc",
   "metadata": {},
   "outputs": [
    {
     "data": {
      "image/png": "[encoded data removed]",
      "text/plain": [
       "<Figure size 432x288 with 1 Axes>"
      ]
     },
     "metadata": {
      "needs_background": "light"
     },
     "output_type": "display_data"
    }
   ],
   "source": [
    "sns.countplot(x=df[\"education\"]);"
   ]
  },
  {
   "cell_type": "code",
   "execution_count": 43,
   "id": "ad619b99",
   "metadata": {},
   "outputs": [],
   "source": [
    "# since our question is to predict age and generations, essay and ethnicity columns don't have any impact\n",
    "df.drop([\"essay0\",\"essay1\",\"essay2\",\"essay3\",\"essay4\",\"essay5\",\"essay6\",\"essay7\",\"essay8\",\"essay9\",\"ethnicity\"],axis=1,inplace=True)"
   ]
  },
  {
   "cell_type": "code",
   "execution_count": 44,
   "id": "83e15904",
   "metadata": {},
   "outputs": [],
   "source": [
    "df.education.fillna(\"graduated\",inplace=True)"
   ]
  },
  {
   "cell_type": "code",
   "execution_count": 45,
   "id": "6fba8464",
   "metadata": {},
   "outputs": [
    {
     "data": {
      "text/plain": [
       "(9514, 20)"
      ]
     },
     "execution_count": 45,
     "metadata": {},
     "output_type": "execute_result"
    }
   ],
   "source": [
    "df.shape"
   ]
  },
  {
   "cell_type": "code",
   "execution_count": 46,
   "id": "5d457f02",
   "metadata": {},
   "outputs": [
    {
     "data": {
      "text/html": [
       "<div>\n",
       "<style scoped>\n",
       "    .dataframe tbody tr th:only-of-type {\n",
       "        vertical-align: middle;\n",
       "    }\n",
       "\n",
       "    .dataframe tbody tr th {\n",
       "        vertical-align: top;\n",
       "    }\n",
       "\n",
       "    .dataframe thead th {\n",
       "        text-align: right;\n",
       "    }\n",
       "</style>\n",
       "<table border=\"1\" class=\"dataframe\">\n",
       "  <thead>\n",
       "    <tr style=\"text-align: right;\">\n",
       "      <th></th>\n",
       "      <th>age</th>\n",
       "      <th>body_type</th>\n",
       "      <th>diet</th>\n",
       "      <th>drinks</th>\n",
       "      <th>drugs</th>\n",
       "      <th>education</th>\n",
       "      <th>height</th>\n",
       "      <th>income</th>\n",
       "      <th>job</th>\n",
       "      <th>last_online</th>\n",
       "      <th>location</th>\n",
       "      <th>offspring</th>\n",
       "      <th>orientation</th>\n",
       "      <th>pets</th>\n",
       "      <th>religion</th>\n",
       "      <th>sex</th>\n",
       "      <th>sign</th>\n",
       "      <th>smokes</th>\n",
       "      <th>speaks</th>\n",
       "      <th>status</th>\n",
       "    </tr>\n",
       "  </thead>\n",
       "  <tbody>\n",
       "    <tr>\n",
       "      <th>0</th>\n",
       "      <td>22.0</td>\n",
       "      <td>endomorph</td>\n",
       "      <td>anything</td>\n",
       "      <td>socially</td>\n",
       "      <td>never</td>\n",
       "      <td>student</td>\n",
       "      <td>75.0</td>\n",
       "      <td>-1.0</td>\n",
       "      <td>transportation</td>\n",
       "      <td>2012-06-28-20-30</td>\n",
       "      <td>south san francisco, california</td>\n",
       "      <td>doesn&amp;rsquo;t have kids, but might want them</td>\n",
       "      <td>straight</td>\n",
       "      <td>likes dogs and likes cats</td>\n",
       "      <td>agnosticism and very serious about it</td>\n",
       "      <td>m</td>\n",
       "      <td>gemini</td>\n",
       "      <td>sometimes</td>\n",
       "      <td>english</td>\n",
       "      <td>single</td>\n",
       "    </tr>\n",
       "    <tr>\n",
       "      <th>1</th>\n",
       "      <td>35.0</td>\n",
       "      <td>ectomorph</td>\n",
       "      <td>other</td>\n",
       "      <td>often</td>\n",
       "      <td>sometimes</td>\n",
       "      <td>student</td>\n",
       "      <td>70.0</td>\n",
       "      <td>80000.0</td>\n",
       "      <td>hospitality / travel</td>\n",
       "      <td>2012-06-29-21-41</td>\n",
       "      <td>oakland, california</td>\n",
       "      <td>doesn&amp;rsquo;t have kids, but might want them</td>\n",
       "      <td>straight</td>\n",
       "      <td>likes dogs and likes cats</td>\n",
       "      <td>agnosticism but not too serious about it</td>\n",
       "      <td>m</td>\n",
       "      <td>cancer</td>\n",
       "      <td>no</td>\n",
       "      <td>english (fluently), spanish (poorly), french (...</td>\n",
       "      <td>single</td>\n",
       "    </tr>\n",
       "  </tbody>\n",
       "</table>\n",
       "</div>"
      ],
      "text/plain": [
       "    age  body_type      diet    drinks      drugs education  height   income  \\\n",
       "0  22.0  endomorph  anything  socially      never   student    75.0     -1.0   \n",
       "1  35.0  ectomorph     other     often  sometimes   student    70.0  80000.0   \n",
       "\n",
       "                    job       last_online                         location  \\\n",
       "0        transportation  2012-06-28-20-30  south san francisco, california   \n",
       "1  hospitality / travel  2012-06-29-21-41              oakland, california   \n",
       "\n",
       "                                      offspring orientation  \\\n",
       "0  doesn&rsquo;t have kids, but might want them    straight   \n",
       "1  doesn&rsquo;t have kids, but might want them    straight   \n",
       "\n",
       "                        pets                                  religion sex  \\\n",
       "0  likes dogs and likes cats     agnosticism and very serious about it   m   \n",
       "1  likes dogs and likes cats  agnosticism but not too serious about it   m   \n",
       "\n",
       "     sign     smokes                                             speaks  \\\n",
       "0  gemini  sometimes                                            english   \n",
       "1  cancer         no  english (fluently), spanish (poorly), french (...   \n",
       "\n",
       "   status  \n",
       "0  single  \n",
       "1  single  "
      ]
     },
     "execution_count": 46,
     "metadata": {},
     "output_type": "execute_result"
    }
   ],
   "source": [
    "df.head(2)"
   ]
  },
  {
   "cell_type": "code",
   "execution_count": 47,
   "id": "fd5a907c",
   "metadata": {},
   "outputs": [
    {
     "data": {
      "image/png": "[encoded data removed]",
      "text/plain": [
       "<Figure size 432x288 with 1 Axes>"
      ]
     },
     "metadata": {
      "needs_background": "light"
     },
     "output_type": "display_data"
    }
   ],
   "source": [
    "sns.boxplot(x=df[\"height\"]);"
   ]
  },
  {
   "cell_type": "code",
   "execution_count": 48,
   "id": "01e2da3c",
   "metadata": {},
   "outputs": [
    {
     "data": {
      "image/png": "[encoded data removed]",
      "text/plain": [
       "<Figure size 432x288 with 1 Axes>"
      ]
     },
     "metadata": {
      "needs_background": "light"
     },
     "output_type": "display_data"
    }
   ],
   "source": [
    "sns.boxplot(x=df[\"income\"]);"
   ]
  },
  {
   "cell_type": "code",
   "execution_count": 49,
   "id": "95ee7739",
   "metadata": {},
   "outputs": [],
   "source": [
    "#we can also assume that the job column is not important to our question\n",
    "del df[\"job\"]"
   ]
  },
  {
   "cell_type": "code",
   "execution_count": 50,
   "id": "2a7c3aef",
   "metadata": {},
   "outputs": [
    {
     "data": {
      "text/plain": [
       "(9514, 19)"
      ]
     },
     "execution_count": 50,
     "metadata": {},
     "output_type": "execute_result"
    }
   ],
   "source": [
    "df.shape"
   ]
  },
  {
   "cell_type": "markdown",
   "id": "106ab877",
   "metadata": {},
   "source": [
    "By exploring the “last_online” feature’s min and max, the OKCupid dataset could be inferred \n",
    "to be dated around 2011 or 2012"
   ]
  },
  {
   "cell_type": "code",
   "execution_count": 51,
   "id": "276f86e0",
   "metadata": {},
   "outputs": [
    {
     "data": {
      "text/plain": [
       "('2011-06-27-16-17', '2012-06-30-08-23')"
      ]
     },
     "execution_count": 51,
     "metadata": {},
     "output_type": "execute_result"
    }
   ],
   "source": [
    "df.last_online.min(), df.last_online.max()"
   ]
  },
  {
   "cell_type": "code",
   "execution_count": 52,
   "id": "1e59a504",
   "metadata": {},
   "outputs": [],
   "source": [
    "#Feature Engineering"
   ]
  },
  {
   "cell_type": "code",
   "execution_count": 53,
   "id": "66572f98",
   "metadata": {},
   "outputs": [
    {
     "data": {
      "text/plain": [
       "0       2012\n",
       "1       2012\n",
       "2       2012\n",
       "3       2012\n",
       "4       2012\n",
       "        ... \n",
       "9509    2012\n",
       "9510    2012\n",
       "9511    2012\n",
       "9512    2012\n",
       "9513    2012\n",
       "Name: last_online, Length: 9514, dtype: object"
      ]
     },
     "execution_count": 53,
     "metadata": {},
     "output_type": "execute_result"
    }
   ],
   "source": [
    "df[\"last_online\"].str[:4]"
   ]
  },
  {
   "cell_type": "code",
   "execution_count": 54,
   "id": "0f93ff4a",
   "metadata": {},
   "outputs": [
    {
     "data": {
      "text/plain": [
       "0       06\n",
       "1       06\n",
       "2       06\n",
       "3       06\n",
       "4       06\n",
       "        ..\n",
       "9509    06\n",
       "9510    04\n",
       "9511    04\n",
       "9512    03\n",
       "9513    06\n",
       "Name: last_online, Length: 9514, dtype: object"
      ]
     },
     "execution_count": 54,
     "metadata": {},
     "output_type": "execute_result"
    }
   ],
   "source": [
    "df[\"last_online\"].str[5:7]"
   ]
  },
  {
   "cell_type": "code",
   "execution_count": 55,
   "id": "f4abd86b",
   "metadata": {},
   "outputs": [],
   "source": [
    "# split last_online columns to year and month and define them as integers and delete last_online column"
   ]
  },
  {
   "cell_type": "code",
   "execution_count": 56,
   "id": "38f6cc07",
   "metadata": {},
   "outputs": [],
   "source": [
    "df[\"last_online_year\"]=2022-(df[\"last_online\"].str[:4]).astype(int)"
   ]
  },
  {
   "cell_type": "code",
   "execution_count": 57,
   "id": "72645612",
   "metadata": {},
   "outputs": [],
   "source": [
    "df[\"last_online_month\"]=(df[\"last_online\"].str[5:7]).astype(int)"
   ]
  },
  {
   "cell_type": "code",
   "execution_count": 58,
   "id": "cca2c22c",
   "metadata": {},
   "outputs": [],
   "source": [
    "del df[\"last_online\"]"
   ]
  },
  {
   "cell_type": "code",
   "execution_count": 59,
   "id": "c1799415",
   "metadata": {},
   "outputs": [
    {
     "name": "stderr",
     "output_type": "stream",
     "text": [
      "C:\\Users\\Kemal\\anaconda3\\lib\\site-packages\\seaborn\\_decorators.py:36: FutureWarning: Pass the following variable as a keyword arg: x. From version 0.12, the only valid positional argument will be `data`, and passing other arguments without an explicit keyword will result in an error or misinterpretation.\n",
      "  warnings.warn(\n"
     ]
    },
    {
     "data": {
      "image/png": "[encoded data removed]",
      "text/plain": [
       "<Figure size 1080x360 with 1 Axes>"
      ]
     },
     "metadata": {
      "needs_background": "light"
     },
     "output_type": "display_data"
    }
   ],
   "source": [
    "plt.figure(figsize=(15,5))\n",
    "sns.countplot(df[\"last_online_month\"],hue=df[\"last_online_year\"]);"
   ]
  },
  {
   "cell_type": "code",
   "execution_count": 60,
   "id": "68373c9c",
   "metadata": {},
   "outputs": [
    {
     "data": {
      "text/plain": [
       "age                     0\n",
       "body_type               0\n",
       "diet                    0\n",
       "drinks                  0\n",
       "drugs                   0\n",
       "education               0\n",
       "height                  0\n",
       "income                  0\n",
       "location                0\n",
       "offspring            5628\n",
       "orientation             0\n",
       "pets                 3162\n",
       "religion             3253\n",
       "sex                     0\n",
       "sign                 1738\n",
       "smokes                918\n",
       "speaks                  6\n",
       "status                  0\n",
       "last_online_year        0\n",
       "last_online_month       0\n",
       "dtype: int64"
      ]
     },
     "execution_count": 60,
     "metadata": {},
     "output_type": "execute_result"
    }
   ],
   "source": [
    "df.isnull().sum()"
   ]
  },
  {
   "cell_type": "code",
   "execution_count": 61,
   "id": "d9b023a1",
   "metadata": {
    "collapsed": true
   },
   "outputs": [
    {
     "data": {
      "text/plain": [
       "san francisco, california          4835\n",
       "oakland, california                1181\n",
       "berkeley, california                768\n",
       "san mateo, california               207\n",
       "palo alto, california               170\n",
       "alameda, california                 155\n",
       "san rafael, california              134\n",
       "emeryville, california              117\n",
       "redwood city, california            115\n",
       "walnut creek, california            112\n",
       "hayward, california                 112\n",
       "menlo park, california               97\n",
       "daly city, california                95\n",
       "san leandro, california              94\n",
       "vallejo, california                  90\n",
       "richmond, california                 67\n",
       "el cerrito, california               64\n",
       "burlingame, california               63\n",
       "novato, california                   59\n",
       "mountain view, california            56\n",
       "pleasant hill, california            53\n",
       "south san francisco, california      53\n",
       "stanford, california                 53\n",
       "castro valley, california            51\n",
       "pacifica, california                 48\n",
       "san carlos, california               45\n",
       "martinez, california                 43\n",
       "mill valley, california              39\n",
       "san bruno, california                39\n",
       "belmont, california                  38\n",
       "albany, california                   32\n",
       "sausalito, california                27\n",
       "benicia, california                  25\n",
       "san anselmo, california              25\n",
       "san pablo, california                24\n",
       "lafayette, california                24\n",
       "millbrae, california                 21\n",
       "san lorenzo, california              20\n",
       "el sobrante, california              20\n",
       "orinda, california                   19\n",
       "fairfax, california                  18\n",
       "pinole, california                   18\n",
       "belvedere tiburon, california        17\n",
       "hercules, california                 16\n",
       "corte madera, california             14\n",
       "moraga, california                   13\n",
       "half moon bay, california            12\n",
       "fremont, california                  11\n",
       "green brae, california               11\n",
       "atherton, california                 10\n",
       "larkspur, california                  9\n",
       "brisbane, california                  9\n",
       "crockett, california                  8\n",
       "foster city, california               7\n",
       "ross, california                      4\n",
       "montara, california                   3\n",
       "rodeo, california                     3\n",
       "east palo alto, california            2\n",
       "west oakland, california              2\n",
       "portland, oregon                      2\n",
       "point richmond, california            2\n",
       "kentfield, california                 2\n",
       "sacramento, california                2\n",
       "san jose, california                  2\n",
       "bolinas, california                   2\n",
       "el granada, california                2\n",
       "milwaukee, wisconsin                  1\n",
       "glencove, california                  1\n",
       "billings, montana                     1\n",
       "tiburon, california                   1\n",
       "honolulu, hawaii                      1\n",
       "tucson, arizona                       1\n",
       "canyon country, california            1\n",
       "san diego, california                 1\n",
       "woodbridge, virginia                  1\n",
       "woodside, california                  1\n",
       "rohnert park, california              1\n",
       "riverside, california                 1\n",
       "westlake, california                  1\n",
       "woodacre, california                  1\n",
       "hacienda heights, california          1\n",
       "san quentin, california               1\n",
       "new york, new york                    1\n",
       "freedom, california                   1\n",
       "boulder, colorado                     1\n",
       "san geronimo, california              1\n",
       "petaluma, california                  1\n",
       "santa cruz, california                1\n",
       "madrid, spain                         1\n",
       "Name: location, dtype: int64"
      ]
     },
     "execution_count": 61,
     "metadata": {},
     "output_type": "execute_result"
    }
   ],
   "source": [
    "df.location.value_counts()"
   ]
  },
  {
   "cell_type": "code",
   "execution_count": 62,
   "id": "7c526a75",
   "metadata": {},
   "outputs": [],
   "source": [
    "df.location=df.location.str.split(\",\").str[0] "
   ]
  },
  {
   "cell_type": "code",
   "execution_count": 63,
   "id": "5de384f4",
   "metadata": {},
   "outputs": [
    {
     "data": {
      "image/png": "[encoded data removed]",
      "text/plain": [
       "<Figure size 1440x360 with 1 Axes>"
      ]
     },
     "metadata": {
      "needs_background": "light"
     },
     "output_type": "display_data"
    }
   ],
   "source": [
    "plt.figure(figsize=(20,5))\n",
    "plt.xticks(rotation=90)\n",
    "sns.countplot(x=df[\"location\"]);"
   ]
  },
  {
   "cell_type": "code",
   "execution_count": 64,
   "id": "e4bf87c7",
   "metadata": {
    "collapsed": true
   },
   "outputs": [
    {
     "data": {
      "text/plain": [
       "doesn&rsquo;t have kids                                1224\n",
       "doesn&rsquo;t have kids, but might want them            620\n",
       "doesn&rsquo;t have kids, but wants them                 578\n",
       "doesn&rsquo;t want kids                                 454\n",
       "has a kid                                               304\n",
       "has kids                                                291\n",
       "doesn&rsquo;t have kids, and doesn&rsquo;t want any     172\n",
       "has kids, but doesn&rsquo;t want more                    68\n",
       "has a kid, but doesn&rsquo;t want more                   41\n",
       "has a kid, and might want more                           36\n",
       "wants kids                                               29\n",
       "might want kids                                          28\n",
       "has kids, and might want more                            24\n",
       "has a kid, and wants more                                12\n",
       "has kids, and wants more                                  5\n",
       "Name: offspring, dtype: int64"
      ]
     },
     "execution_count": 64,
     "metadata": {},
     "output_type": "execute_result"
    }
   ],
   "source": [
    "df.offspring.value_counts()"
   ]
  },
  {
   "cell_type": "code",
   "execution_count": 65,
   "id": "12c53d55",
   "metadata": {},
   "outputs": [
    {
     "name": "stderr",
     "output_type": "stream",
     "text": [
      "C:\\Users\\Kemal\\AppData\\Local\\Temp\\ipykernel_3720\\3631581726.py:1: FutureWarning: The default value of regex will change from True to False in a future version.\n",
      "  df.offspring=df.offspring.str.replace(\"[^\\w\\s]\",\"\")\n"
     ]
    }
   ],
   "source": [
    "df.offspring=df.offspring.str.replace(\"[^\\w\\s]\",\"\")"
   ]
  },
  {
   "cell_type": "code",
   "execution_count": 66,
   "id": "c2db69d9",
   "metadata": {},
   "outputs": [],
   "source": [
    "# offspring dictionary: 1 = has kids, 0 has no kids\n",
    "offspringdict={\"doesnrsquot have kids\":0,\"doesnrsquot have kids but might want them\":0,\"doesnrsquot have kids but wants them\":0,\n",
    "               \"doesnrsquot want kids\":0,\"doesnrsquot have kids and doesnrsquot want any\":0,\"wants kids\":0,\"might want kids\":0,\n",
    "               \"has a kid\":1,\"has kids\":1,\"has kids but doesnrsquot want more\":1,\"has a kid but doesnrsquot want more\":1,\n",
    "               \"has a kid and might want more\":1,\"has a kid and might want more\":1,\"has kids and might want more\":1,\n",
    "               \"has a kid and wants more\":1,\"has kids and wants more\":1}\n",
    "df.offspring.replace(offspringdict,inplace=True)"
   ]
  },
  {
   "cell_type": "code",
   "execution_count": 67,
   "id": "2c00f317",
   "metadata": {},
   "outputs": [],
   "source": [
    "df[\"offspring\"].fillna(0,inplace=True)"
   ]
  },
  {
   "cell_type": "code",
   "execution_count": 68,
   "id": "ea95d8d9",
   "metadata": {},
   "outputs": [],
   "source": [
    "df[\"offspring\"]=df[\"offspring\"].astype(int)"
   ]
  },
  {
   "cell_type": "code",
   "execution_count": 69,
   "id": "9d90902b",
   "metadata": {},
   "outputs": [
    {
     "data": {
      "image/png": "[encoded data removed]",
      "text/plain": [
       "<Figure size 432x288 with 1 Axes>"
      ]
     },
     "metadata": {
      "needs_background": "light"
     },
     "output_type": "display_data"
    }
   ],
   "source": [
    "sns.countplot(x=df[\"offspring\"]);"
   ]
  },
  {
   "cell_type": "code",
   "execution_count": 70,
   "id": "717b308c",
   "metadata": {},
   "outputs": [
    {
     "data": {
      "image/png": "[encoded data removed]",
      "text/plain": [
       "<Figure size 432x288 with 1 Axes>"
      ]
     },
     "metadata": {
      "needs_background": "light"
     },
     "output_type": "display_data"
    }
   ],
   "source": [
    "sns.countplot(x=df[\"orientation\"]);"
   ]
  },
  {
   "cell_type": "code",
   "execution_count": 71,
   "id": "0bc120f8",
   "metadata": {},
   "outputs": [
    {
     "data": {
      "image/png": "[encoded data removed]",
      "text/plain": [
       "<Figure size 720x360 with 1 Axes>"
      ]
     },
     "metadata": {
      "needs_background": "light"
     },
     "output_type": "display_data"
    }
   ],
   "source": [
    "plt.figure(figsize=(10,5))\n",
    "plt.xticks(rotation=90)\n",
    "sns.countplot(x=df[\"pets\"]);"
   ]
  },
  {
   "cell_type": "code",
   "execution_count": 72,
   "id": "f4692eee",
   "metadata": {},
   "outputs": [
    {
     "data": {
      "text/plain": [
       "0    likes dogs and likes cats\n",
       "Name: pets, dtype: object"
      ]
     },
     "execution_count": 72,
     "metadata": {},
     "output_type": "execute_result"
    }
   ],
   "source": [
    "df.pets.mode()"
   ]
  },
  {
   "cell_type": "code",
   "execution_count": 73,
   "id": "36f4a4fb",
   "metadata": {},
   "outputs": [],
   "source": [
    "df[\"pets\"].fillna(\"likes dogs and likes cats\",inplace=True)"
   ]
  },
  {
   "cell_type": "code",
   "execution_count": 74,
   "id": "682dd976",
   "metadata": {
    "collapsed": true
   },
   "outputs": [
    {
     "data": {
      "text/plain": [
       "agnosticism                                   448\n",
       "other                                         417\n",
       "agnosticism but not too serious about it      400\n",
       "agnosticism and laughing about it             386\n",
       "catholicism but not too serious about it      367\n",
       "atheism                                       363\n",
       "atheism and laughing about it                 329\n",
       "other and laughing about it                   325\n",
       "christianity but not too serious about it     320\n",
       "christianity                                  297\n",
       "other but not too serious about it            243\n",
       "judaism but not too serious about it          232\n",
       "atheism but not too serious about it          200\n",
       "catholicism                                   165\n",
       "atheism and somewhat serious about it         138\n",
       "christianity and somewhat serious about it    133\n",
       "other and somewhat serious about it           122\n",
       "catholicism and laughing about it             117\n",
       "judaism and laughing about it                 113\n",
       "agnosticism and somewhat serious about it     105\n",
       "atheism and very serious about it             101\n",
       "buddhism but not too serious about it          97\n",
       "christianity and very serious about it         96\n",
       "catholicism and somewhat serious about it      93\n",
       "judaism                                        93\n",
       "other and very serious about it                86\n",
       "buddhism                                       72\n",
       "christianity and laughing about it             59\n",
       "buddhism and laughing about it                 55\n",
       "buddhism and somewhat serious about it         52\n",
       "judaism and somewhat serious about it          49\n",
       "agnosticism and very serious about it          42\n",
       "hinduism but not too serious about it          40\n",
       "catholicism and very serious about it          20\n",
       "hinduism                                       17\n",
       "islam                                          12\n",
       "islam but not too serious about it             12\n",
       "buddhism and very serious about it             12\n",
       "hinduism and somewhat serious about it         11\n",
       "hinduism and laughing about it                  9\n",
       "hinduism and very serious about it              5\n",
       "islam and very serious about it                 3\n",
       "judaism and very serious about it               3\n",
       "islam and laughing about it                     1\n",
       "islam and somewhat serious about it             1\n",
       "Name: religion, dtype: int64"
      ]
     },
     "execution_count": 74,
     "metadata": {},
     "output_type": "execute_result"
    }
   ],
   "source": [
    "df.religion.value_counts()"
   ]
  },
  {
   "cell_type": "code",
   "execution_count": 75,
   "id": "b2990cd4",
   "metadata": {},
   "outputs": [],
   "source": [
    "df[\"religion\"]=df[\"religion\"].str.split().str[0]"
   ]
  },
  {
   "cell_type": "code",
   "execution_count": 76,
   "id": "01962b60",
   "metadata": {},
   "outputs": [
    {
     "data": {
      "text/plain": [
       "agnosticism     1381\n",
       "other           1193\n",
       "atheism         1131\n",
       "christianity     905\n",
       "catholicism      762\n",
       "judaism          490\n",
       "buddhism         288\n",
       "hinduism          82\n",
       "islam             29\n",
       "Name: religion, dtype: int64"
      ]
     },
     "execution_count": 76,
     "metadata": {},
     "output_type": "execute_result"
    }
   ],
   "source": [
    "df.religion.value_counts()"
   ]
  },
  {
   "cell_type": "code",
   "execution_count": 77,
   "id": "267e5313",
   "metadata": {},
   "outputs": [
    {
     "data": {
      "image/png": "[encoded data removed]",
      "text/plain": [
       "<Figure size 720x360 with 1 Axes>"
      ]
     },
     "metadata": {
      "needs_background": "light"
     },
     "output_type": "display_data"
    }
   ],
   "source": [
    "plt.figure(figsize=(10,5))\n",
    "plt.xticks(rotation=90)\n",
    "sns.countplot(x=df[\"religion\"]);"
   ]
  },
  {
   "cell_type": "code",
   "execution_count": 78,
   "id": "54505266",
   "metadata": {},
   "outputs": [],
   "source": [
    "df[\"religion\"].fillna(\"other\",inplace=True)"
   ]
  },
  {
   "cell_type": "code",
   "execution_count": 79,
   "id": "d13e945c",
   "metadata": {},
   "outputs": [
    {
     "data": {
      "text/plain": [
       "age                     0\n",
       "body_type               0\n",
       "diet                    0\n",
       "drinks                  0\n",
       "drugs                   0\n",
       "education               0\n",
       "height                  0\n",
       "income                  0\n",
       "location                0\n",
       "offspring               0\n",
       "orientation             0\n",
       "pets                    0\n",
       "religion                0\n",
       "sex                     0\n",
       "sign                 1738\n",
       "smokes                918\n",
       "speaks                  6\n",
       "status                  0\n",
       "last_online_year        0\n",
       "last_online_month       0\n",
       "dtype: int64"
      ]
     },
     "execution_count": 79,
     "metadata": {},
     "output_type": "execute_result"
    }
   ],
   "source": [
    "df.isnull().sum()"
   ]
  },
  {
   "cell_type": "code",
   "execution_count": 80,
   "id": "275a88ac",
   "metadata": {},
   "outputs": [
    {
     "data": {
      "text/html": [
       "<div>\n",
       "<style scoped>\n",
       "    .dataframe tbody tr th:only-of-type {\n",
       "        vertical-align: middle;\n",
       "    }\n",
       "\n",
       "    .dataframe tbody tr th {\n",
       "        vertical-align: top;\n",
       "    }\n",
       "\n",
       "    .dataframe thead th {\n",
       "        text-align: right;\n",
       "    }\n",
       "</style>\n",
       "<table border=\"1\" class=\"dataframe\">\n",
       "  <thead>\n",
       "    <tr style=\"text-align: right;\">\n",
       "      <th></th>\n",
       "      <th>age</th>\n",
       "      <th>body_type</th>\n",
       "      <th>diet</th>\n",
       "      <th>drinks</th>\n",
       "      <th>drugs</th>\n",
       "      <th>education</th>\n",
       "      <th>height</th>\n",
       "      <th>income</th>\n",
       "      <th>location</th>\n",
       "      <th>offspring</th>\n",
       "      <th>orientation</th>\n",
       "      <th>pets</th>\n",
       "      <th>religion</th>\n",
       "      <th>sex</th>\n",
       "      <th>sign</th>\n",
       "      <th>smokes</th>\n",
       "      <th>speaks</th>\n",
       "      <th>status</th>\n",
       "      <th>last_online_year</th>\n",
       "      <th>last_online_month</th>\n",
       "    </tr>\n",
       "  </thead>\n",
       "  <tbody>\n",
       "    <tr>\n",
       "      <th>0</th>\n",
       "      <td>22.0</td>\n",
       "      <td>endomorph</td>\n",
       "      <td>anything</td>\n",
       "      <td>socially</td>\n",
       "      <td>never</td>\n",
       "      <td>student</td>\n",
       "      <td>75.0</td>\n",
       "      <td>-1.0</td>\n",
       "      <td>south san francisco</td>\n",
       "      <td>0</td>\n",
       "      <td>straight</td>\n",
       "      <td>likes dogs and likes cats</td>\n",
       "      <td>agnosticism</td>\n",
       "      <td>m</td>\n",
       "      <td>gemini</td>\n",
       "      <td>sometimes</td>\n",
       "      <td>english</td>\n",
       "      <td>single</td>\n",
       "      <td>10</td>\n",
       "      <td>6</td>\n",
       "    </tr>\n",
       "    <tr>\n",
       "      <th>1</th>\n",
       "      <td>35.0</td>\n",
       "      <td>ectomorph</td>\n",
       "      <td>other</td>\n",
       "      <td>often</td>\n",
       "      <td>sometimes</td>\n",
       "      <td>student</td>\n",
       "      <td>70.0</td>\n",
       "      <td>80000.0</td>\n",
       "      <td>oakland</td>\n",
       "      <td>0</td>\n",
       "      <td>straight</td>\n",
       "      <td>likes dogs and likes cats</td>\n",
       "      <td>agnosticism</td>\n",
       "      <td>m</td>\n",
       "      <td>cancer</td>\n",
       "      <td>no</td>\n",
       "      <td>english (fluently), spanish (poorly), french (...</td>\n",
       "      <td>single</td>\n",
       "      <td>10</td>\n",
       "      <td>6</td>\n",
       "    </tr>\n",
       "  </tbody>\n",
       "</table>\n",
       "</div>"
      ],
      "text/plain": [
       "    age  body_type      diet    drinks      drugs education  height   income  \\\n",
       "0  22.0  endomorph  anything  socially      never   student    75.0     -1.0   \n",
       "1  35.0  ectomorph     other     often  sometimes   student    70.0  80000.0   \n",
       "\n",
       "              location  offspring orientation                       pets  \\\n",
       "0  south san francisco          0    straight  likes dogs and likes cats   \n",
       "1              oakland          0    straight  likes dogs and likes cats   \n",
       "\n",
       "      religion sex    sign     smokes  \\\n",
       "0  agnosticism   m  gemini  sometimes   \n",
       "1  agnosticism   m  cancer         no   \n",
       "\n",
       "                                              speaks  status  \\\n",
       "0                                            english  single   \n",
       "1  english (fluently), spanish (poorly), french (...  single   \n",
       "\n",
       "   last_online_year  last_online_month  \n",
       "0                10                  6  \n",
       "1                10                  6  "
      ]
     },
     "execution_count": 80,
     "metadata": {},
     "output_type": "execute_result"
    }
   ],
   "source": [
    "df.head(2)"
   ]
  },
  {
   "cell_type": "code",
   "execution_count": 81,
   "id": "c35c9d03",
   "metadata": {},
   "outputs": [
    {
     "data": {
      "image/png": "[encoded data removed]",
      "text/plain": [
       "<Figure size 432x288 with 1 Axes>"
      ]
     },
     "metadata": {
      "needs_background": "light"
     },
     "output_type": "display_data"
    }
   ],
   "source": [
    "sns.countplot(x=df[\"sex\"]);"
   ]
  },
  {
   "cell_type": "code",
   "execution_count": 82,
   "id": "7a380cb3",
   "metadata": {
    "collapsed": true
   },
   "outputs": [
    {
     "data": {
      "text/plain": [
       "leo and it&rsquo;s fun to think about            277\n",
       "taurus and it&rsquo;s fun to think about         275\n",
       "gemini and it&rsquo;s fun to think about         271\n",
       "cancer and it&rsquo;s fun to think about         260\n",
       "scorpio and it&rsquo;s fun to think about        258\n",
       "libra and it&rsquo;s fun to think about          257\n",
       "virgo and it&rsquo;s fun to think about          257\n",
       "pisces and it&rsquo;s fun to think about         253\n",
       "aries and it&rsquo;s fun to think about          252\n",
       "aries but it doesn&rsquo;t matter                250\n",
       "aquarius but it doesn&rsquo;t matter             250\n",
       "sagittarius and it&rsquo;s fun to think about    242\n",
       "leo but it doesn&rsquo;t matter                  239\n",
       "virgo but it doesn&rsquo;t matter                236\n",
       "aquarius and it&rsquo;s fun to think about       235\n",
       "gemini but it doesn&rsquo;t matter               235\n",
       "cancer but it doesn&rsquo;t matter               233\n",
       "taurus but it doesn&rsquo;t matter               222\n",
       "sagittarius but it doesn&rsquo;t matter          218\n",
       "libra but it doesn&rsquo;t matter                216\n",
       "capricorn and it&rsquo;s fun to think about      209\n",
       "scorpio but it doesn&rsquo;t matter              201\n",
       "pisces but it doesn&rsquo;t matter               192\n",
       "capricorn but it doesn&rsquo;t matter            187\n",
       "leo                                              181\n",
       "cancer                                           175\n",
       "aquarius                                         175\n",
       "aries                                            172\n",
       "pisces                                           169\n",
       "libra                                            167\n",
       "virgo                                            165\n",
       "taurus                                           163\n",
       "gemini                                           162\n",
       "scorpio                                          158\n",
       "sagittarius                                      136\n",
       "capricorn                                        122\n",
       "scorpio and it matters a lot                      15\n",
       "aquarius and it matters a lot                     14\n",
       "pisces and it matters a lot                       13\n",
       "leo and it matters a lot                          10\n",
       "capricorn and it matters a lot                    10\n",
       "cancer and it matters a lot                        9\n",
       "libra and it matters a lot                         8\n",
       "sagittarius and it matters a lot                   8\n",
       "gemini and it matters a lot                        8\n",
       "aries and it matters a lot                         6\n",
       "taurus and it matters a lot                        3\n",
       "virgo and it matters a lot                         2\n",
       "Name: sign, dtype: int64"
      ]
     },
     "execution_count": 82,
     "metadata": {},
     "output_type": "execute_result"
    }
   ],
   "source": [
    "df.sign.value_counts()"
   ]
  },
  {
   "cell_type": "code",
   "execution_count": 83,
   "id": "a9057137",
   "metadata": {},
   "outputs": [],
   "source": [
    "df[\"sign\"]=df[\"sign\"].str.split().str[0]"
   ]
  },
  {
   "cell_type": "code",
   "execution_count": 84,
   "id": "176e8fde",
   "metadata": {},
   "outputs": [
    {
     "data": {
      "image/png": "[encoded data removed]",
      "text/plain": [
       "<Figure size 720x360 with 1 Axes>"
      ]
     },
     "metadata": {
      "needs_background": "light"
     },
     "output_type": "display_data"
    }
   ],
   "source": [
    "plt.figure(figsize=(10,5))\n",
    "plt.xticks(rotation=90)\n",
    "sns.countplot(x=df[\"sign\"]);"
   ]
  },
  {
   "cell_type": "code",
   "execution_count": 85,
   "id": "a98be5fa",
   "metadata": {},
   "outputs": [
    {
     "data": {
      "text/plain": [
       "0    leo\n",
       "Name: sign, dtype: object"
      ]
     },
     "execution_count": 85,
     "metadata": {},
     "output_type": "execute_result"
    }
   ],
   "source": [
    "df.sign.mode()"
   ]
  },
  {
   "cell_type": "code",
   "execution_count": 86,
   "id": "fc1e6de9",
   "metadata": {},
   "outputs": [],
   "source": [
    "df[\"sign\"].fillna(\"unknown\",inplace=True)"
   ]
  },
  {
   "cell_type": "code",
   "execution_count": 87,
   "id": "b4ead9a4",
   "metadata": {},
   "outputs": [
    {
     "data": {
      "image/png": "[encoded data removed]",
      "text/plain": [
       "<Figure size 720x360 with 1 Axes>"
      ]
     },
     "metadata": {
      "needs_background": "light"
     },
     "output_type": "display_data"
    }
   ],
   "source": [
    "plt.figure(figsize=(10,5))\n",
    "plt.xticks(rotation=90)\n",
    "sns.countplot(x=df[\"sign\"]);"
   ]
  },
  {
   "cell_type": "code",
   "execution_count": 88,
   "id": "9790b9f2",
   "metadata": {},
   "outputs": [
    {
     "data": {
      "text/plain": [
       "no                7011\n",
       "sometimes          565\n",
       "when drinking      480\n",
       "yes                307\n",
       "trying to quit     233\n",
       "Name: smokes, dtype: int64"
      ]
     },
     "execution_count": 88,
     "metadata": {},
     "output_type": "execute_result"
    }
   ],
   "source": [
    "df.smokes.value_counts()"
   ]
  },
  {
   "cell_type": "code",
   "execution_count": 89,
   "id": "d32a7f8a",
   "metadata": {},
   "outputs": [],
   "source": [
    "smokedict={\"no\":0,\"sometimes\":1,\"when drinking\":1,\"yes\":1,\"trying to quit\":1}\n",
    "df.smokes.replace(smokedict,inplace=True)"
   ]
  },
  {
   "cell_type": "code",
   "execution_count": 90,
   "id": "94d99090",
   "metadata": {},
   "outputs": [
    {
     "data": {
      "image/png": "[encoded data removed]",
      "text/plain": [
       "<Figure size 432x288 with 1 Axes>"
      ]
     },
     "metadata": {
      "needs_background": "light"
     },
     "output_type": "display_data"
    }
   ],
   "source": [
    "sns.countplot(x=df[\"smokes\"]);"
   ]
  },
  {
   "cell_type": "code",
   "execution_count": 91,
   "id": "4c806970",
   "metadata": {},
   "outputs": [],
   "source": [
    "df.smokes.fillna(0.0,inplace=True)"
   ]
  },
  {
   "cell_type": "code",
   "execution_count": 92,
   "id": "d571aa3b",
   "metadata": {},
   "outputs": [],
   "source": [
    "df[\"smokes\"]=df.smokes.astype(int)"
   ]
  },
  {
   "cell_type": "code",
   "execution_count": 93,
   "id": "216c0117",
   "metadata": {},
   "outputs": [
    {
     "data": {
      "image/png": "[encoded data removed]",
      "text/plain": [
       "<Figure size 432x288 with 1 Axes>"
      ]
     },
     "metadata": {
      "needs_background": "light"
     },
     "output_type": "display_data"
    }
   ],
   "source": [
    "sns.countplot(x=df[\"smokes\"]);"
   ]
  },
  {
   "cell_type": "code",
   "execution_count": 94,
   "id": "ccd38ee6",
   "metadata": {},
   "outputs": [
    {
     "data": {
      "text/plain": [
       "english                                                                                3415\n",
       "english (fluently)                                                                     1106\n",
       "english (fluently), spanish (okay)                                                      322\n",
       "english (fluently), spanish (poorly)                                                    321\n",
       "english (fluently), spanish (fluently)                                                  195\n",
       "                                                                                       ... \n",
       "english (fluently), hindi (fluently), spanish (okay)                                      1\n",
       "english (fluently), danish (fluently), spanish (okay), german (poorly)                    1\n",
       "english (fluently), spanish (fluently), portuguese                                        1\n",
       "english (fluently), arabic (fluently), spanish (okay), urdu (okay), gujarati (okay)       1\n",
       "english (fluently), french (okay), swedish (poorly)                                       1\n",
       "Name: speaks, Length: 1794, dtype: int64"
      ]
     },
     "execution_count": 94,
     "metadata": {},
     "output_type": "execute_result"
    }
   ],
   "source": [
    "df.speaks.value_counts()"
   ]
  },
  {
   "cell_type": "code",
   "execution_count": 95,
   "id": "f5f45553",
   "metadata": {},
   "outputs": [
    {
     "data": {
      "text/plain": [
       "0       0.0\n",
       "1       1.0\n",
       "2       0.0\n",
       "3       0.0\n",
       "4       0.0\n",
       "       ... \n",
       "9509    0.0\n",
       "9510    0.0\n",
       "9511    1.0\n",
       "9512    1.0\n",
       "9513    0.0\n",
       "Name: speaks, Length: 9514, dtype: float64"
      ]
     },
     "execution_count": 95,
     "metadata": {},
     "output_type": "execute_result"
    }
   ],
   "source": [
    "#count() method returns the number of occurrences of the substring in the given string\n",
    "df.speaks.str.count(\"fluently\")"
   ]
  },
  {
   "cell_type": "code",
   "execution_count": 96,
   "id": "ea1f112d",
   "metadata": {},
   "outputs": [],
   "source": [
    "df[\"number_of_fluent_languages\"]=df.speaks.str.count(\"fluently\")\n",
    "df[\"number_of_fluent_languages\"].replace(0,1,regex=True,inplace=True)\n",
    "df[\"number_of_poorly_languages\"]=df.speaks.str.count(\"poorly\")"
   ]
  },
  {
   "cell_type": "code",
   "execution_count": 97,
   "id": "f26a3307",
   "metadata": {},
   "outputs": [],
   "source": [
    "del df[\"speaks\"]"
   ]
  },
  {
   "cell_type": "code",
   "execution_count": 98,
   "id": "9c44e1c6",
   "metadata": {},
   "outputs": [
    {
     "data": {
      "image/png": "[encoded data removed]",
      "text/plain": [
       "<Figure size 432x288 with 1 Axes>"
      ]
     },
     "metadata": {
      "needs_background": "light"
     },
     "output_type": "display_data"
    }
   ],
   "source": [
    "sns.countplot(x=df[\"number_of_fluent_languages\"]);"
   ]
  },
  {
   "cell_type": "code",
   "execution_count": 99,
   "id": "bc984537",
   "metadata": {},
   "outputs": [],
   "source": [
    "df.number_of_fluent_languages.fillna(1,inplace=True)"
   ]
  },
  {
   "cell_type": "code",
   "execution_count": 100,
   "id": "d30a069b",
   "metadata": {},
   "outputs": [],
   "source": [
    "df[\"number_of_fluent_languages\"]=df[\"number_of_fluent_languages\"].astype(int)"
   ]
  },
  {
   "cell_type": "code",
   "execution_count": 101,
   "id": "505213f5",
   "metadata": {},
   "outputs": [
    {
     "data": {
      "image/png": "[encoded data removed]",
      "text/plain": [
       "<Figure size 432x288 with 1 Axes>"
      ]
     },
     "metadata": {
      "needs_background": "light"
     },
     "output_type": "display_data"
    }
   ],
   "source": [
    "sns.countplot(x=df[\"number_of_poorly_languages\"]);"
   ]
  },
  {
   "cell_type": "code",
   "execution_count": 102,
   "id": "4fecdd6c",
   "metadata": {},
   "outputs": [],
   "source": [
    "df.number_of_poorly_languages.fillna(0,inplace=True)"
   ]
  },
  {
   "cell_type": "code",
   "execution_count": 103,
   "id": "2dcd620d",
   "metadata": {},
   "outputs": [],
   "source": [
    "df[\"number_of_poorly_languages\"]=df[\"number_of_poorly_languages\"].astype(int)"
   ]
  },
  {
   "cell_type": "code",
   "execution_count": 104,
   "id": "7cc3ba21",
   "metadata": {},
   "outputs": [
    {
     "data": {
      "image/png": "[encoded data removed]",
      "text/plain": [
       "<Figure size 432x288 with 1 Axes>"
      ]
     },
     "metadata": {
      "needs_background": "light"
     },
     "output_type": "display_data"
    }
   ],
   "source": [
    "sns.countplot(x=df[\"status\"]);"
   ]
  },
  {
   "cell_type": "code",
   "execution_count": 105,
   "id": "db86d2c4",
   "metadata": {},
   "outputs": [],
   "source": [
    "df[\"status\"].replace({\"available\":\"single\"},inplace=True)"
   ]
  },
  {
   "cell_type": "code",
   "execution_count": 106,
   "id": "998c9dbd",
   "metadata": {},
   "outputs": [
    {
     "data": {
      "image/png": "[encoded data removed]",
      "text/plain": [
       "<Figure size 432x288 with 1 Axes>"
      ]
     },
     "metadata": {
      "needs_background": "light"
     },
     "output_type": "display_data"
    }
   ],
   "source": [
    "sns.countplot(x=df[\"status\"]);"
   ]
  },
  {
   "cell_type": "code",
   "execution_count": 107,
   "id": "7f1cb83d",
   "metadata": {
    "scrolled": false
   },
   "outputs": [
    {
     "data": {
      "text/plain": [
       "age                           0\n",
       "body_type                     0\n",
       "diet                          0\n",
       "drinks                        0\n",
       "drugs                         0\n",
       "education                     0\n",
       "height                        0\n",
       "income                        0\n",
       "location                      0\n",
       "offspring                     0\n",
       "orientation                   0\n",
       "pets                          0\n",
       "religion                      0\n",
       "sex                           0\n",
       "sign                          0\n",
       "smokes                        0\n",
       "status                        0\n",
       "last_online_year              0\n",
       "last_online_month             0\n",
       "number_of_fluent_languages    0\n",
       "number_of_poorly_languages    0\n",
       "dtype: int64"
      ]
     },
     "execution_count": 107,
     "metadata": {},
     "output_type": "execute_result"
    }
   ],
   "source": [
    "df.isnull().sum()"
   ]
  },
  {
   "cell_type": "code",
   "execution_count": 108,
   "id": "f5c9990f",
   "metadata": {},
   "outputs": [
    {
     "data": {
      "text/plain": [
       "(9514, 21)"
      ]
     },
     "execution_count": 108,
     "metadata": {},
     "output_type": "execute_result"
    }
   ],
   "source": [
    "df.shape"
   ]
  },
  {
   "cell_type": "markdown",
   "id": "de025bb6",
   "metadata": {},
   "source": [
    "At the time, a “Millennial” would be aged from 18 to 32, a “Gen X-er” 33 to 47, and “Boomers” from 48 to 70 years "
   ]
  },
  {
   "cell_type": "code",
   "execution_count": 109,
   "id": "489229d4",
   "metadata": {},
   "outputs": [
    {
     "data": {
      "text/plain": [
       "array([22., 35., 38., ..., 34., 29., 49.])"
      ]
     },
     "execution_count": 109,
     "metadata": {},
     "output_type": "execute_result"
    }
   ],
   "source": [
    "df.age.values"
   ]
  },
  {
   "cell_type": "code",
   "execution_count": 110,
   "id": "85e21318",
   "metadata": {},
   "outputs": [],
   "source": [
    "generation = []\n",
    "\n",
    "for i in df.age.values:\n",
    "    if 18 <= i <= 32:\n",
    "        generation.append(\"Millennial\")\n",
    "    elif 33 <= i <= 47:\n",
    "        generation.append(\"Gen X-er\")\n",
    "    elif 48 <= i <= 70:\n",
    "        generation.append(\"Boomers\")\n",
    "    else:\n",
    "        generation.append(\"unknown\")\n",
    "\n",
    "df[\"generation\"]=generation"
   ]
  },
  {
   "cell_type": "code",
   "execution_count": 111,
   "id": "abde9b69",
   "metadata": {},
   "outputs": [
    {
     "data": {
      "image/png": "[encoded data removed]",
      "text/plain": [
       "<Figure size 432x288 with 1 Axes>"
      ]
     },
     "metadata": {
      "needs_background": "light"
     },
     "output_type": "display_data"
    }
   ],
   "source": [
    "sns.countplot(x=df[\"generation\"]);"
   ]
  },
  {
   "cell_type": "code",
   "execution_count": 112,
   "id": "49fc2947",
   "metadata": {},
   "outputs": [],
   "source": [
    "df.generation.replace({\"unknown\":\"Millennial\"},inplace=True)"
   ]
  },
  {
   "cell_type": "code",
   "execution_count": 113,
   "id": "96d9aabe",
   "metadata": {
    "scrolled": true
   },
   "outputs": [
    {
     "data": {
      "image/png": "[encoded data removed]",
      "text/plain": [
       "<Figure size 432x288 with 1 Axes>"
      ]
     },
     "metadata": {
      "needs_background": "light"
     },
     "output_type": "display_data"
    }
   ],
   "source": [
    "sns.countplot(x=df[\"generation\"]);"
   ]
  },
  {
   "cell_type": "code",
   "execution_count": 114,
   "id": "1294b6dc",
   "metadata": {},
   "outputs": [
    {
     "data": {
      "text/plain": [
       "Millennial    6048\n",
       "Gen X-er      2721\n",
       "Boomers        745\n",
       "Name: generation, dtype: int64"
      ]
     },
     "execution_count": 114,
     "metadata": {},
     "output_type": "execute_result"
    }
   ],
   "source": [
    "df.generation.value_counts()"
   ]
  },
  {
   "cell_type": "code",
   "execution_count": 115,
   "id": "93532fcc",
   "metadata": {},
   "outputs": [
    {
     "data": {
      "text/html": [
       "<div>\n",
       "<style scoped>\n",
       "    .dataframe tbody tr th:only-of-type {\n",
       "        vertical-align: middle;\n",
       "    }\n",
       "\n",
       "    .dataframe tbody tr th {\n",
       "        vertical-align: top;\n",
       "    }\n",
       "\n",
       "    .dataframe thead th {\n",
       "        text-align: right;\n",
       "    }\n",
       "</style>\n",
       "<table border=\"1\" class=\"dataframe\">\n",
       "  <thead>\n",
       "    <tr style=\"text-align: right;\">\n",
       "      <th></th>\n",
       "      <th>age</th>\n",
       "      <th>body_type</th>\n",
       "      <th>diet</th>\n",
       "      <th>drinks</th>\n",
       "      <th>drugs</th>\n",
       "      <th>education</th>\n",
       "      <th>height</th>\n",
       "      <th>income</th>\n",
       "      <th>location</th>\n",
       "      <th>offspring</th>\n",
       "      <th>orientation</th>\n",
       "      <th>pets</th>\n",
       "      <th>religion</th>\n",
       "      <th>sex</th>\n",
       "      <th>sign</th>\n",
       "      <th>smokes</th>\n",
       "      <th>status</th>\n",
       "      <th>last_online_year</th>\n",
       "      <th>last_online_month</th>\n",
       "      <th>number_of_fluent_languages</th>\n",
       "      <th>number_of_poorly_languages</th>\n",
       "      <th>generation</th>\n",
       "    </tr>\n",
       "  </thead>\n",
       "  <tbody>\n",
       "    <tr>\n",
       "      <th>4485</th>\n",
       "      <td>25.0</td>\n",
       "      <td>ectomorph</td>\n",
       "      <td>anything</td>\n",
       "      <td>socially</td>\n",
       "      <td>never</td>\n",
       "      <td>graduated</td>\n",
       "      <td>76.0</td>\n",
       "      <td>-1.0</td>\n",
       "      <td>san francisco</td>\n",
       "      <td>0</td>\n",
       "      <td>straight</td>\n",
       "      <td>likes dogs and likes cats</td>\n",
       "      <td>judaism</td>\n",
       "      <td>m</td>\n",
       "      <td>aries</td>\n",
       "      <td>0</td>\n",
       "      <td>single</td>\n",
       "      <td>10</td>\n",
       "      <td>6</td>\n",
       "      <td>1</td>\n",
       "      <td>0</td>\n",
       "      <td>Millennial</td>\n",
       "    </tr>\n",
       "    <tr>\n",
       "      <th>5570</th>\n",
       "      <td>34.0</td>\n",
       "      <td>mesomorph</td>\n",
       "      <td>anything</td>\n",
       "      <td>socially</td>\n",
       "      <td>never</td>\n",
       "      <td>graduated</td>\n",
       "      <td>70.0</td>\n",
       "      <td>-1.0</td>\n",
       "      <td>san francisco</td>\n",
       "      <td>0</td>\n",
       "      <td>straight</td>\n",
       "      <td>likes dogs and likes cats</td>\n",
       "      <td>other</td>\n",
       "      <td>m</td>\n",
       "      <td>unknown</td>\n",
       "      <td>0</td>\n",
       "      <td>single</td>\n",
       "      <td>10</td>\n",
       "      <td>6</td>\n",
       "      <td>1</td>\n",
       "      <td>1</td>\n",
       "      <td>Gen X-er</td>\n",
       "    </tr>\n",
       "    <tr>\n",
       "      <th>3072</th>\n",
       "      <td>31.0</td>\n",
       "      <td>mesomorph</td>\n",
       "      <td>anything</td>\n",
       "      <td>socially</td>\n",
       "      <td>never</td>\n",
       "      <td>student</td>\n",
       "      <td>68.0</td>\n",
       "      <td>-1.0</td>\n",
       "      <td>oakland</td>\n",
       "      <td>0</td>\n",
       "      <td>straight</td>\n",
       "      <td>likes dogs</td>\n",
       "      <td>agnosticism</td>\n",
       "      <td>m</td>\n",
       "      <td>scorpio</td>\n",
       "      <td>0</td>\n",
       "      <td>single</td>\n",
       "      <td>10</td>\n",
       "      <td>6</td>\n",
       "      <td>1</td>\n",
       "      <td>1</td>\n",
       "      <td>Millennial</td>\n",
       "    </tr>\n",
       "    <tr>\n",
       "      <th>6655</th>\n",
       "      <td>35.0</td>\n",
       "      <td>ectomorph</td>\n",
       "      <td>anything</td>\n",
       "      <td>socially</td>\n",
       "      <td>never</td>\n",
       "      <td>graduated</td>\n",
       "      <td>74.0</td>\n",
       "      <td>-1.0</td>\n",
       "      <td>burlingame</td>\n",
       "      <td>0</td>\n",
       "      <td>straight</td>\n",
       "      <td>likes dogs and likes cats</td>\n",
       "      <td>atheism</td>\n",
       "      <td>m</td>\n",
       "      <td>virgo</td>\n",
       "      <td>0</td>\n",
       "      <td>single</td>\n",
       "      <td>10</td>\n",
       "      <td>5</td>\n",
       "      <td>1</td>\n",
       "      <td>1</td>\n",
       "      <td>Gen X-er</td>\n",
       "    </tr>\n",
       "    <tr>\n",
       "      <th>8553</th>\n",
       "      <td>36.0</td>\n",
       "      <td>mesomorph</td>\n",
       "      <td>anything</td>\n",
       "      <td>socially</td>\n",
       "      <td>never</td>\n",
       "      <td>student</td>\n",
       "      <td>63.0</td>\n",
       "      <td>40000.0</td>\n",
       "      <td>castro valley</td>\n",
       "      <td>0</td>\n",
       "      <td>straight</td>\n",
       "      <td>likes dogs and likes cats</td>\n",
       "      <td>agnosticism</td>\n",
       "      <td>f</td>\n",
       "      <td>aquarius</td>\n",
       "      <td>0</td>\n",
       "      <td>single</td>\n",
       "      <td>11</td>\n",
       "      <td>9</td>\n",
       "      <td>1</td>\n",
       "      <td>0</td>\n",
       "      <td>Gen X-er</td>\n",
       "    </tr>\n",
       "  </tbody>\n",
       "</table>\n",
       "</div>"
      ],
      "text/plain": [
       "       age  body_type      diet    drinks  drugs  education  height   income  \\\n",
       "4485  25.0  ectomorph  anything  socially  never  graduated    76.0     -1.0   \n",
       "5570  34.0  mesomorph  anything  socially  never  graduated    70.0     -1.0   \n",
       "3072  31.0  mesomorph  anything  socially  never    student    68.0     -1.0   \n",
       "6655  35.0  ectomorph  anything  socially  never  graduated    74.0     -1.0   \n",
       "8553  36.0  mesomorph  anything  socially  never    student    63.0  40000.0   \n",
       "\n",
       "           location  offspring orientation                       pets  \\\n",
       "4485  san francisco          0    straight  likes dogs and likes cats   \n",
       "5570  san francisco          0    straight  likes dogs and likes cats   \n",
       "3072        oakland          0    straight                 likes dogs   \n",
       "6655     burlingame          0    straight  likes dogs and likes cats   \n",
       "8553  castro valley          0    straight  likes dogs and likes cats   \n",
       "\n",
       "         religion sex      sign  smokes  status  last_online_year  \\\n",
       "4485      judaism   m     aries       0  single                10   \n",
       "5570        other   m   unknown       0  single                10   \n",
       "3072  agnosticism   m   scorpio       0  single                10   \n",
       "6655      atheism   m     virgo       0  single                10   \n",
       "8553  agnosticism   f  aquarius       0  single                11   \n",
       "\n",
       "      last_online_month  number_of_fluent_languages  \\\n",
       "4485                  6                           1   \n",
       "5570                  6                           1   \n",
       "3072                  6                           1   \n",
       "6655                  5                           1   \n",
       "8553                  9                           1   \n",
       "\n",
       "      number_of_poorly_languages  generation  \n",
       "4485                           0  Millennial  \n",
       "5570                           1    Gen X-er  \n",
       "3072                           1  Millennial  \n",
       "6655                           1    Gen X-er  \n",
       "8553                           0    Gen X-er  "
      ]
     },
     "execution_count": 115,
     "metadata": {},
     "output_type": "execute_result"
    }
   ],
   "source": [
    "df.sample(5)"
   ]
  },
  {
   "cell_type": "code",
   "execution_count": 116,
   "id": "71ecdcba",
   "metadata": {},
   "outputs": [
    {
     "data": {
      "text/plain": [
       "(9514, 22)"
      ]
     },
     "execution_count": 116,
     "metadata": {},
     "output_type": "execute_result"
    }
   ],
   "source": [
    "df.shape # now our values are ready"
   ]
  },
  {
   "cell_type": "code",
   "execution_count": 117,
   "id": "79740cc1",
   "metadata": {},
   "outputs": [
    {
     "data": {
      "text/html": [
       "<div>\n",
       "<style scoped>\n",
       "    .dataframe tbody tr th:only-of-type {\n",
       "        vertical-align: middle;\n",
       "    }\n",
       "\n",
       "    .dataframe tbody tr th {\n",
       "        vertical-align: top;\n",
       "    }\n",
       "\n",
       "    .dataframe thead th {\n",
       "        text-align: right;\n",
       "    }\n",
       "</style>\n",
       "<table border=\"1\" class=\"dataframe\">\n",
       "  <thead>\n",
       "    <tr style=\"text-align: right;\">\n",
       "      <th></th>\n",
       "      <th>age</th>\n",
       "      <th>height</th>\n",
       "      <th>income</th>\n",
       "      <th>offspring</th>\n",
       "      <th>smokes</th>\n",
       "      <th>last_online_year</th>\n",
       "      <th>last_online_month</th>\n",
       "      <th>number_of_fluent_languages</th>\n",
       "      <th>number_of_poorly_languages</th>\n",
       "    </tr>\n",
       "  </thead>\n",
       "  <tbody>\n",
       "    <tr>\n",
       "      <th>count</th>\n",
       "      <td>9514.000000</td>\n",
       "      <td>9514.000000</td>\n",
       "      <td>9514.000000</td>\n",
       "      <td>9514.000000</td>\n",
       "      <td>9514.000000</td>\n",
       "      <td>9514.000000</td>\n",
       "      <td>9514.000000</td>\n",
       "      <td>9514.000000</td>\n",
       "      <td>9514.000000</td>\n",
       "    </tr>\n",
       "    <tr>\n",
       "      <th>mean</th>\n",
       "      <td>32.084192</td>\n",
       "      <td>68.337398</td>\n",
       "      <td>18887.145155</td>\n",
       "      <td>0.082090</td>\n",
       "      <td>0.166597</td>\n",
       "      <td>10.077255</td>\n",
       "      <td>5.864936</td>\n",
       "      <td>1.146941</td>\n",
       "      <td>0.338974</td>\n",
       "    </tr>\n",
       "    <tr>\n",
       "      <th>std</th>\n",
       "      <td>9.445488</td>\n",
       "      <td>3.905229</td>\n",
       "      <td>91428.807808</td>\n",
       "      <td>0.274516</td>\n",
       "      <td>0.372635</td>\n",
       "      <td>0.267009</td>\n",
       "      <td>1.627365</td>\n",
       "      <td>0.413248</td>\n",
       "      <td>0.645990</td>\n",
       "    </tr>\n",
       "    <tr>\n",
       "      <th>min</th>\n",
       "      <td>18.000000</td>\n",
       "      <td>36.000000</td>\n",
       "      <td>-1.000000</td>\n",
       "      <td>0.000000</td>\n",
       "      <td>0.000000</td>\n",
       "      <td>10.000000</td>\n",
       "      <td>1.000000</td>\n",
       "      <td>1.000000</td>\n",
       "      <td>0.000000</td>\n",
       "    </tr>\n",
       "    <tr>\n",
       "      <th>25%</th>\n",
       "      <td>25.000000</td>\n",
       "      <td>66.000000</td>\n",
       "      <td>-1.000000</td>\n",
       "      <td>0.000000</td>\n",
       "      <td>0.000000</td>\n",
       "      <td>10.000000</td>\n",
       "      <td>6.000000</td>\n",
       "      <td>1.000000</td>\n",
       "      <td>0.000000</td>\n",
       "    </tr>\n",
       "    <tr>\n",
       "      <th>50%</th>\n",
       "      <td>30.000000</td>\n",
       "      <td>68.000000</td>\n",
       "      <td>-1.000000</td>\n",
       "      <td>0.000000</td>\n",
       "      <td>0.000000</td>\n",
       "      <td>10.000000</td>\n",
       "      <td>6.000000</td>\n",
       "      <td>1.000000</td>\n",
       "      <td>0.000000</td>\n",
       "    </tr>\n",
       "    <tr>\n",
       "      <th>75%</th>\n",
       "      <td>36.000000</td>\n",
       "      <td>71.000000</td>\n",
       "      <td>-1.000000</td>\n",
       "      <td>0.000000</td>\n",
       "      <td>0.000000</td>\n",
       "      <td>10.000000</td>\n",
       "      <td>6.000000</td>\n",
       "      <td>1.000000</td>\n",
       "      <td>1.000000</td>\n",
       "    </tr>\n",
       "    <tr>\n",
       "      <th>max</th>\n",
       "      <td>110.000000</td>\n",
       "      <td>95.000000</td>\n",
       "      <td>1000000.000000</td>\n",
       "      <td>1.000000</td>\n",
       "      <td>1.000000</td>\n",
       "      <td>11.000000</td>\n",
       "      <td>12.000000</td>\n",
       "      <td>5.000000</td>\n",
       "      <td>5.000000</td>\n",
       "    </tr>\n",
       "  </tbody>\n",
       "</table>\n",
       "</div>"
      ],
      "text/plain": [
       "               age       height          income    offspring       smokes  \\\n",
       "count  9514.000000  9514.000000     9514.000000  9514.000000  9514.000000   \n",
       "mean     32.084192    68.337398    18887.145155     0.082090     0.166597   \n",
       "std       9.445488     3.905229    91428.807808     0.274516     0.372635   \n",
       "min      18.000000    36.000000       -1.000000     0.000000     0.000000   \n",
       "25%      25.000000    66.000000       -1.000000     0.000000     0.000000   \n",
       "50%      30.000000    68.000000       -1.000000     0.000000     0.000000   \n",
       "75%      36.000000    71.000000       -1.000000     0.000000     0.000000   \n",
       "max     110.000000    95.000000  1000000.000000     1.000000     1.000000   \n",
       "\n",
       "       last_online_year  last_online_month  number_of_fluent_languages  \\\n",
       "count       9514.000000        9514.000000                 9514.000000   \n",
       "mean          10.077255           5.864936                    1.146941   \n",
       "std            0.267009           1.627365                    0.413248   \n",
       "min           10.000000           1.000000                    1.000000   \n",
       "25%           10.000000           6.000000                    1.000000   \n",
       "50%           10.000000           6.000000                    1.000000   \n",
       "75%           10.000000           6.000000                    1.000000   \n",
       "max           11.000000          12.000000                    5.000000   \n",
       "\n",
       "       number_of_poorly_languages  \n",
       "count                 9514.000000  \n",
       "mean                     0.338974  \n",
       "std                      0.645990  \n",
       "min                      0.000000  \n",
       "25%                      0.000000  \n",
       "50%                      0.000000  \n",
       "75%                      1.000000  \n",
       "max                      5.000000  "
      ]
     },
     "execution_count": 117,
     "metadata": {},
     "output_type": "execute_result"
    }
   ],
   "source": [
    "df.describe()"
   ]
  },
  {
   "cell_type": "code",
   "execution_count": 118,
   "id": "9e15de66",
   "metadata": {},
   "outputs": [
    {
     "data": {
      "text/html": [
       "<div>\n",
       "<style scoped>\n",
       "    .dataframe tbody tr th:only-of-type {\n",
       "        vertical-align: middle;\n",
       "    }\n",
       "\n",
       "    .dataframe tbody tr th {\n",
       "        vertical-align: top;\n",
       "    }\n",
       "\n",
       "    .dataframe thead th {\n",
       "        text-align: right;\n",
       "    }\n",
       "</style>\n",
       "<table border=\"1\" class=\"dataframe\">\n",
       "  <thead>\n",
       "    <tr style=\"text-align: right;\">\n",
       "      <th></th>\n",
       "      <th>age</th>\n",
       "      <th>height</th>\n",
       "      <th>income</th>\n",
       "      <th>offspring</th>\n",
       "      <th>smokes</th>\n",
       "      <th>last_online_year</th>\n",
       "      <th>last_online_month</th>\n",
       "      <th>number_of_fluent_languages</th>\n",
       "      <th>number_of_poorly_languages</th>\n",
       "    </tr>\n",
       "  </thead>\n",
       "  <tbody>\n",
       "    <tr>\n",
       "      <th>age</th>\n",
       "      <td>1.000000</td>\n",
       "      <td>-0.022078</td>\n",
       "      <td>0.011424</td>\n",
       "      <td>0.407890</td>\n",
       "      <td>-0.147282</td>\n",
       "      <td>-0.015792</td>\n",
       "      <td>-0.003527</td>\n",
       "      <td>-0.024795</td>\n",
       "      <td>-0.001559</td>\n",
       "    </tr>\n",
       "    <tr>\n",
       "      <th>height</th>\n",
       "      <td>-0.022078</td>\n",
       "      <td>1.000000</td>\n",
       "      <td>0.073105</td>\n",
       "      <td>-0.042311</td>\n",
       "      <td>0.035629</td>\n",
       "      <td>-0.016633</td>\n",
       "      <td>-0.010858</td>\n",
       "      <td>0.015458</td>\n",
       "      <td>0.036414</td>\n",
       "    </tr>\n",
       "    <tr>\n",
       "      <th>income</th>\n",
       "      <td>0.011424</td>\n",
       "      <td>0.073105</td>\n",
       "      <td>1.000000</td>\n",
       "      <td>0.015323</td>\n",
       "      <td>0.039872</td>\n",
       "      <td>0.009376</td>\n",
       "      <td>0.002043</td>\n",
       "      <td>0.039186</td>\n",
       "      <td>0.028577</td>\n",
       "    </tr>\n",
       "    <tr>\n",
       "      <th>offspring</th>\n",
       "      <td>0.407890</td>\n",
       "      <td>-0.042311</td>\n",
       "      <td>0.015323</td>\n",
       "      <td>1.000000</td>\n",
       "      <td>-0.017585</td>\n",
       "      <td>0.022465</td>\n",
       "      <td>0.003408</td>\n",
       "      <td>-0.006265</td>\n",
       "      <td>-0.017036</td>\n",
       "    </tr>\n",
       "    <tr>\n",
       "      <th>smokes</th>\n",
       "      <td>-0.147282</td>\n",
       "      <td>0.035629</td>\n",
       "      <td>0.039872</td>\n",
       "      <td>-0.017585</td>\n",
       "      <td>1.000000</td>\n",
       "      <td>0.038617</td>\n",
       "      <td>-0.010214</td>\n",
       "      <td>0.010306</td>\n",
       "      <td>-0.013220</td>\n",
       "    </tr>\n",
       "    <tr>\n",
       "      <th>last_online_year</th>\n",
       "      <td>-0.015792</td>\n",
       "      <td>-0.016633</td>\n",
       "      <td>0.009376</td>\n",
       "      <td>0.022465</td>\n",
       "      <td>0.038617</td>\n",
       "      <td>1.000000</td>\n",
       "      <td>0.685183</td>\n",
       "      <td>-0.003813</td>\n",
       "      <td>-0.034827</td>\n",
       "    </tr>\n",
       "    <tr>\n",
       "      <th>last_online_month</th>\n",
       "      <td>-0.003527</td>\n",
       "      <td>-0.010858</td>\n",
       "      <td>0.002043</td>\n",
       "      <td>0.003408</td>\n",
       "      <td>-0.010214</td>\n",
       "      <td>0.685183</td>\n",
       "      <td>1.000000</td>\n",
       "      <td>-0.006593</td>\n",
       "      <td>-0.006141</td>\n",
       "    </tr>\n",
       "    <tr>\n",
       "      <th>number_of_fluent_languages</th>\n",
       "      <td>-0.024795</td>\n",
       "      <td>0.015458</td>\n",
       "      <td>0.039186</td>\n",
       "      <td>-0.006265</td>\n",
       "      <td>0.010306</td>\n",
       "      <td>-0.003813</td>\n",
       "      <td>-0.006593</td>\n",
       "      <td>1.000000</td>\n",
       "      <td>0.067774</td>\n",
       "    </tr>\n",
       "    <tr>\n",
       "      <th>number_of_poorly_languages</th>\n",
       "      <td>-0.001559</td>\n",
       "      <td>0.036414</td>\n",
       "      <td>0.028577</td>\n",
       "      <td>-0.017036</td>\n",
       "      <td>-0.013220</td>\n",
       "      <td>-0.034827</td>\n",
       "      <td>-0.006141</td>\n",
       "      <td>0.067774</td>\n",
       "      <td>1.000000</td>\n",
       "    </tr>\n",
       "  </tbody>\n",
       "</table>\n",
       "</div>"
      ],
      "text/plain": [
       "                                 age    height    income  offspring    smokes  \\\n",
       "age                         1.000000 -0.022078  0.011424   0.407890 -0.147282   \n",
       "height                     -0.022078  1.000000  0.073105  -0.042311  0.035629   \n",
       "income                      0.011424  0.073105  1.000000   0.015323  0.039872   \n",
       "offspring                   0.407890 -0.042311  0.015323   1.000000 -0.017585   \n",
       "smokes                     -0.147282  0.035629  0.039872  -0.017585  1.000000   \n",
       "last_online_year           -0.015792 -0.016633  0.009376   0.022465  0.038617   \n",
       "last_online_month          -0.003527 -0.010858  0.002043   0.003408 -0.010214   \n",
       "number_of_fluent_languages -0.024795  0.015458  0.039186  -0.006265  0.010306   \n",
       "number_of_poorly_languages -0.001559  0.036414  0.028577  -0.017036 -0.013220   \n",
       "\n",
       "                            last_online_year  last_online_month  \\\n",
       "age                                -0.015792          -0.003527   \n",
       "height                             -0.016633          -0.010858   \n",
       "income                              0.009376           0.002043   \n",
       "offspring                           0.022465           0.003408   \n",
       "smokes                              0.038617          -0.010214   \n",
       "last_online_year                    1.000000           0.685183   \n",
       "last_online_month                   0.685183           1.000000   \n",
       "number_of_fluent_languages         -0.003813          -0.006593   \n",
       "number_of_poorly_languages         -0.034827          -0.006141   \n",
       "\n",
       "                            number_of_fluent_languages  \\\n",
       "age                                          -0.024795   \n",
       "height                                        0.015458   \n",
       "income                                        0.039186   \n",
       "offspring                                    -0.006265   \n",
       "smokes                                        0.010306   \n",
       "last_online_year                             -0.003813   \n",
       "last_online_month                            -0.006593   \n",
       "number_of_fluent_languages                    1.000000   \n",
       "number_of_poorly_languages                    0.067774   \n",
       "\n",
       "                            number_of_poorly_languages  \n",
       "age                                          -0.001559  \n",
       "height                                        0.036414  \n",
       "income                                        0.028577  \n",
       "offspring                                    -0.017036  \n",
       "smokes                                       -0.013220  \n",
       "last_online_year                             -0.034827  \n",
       "last_online_month                            -0.006141  \n",
       "number_of_fluent_languages                    0.067774  \n",
       "number_of_poorly_languages                    1.000000  "
      ]
     },
     "execution_count": 118,
     "metadata": {},
     "output_type": "execute_result"
    }
   ],
   "source": [
    "df.corr()"
   ]
  },
  {
   "cell_type": "code",
   "execution_count": 119,
   "id": "1feb9ea3",
   "metadata": {
    "scrolled": false
   },
   "outputs": [
    {
     "data": {
      "image/png": "[encoded data removed]",
      "text/plain": [
       "<Figure size 720x720 with 2 Axes>"
      ]
     },
     "metadata": {
      "needs_background": "light"
     },
     "output_type": "display_data"
    }
   ],
   "source": [
    "ax = plt.subplots(figsize = (10,10))\n",
    "sns.heatmap(df.corr(),annot = True);"
   ]
  },
  {
   "cell_type": "code",
   "execution_count": 120,
   "id": "1fbee795",
   "metadata": {},
   "outputs": [
    {
     "data": {
      "text/plain": [
       "age                           1.000000\n",
       "offspring                     0.407890\n",
       "smokes                        0.147282\n",
       "number_of_fluent_languages    0.024795\n",
       "height                        0.022078\n",
       "last_online_year              0.015792\n",
       "income                        0.011424\n",
       "last_online_month             0.003527\n",
       "number_of_poorly_languages    0.001559\n",
       "Name: age, dtype: float64"
      ]
     },
     "execution_count": 120,
     "metadata": {},
     "output_type": "execute_result"
    }
   ],
   "source": [
    "abs(df.corr()['age']).sort_values(ascending=False)"
   ]
  },
  {
   "cell_type": "code",
   "execution_count": 121,
   "id": "5feaf62d",
   "metadata": {},
   "outputs": [
    {
     "name": "stderr",
     "output_type": "stream",
     "text": [
      "C:\\Users\\Kemal\\anaconda3\\lib\\site-packages\\seaborn\\_decorators.py:36: FutureWarning: Pass the following variables as keyword args: x, y. From version 0.12, the only valid positional argument will be `data`, and passing other arguments without an explicit keyword will result in an error or misinterpretation.\n",
      "  warnings.warn(\n",
      "C:\\Users\\Kemal\\anaconda3\\lib\\site-packages\\seaborn\\_decorators.py:36: FutureWarning: Pass the following variables as keyword args: x, y. From version 0.12, the only valid positional argument will be `data`, and passing other arguments without an explicit keyword will result in an error or misinterpretation.\n",
      "  warnings.warn(\n",
      "C:\\Users\\Kemal\\anaconda3\\lib\\site-packages\\seaborn\\_decorators.py:36: FutureWarning: Pass the following variables as keyword args: x, y. From version 0.12, the only valid positional argument will be `data`, and passing other arguments without an explicit keyword will result in an error or misinterpretation.\n",
      "  warnings.warn(\n",
      "C:\\Users\\Kemal\\anaconda3\\lib\\site-packages\\seaborn\\_decorators.py:36: FutureWarning: Pass the following variables as keyword args: x, y. From version 0.12, the only valid positional argument will be `data`, and passing other arguments without an explicit keyword will result in an error or misinterpretation.\n",
      "  warnings.warn(\n"
     ]
    },
    {
     "data": {
      "image/png": "[encoded data removed]",
      "text/plain": [
       "<Figure size 1152x576 with 4 Axes>"
      ]
     },
     "metadata": {
      "needs_background": "light"
     },
     "output_type": "display_data"
    }
   ],
   "source": [
    "fig = plt.figure(figsize=(16,8))\n",
    "fig.add_subplot(2,2,1)\n",
    "sns.scatterplot(df['offspring'], df['age'])\n",
    "fig.add_subplot(2,2,2)\n",
    "sns.scatterplot(df['smokes'],df['age'])\n",
    "fig.add_subplot(2,2,3)\n",
    "sns.scatterplot(df['number_of_fluent_languages'],df['age'])\n",
    "fig.add_subplot(2,2,4)\n",
    "sns.scatterplot(df['income'],df['age']);"
   ]
  },
  {
   "cell_type": "code",
   "execution_count": 122,
   "id": "e58a785a",
   "metadata": {},
   "outputs": [
    {
     "data": {
      "image/png": "[encoded data removed]",
      "text/plain": [
       "<Figure size 576x432 with 1 Axes>"
      ]
     },
     "metadata": {
      "needs_background": "light"
     },
     "output_type": "display_data"
    }
   ],
   "source": [
    "plt.figure(figsize=(8,6))\n",
    "plt.hist((np.log(df.age)), bins=200);"
   ]
  },
  {
   "cell_type": "code",
   "execution_count": 123,
   "id": "0fe500af",
   "metadata": {},
   "outputs": [
    {
     "name": "stderr",
     "output_type": "stream",
     "text": [
      "C:\\Users\\Kemal\\anaconda3\\lib\\site-packages\\seaborn\\distributions.py:2619: FutureWarning: `distplot` is a deprecated function and will be removed in a future version. Please adapt your code to use either `displot` (a figure-level function with similar flexibility) or `histplot` (an axes-level function for histograms).\n",
      "  warnings.warn(msg, FutureWarning)\n",
      "C:\\Users\\Kemal\\anaconda3\\lib\\site-packages\\seaborn\\_decorators.py:36: FutureWarning: Pass the following variable as a keyword arg: x. From version 0.12, the only valid positional argument will be `data`, and passing other arguments without an explicit keyword will result in an error or misinterpretation.\n",
      "  warnings.warn(\n"
     ]
    },
    {
     "data": {
      "image/png": "[encoded data removed]",
      "text/plain": [
       "<Figure size 720x504 with 2 Axes>"
      ]
     },
     "metadata": {
      "needs_background": "light"
     },
     "output_type": "display_data"
    }
   ],
   "source": [
    "fig = plt.figure(figsize=(10,7))\n",
    "fig.add_subplot(2,1,1)\n",
    "sns.distplot(df['age'])\n",
    "fig.add_subplot(2,1,2)\n",
    "sns.boxplot(df['age'])\n",
    "plt.tight_layout();"
   ]
  },
  {
   "cell_type": "code",
   "execution_count": 124,
   "id": "83e00f8e",
   "metadata": {},
   "outputs": [
    {
     "data": {
      "text/plain": [
       "<AxesSubplot:>"
      ]
     },
     "execution_count": 124,
     "metadata": {},
     "output_type": "execute_result"
    },
    {
     "data": {
      "image/png": "[encoded data removed]",
      "text/plain": [
       "<Figure size 432x288 with 1 Axes>"
      ]
     },
     "metadata": {
      "needs_background": "light"
     },
     "output_type": "display_data"
    }
   ],
   "source": [
    "df.age.hist()"
   ]
  },
  {
   "cell_type": "markdown",
   "id": "d40f285b",
   "metadata": {},
   "source": [
    "### 1 - Can your dating profile predict your age? - Regression"
   ]
  },
  {
   "cell_type": "code",
   "execution_count": 125,
   "id": "31cdb376",
   "metadata": {},
   "outputs": [],
   "source": [
    "#import Regression Libraries\n",
    "from sklearn.metrics import r2_score, mean_squared_error,mean_absolute_error\n",
    "from sklearn.linear_model import LinearRegression, ElasticNet, Ridge, Lasso\n",
    "from sklearn.tree import ExtraTreeRegressor\n",
    "from sklearn.ensemble import GradientBoostingRegressor\n",
    "from xgboost import XGBRegressor\n",
    "\n",
    "from sklearn.model_selection import train_test_split"
   ]
  },
  {
   "cell_type": "code",
   "execution_count": 126,
   "id": "aedf78c5",
   "metadata": {},
   "outputs": [],
   "source": [
    "mod1=pd.get_dummies(df,drop_first=True)"
   ]
  },
  {
   "cell_type": "code",
   "execution_count": 127,
   "id": "84364040",
   "metadata": {},
   "outputs": [
    {
     "data": {
      "text/html": [
       "<div>\n",
       "<style scoped>\n",
       "    .dataframe tbody tr th:only-of-type {\n",
       "        vertical-align: middle;\n",
       "    }\n",
       "\n",
       "    .dataframe tbody tr th {\n",
       "        vertical-align: top;\n",
       "    }\n",
       "\n",
       "    .dataframe thead th {\n",
       "        text-align: right;\n",
       "    }\n",
       "</style>\n",
       "<table border=\"1\" class=\"dataframe\">\n",
       "  <thead>\n",
       "    <tr style=\"text-align: right;\">\n",
       "      <th></th>\n",
       "      <th>age</th>\n",
       "      <th>height</th>\n",
       "      <th>income</th>\n",
       "      <th>offspring</th>\n",
       "      <th>smokes</th>\n",
       "      <th>last_online_year</th>\n",
       "      <th>last_online_month</th>\n",
       "      <th>number_of_fluent_languages</th>\n",
       "      <th>number_of_poorly_languages</th>\n",
       "      <th>body_type_endomorph</th>\n",
       "      <th>body_type_mesomorph</th>\n",
       "      <th>diet_halal</th>\n",
       "      <th>diet_kosher</th>\n",
       "      <th>diet_other</th>\n",
       "      <th>diet_vegan</th>\n",
       "      <th>diet_vegetarian</th>\n",
       "      <th>drinks_not at all</th>\n",
       "      <th>drinks_often</th>\n",
       "      <th>drinks_rarely</th>\n",
       "      <th>drinks_socially</th>\n",
       "      <th>drinks_very often</th>\n",
       "      <th>drugs_often</th>\n",
       "      <th>drugs_sometimes</th>\n",
       "      <th>education_graduated</th>\n",
       "      <th>education_student</th>\n",
       "      <th>location_albany</th>\n",
       "      <th>location_atherton</th>\n",
       "      <th>location_belmont</th>\n",
       "      <th>location_belvedere tiburon</th>\n",
       "      <th>location_benicia</th>\n",
       "      <th>location_berkeley</th>\n",
       "      <th>location_billings</th>\n",
       "      <th>location_bolinas</th>\n",
       "      <th>location_boulder</th>\n",
       "      <th>location_brisbane</th>\n",
       "      <th>location_burlingame</th>\n",
       "      <th>location_canyon country</th>\n",
       "      <th>location_castro valley</th>\n",
       "      <th>location_corte madera</th>\n",
       "      <th>location_crockett</th>\n",
       "      <th>location_daly city</th>\n",
       "      <th>location_east palo alto</th>\n",
       "      <th>location_el cerrito</th>\n",
       "      <th>location_el granada</th>\n",
       "      <th>location_el sobrante</th>\n",
       "      <th>location_emeryville</th>\n",
       "      <th>location_fairfax</th>\n",
       "      <th>location_foster city</th>\n",
       "      <th>location_freedom</th>\n",
       "      <th>location_fremont</th>\n",
       "      <th>...</th>\n",
       "      <th>location_tiburon</th>\n",
       "      <th>location_tucson</th>\n",
       "      <th>location_vallejo</th>\n",
       "      <th>location_walnut creek</th>\n",
       "      <th>location_west oakland</th>\n",
       "      <th>location_westlake</th>\n",
       "      <th>location_woodacre</th>\n",
       "      <th>location_woodbridge</th>\n",
       "      <th>location_woodside</th>\n",
       "      <th>orientation_gay</th>\n",
       "      <th>orientation_straight</th>\n",
       "      <th>pets_dislikes dogs</th>\n",
       "      <th>pets_dislikes dogs and dislikes cats</th>\n",
       "      <th>pets_dislikes dogs and has cats</th>\n",
       "      <th>pets_dislikes dogs and likes cats</th>\n",
       "      <th>pets_has cats</th>\n",
       "      <th>pets_has dogs</th>\n",
       "      <th>pets_has dogs and dislikes cats</th>\n",
       "      <th>pets_has dogs and has cats</th>\n",
       "      <th>pets_has dogs and likes cats</th>\n",
       "      <th>pets_likes cats</th>\n",
       "      <th>pets_likes dogs</th>\n",
       "      <th>pets_likes dogs and dislikes cats</th>\n",
       "      <th>pets_likes dogs and has cats</th>\n",
       "      <th>pets_likes dogs and likes cats</th>\n",
       "      <th>religion_atheism</th>\n",
       "      <th>religion_buddhism</th>\n",
       "      <th>religion_catholicism</th>\n",
       "      <th>religion_christianity</th>\n",
       "      <th>religion_hinduism</th>\n",
       "      <th>religion_islam</th>\n",
       "      <th>religion_judaism</th>\n",
       "      <th>religion_other</th>\n",
       "      <th>sex_m</th>\n",
       "      <th>sign_aries</th>\n",
       "      <th>sign_cancer</th>\n",
       "      <th>sign_capricorn</th>\n",
       "      <th>sign_gemini</th>\n",
       "      <th>sign_leo</th>\n",
       "      <th>sign_libra</th>\n",
       "      <th>sign_pisces</th>\n",
       "      <th>sign_sagittarius</th>\n",
       "      <th>sign_scorpio</th>\n",
       "      <th>sign_taurus</th>\n",
       "      <th>sign_unknown</th>\n",
       "      <th>sign_virgo</th>\n",
       "      <th>status_seeing someone</th>\n",
       "      <th>status_single</th>\n",
       "      <th>generation_Gen X-er</th>\n",
       "      <th>generation_Millennial</th>\n",
       "    </tr>\n",
       "  </thead>\n",
       "  <tbody>\n",
       "    <tr>\n",
       "      <th>6641</th>\n",
       "      <td>46.0</td>\n",
       "      <td>70.0</td>\n",
       "      <td>50000.0</td>\n",
       "      <td>0</td>\n",
       "      <td>0</td>\n",
       "      <td>10</td>\n",
       "      <td>6</td>\n",
       "      <td>1</td>\n",
       "      <td>0</td>\n",
       "      <td>0</td>\n",
       "      <td>0</td>\n",
       "      <td>0</td>\n",
       "      <td>0</td>\n",
       "      <td>0</td>\n",
       "      <td>0</td>\n",
       "      <td>0</td>\n",
       "      <td>0</td>\n",
       "      <td>0</td>\n",
       "      <td>0</td>\n",
       "      <td>1</td>\n",
       "      <td>0</td>\n",
       "      <td>0</td>\n",
       "      <td>0</td>\n",
       "      <td>1</td>\n",
       "      <td>0</td>\n",
       "      <td>0</td>\n",
       "      <td>0</td>\n",
       "      <td>0</td>\n",
       "      <td>0</td>\n",
       "      <td>0</td>\n",
       "      <td>0</td>\n",
       "      <td>0</td>\n",
       "      <td>0</td>\n",
       "      <td>0</td>\n",
       "      <td>0</td>\n",
       "      <td>0</td>\n",
       "      <td>0</td>\n",
       "      <td>0</td>\n",
       "      <td>0</td>\n",
       "      <td>0</td>\n",
       "      <td>0</td>\n",
       "      <td>0</td>\n",
       "      <td>0</td>\n",
       "      <td>0</td>\n",
       "      <td>0</td>\n",
       "      <td>0</td>\n",
       "      <td>0</td>\n",
       "      <td>0</td>\n",
       "      <td>0</td>\n",
       "      <td>0</td>\n",
       "      <td>...</td>\n",
       "      <td>0</td>\n",
       "      <td>0</td>\n",
       "      <td>0</td>\n",
       "      <td>0</td>\n",
       "      <td>0</td>\n",
       "      <td>0</td>\n",
       "      <td>0</td>\n",
       "      <td>0</td>\n",
       "      <td>0</td>\n",
       "      <td>0</td>\n",
       "      <td>1</td>\n",
       "      <td>0</td>\n",
       "      <td>0</td>\n",
       "      <td>0</td>\n",
       "      <td>0</td>\n",
       "      <td>0</td>\n",
       "      <td>0</td>\n",
       "      <td>0</td>\n",
       "      <td>0</td>\n",
       "      <td>0</td>\n",
       "      <td>0</td>\n",
       "      <td>0</td>\n",
       "      <td>0</td>\n",
       "      <td>0</td>\n",
       "      <td>1</td>\n",
       "      <td>0</td>\n",
       "      <td>0</td>\n",
       "      <td>1</td>\n",
       "      <td>0</td>\n",
       "      <td>0</td>\n",
       "      <td>0</td>\n",
       "      <td>0</td>\n",
       "      <td>0</td>\n",
       "      <td>1</td>\n",
       "      <td>0</td>\n",
       "      <td>0</td>\n",
       "      <td>0</td>\n",
       "      <td>0</td>\n",
       "      <td>0</td>\n",
       "      <td>0</td>\n",
       "      <td>0</td>\n",
       "      <td>1</td>\n",
       "      <td>0</td>\n",
       "      <td>0</td>\n",
       "      <td>0</td>\n",
       "      <td>0</td>\n",
       "      <td>0</td>\n",
       "      <td>1</td>\n",
       "      <td>1</td>\n",
       "      <td>0</td>\n",
       "    </tr>\n",
       "    <tr>\n",
       "      <th>8989</th>\n",
       "      <td>25.0</td>\n",
       "      <td>69.0</td>\n",
       "      <td>-1.0</td>\n",
       "      <td>0</td>\n",
       "      <td>1</td>\n",
       "      <td>10</td>\n",
       "      <td>5</td>\n",
       "      <td>2</td>\n",
       "      <td>0</td>\n",
       "      <td>0</td>\n",
       "      <td>0</td>\n",
       "      <td>0</td>\n",
       "      <td>0</td>\n",
       "      <td>0</td>\n",
       "      <td>0</td>\n",
       "      <td>0</td>\n",
       "      <td>0</td>\n",
       "      <td>0</td>\n",
       "      <td>0</td>\n",
       "      <td>1</td>\n",
       "      <td>0</td>\n",
       "      <td>0</td>\n",
       "      <td>1</td>\n",
       "      <td>1</td>\n",
       "      <td>0</td>\n",
       "      <td>0</td>\n",
       "      <td>0</td>\n",
       "      <td>0</td>\n",
       "      <td>0</td>\n",
       "      <td>0</td>\n",
       "      <td>1</td>\n",
       "      <td>0</td>\n",
       "      <td>0</td>\n",
       "      <td>0</td>\n",
       "      <td>0</td>\n",
       "      <td>0</td>\n",
       "      <td>0</td>\n",
       "      <td>0</td>\n",
       "      <td>0</td>\n",
       "      <td>0</td>\n",
       "      <td>0</td>\n",
       "      <td>0</td>\n",
       "      <td>0</td>\n",
       "      <td>0</td>\n",
       "      <td>0</td>\n",
       "      <td>0</td>\n",
       "      <td>0</td>\n",
       "      <td>0</td>\n",
       "      <td>0</td>\n",
       "      <td>0</td>\n",
       "      <td>...</td>\n",
       "      <td>0</td>\n",
       "      <td>0</td>\n",
       "      <td>0</td>\n",
       "      <td>0</td>\n",
       "      <td>0</td>\n",
       "      <td>0</td>\n",
       "      <td>0</td>\n",
       "      <td>0</td>\n",
       "      <td>0</td>\n",
       "      <td>1</td>\n",
       "      <td>0</td>\n",
       "      <td>0</td>\n",
       "      <td>0</td>\n",
       "      <td>0</td>\n",
       "      <td>0</td>\n",
       "      <td>0</td>\n",
       "      <td>0</td>\n",
       "      <td>0</td>\n",
       "      <td>0</td>\n",
       "      <td>0</td>\n",
       "      <td>0</td>\n",
       "      <td>0</td>\n",
       "      <td>0</td>\n",
       "      <td>0</td>\n",
       "      <td>1</td>\n",
       "      <td>0</td>\n",
       "      <td>0</td>\n",
       "      <td>0</td>\n",
       "      <td>0</td>\n",
       "      <td>0</td>\n",
       "      <td>0</td>\n",
       "      <td>0</td>\n",
       "      <td>1</td>\n",
       "      <td>1</td>\n",
       "      <td>0</td>\n",
       "      <td>0</td>\n",
       "      <td>0</td>\n",
       "      <td>0</td>\n",
       "      <td>0</td>\n",
       "      <td>0</td>\n",
       "      <td>0</td>\n",
       "      <td>0</td>\n",
       "      <td>1</td>\n",
       "      <td>0</td>\n",
       "      <td>0</td>\n",
       "      <td>0</td>\n",
       "      <td>0</td>\n",
       "      <td>1</td>\n",
       "      <td>0</td>\n",
       "      <td>1</td>\n",
       "    </tr>\n",
       "    <tr>\n",
       "      <th>6098</th>\n",
       "      <td>28.0</td>\n",
       "      <td>74.0</td>\n",
       "      <td>-1.0</td>\n",
       "      <td>0</td>\n",
       "      <td>0</td>\n",
       "      <td>10</td>\n",
       "      <td>4</td>\n",
       "      <td>1</td>\n",
       "      <td>0</td>\n",
       "      <td>0</td>\n",
       "      <td>1</td>\n",
       "      <td>0</td>\n",
       "      <td>0</td>\n",
       "      <td>0</td>\n",
       "      <td>0</td>\n",
       "      <td>0</td>\n",
       "      <td>0</td>\n",
       "      <td>0</td>\n",
       "      <td>0</td>\n",
       "      <td>1</td>\n",
       "      <td>0</td>\n",
       "      <td>0</td>\n",
       "      <td>0</td>\n",
       "      <td>1</td>\n",
       "      <td>0</td>\n",
       "      <td>0</td>\n",
       "      <td>0</td>\n",
       "      <td>0</td>\n",
       "      <td>0</td>\n",
       "      <td>0</td>\n",
       "      <td>0</td>\n",
       "      <td>0</td>\n",
       "      <td>0</td>\n",
       "      <td>0</td>\n",
       "      <td>0</td>\n",
       "      <td>0</td>\n",
       "      <td>0</td>\n",
       "      <td>0</td>\n",
       "      <td>0</td>\n",
       "      <td>0</td>\n",
       "      <td>0</td>\n",
       "      <td>0</td>\n",
       "      <td>0</td>\n",
       "      <td>0</td>\n",
       "      <td>0</td>\n",
       "      <td>0</td>\n",
       "      <td>0</td>\n",
       "      <td>0</td>\n",
       "      <td>0</td>\n",
       "      <td>0</td>\n",
       "      <td>...</td>\n",
       "      <td>0</td>\n",
       "      <td>0</td>\n",
       "      <td>0</td>\n",
       "      <td>0</td>\n",
       "      <td>0</td>\n",
       "      <td>0</td>\n",
       "      <td>0</td>\n",
       "      <td>0</td>\n",
       "      <td>0</td>\n",
       "      <td>0</td>\n",
       "      <td>1</td>\n",
       "      <td>0</td>\n",
       "      <td>0</td>\n",
       "      <td>0</td>\n",
       "      <td>0</td>\n",
       "      <td>0</td>\n",
       "      <td>0</td>\n",
       "      <td>0</td>\n",
       "      <td>0</td>\n",
       "      <td>0</td>\n",
       "      <td>0</td>\n",
       "      <td>0</td>\n",
       "      <td>1</td>\n",
       "      <td>0</td>\n",
       "      <td>0</td>\n",
       "      <td>0</td>\n",
       "      <td>0</td>\n",
       "      <td>0</td>\n",
       "      <td>1</td>\n",
       "      <td>0</td>\n",
       "      <td>0</td>\n",
       "      <td>0</td>\n",
       "      <td>0</td>\n",
       "      <td>1</td>\n",
       "      <td>0</td>\n",
       "      <td>0</td>\n",
       "      <td>0</td>\n",
       "      <td>0</td>\n",
       "      <td>0</td>\n",
       "      <td>0</td>\n",
       "      <td>0</td>\n",
       "      <td>0</td>\n",
       "      <td>0</td>\n",
       "      <td>0</td>\n",
       "      <td>1</td>\n",
       "      <td>0</td>\n",
       "      <td>0</td>\n",
       "      <td>1</td>\n",
       "      <td>0</td>\n",
       "      <td>1</td>\n",
       "    </tr>\n",
       "    <tr>\n",
       "      <th>3962</th>\n",
       "      <td>21.0</td>\n",
       "      <td>70.0</td>\n",
       "      <td>-1.0</td>\n",
       "      <td>0</td>\n",
       "      <td>0</td>\n",
       "      <td>10</td>\n",
       "      <td>6</td>\n",
       "      <td>1</td>\n",
       "      <td>0</td>\n",
       "      <td>0</td>\n",
       "      <td>0</td>\n",
       "      <td>0</td>\n",
       "      <td>0</td>\n",
       "      <td>0</td>\n",
       "      <td>0</td>\n",
       "      <td>1</td>\n",
       "      <td>1</td>\n",
       "      <td>0</td>\n",
       "      <td>0</td>\n",
       "      <td>0</td>\n",
       "      <td>0</td>\n",
       "      <td>0</td>\n",
       "      <td>1</td>\n",
       "      <td>0</td>\n",
       "      <td>1</td>\n",
       "      <td>0</td>\n",
       "      <td>0</td>\n",
       "      <td>0</td>\n",
       "      <td>0</td>\n",
       "      <td>0</td>\n",
       "      <td>0</td>\n",
       "      <td>0</td>\n",
       "      <td>0</td>\n",
       "      <td>0</td>\n",
       "      <td>0</td>\n",
       "      <td>0</td>\n",
       "      <td>0</td>\n",
       "      <td>0</td>\n",
       "      <td>0</td>\n",
       "      <td>0</td>\n",
       "      <td>0</td>\n",
       "      <td>0</td>\n",
       "      <td>0</td>\n",
       "      <td>0</td>\n",
       "      <td>0</td>\n",
       "      <td>0</td>\n",
       "      <td>0</td>\n",
       "      <td>0</td>\n",
       "      <td>0</td>\n",
       "      <td>0</td>\n",
       "      <td>...</td>\n",
       "      <td>0</td>\n",
       "      <td>0</td>\n",
       "      <td>0</td>\n",
       "      <td>0</td>\n",
       "      <td>0</td>\n",
       "      <td>0</td>\n",
       "      <td>0</td>\n",
       "      <td>0</td>\n",
       "      <td>0</td>\n",
       "      <td>1</td>\n",
       "      <td>0</td>\n",
       "      <td>0</td>\n",
       "      <td>0</td>\n",
       "      <td>0</td>\n",
       "      <td>0</td>\n",
       "      <td>0</td>\n",
       "      <td>0</td>\n",
       "      <td>0</td>\n",
       "      <td>0</td>\n",
       "      <td>0</td>\n",
       "      <td>0</td>\n",
       "      <td>1</td>\n",
       "      <td>0</td>\n",
       "      <td>0</td>\n",
       "      <td>0</td>\n",
       "      <td>0</td>\n",
       "      <td>0</td>\n",
       "      <td>0</td>\n",
       "      <td>1</td>\n",
       "      <td>0</td>\n",
       "      <td>0</td>\n",
       "      <td>0</td>\n",
       "      <td>0</td>\n",
       "      <td>1</td>\n",
       "      <td>1</td>\n",
       "      <td>0</td>\n",
       "      <td>0</td>\n",
       "      <td>0</td>\n",
       "      <td>0</td>\n",
       "      <td>0</td>\n",
       "      <td>0</td>\n",
       "      <td>0</td>\n",
       "      <td>0</td>\n",
       "      <td>0</td>\n",
       "      <td>0</td>\n",
       "      <td>0</td>\n",
       "      <td>0</td>\n",
       "      <td>1</td>\n",
       "      <td>0</td>\n",
       "      <td>1</td>\n",
       "    </tr>\n",
       "    <tr>\n",
       "      <th>1462</th>\n",
       "      <td>19.0</td>\n",
       "      <td>62.0</td>\n",
       "      <td>-1.0</td>\n",
       "      <td>0</td>\n",
       "      <td>0</td>\n",
       "      <td>10</td>\n",
       "      <td>6</td>\n",
       "      <td>1</td>\n",
       "      <td>0</td>\n",
       "      <td>1</td>\n",
       "      <td>0</td>\n",
       "      <td>0</td>\n",
       "      <td>0</td>\n",
       "      <td>0</td>\n",
       "      <td>0</td>\n",
       "      <td>0</td>\n",
       "      <td>0</td>\n",
       "      <td>0</td>\n",
       "      <td>0</td>\n",
       "      <td>1</td>\n",
       "      <td>0</td>\n",
       "      <td>0</td>\n",
       "      <td>0</td>\n",
       "      <td>0</td>\n",
       "      <td>1</td>\n",
       "      <td>1</td>\n",
       "      <td>0</td>\n",
       "      <td>0</td>\n",
       "      <td>0</td>\n",
       "      <td>0</td>\n",
       "      <td>0</td>\n",
       "      <td>0</td>\n",
       "      <td>0</td>\n",
       "      <td>0</td>\n",
       "      <td>0</td>\n",
       "      <td>0</td>\n",
       "      <td>0</td>\n",
       "      <td>0</td>\n",
       "      <td>0</td>\n",
       "      <td>0</td>\n",
       "      <td>0</td>\n",
       "      <td>0</td>\n",
       "      <td>0</td>\n",
       "      <td>0</td>\n",
       "      <td>0</td>\n",
       "      <td>0</td>\n",
       "      <td>0</td>\n",
       "      <td>0</td>\n",
       "      <td>0</td>\n",
       "      <td>0</td>\n",
       "      <td>...</td>\n",
       "      <td>0</td>\n",
       "      <td>0</td>\n",
       "      <td>0</td>\n",
       "      <td>0</td>\n",
       "      <td>0</td>\n",
       "      <td>0</td>\n",
       "      <td>0</td>\n",
       "      <td>0</td>\n",
       "      <td>0</td>\n",
       "      <td>0</td>\n",
       "      <td>1</td>\n",
       "      <td>0</td>\n",
       "      <td>0</td>\n",
       "      <td>0</td>\n",
       "      <td>0</td>\n",
       "      <td>0</td>\n",
       "      <td>0</td>\n",
       "      <td>0</td>\n",
       "      <td>0</td>\n",
       "      <td>0</td>\n",
       "      <td>0</td>\n",
       "      <td>0</td>\n",
       "      <td>0</td>\n",
       "      <td>1</td>\n",
       "      <td>0</td>\n",
       "      <td>0</td>\n",
       "      <td>0</td>\n",
       "      <td>0</td>\n",
       "      <td>0</td>\n",
       "      <td>0</td>\n",
       "      <td>0</td>\n",
       "      <td>0</td>\n",
       "      <td>0</td>\n",
       "      <td>0</td>\n",
       "      <td>0</td>\n",
       "      <td>0</td>\n",
       "      <td>1</td>\n",
       "      <td>0</td>\n",
       "      <td>0</td>\n",
       "      <td>0</td>\n",
       "      <td>0</td>\n",
       "      <td>0</td>\n",
       "      <td>0</td>\n",
       "      <td>0</td>\n",
       "      <td>0</td>\n",
       "      <td>0</td>\n",
       "      <td>0</td>\n",
       "      <td>1</td>\n",
       "      <td>0</td>\n",
       "      <td>1</td>\n",
       "    </tr>\n",
       "  </tbody>\n",
       "</table>\n",
       "<p>5 rows × 154 columns</p>\n",
       "</div>"
      ],
      "text/plain": [
       "       age  height   income  offspring  smokes  last_online_year  \\\n",
       "6641  46.0    70.0  50000.0          0       0                10   \n",
       "8989  25.0    69.0     -1.0          0       1                10   \n",
       "6098  28.0    74.0     -1.0          0       0                10   \n",
       "3962  21.0    70.0     -1.0          0       0                10   \n",
       "1462  19.0    62.0     -1.0          0       0                10   \n",
       "\n",
       "      last_online_month  number_of_fluent_languages  \\\n",
       "6641                  6                           1   \n",
       "8989                  5                           2   \n",
       "6098                  4                           1   \n",
       "3962                  6                           1   \n",
       "1462                  6                           1   \n",
       "\n",
       "      number_of_poorly_languages  body_type_endomorph  body_type_mesomorph  \\\n",
       "6641                           0                    0                    0   \n",
       "8989                           0                    0                    0   \n",
       "6098                           0                    0                    1   \n",
       "3962                           0                    0                    0   \n",
       "1462                           0                    1                    0   \n",
       "\n",
       "      diet_halal  diet_kosher  diet_other  diet_vegan  diet_vegetarian  \\\n",
       "6641           0            0           0           0                0   \n",
       "8989           0            0           0           0                0   \n",
       "6098           0            0           0           0                0   \n",
       "3962           0            0           0           0                1   \n",
       "1462           0            0           0           0                0   \n",
       "\n",
       "      drinks_not at all  drinks_often  drinks_rarely  drinks_socially  \\\n",
       "6641                  0             0              0                1   \n",
       "8989                  0             0              0                1   \n",
       "6098                  0             0              0                1   \n",
       "3962                  1             0              0                0   \n",
       "1462                  0             0              0                1   \n",
       "\n",
       "      drinks_very often  drugs_often  drugs_sometimes  education_graduated  \\\n",
       "6641                  0            0                0                    1   \n",
       "8989                  0            0                1                    1   \n",
       "6098                  0            0                0                    1   \n",
       "3962                  0            0                1                    0   \n",
       "1462                  0            0                0                    0   \n",
       "\n",
       "      education_student  location_albany  location_atherton  location_belmont  \\\n",
       "6641                  0                0                  0                 0   \n",
       "8989                  0                0                  0                 0   \n",
       "6098                  0                0                  0                 0   \n",
       "3962                  1                0                  0                 0   \n",
       "1462                  1                1                  0                 0   \n",
       "\n",
       "      location_belvedere tiburon  location_benicia  location_berkeley  \\\n",
       "6641                           0                 0                  0   \n",
       "8989                           0                 0                  1   \n",
       "6098                           0                 0                  0   \n",
       "3962                           0                 0                  0   \n",
       "1462                           0                 0                  0   \n",
       "\n",
       "      location_billings  location_bolinas  location_boulder  \\\n",
       "6641                  0                 0                 0   \n",
       "8989                  0                 0                 0   \n",
       "6098                  0                 0                 0   \n",
       "3962                  0                 0                 0   \n",
       "1462                  0                 0                 0   \n",
       "\n",
       "      location_brisbane  location_burlingame  location_canyon country  \\\n",
       "6641                  0                    0                        0   \n",
       "8989                  0                    0                        0   \n",
       "6098                  0                    0                        0   \n",
       "3962                  0                    0                        0   \n",
       "1462                  0                    0                        0   \n",
       "\n",
       "      location_castro valley  location_corte madera  location_crockett  \\\n",
       "6641                       0                      0                  0   \n",
       "8989                       0                      0                  0   \n",
       "6098                       0                      0                  0   \n",
       "3962                       0                      0                  0   \n",
       "1462                       0                      0                  0   \n",
       "\n",
       "      location_daly city  location_east palo alto  location_el cerrito  \\\n",
       "6641                   0                        0                    0   \n",
       "8989                   0                        0                    0   \n",
       "6098                   0                        0                    0   \n",
       "3962                   0                        0                    0   \n",
       "1462                   0                        0                    0   \n",
       "\n",
       "      location_el granada  location_el sobrante  location_emeryville  \\\n",
       "6641                    0                     0                    0   \n",
       "8989                    0                     0                    0   \n",
       "6098                    0                     0                    0   \n",
       "3962                    0                     0                    0   \n",
       "1462                    0                     0                    0   \n",
       "\n",
       "      location_fairfax  location_foster city  location_freedom  \\\n",
       "6641                 0                     0                 0   \n",
       "8989                 0                     0                 0   \n",
       "6098                 0                     0                 0   \n",
       "3962                 0                     0                 0   \n",
       "1462                 0                     0                 0   \n",
       "\n",
       "      location_fremont  ...  location_tiburon  location_tucson  \\\n",
       "6641                 0  ...                 0                0   \n",
       "8989                 0  ...                 0                0   \n",
       "6098                 0  ...                 0                0   \n",
       "3962                 0  ...                 0                0   \n",
       "1462                 0  ...                 0                0   \n",
       "\n",
       "      location_vallejo  location_walnut creek  location_west oakland  \\\n",
       "6641                 0                      0                      0   \n",
       "8989                 0                      0                      0   \n",
       "6098                 0                      0                      0   \n",
       "3962                 0                      0                      0   \n",
       "1462                 0                      0                      0   \n",
       "\n",
       "      location_westlake  location_woodacre  location_woodbridge  \\\n",
       "6641                  0                  0                    0   \n",
       "8989                  0                  0                    0   \n",
       "6098                  0                  0                    0   \n",
       "3962                  0                  0                    0   \n",
       "1462                  0                  0                    0   \n",
       "\n",
       "      location_woodside  orientation_gay  orientation_straight  \\\n",
       "6641                  0                0                     1   \n",
       "8989                  0                1                     0   \n",
       "6098                  0                0                     1   \n",
       "3962                  0                1                     0   \n",
       "1462                  0                0                     1   \n",
       "\n",
       "      pets_dislikes dogs  pets_dislikes dogs and dislikes cats  \\\n",
       "6641                   0                                     0   \n",
       "8989                   0                                     0   \n",
       "6098                   0                                     0   \n",
       "3962                   0                                     0   \n",
       "1462                   0                                     0   \n",
       "\n",
       "      pets_dislikes dogs and has cats  pets_dislikes dogs and likes cats  \\\n",
       "6641                                0                                  0   \n",
       "8989                                0                                  0   \n",
       "6098                                0                                  0   \n",
       "3962                                0                                  0   \n",
       "1462                                0                                  0   \n",
       "\n",
       "      pets_has cats  pets_has dogs  pets_has dogs and dislikes cats  \\\n",
       "6641              0              0                                0   \n",
       "8989              0              0                                0   \n",
       "6098              0              0                                0   \n",
       "3962              0              0                                0   \n",
       "1462              0              0                                0   \n",
       "\n",
       "      pets_has dogs and has cats  pets_has dogs and likes cats  \\\n",
       "6641                           0                             0   \n",
       "8989                           0                             0   \n",
       "6098                           0                             0   \n",
       "3962                           0                             0   \n",
       "1462                           0                             0   \n",
       "\n",
       "      pets_likes cats  pets_likes dogs  pets_likes dogs and dislikes cats  \\\n",
       "6641                0                0                                  0   \n",
       "8989                0                0                                  0   \n",
       "6098                0                0                                  1   \n",
       "3962                0                1                                  0   \n",
       "1462                0                0                                  0   \n",
       "\n",
       "      pets_likes dogs and has cats  pets_likes dogs and likes cats  \\\n",
       "6641                             0                               1   \n",
       "8989                             0                               1   \n",
       "6098                             0                               0   \n",
       "3962                             0                               0   \n",
       "1462                             1                               0   \n",
       "\n",
       "      religion_atheism  religion_buddhism  religion_catholicism  \\\n",
       "6641                 0                  0                     1   \n",
       "8989                 0                  0                     0   \n",
       "6098                 0                  0                     0   \n",
       "3962                 0                  0                     0   \n",
       "1462                 0                  0                     0   \n",
       "\n",
       "      religion_christianity  religion_hinduism  religion_islam  \\\n",
       "6641                      0                  0               0   \n",
       "8989                      0                  0               0   \n",
       "6098                      1                  0               0   \n",
       "3962                      1                  0               0   \n",
       "1462                      0                  0               0   \n",
       "\n",
       "      religion_judaism  religion_other  sex_m  sign_aries  sign_cancer  \\\n",
       "6641                 0               0      1           0            0   \n",
       "8989                 0               1      1           0            0   \n",
       "6098                 0               0      1           0            0   \n",
       "3962                 0               0      1           1            0   \n",
       "1462                 0               0      0           0            0   \n",
       "\n",
       "      sign_capricorn  sign_gemini  sign_leo  sign_libra  sign_pisces  \\\n",
       "6641               0            0         0           0            0   \n",
       "8989               0            0         0           0            0   \n",
       "6098               0            0         0           0            0   \n",
       "3962               0            0         0           0            0   \n",
       "1462               1            0         0           0            0   \n",
       "\n",
       "      sign_sagittarius  sign_scorpio  sign_taurus  sign_unknown  sign_virgo  \\\n",
       "6641                 1             0            0             0           0   \n",
       "8989                 0             1            0             0           0   \n",
       "6098                 0             0            0             1           0   \n",
       "3962                 0             0            0             0           0   \n",
       "1462                 0             0            0             0           0   \n",
       "\n",
       "      status_seeing someone  status_single  generation_Gen X-er  \\\n",
       "6641                      0              1                    1   \n",
       "8989                      0              1                    0   \n",
       "6098                      0              1                    0   \n",
       "3962                      0              1                    0   \n",
       "1462                      0              1                    0   \n",
       "\n",
       "      generation_Millennial  \n",
       "6641                      0  \n",
       "8989                      1  \n",
       "6098                      1  \n",
       "3962                      1  \n",
       "1462                      1  \n",
       "\n",
       "[5 rows x 154 columns]"
      ]
     },
     "execution_count": 127,
     "metadata": {},
     "output_type": "execute_result"
    }
   ],
   "source": [
    "mod1.sample(5)"
   ]
  },
  {
   "cell_type": "code",
   "execution_count": 128,
   "id": "9583facd",
   "metadata": {},
   "outputs": [],
   "source": [
    "x = mod1.drop(\"age\",axis=1)\n",
    "y = df[[\"age\"]]"
   ]
  },
  {
   "cell_type": "code",
   "execution_count": 129,
   "id": "aba73d82",
   "metadata": {},
   "outputs": [],
   "source": [
    "def algo_test(x,y):\n",
    "  \n",
    "    L = LinearRegression()\n",
    "    E = ElasticNet()\n",
    "    R = Ridge()\n",
    "    Lass = Lasso()\n",
    "    ETR=ExtraTreeRegressor()\n",
    "    GBR=GradientBoostingRegressor()\n",
    "    XGBC= XGBRegressor()\n",
    "          \n",
    "    x_train, x_test, y_train, y_test=train_test_split(x,y,test_size=0.2,random_state=13)\n",
    "    \n",
    "    algos = [L,E,R,Lass,ETR,GBR,XGBC]\n",
    "    algo_names = ['Linear','ElasticNet','Ridge','Lasso','Extra Tree','Gradient Boosting','XGradientBooting']\n",
    "    r_squared = []\n",
    "    rmse = []\n",
    "    mae = []\n",
    "        \n",
    "    result = pd.DataFrame(columns = ['R_Squared','RMSE','MAE'],index = algo_names)\n",
    "       \n",
    "    for algo in algos:\n",
    "        algo.fit(x_train,y_train)\n",
    "             \n",
    "        r_squared.append(r2_score(y_test,algo.predict(x_test)))\n",
    "        rmse.append(mean_squared_error(y_test, algo.predict(x_test))**.5)\n",
    "        mae.append(mean_absolute_error(y_test, algo.predict(x_test)))\n",
    "\n",
    "    result.R_Squared = r_squared\n",
    "    result.RMSE = rmse\n",
    "    result.MAE= mae\n",
    "    \n",
    "    return result.sort_values('R_Squared', ascending=False)"
   ]
  },
  {
   "cell_type": "code",
   "execution_count": 130,
   "id": "fe0a33ff",
   "metadata": {},
   "outputs": [
    {
     "name": "stderr",
     "output_type": "stream",
     "text": [
      "C:\\Users\\Kemal\\anaconda3\\lib\\site-packages\\sklearn\\ensemble\\_gb.py:570: DataConversionWarning: A column-vector y was passed when a 1d array was expected. Please change the shape of y to (n_samples, ), for example using ravel().\n",
      "  y = column_or_1d(y, warn=True)\n"
     ]
    },
    {
     "data": {
      "text/html": [
       "<div>\n",
       "<style scoped>\n",
       "    .dataframe tbody tr th:only-of-type {\n",
       "        vertical-align: middle;\n",
       "    }\n",
       "\n",
       "    .dataframe tbody tr th {\n",
       "        vertical-align: top;\n",
       "    }\n",
       "\n",
       "    .dataframe thead th {\n",
       "        text-align: right;\n",
       "    }\n",
       "</style>\n",
       "<table border=\"1\" class=\"dataframe\">\n",
       "  <thead>\n",
       "    <tr style=\"text-align: right;\">\n",
       "      <th></th>\n",
       "      <th>R_Squared</th>\n",
       "      <th>RMSE</th>\n",
       "      <th>MAE</th>\n",
       "    </tr>\n",
       "  </thead>\n",
       "  <tbody>\n",
       "    <tr>\n",
       "      <th>Gradient Boosting</th>\n",
       "      <td>0.816895</td>\n",
       "      <td>4.184194</td>\n",
       "      <td>3.128760</td>\n",
       "    </tr>\n",
       "    <tr>\n",
       "      <th>XGradientBooting</th>\n",
       "      <td>0.809923</td>\n",
       "      <td>4.263109</td>\n",
       "      <td>3.155020</td>\n",
       "    </tr>\n",
       "    <tr>\n",
       "      <th>Ridge</th>\n",
       "      <td>0.809643</td>\n",
       "      <td>4.266243</td>\n",
       "      <td>3.200753</td>\n",
       "    </tr>\n",
       "    <tr>\n",
       "      <th>Linear</th>\n",
       "      <td>0.809178</td>\n",
       "      <td>4.271446</td>\n",
       "      <td>3.204444</td>\n",
       "    </tr>\n",
       "    <tr>\n",
       "      <th>Extra Tree</th>\n",
       "      <td>0.670109</td>\n",
       "      <td>5.616249</td>\n",
       "      <td>4.205553</td>\n",
       "    </tr>\n",
       "    <tr>\n",
       "      <th>Lasso</th>\n",
       "      <td>0.554708</td>\n",
       "      <td>6.525044</td>\n",
       "      <td>4.415886</td>\n",
       "    </tr>\n",
       "    <tr>\n",
       "      <th>ElasticNet</th>\n",
       "      <td>0.303141</td>\n",
       "      <td>8.162698</td>\n",
       "      <td>5.570627</td>\n",
       "    </tr>\n",
       "  </tbody>\n",
       "</table>\n",
       "</div>"
      ],
      "text/plain": [
       "                   R_Squared      RMSE       MAE\n",
       "Gradient Boosting   0.816895  4.184194  3.128760\n",
       "XGradientBooting    0.809923  4.263109  3.155020\n",
       "Ridge               0.809643  4.266243  3.200753\n",
       "Linear              0.809178  4.271446  3.204444\n",
       "Extra Tree          0.670109  5.616249  4.205553\n",
       "Lasso               0.554708  6.525044  4.415886\n",
       "ElasticNet          0.303141  8.162698  5.570627"
      ]
     },
     "execution_count": 130,
     "metadata": {},
     "output_type": "execute_result"
    }
   ],
   "source": [
    "algo_test(x,y)"
   ]
  },
  {
   "cell_type": "markdown",
   "id": "fd7118d0",
   "metadata": {},
   "source": [
    "#### try with deep learning"
   ]
  },
  {
   "cell_type": "code",
   "execution_count": 131,
   "id": "8d8956c1",
   "metadata": {},
   "outputs": [],
   "source": [
    "# Creating a Neural Network Model\n",
    "from tensorflow.keras.models import Sequential\n",
    "from tensorflow.keras.layers import Dense, Activation\n",
    "from tensorflow.keras.optimizers import Adam"
   ]
  },
  {
   "cell_type": "code",
   "execution_count": 132,
   "id": "ce4a1d27",
   "metadata": {},
   "outputs": [],
   "source": [
    "model = Sequential()\n",
    "model.add(Dense(700,activation='relu'))\n",
    "model.add(Dense(700,activation='relu'))\n",
    "model.add(Dense(700,activation='relu'))\n",
    "model.add(Dense(700,activation='relu'))\n",
    "model.add(Dense(700,activation='relu'))\n",
    "model.add(Dense(700,activation='relu'))\n",
    "model.add(Dense(700,activation='relu'))\n",
    "model.add(Dense(1))\n",
    "model.compile(optimizer='Adam',loss='mse')"
   ]
  },
  {
   "cell_type": "code",
   "execution_count": 133,
   "id": "77d65d81",
   "metadata": {},
   "outputs": [],
   "source": [
    "x_train,x_test,y_train,y_test = train_test_split(x,y,test_size = 0.20, random_state = 42)"
   ]
  },
  {
   "cell_type": "code",
   "execution_count": 141,
   "id": "43d6d3c1",
   "metadata": {},
   "outputs": [
    {
     "name": "stdout",
     "output_type": "stream",
     "text": [
      "Epoch 1/51\n",
      "60/60 [==============================] - 1s 14ms/step - loss: 122.5184 - val_loss: 127.3100\n",
      "Epoch 2/51\n",
      "60/60 [==============================] - 1s 14ms/step - loss: 119.0594 - val_loss: 120.3822\n",
      "Epoch 3/51\n",
      "60/60 [==============================] - 1s 14ms/step - loss: 115.2919 - val_loss: 122.2430\n",
      "Epoch 4/51\n",
      "60/60 [==============================] - 1s 14ms/step - loss: 113.0936 - val_loss: 112.7182\n",
      "Epoch 5/51\n",
      "60/60 [==============================] - 1s 14ms/step - loss: 109.2847 - val_loss: 117.5127\n",
      "Epoch 6/51\n",
      "60/60 [==============================] - 1s 14ms/step - loss: 106.8125 - val_loss: 106.3017\n",
      "Epoch 7/51\n",
      "60/60 [==============================] - 1s 13ms/step - loss: 100.8536 - val_loss: 110.7441\n",
      "Epoch 8/51\n",
      "60/60 [==============================] - 1s 14ms/step - loss: 109.6983 - val_loss: 118.0898\n",
      "Epoch 9/51\n",
      "60/60 [==============================] - 1s 13ms/step - loss: 98.7655 - val_loss: 96.8971\n",
      "Epoch 10/51\n",
      "60/60 [==============================] - 1s 14ms/step - loss: 94.2459 - val_loss: 106.5958\n",
      "Epoch 11/51\n",
      "60/60 [==============================] - 1s 13ms/step - loss: 105.2737 - val_loss: 146.0529\n",
      "Epoch 12/51\n",
      "60/60 [==============================] - 1s 14ms/step - loss: 99.8094 - val_loss: 98.2318\n",
      "Epoch 13/51\n",
      "60/60 [==============================] - 1s 13ms/step - loss: 134.6863 - val_loss: 98.2038\n",
      "Epoch 14/51\n",
      "60/60 [==============================] - 1s 14ms/step - loss: 94.4414 - val_loss: 94.4105\n",
      "Epoch 15/51\n",
      "60/60 [==============================] - 1s 13ms/step - loss: 87.0181 - val_loss: 98.3997\n",
      "Epoch 16/51\n",
      "60/60 [==============================] - 1s 14ms/step - loss: 115.9143 - val_loss: 84.6597\n",
      "Epoch 17/51\n",
      "60/60 [==============================] - 1s 14ms/step - loss: 82.2661 - val_loss: 82.7481\n",
      "Epoch 18/51\n",
      "60/60 [==============================] - 1s 14ms/step - loss: 74.9741 - val_loss: 78.7419\n",
      "Epoch 19/51\n",
      "60/60 [==============================] - 1s 14ms/step - loss: 66.1492 - val_loss: 70.4742\n",
      "Epoch 20/51\n",
      "60/60 [==============================] - 1s 14ms/step - loss: 57.8013 - val_loss: 56.9910\n",
      "Epoch 21/51\n",
      "60/60 [==============================] - 1s 14ms/step - loss: 53.5845 - val_loss: 66.2093\n",
      "Epoch 22/51\n",
      "60/60 [==============================] - 1s 14ms/step - loss: 70.7728 - val_loss: 66.1427\n",
      "Epoch 23/51\n",
      "60/60 [==============================] - 1s 14ms/step - loss: 41797.8281 - val_loss: 21664.1758\n",
      "Epoch 24/51\n",
      "60/60 [==============================] - 1s 14ms/step - loss: 2126.5046 - val_loss: 605.8339\n",
      "Epoch 25/51\n",
      "60/60 [==============================] - 1s 14ms/step - loss: 170.3356 - val_loss: 174.6138\n",
      "Epoch 26/51\n",
      "60/60 [==============================] - 1s 14ms/step - loss: 184.9385 - val_loss: 156.4689\n",
      "Epoch 27/51\n",
      "60/60 [==============================] - 1s 14ms/step - loss: 157.6964 - val_loss: 158.6061\n",
      "Epoch 28/51\n",
      "60/60 [==============================] - 1s 14ms/step - loss: 137.5302 - val_loss: 135.8416\n",
      "Epoch 29/51\n",
      "60/60 [==============================] - 1s 14ms/step - loss: 139.0908 - val_loss: 126.0989\n",
      "Epoch 30/51\n",
      "60/60 [==============================] - 1s 14ms/step - loss: 116.1950 - val_loss: 122.3946\n",
      "Epoch 31/51\n",
      "60/60 [==============================] - 1s 14ms/step - loss: 109.0422 - val_loss: 124.6854\n",
      "Epoch 32/51\n",
      "60/60 [==============================] - 1s 13ms/step - loss: 95.0110 - val_loss: 97.5289\n",
      "Epoch 33/51\n",
      "60/60 [==============================] - 1s 14ms/step - loss: 83.0612 - val_loss: 80.0613\n",
      "Epoch 34/51\n",
      "60/60 [==============================] - 1s 13ms/step - loss: 62.3797 - val_loss: 53.9566\n",
      "Epoch 35/51\n",
      "60/60 [==============================] - 1s 14ms/step - loss: 59.5953 - val_loss: 66.0472\n",
      "Epoch 36/51\n",
      "60/60 [==============================] - 1s 14ms/step - loss: 42.6020 - val_loss: 40.7258\n",
      "Epoch 37/51\n",
      "60/60 [==============================] - 1s 14ms/step - loss: 33.2287 - val_loss: 33.8198\n",
      "Epoch 38/51\n",
      "60/60 [==============================] - 1s 13ms/step - loss: 27.3180 - val_loss: 31.0681\n",
      "Epoch 39/51\n",
      "60/60 [==============================] - 1s 14ms/step - loss: 25.6873 - val_loss: 31.4386\n",
      "Epoch 40/51\n",
      "60/60 [==============================] - 1s 14ms/step - loss: 25.7422 - val_loss: 30.6984\n",
      "Epoch 41/51\n",
      "60/60 [==============================] - 1s 14ms/step - loss: 25.3978 - val_loss: 30.8455\n",
      "Epoch 42/51\n",
      "60/60 [==============================] - 1s 14ms/step - loss: 25.4327 - val_loss: 33.3380\n",
      "Epoch 43/51\n",
      "60/60 [==============================] - 1s 14ms/step - loss: 24.7188 - val_loss: 33.4540\n",
      "Epoch 44/51\n",
      "60/60 [==============================] - 1s 14ms/step - loss: 24.6900 - val_loss: 31.7105\n",
      "Epoch 45/51\n",
      "60/60 [==============================] - 1s 13ms/step - loss: 24.4204 - val_loss: 30.3191\n",
      "Epoch 46/51\n",
      "60/60 [==============================] - 1s 14ms/step - loss: 25.2830 - val_loss: 33.3942\n",
      "Epoch 47/51\n",
      "60/60 [==============================] - 1s 14ms/step - loss: 24.4434 - val_loss: 31.0269\n",
      "Epoch 48/51\n",
      "60/60 [==============================] - 1s 14ms/step - loss: 24.5584 - val_loss: 30.4441\n",
      "Epoch 49/51\n",
      "60/60 [==============================] - 1s 14ms/step - loss: 24.9632 - val_loss: 32.6037\n",
      "Epoch 50/51\n",
      "60/60 [==============================] - 1s 14ms/step - loss: 24.4121 - val_loss: 29.9423\n",
      "Epoch 51/51\n",
      "60/60 [==============================] - 1s 14ms/step - loss: 23.3783 - val_loss: 29.9862\n",
      "Model: \"sequential\"\n",
      "_________________________________________________________________\n",
      " Layer (type)                Output Shape              Param #   \n",
      "=================================================================\n",
      " dense (Dense)               (None, 700)               107800    \n",
      "                                                                 \n",
      " dense_1 (Dense)             (None, 700)               490700    \n",
      "                                                                 \n",
      " dense_2 (Dense)             (None, 700)               490700    \n",
      "                                                                 \n",
      " dense_3 (Dense)             (None, 700)               490700    \n",
      "                                                                 \n",
      " dense_4 (Dense)             (None, 700)               490700    \n",
      "                                                                 \n",
      " dense_5 (Dense)             (None, 700)               490700    \n",
      "                                                                 \n",
      " dense_6 (Dense)             (None, 700)               490700    \n",
      "                                                                 \n",
      " dense_7 (Dense)             (None, 1)                 701       \n",
      "                                                                 \n",
      "=================================================================\n",
      "Total params: 3,052,701\n",
      "Trainable params: 3,052,701\n",
      "Non-trainable params: 0\n",
      "_________________________________________________________________\n"
     ]
    }
   ],
   "source": [
    "model.fit(x=x_train,y=y_train, validation_data=(x_test,y_test),batch_size=128,epochs=51)\n",
    "model.summary()"
   ]
  },
  {
   "cell_type": "code",
   "execution_count": 142,
   "id": "e6f8d3f7",
   "metadata": {},
   "outputs": [
    {
     "data": {
      "text/plain": [
       "<AxesSubplot:>"
      ]
     },
     "execution_count": 142,
     "metadata": {},
     "output_type": "execute_result"
    },
    {
     "data": {
      "image/png": "[encoded data removed]",
      "text/plain": [
       "<Figure size 864x576 with 1 Axes>"
      ]
     },
     "metadata": {
      "needs_background": "light"
     },
     "output_type": "display_data"
    }
   ],
   "source": [
    "loss_df = pd.DataFrame(model.history.history)\n",
    "loss_df.plot(figsize=(12,8))"
   ]
  },
  {
   "cell_type": "code",
   "execution_count": 143,
   "id": "edc79d9b",
   "metadata": {},
   "outputs": [
    {
     "name": "stdout",
     "output_type": "stream",
     "text": [
      "60/60 [==============================] - 0s 3ms/step\n"
     ]
    }
   ],
   "source": [
    "pred=model.predict(x_test)"
   ]
  },
  {
   "cell_type": "code",
   "execution_count": 144,
   "id": "66e60c65",
   "metadata": {},
   "outputs": [
    {
     "data": {
      "text/plain": [
       "5.475963928215035"
      ]
     },
     "execution_count": 144,
     "metadata": {},
     "output_type": "execute_result"
    }
   ],
   "source": [
    "(mean_squared_error(y_test,pred))**0.5  "
   ]
  },
  {
   "cell_type": "code",
   "execution_count": 145,
   "id": "df9780d8",
   "metadata": {},
   "outputs": [
    {
     "data": {
      "text/plain": [
       "0.670064421395138"
      ]
     },
     "execution_count": 145,
     "metadata": {},
     "output_type": "execute_result"
    }
   ],
   "source": [
    "r2_score(y_test,pred)"
   ]
  },
  {
   "cell_type": "code",
   "execution_count": 139,
   "id": "b42e9cb5",
   "metadata": {},
   "outputs": [],
   "source": [
    "# i did run the model.fit code 4 times, first it a score of -0.1 than it got better but not above 0.67"
   ]
  },
  {
   "cell_type": "markdown",
   "id": "f216f68a",
   "metadata": {},
   "source": [
    "### 2 - Can your dating profile predict the generation you belong to? (Millennial, Gen X-er, or Boomers) - Classification"
   ]
  },
  {
   "cell_type": "code",
   "execution_count": 200,
   "id": "bb7574ed",
   "metadata": {},
   "outputs": [],
   "source": [
    "#import classification libraries\n",
    "from sklearn.naive_bayes import GaussianNB\n",
    "from sklearn.naive_bayes import BernoulliNB\n",
    "from sklearn.svm import SVC\n",
    "from sklearn.neighbors import KNeighborsClassifier\n",
    "from sklearn.tree import DecisionTreeClassifier\n",
    "from sklearn.ensemble import RandomForestClassifier\n",
    "from sklearn.ensemble import GradientBoostingClassifier\n",
    "from sklearn.linear_model import LogisticRegression\n",
    "from xgboost import XGBClassifier\n",
    "\n",
    "from sklearn.metrics import accuracy_score,precision_score,recall_score,f1_score\n",
    "from sklearn.metrics import confusion_matrix,classification_report"
   ]
  },
  {
   "cell_type": "code",
   "execution_count": 212,
   "id": "3b937067",
   "metadata": {},
   "outputs": [],
   "source": [
    "#we don't need age because we split it up tp generation\n",
    "mod2=df.drop([\"generation\",\"age\"],axis=1)"
   ]
  },
  {
   "cell_type": "code",
   "execution_count": 213,
   "id": "65feb72a",
   "metadata": {},
   "outputs": [
    {
     "data": {
      "text/html": [
       "<div>\n",
       "<style scoped>\n",
       "    .dataframe tbody tr th:only-of-type {\n",
       "        vertical-align: middle;\n",
       "    }\n",
       "\n",
       "    .dataframe tbody tr th {\n",
       "        vertical-align: top;\n",
       "    }\n",
       "\n",
       "    .dataframe thead th {\n",
       "        text-align: right;\n",
       "    }\n",
       "</style>\n",
       "<table border=\"1\" class=\"dataframe\">\n",
       "  <thead>\n",
       "    <tr style=\"text-align: right;\">\n",
       "      <th></th>\n",
       "      <th>body_type</th>\n",
       "      <th>diet</th>\n",
       "      <th>drinks</th>\n",
       "      <th>drugs</th>\n",
       "      <th>education</th>\n",
       "      <th>height</th>\n",
       "      <th>income</th>\n",
       "      <th>location</th>\n",
       "      <th>offspring</th>\n",
       "      <th>orientation</th>\n",
       "      <th>pets</th>\n",
       "      <th>religion</th>\n",
       "      <th>sex</th>\n",
       "      <th>sign</th>\n",
       "      <th>smokes</th>\n",
       "      <th>status</th>\n",
       "      <th>last_online_year</th>\n",
       "      <th>last_online_month</th>\n",
       "      <th>number_of_fluent_languages</th>\n",
       "      <th>number_of_poorly_languages</th>\n",
       "    </tr>\n",
       "  </thead>\n",
       "  <tbody>\n",
       "    <tr>\n",
       "      <th>3638</th>\n",
       "      <td>mesomorph</td>\n",
       "      <td>anything</td>\n",
       "      <td>socially</td>\n",
       "      <td>sometimes</td>\n",
       "      <td>graduated</td>\n",
       "      <td>63.0</td>\n",
       "      <td>-1.0</td>\n",
       "      <td>oakland</td>\n",
       "      <td>0</td>\n",
       "      <td>straight</td>\n",
       "      <td>likes dogs and likes cats</td>\n",
       "      <td>other</td>\n",
       "      <td>f</td>\n",
       "      <td>libra</td>\n",
       "      <td>0</td>\n",
       "      <td>single</td>\n",
       "      <td>10</td>\n",
       "      <td>5</td>\n",
       "      <td>1</td>\n",
       "      <td>0</td>\n",
       "    </tr>\n",
       "    <tr>\n",
       "      <th>1047</th>\n",
       "      <td>mesomorph</td>\n",
       "      <td>anything</td>\n",
       "      <td>socially</td>\n",
       "      <td>sometimes</td>\n",
       "      <td>graduated</td>\n",
       "      <td>72.0</td>\n",
       "      <td>-1.0</td>\n",
       "      <td>san francisco</td>\n",
       "      <td>0</td>\n",
       "      <td>straight</td>\n",
       "      <td>likes dogs and likes cats</td>\n",
       "      <td>other</td>\n",
       "      <td>m</td>\n",
       "      <td>aquarius</td>\n",
       "      <td>0</td>\n",
       "      <td>single</td>\n",
       "      <td>10</td>\n",
       "      <td>6</td>\n",
       "      <td>1</td>\n",
       "      <td>0</td>\n",
       "    </tr>\n",
       "    <tr>\n",
       "      <th>5493</th>\n",
       "      <td>mesomorph</td>\n",
       "      <td>anything</td>\n",
       "      <td>often</td>\n",
       "      <td>never</td>\n",
       "      <td>student</td>\n",
       "      <td>72.0</td>\n",
       "      <td>-1.0</td>\n",
       "      <td>oakland</td>\n",
       "      <td>0</td>\n",
       "      <td>straight</td>\n",
       "      <td>likes dogs and likes cats</td>\n",
       "      <td>agnosticism</td>\n",
       "      <td>m</td>\n",
       "      <td>libra</td>\n",
       "      <td>1</td>\n",
       "      <td>single</td>\n",
       "      <td>10</td>\n",
       "      <td>6</td>\n",
       "      <td>1</td>\n",
       "      <td>2</td>\n",
       "    </tr>\n",
       "    <tr>\n",
       "      <th>2300</th>\n",
       "      <td>ectomorph</td>\n",
       "      <td>anything</td>\n",
       "      <td>socially</td>\n",
       "      <td>sometimes</td>\n",
       "      <td>graduated</td>\n",
       "      <td>74.0</td>\n",
       "      <td>150000.0</td>\n",
       "      <td>san francisco</td>\n",
       "      <td>0</td>\n",
       "      <td>straight</td>\n",
       "      <td>likes dogs and likes cats</td>\n",
       "      <td>atheism</td>\n",
       "      <td>m</td>\n",
       "      <td>capricorn</td>\n",
       "      <td>0</td>\n",
       "      <td>single</td>\n",
       "      <td>11</td>\n",
       "      <td>12</td>\n",
       "      <td>1</td>\n",
       "      <td>1</td>\n",
       "    </tr>\n",
       "    <tr>\n",
       "      <th>5554</th>\n",
       "      <td>ectomorph</td>\n",
       "      <td>anything</td>\n",
       "      <td>socially</td>\n",
       "      <td>never</td>\n",
       "      <td>student</td>\n",
       "      <td>68.0</td>\n",
       "      <td>-1.0</td>\n",
       "      <td>redwood city</td>\n",
       "      <td>0</td>\n",
       "      <td>straight</td>\n",
       "      <td>likes dogs and likes cats</td>\n",
       "      <td>other</td>\n",
       "      <td>m</td>\n",
       "      <td>unknown</td>\n",
       "      <td>0</td>\n",
       "      <td>single</td>\n",
       "      <td>10</td>\n",
       "      <td>6</td>\n",
       "      <td>1</td>\n",
       "      <td>2</td>\n",
       "    </tr>\n",
       "  </tbody>\n",
       "</table>\n",
       "</div>"
      ],
      "text/plain": [
       "      body_type      diet    drinks      drugs  education  height    income  \\\n",
       "3638  mesomorph  anything  socially  sometimes  graduated    63.0      -1.0   \n",
       "1047  mesomorph  anything  socially  sometimes  graduated    72.0      -1.0   \n",
       "5493  mesomorph  anything     often      never    student    72.0      -1.0   \n",
       "2300  ectomorph  anything  socially  sometimes  graduated    74.0  150000.0   \n",
       "5554  ectomorph  anything  socially      never    student    68.0      -1.0   \n",
       "\n",
       "           location  offspring orientation                       pets  \\\n",
       "3638        oakland          0    straight  likes dogs and likes cats   \n",
       "1047  san francisco          0    straight  likes dogs and likes cats   \n",
       "5493        oakland          0    straight  likes dogs and likes cats   \n",
       "2300  san francisco          0    straight  likes dogs and likes cats   \n",
       "5554   redwood city          0    straight  likes dogs and likes cats   \n",
       "\n",
       "         religion sex       sign  smokes  status  last_online_year  \\\n",
       "3638        other   f      libra       0  single                10   \n",
       "1047        other   m   aquarius       0  single                10   \n",
       "5493  agnosticism   m      libra       1  single                10   \n",
       "2300      atheism   m  capricorn       0  single                11   \n",
       "5554        other   m    unknown       0  single                10   \n",
       "\n",
       "      last_online_month  number_of_fluent_languages  \\\n",
       "3638                  5                           1   \n",
       "1047                  6                           1   \n",
       "5493                  6                           1   \n",
       "2300                 12                           1   \n",
       "5554                  6                           1   \n",
       "\n",
       "      number_of_poorly_languages  \n",
       "3638                           0  \n",
       "1047                           0  \n",
       "5493                           2  \n",
       "2300                           1  \n",
       "5554                           2  "
      ]
     },
     "execution_count": 213,
     "metadata": {},
     "output_type": "execute_result"
    }
   ],
   "source": [
    "mod2.sample(5)"
   ]
  },
  {
   "cell_type": "code",
   "execution_count": 214,
   "id": "5b8ae74f",
   "metadata": {},
   "outputs": [],
   "source": [
    "x2 = pd.get_dummies(mod2,drop_first=True)\n",
    "y2 = df[\"generation\"]"
   ]
  },
  {
   "cell_type": "code",
   "execution_count": 242,
   "id": "bba65366",
   "metadata": {},
   "outputs": [],
   "source": [
    "#x_train,x_test,y_train,y_test=train_test_split(x2,y2,test_size=0.2,random_state=42)"
   ]
  },
  {
   "cell_type": "code",
   "execution_count": 243,
   "id": "2232f5a6",
   "metadata": {},
   "outputs": [],
   "source": [
    "def classification_funct(x,y):\n",
    "    \n",
    "    x_train,x_test,y_train,y_test=train_test_split(x,y,test_size=0.2,random_state=42)\n",
    "\n",
    "    g=GaussianNB()\n",
    "    b=BernoulliNB()\n",
    "    KN=KNeighborsClassifier()\n",
    "    D=DecisionTreeClassifier()\n",
    "    R=RandomForestClassifier()\n",
    "    Log=LogisticRegression()\n",
    "    XGB=XGBClassifier()\n",
    "    \n",
    "    algos=[g,b,KN,D,R,Log,XGB]\n",
    "    algo_names=['GaussianNB','BernoulliNB','KNeighborsClassifier','DecisionTreeClassifier','RandomForestClassifier','LogisticRegression','XGBClassifier']\n",
    "   \n",
    "    accuracy_scored=[]\n",
    "\n",
    "    \n",
    "    for item in algos:\n",
    "        item.fit(x_train,y_train)\n",
    "        item.predict(x_test)\n",
    "        \n",
    "        accuracy_scored.append(accuracy_score(y_test,item.predict(x_test)))\n",
    "       \n",
    "    result=pd.DataFrame(columns=['accuracy_score'],index=algo_names)\n",
    "    result['accuracy_score']=accuracy_scored\n",
    "    return result.sort_values('accuracy_score',ascending=False)\n"
   ]
  },
  {
   "cell_type": "code",
   "execution_count": 244,
   "id": "722f032f",
   "metadata": {},
   "outputs": [
    {
     "ename": "ValueError",
     "evalue": "Invalid classes inferred from unique values of `y`.  Expected: [0 1 2], got ['Boomers' 'Gen X-er' 'Millennial']",
     "output_type": "error",
     "traceback": [
      "\u001b[1;31m---------------------------------------------------------------------------\u001b[0m",
      "\u001b[1;31mValueError\u001b[0m                                Traceback (most recent call last)",
      "Input \u001b[1;32mIn [244]\u001b[0m, in \u001b[0;36m<cell line: 1>\u001b[1;34m()\u001b[0m\n\u001b[1;32m----> 1\u001b[0m \u001b[43mclassification_funct\u001b[49m\u001b[43m(\u001b[49m\u001b[43mx2\u001b[49m\u001b[43m,\u001b[49m\u001b[43my2\u001b[49m\u001b[43m)\u001b[49m\n",
      "Input \u001b[1;32mIn [243]\u001b[0m, in \u001b[0;36mclassification_funct\u001b[1;34m(x, y)\u001b[0m\n\u001b[0;32m     16\u001b[0m accuracy_scored\u001b[38;5;241m=\u001b[39m[]\n\u001b[0;32m     19\u001b[0m \u001b[38;5;28;01mfor\u001b[39;00m item \u001b[38;5;129;01min\u001b[39;00m algos:\n\u001b[1;32m---> 20\u001b[0m     \u001b[43mitem\u001b[49m\u001b[38;5;241;43m.\u001b[39;49m\u001b[43mfit\u001b[49m\u001b[43m(\u001b[49m\u001b[43mx_train\u001b[49m\u001b[43m,\u001b[49m\u001b[43my_train\u001b[49m\u001b[43m)\u001b[49m\n\u001b[0;32m     21\u001b[0m     item\u001b[38;5;241m.\u001b[39mpredict(x_test)\n\u001b[0;32m     23\u001b[0m     accuracy_scored\u001b[38;5;241m.\u001b[39mappend(accuracy_score(y_test,item\u001b[38;5;241m.\u001b[39mpredict(x_test)))\n",
      "File \u001b[1;32m~\\anaconda3\\lib\\site-packages\\xgboost\\core.py:575\u001b[0m, in \u001b[0;36m_deprecate_positional_args.<locals>.inner_f\u001b[1;34m(*args, **kwargs)\u001b[0m\n\u001b[0;32m    573\u001b[0m \u001b[38;5;28;01mfor\u001b[39;00m k, arg \u001b[38;5;129;01min\u001b[39;00m \u001b[38;5;28mzip\u001b[39m(sig\u001b[38;5;241m.\u001b[39mparameters, args):\n\u001b[0;32m    574\u001b[0m     kwargs[k] \u001b[38;5;241m=\u001b[39m arg\n\u001b[1;32m--> 575\u001b[0m \u001b[38;5;28;01mreturn\u001b[39;00m f(\u001b[38;5;241m*\u001b[39m\u001b[38;5;241m*\u001b[39mkwargs)\n",
      "File \u001b[1;32m~\\anaconda3\\lib\\site-packages\\xgboost\\sklearn.py:1357\u001b[0m, in \u001b[0;36mXGBClassifier.fit\u001b[1;34m(self, X, y, sample_weight, base_margin, eval_set, eval_metric, early_stopping_rounds, verbose, xgb_model, sample_weight_eval_set, base_margin_eval_set, feature_weights, callbacks)\u001b[0m\n\u001b[0;32m   1352\u001b[0m     expected_classes \u001b[38;5;241m=\u001b[39m np\u001b[38;5;241m.\u001b[39marange(\u001b[38;5;28mself\u001b[39m\u001b[38;5;241m.\u001b[39mn_classes_)\n\u001b[0;32m   1353\u001b[0m \u001b[38;5;28;01mif\u001b[39;00m (\n\u001b[0;32m   1354\u001b[0m     \u001b[38;5;28mself\u001b[39m\u001b[38;5;241m.\u001b[39mclasses_\u001b[38;5;241m.\u001b[39mshape \u001b[38;5;241m!=\u001b[39m expected_classes\u001b[38;5;241m.\u001b[39mshape\n\u001b[0;32m   1355\u001b[0m     \u001b[38;5;129;01mor\u001b[39;00m \u001b[38;5;129;01mnot\u001b[39;00m (\u001b[38;5;28mself\u001b[39m\u001b[38;5;241m.\u001b[39mclasses_ \u001b[38;5;241m==\u001b[39m expected_classes)\u001b[38;5;241m.\u001b[39mall()\n\u001b[0;32m   1356\u001b[0m ):\n\u001b[1;32m-> 1357\u001b[0m     \u001b[38;5;28;01mraise\u001b[39;00m \u001b[38;5;167;01mValueError\u001b[39;00m(\n\u001b[0;32m   1358\u001b[0m         \u001b[38;5;124mf\u001b[39m\u001b[38;5;124m\"\u001b[39m\u001b[38;5;124mInvalid classes inferred from unique values of `y`.  \u001b[39m\u001b[38;5;124m\"\u001b[39m\n\u001b[0;32m   1359\u001b[0m         \u001b[38;5;124mf\u001b[39m\u001b[38;5;124m\"\u001b[39m\u001b[38;5;124mExpected: \u001b[39m\u001b[38;5;132;01m{\u001b[39;00mexpected_classes\u001b[38;5;132;01m}\u001b[39;00m\u001b[38;5;124m, got \u001b[39m\u001b[38;5;132;01m{\u001b[39;00m\u001b[38;5;28mself\u001b[39m\u001b[38;5;241m.\u001b[39mclasses_\u001b[38;5;132;01m}\u001b[39;00m\u001b[38;5;124m\"\u001b[39m\n\u001b[0;32m   1360\u001b[0m     )\n\u001b[0;32m   1362\u001b[0m params \u001b[38;5;241m=\u001b[39m \u001b[38;5;28mself\u001b[39m\u001b[38;5;241m.\u001b[39mget_xgb_params()\n\u001b[0;32m   1364\u001b[0m \u001b[38;5;28;01mif\u001b[39;00m callable(\u001b[38;5;28mself\u001b[39m\u001b[38;5;241m.\u001b[39mobjective):\n",
      "\u001b[1;31mValueError\u001b[0m: Invalid classes inferred from unique values of `y`.  Expected: [0 1 2], got ['Boomers' 'Gen X-er' 'Millennial']"
     ]
    }
   ],
   "source": [
    "classification_funct(x2,y2)"
   ]
  },
  {
   "cell_type": "code",
   "execution_count": 217,
   "id": "f15d2aea",
   "metadata": {},
   "outputs": [],
   "source": [
    "g=GaussianNB()\n",
    "b=BernoulliNB()\n",
    "k=KNeighborsClassifier()\n",
    "l=LogisticRegression()\n",
    "d=DecisionTreeClassifier()\n",
    "r=RandomForestClassifier()\n",
    "gb=GradientBoostingClassifier()"
   ]
  },
  {
   "cell_type": "code",
   "execution_count": 218,
   "id": "fd6c5e99",
   "metadata": {},
   "outputs": [
    {
     "data": {
      "text/html": [
       "<style>#sk-container-id-6 {color: black;background-color: white;}#sk-container-id-6 pre{padding: 0;}#sk-container-id-6 div.sk-toggleable {background-color: white;}#sk-container-id-6 label.sk-toggleable__label {cursor: pointer;display: block;width: 100%;margin-bottom: 0;padding: 0.3em;box-sizing: border-box;text-align: center;}#sk-container-id-6 label.sk-toggleable__label-arrow:before {content: \"▸\";float: left;margin-right: 0.25em;color: #696969;}#sk-container-id-6 label.sk-toggleable__label-arrow:hover:before {color: black;}#sk-container-id-6 div.sk-estimator:hover label.sk-toggleable__label-arrow:before {color: black;}#sk-container-id-6 div.sk-toggleable__content {max-height: 0;max-width: 0;overflow: hidden;text-align: left;background-color: #f0f8ff;}#sk-container-id-6 div.sk-toggleable__content pre {margin: 0.2em;color: black;border-radius: 0.25em;background-color: #f0f8ff;}#sk-container-id-6 input.sk-toggleable__control:checked~div.sk-toggleable__content {max-height: 200px;max-width: 100%;overflow: auto;}#sk-container-id-6 input.sk-toggleable__control:checked~label.sk-toggleable__label-arrow:before {content: \"▾\";}#sk-container-id-6 div.sk-estimator input.sk-toggleable__control:checked~label.sk-toggleable__label {background-color: #d4ebff;}#sk-container-id-6 div.sk-label input.sk-toggleable__control:checked~label.sk-toggleable__label {background-color: #d4ebff;}#sk-container-id-6 input.sk-hidden--visually {border: 0;clip: rect(1px 1px 1px 1px);clip: rect(1px, 1px, 1px, 1px);height: 1px;margin: -1px;overflow: hidden;padding: 0;position: absolute;width: 1px;}#sk-container-id-6 div.sk-estimator {font-family: monospace;background-color: #f0f8ff;border: 1px dotted black;border-radius: 0.25em;box-sizing: border-box;margin-bottom: 0.5em;}#sk-container-id-6 div.sk-estimator:hover {background-color: #d4ebff;}#sk-container-id-6 div.sk-parallel-item::after {content: \"\";width: 100%;border-bottom: 1px solid gray;flex-grow: 1;}#sk-container-id-6 div.sk-label:hover label.sk-toggleable__label {background-color: #d4ebff;}#sk-container-id-6 div.sk-serial::before {content: \"\";position: absolute;border-left: 1px solid gray;box-sizing: border-box;top: 0;bottom: 0;left: 50%;z-index: 0;}#sk-container-id-6 div.sk-serial {display: flex;flex-direction: column;align-items: center;background-color: white;padding-right: 0.2em;padding-left: 0.2em;position: relative;}#sk-container-id-6 div.sk-item {position: relative;z-index: 1;}#sk-container-id-6 div.sk-parallel {display: flex;align-items: stretch;justify-content: center;background-color: white;position: relative;}#sk-container-id-6 div.sk-item::before, #sk-container-id-6 div.sk-parallel-item::before {content: \"\";position: absolute;border-left: 1px solid gray;box-sizing: border-box;top: 0;bottom: 0;left: 50%;z-index: -1;}#sk-container-id-6 div.sk-parallel-item {display: flex;flex-direction: column;z-index: 1;position: relative;background-color: white;}#sk-container-id-6 div.sk-parallel-item:first-child::after {align-self: flex-end;width: 50%;}#sk-container-id-6 div.sk-parallel-item:last-child::after {align-self: flex-start;width: 50%;}#sk-container-id-6 div.sk-parallel-item:only-child::after {width: 0;}#sk-container-id-6 div.sk-dashed-wrapped {border: 1px dashed gray;margin: 0 0.4em 0.5em 0.4em;box-sizing: border-box;padding-bottom: 0.4em;background-color: white;}#sk-container-id-6 div.sk-label label {font-family: monospace;font-weight: bold;display: inline-block;line-height: 1.2em;}#sk-container-id-6 div.sk-label-container {text-align: center;}#sk-container-id-6 div.sk-container {/* jupyter's `normalize.less` sets `[hidden] { display: none; }` but bootstrap.min.css set `[hidden] { display: none !important; }` so we also need the `!important` here to be able to override the default hidden behavior on the sphinx rendered scikit-learn.org. See: https://github.com/scikit-learn/scikit-learn/issues/21755 */display: inline-block !important;position: relative;}#sk-container-id-6 div.sk-text-repr-fallback {display: none;}</style><div id=\"sk-container-id-6\" class=\"sk-top-container\"><div class=\"sk-text-repr-fallback\"><pre>GradientBoostingClassifier()</pre><b>In a Jupyter environment, please rerun this cell to show the HTML representation or trust the notebook. <br />On GitHub, the HTML representation is unable to render, please try loading this page with nbviewer.org.</b></div><div class=\"sk-container\" hidden><div class=\"sk-item\"><div class=\"sk-estimator sk-toggleable\"><input class=\"sk-toggleable__control sk-hidden--visually\" id=\"sk-estimator-id-6\" type=\"checkbox\" checked><label for=\"sk-estimator-id-6\" class=\"sk-toggleable__label sk-toggleable__label-arrow\">GradientBoostingClassifier</label><div class=\"sk-toggleable__content\"><pre>GradientBoostingClassifier()</pre></div></div></div></div></div>"
      ],
      "text/plain": [
       "GradientBoostingClassifier()"
      ]
     },
     "execution_count": 218,
     "metadata": {},
     "output_type": "execute_result"
    }
   ],
   "source": [
    "g.fit(x2,y2)\n",
    "b.fit(x2,y2)\n",
    "k.fit(x2,y2)\n",
    "l.fit(x2,y2)\n",
    "d.fit(x2,y2)\n",
    "r.fit(x2,y2)\n",
    "gb.fit(x2,y2)"
   ]
  },
  {
   "cell_type": "code",
   "execution_count": 219,
   "id": "ac9ee806",
   "metadata": {},
   "outputs": [],
   "source": [
    "tahmin1=g.predict(x2)\n",
    "tahmin2=b.predict(x2)\n",
    "tahmin3=k.predict(x2)\n",
    "tahmin4=l.predict(x2)\n",
    "tahmin5=d.predict(x2)\n",
    "tahmin6=r.predict(x2)\n",
    "tahmin7=gb.predict(x2)"
   ]
  },
  {
   "cell_type": "code",
   "execution_count": 220,
   "id": "f5f7d932",
   "metadata": {},
   "outputs": [
    {
     "data": {
      "text/plain": [
       "0.6356947656085769"
      ]
     },
     "execution_count": 220,
     "metadata": {},
     "output_type": "execute_result"
    }
   ],
   "source": [
    "accuracy_score(tahmin1,y2) #Gaussian"
   ]
  },
  {
   "cell_type": "code",
   "execution_count": 222,
   "id": "a19585b2",
   "metadata": {
    "collapsed": true
   },
   "outputs": [
    {
     "data": {
      "text/plain": [
       "array([[   0,    0,    0],\n",
       "       [   0,    0,    0],\n",
       "       [ 745, 2721, 6048]], dtype=int64)"
      ]
     },
     "execution_count": 222,
     "metadata": {},
     "output_type": "execute_result"
    }
   ],
   "source": [
    "confusion_matrix(tahmin1,y2)"
   ]
  },
  {
   "cell_type": "code",
   "execution_count": 223,
   "id": "ef41ba6d",
   "metadata": {
    "collapsed": true
   },
   "outputs": [
    {
     "name": "stdout",
     "output_type": "stream",
     "text": [
      "              precision    recall  f1-score   support\n",
      "\n",
      "     Boomers       0.00      0.00      0.00         0\n",
      "    Gen X-er       0.00      0.00      0.00         0\n",
      "  Millennial       1.00      0.64      0.78      9514\n",
      "\n",
      "    accuracy                           0.64      9514\n",
      "   macro avg       0.33      0.21      0.26      9514\n",
      "weighted avg       1.00      0.64      0.78      9514\n",
      "\n"
     ]
    },
    {
     "name": "stderr",
     "output_type": "stream",
     "text": [
      "C:\\Users\\Kemal\\anaconda3\\lib\\site-packages\\sklearn\\metrics\\_classification.py:1334: UndefinedMetricWarning: Recall and F-score are ill-defined and being set to 0.0 in labels with no true samples. Use `zero_division` parameter to control this behavior.\n",
      "  _warn_prf(average, modifier, msg_start, len(result))\n",
      "C:\\Users\\Kemal\\anaconda3\\lib\\site-packages\\sklearn\\metrics\\_classification.py:1334: UndefinedMetricWarning: Recall and F-score are ill-defined and being set to 0.0 in labels with no true samples. Use `zero_division` parameter to control this behavior.\n",
      "  _warn_prf(average, modifier, msg_start, len(result))\n",
      "C:\\Users\\Kemal\\anaconda3\\lib\\site-packages\\sklearn\\metrics\\_classification.py:1334: UndefinedMetricWarning: Recall and F-score are ill-defined and being set to 0.0 in labels with no true samples. Use `zero_division` parameter to control this behavior.\n",
      "  _warn_prf(average, modifier, msg_start, len(result))\n"
     ]
    }
   ],
   "source": [
    "print(classification_report(tahmin1,y2))"
   ]
  },
  {
   "cell_type": "code",
   "execution_count": 224,
   "id": "39381a46",
   "metadata": {
    "collapsed": true
   },
   "outputs": [
    {
     "data": {
      "image/png": "[encoded data removed]",
      "text/plain": [
       "<Figure size 432x288 with 2 Axes>"
      ]
     },
     "metadata": {
      "needs_background": "light"
     },
     "output_type": "display_data"
    }
   ],
   "source": [
    "sns.heatmap(confusion_matrix(tahmin1,y2),annot=True);"
   ]
  },
  {
   "cell_type": "code",
   "execution_count": 225,
   "id": "186fa7d9",
   "metadata": {},
   "outputs": [
    {
     "data": {
      "text/plain": [
       "0.6654404036157242"
      ]
     },
     "execution_count": 225,
     "metadata": {},
     "output_type": "execute_result"
    }
   ],
   "source": [
    "accuracy_score(tahmin2,y2) # Bernoullie"
   ]
  },
  {
   "cell_type": "code",
   "execution_count": 229,
   "id": "2189b126",
   "metadata": {},
   "outputs": [
    {
     "data": {
      "text/plain": [
       "0.7228295143998318"
      ]
     },
     "execution_count": 229,
     "metadata": {},
     "output_type": "execute_result"
    }
   ],
   "source": [
    "accuracy_score(tahmin3,y2) # KNN"
   ]
  },
  {
   "cell_type": "code",
   "execution_count": 230,
   "id": "06978e1a",
   "metadata": {},
   "outputs": [
    {
     "data": {
      "text/plain": [
       "0.6356947656085769"
      ]
     },
     "execution_count": 230,
     "metadata": {},
     "output_type": "execute_result"
    }
   ],
   "source": [
    "accuracy_score(tahmin4,y2) # Log Reg"
   ]
  },
  {
   "cell_type": "code",
   "execution_count": 231,
   "id": "89b51d6a",
   "metadata": {},
   "outputs": [
    {
     "data": {
      "text/plain": [
       "0.9926424216943451"
      ]
     },
     "execution_count": 231,
     "metadata": {},
     "output_type": "execute_result"
    }
   ],
   "source": [
    "accuracy_score(tahmin5,y2) # Dec Tree"
   ]
  },
  {
   "cell_type": "code",
   "execution_count": 232,
   "id": "a125b163",
   "metadata": {},
   "outputs": [
    {
     "data": {
      "text/plain": [
       "0.9926424216943451"
      ]
     },
     "execution_count": 232,
     "metadata": {},
     "output_type": "execute_result"
    }
   ],
   "source": [
    "accuracy_score(tahmin6,y2) # Rand Forest"
   ]
  },
  {
   "cell_type": "code",
   "execution_count": 233,
   "id": "c1a0b083",
   "metadata": {},
   "outputs": [
    {
     "data": {
      "text/plain": [
       "0.6968677738070213"
      ]
     },
     "execution_count": 233,
     "metadata": {},
     "output_type": "execute_result"
    }
   ],
   "source": [
    "accuracy_score(tahmin7,y2) # Grad Boost"
   ]
  },
  {
   "cell_type": "code",
   "execution_count": null,
   "id": "8dd103f0",
   "metadata": {},
   "outputs": [],
   "source": []
  }
 ],
 "metadata": {
  "kernelspec": {
   "display_name": "Python 3 (ipykernel)",
   "language": "python",
   "name": "python3"
  },
  "language_info": {
   "codemirror_mode": {
    "name": "ipython",
    "version": 3
   },
   "file_extension": ".py",
   "mimetype": "text/x-python",
   "name": "python",
   "nbconvert_exporter": "python",
   "pygments_lexer": "ipython3",
   "version": "3.9.12"
  }
 },
 "nbformat": 4,
 "nbformat_minor": 5
}
