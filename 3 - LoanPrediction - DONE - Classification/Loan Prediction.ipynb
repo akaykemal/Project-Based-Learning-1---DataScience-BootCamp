{
 "cells": [
  {
   "cell_type": "markdown",
   "id": "e4bf1d13",
   "metadata": {},
   "source": [
    "# <font color=red>Loan Prediciton"
   ]
  },
  {
   "cell_type": "code",
   "execution_count": 1,
   "id": "edf9590b",
   "metadata": {},
   "outputs": [],
   "source": [
    "#Import Libraries\n",
    "import pandas as pd\n",
    "import matplotlib.pyplot as plt\n",
    "import seaborn as sns\n",
    "\n",
    "import warnings\n",
    "warnings.simplefilter('ignore')"
   ]
  },
  {
   "cell_type": "code",
   "execution_count": 2,
   "id": "f06285da",
   "metadata": {},
   "outputs": [],
   "source": [
    "# read DataFrame\n",
    "df=pd.read_csv(\"LoansTrainingSet.csv\")"
   ]
  },
  {
   "cell_type": "markdown",
   "id": "84ac267d",
   "metadata": {},
   "source": [
    "### <font color=blue>EDA - Exploratory Data Analysis"
   ]
  },
  {
   "cell_type": "code",
   "execution_count": 3,
   "id": "c35ca564",
   "metadata": {},
   "outputs": [],
   "source": [
    "# Get Basic Information of the DataFrame"
   ]
  },
  {
   "cell_type": "code",
   "execution_count": 4,
   "id": "bc273907",
   "metadata": {},
   "outputs": [
    {
     "data": {
      "text/html": [
       "<div>\n",
       "<style scoped>\n",
       "    .dataframe tbody tr th:only-of-type {\n",
       "        vertical-align: middle;\n",
       "    }\n",
       "\n",
       "    .dataframe tbody tr th {\n",
       "        vertical-align: top;\n",
       "    }\n",
       "\n",
       "    .dataframe thead th {\n",
       "        text-align: right;\n",
       "    }\n",
       "</style>\n",
       "<table border=\"1\" class=\"dataframe\">\n",
       "  <thead>\n",
       "    <tr style=\"text-align: right;\">\n",
       "      <th></th>\n",
       "      <th>Loan ID</th>\n",
       "      <th>Customer ID</th>\n",
       "      <th>Loan Status</th>\n",
       "      <th>Current Loan Amount</th>\n",
       "      <th>Term</th>\n",
       "      <th>Credit Score</th>\n",
       "      <th>Years in current job</th>\n",
       "      <th>Home Ownership</th>\n",
       "      <th>Annual Income</th>\n",
       "      <th>Purpose</th>\n",
       "      <th>Monthly Debt</th>\n",
       "      <th>Years of Credit History</th>\n",
       "      <th>Months since last delinquent</th>\n",
       "      <th>Number of Open Accounts</th>\n",
       "      <th>Number of Credit Problems</th>\n",
       "      <th>Current Credit Balance</th>\n",
       "      <th>Maximum Open Credit</th>\n",
       "      <th>Bankruptcies</th>\n",
       "      <th>Tax Liens</th>\n",
       "    </tr>\n",
       "  </thead>\n",
       "  <tbody>\n",
       "    <tr>\n",
       "      <th>0</th>\n",
       "      <td>000025bb-5694-4cff-b17d-192b1a98ba44</td>\n",
       "      <td>5ebc8bb1-5eb9-4404-b11b-a6eebc401a19</td>\n",
       "      <td>Fully Paid</td>\n",
       "      <td>11520</td>\n",
       "      <td>Short Term</td>\n",
       "      <td>741.0</td>\n",
       "      <td>10+ years</td>\n",
       "      <td>Home Mortgage</td>\n",
       "      <td>33694.0</td>\n",
       "      <td>Debt Consolidation</td>\n",
       "      <td>$584.03</td>\n",
       "      <td>12.3</td>\n",
       "      <td>41.0</td>\n",
       "      <td>10</td>\n",
       "      <td>0</td>\n",
       "      <td>6760</td>\n",
       "      <td>16056</td>\n",
       "      <td>0.0</td>\n",
       "      <td>0.0</td>\n",
       "    </tr>\n",
       "    <tr>\n",
       "      <th>1</th>\n",
       "      <td>00002c49-3a29-4bd4-8f67-c8f8fbc1048c</td>\n",
       "      <td>927b388d-2e01-423f-a8dc-f7e42d668f46</td>\n",
       "      <td>Fully Paid</td>\n",
       "      <td>3441</td>\n",
       "      <td>Short Term</td>\n",
       "      <td>734.0</td>\n",
       "      <td>4 years</td>\n",
       "      <td>Home Mortgage</td>\n",
       "      <td>42269.0</td>\n",
       "      <td>other</td>\n",
       "      <td>$1,106.04</td>\n",
       "      <td>26.3</td>\n",
       "      <td>NaN</td>\n",
       "      <td>17</td>\n",
       "      <td>0</td>\n",
       "      <td>6262</td>\n",
       "      <td>19149</td>\n",
       "      <td>0.0</td>\n",
       "      <td>0.0</td>\n",
       "    </tr>\n",
       "    <tr>\n",
       "      <th>2</th>\n",
       "      <td>00002d89-27f3-409b-aa76-90834f359a65</td>\n",
       "      <td>defce609-c631-447d-aad6-1270615e89c4</td>\n",
       "      <td>Fully Paid</td>\n",
       "      <td>21029</td>\n",
       "      <td>Short Term</td>\n",
       "      <td>747.0</td>\n",
       "      <td>10+ years</td>\n",
       "      <td>Home Mortgage</td>\n",
       "      <td>90126.0</td>\n",
       "      <td>Debt Consolidation</td>\n",
       "      <td>$1,321.85</td>\n",
       "      <td>28.8</td>\n",
       "      <td>NaN</td>\n",
       "      <td>5</td>\n",
       "      <td>0</td>\n",
       "      <td>20967</td>\n",
       "      <td>28335</td>\n",
       "      <td>0.0</td>\n",
       "      <td>0.0</td>\n",
       "    </tr>\n",
       "    <tr>\n",
       "      <th>3</th>\n",
       "      <td>00005222-b4d8-45a4-ad8c-186057e24233</td>\n",
       "      <td>070bcecb-aae7-4485-a26a-e0403e7bb6c5</td>\n",
       "      <td>Fully Paid</td>\n",
       "      <td>18743</td>\n",
       "      <td>Short Term</td>\n",
       "      <td>747.0</td>\n",
       "      <td>10+ years</td>\n",
       "      <td>Own Home</td>\n",
       "      <td>38072.0</td>\n",
       "      <td>Debt Consolidation</td>\n",
       "      <td>$751.92</td>\n",
       "      <td>26.2</td>\n",
       "      <td>NaN</td>\n",
       "      <td>9</td>\n",
       "      <td>0</td>\n",
       "      <td>22529</td>\n",
       "      <td>43915</td>\n",
       "      <td>0.0</td>\n",
       "      <td>0.0</td>\n",
       "    </tr>\n",
       "    <tr>\n",
       "      <th>4</th>\n",
       "      <td>0000757f-a121-41ed-b17b-162e76647c1f</td>\n",
       "      <td>dde79588-12f0-4811-bab0-e2b07f633fcd</td>\n",
       "      <td>Fully Paid</td>\n",
       "      <td>11731</td>\n",
       "      <td>Short Term</td>\n",
       "      <td>746.0</td>\n",
       "      <td>4 years</td>\n",
       "      <td>Rent</td>\n",
       "      <td>50025.0</td>\n",
       "      <td>Debt Consolidation</td>\n",
       "      <td>$355.18</td>\n",
       "      <td>11.5</td>\n",
       "      <td>NaN</td>\n",
       "      <td>12</td>\n",
       "      <td>0</td>\n",
       "      <td>17391</td>\n",
       "      <td>37081</td>\n",
       "      <td>0.0</td>\n",
       "      <td>0.0</td>\n",
       "    </tr>\n",
       "  </tbody>\n",
       "</table>\n",
       "</div>"
      ],
      "text/plain": [
       "                                Loan ID                           Customer ID  \\\n",
       "0  000025bb-5694-4cff-b17d-192b1a98ba44  5ebc8bb1-5eb9-4404-b11b-a6eebc401a19   \n",
       "1  00002c49-3a29-4bd4-8f67-c8f8fbc1048c  927b388d-2e01-423f-a8dc-f7e42d668f46   \n",
       "2  00002d89-27f3-409b-aa76-90834f359a65  defce609-c631-447d-aad6-1270615e89c4   \n",
       "3  00005222-b4d8-45a4-ad8c-186057e24233  070bcecb-aae7-4485-a26a-e0403e7bb6c5   \n",
       "4  0000757f-a121-41ed-b17b-162e76647c1f  dde79588-12f0-4811-bab0-e2b07f633fcd   \n",
       "\n",
       "  Loan Status  Current Loan Amount        Term  Credit Score  \\\n",
       "0  Fully Paid                11520  Short Term         741.0   \n",
       "1  Fully Paid                 3441  Short Term         734.0   \n",
       "2  Fully Paid                21029  Short Term         747.0   \n",
       "3  Fully Paid                18743  Short Term         747.0   \n",
       "4  Fully Paid                11731  Short Term         746.0   \n",
       "\n",
       "  Years in current job Home Ownership  Annual Income             Purpose  \\\n",
       "0            10+ years  Home Mortgage        33694.0  Debt Consolidation   \n",
       "1              4 years  Home Mortgage        42269.0               other   \n",
       "2            10+ years  Home Mortgage        90126.0  Debt Consolidation   \n",
       "3            10+ years       Own Home        38072.0  Debt Consolidation   \n",
       "4              4 years           Rent        50025.0  Debt Consolidation   \n",
       "\n",
       "  Monthly Debt  Years of Credit History  Months since last delinquent  \\\n",
       "0      $584.03                     12.3                          41.0   \n",
       "1   $1,106.04                      26.3                           NaN   \n",
       "2   $1,321.85                      28.8                           NaN   \n",
       "3      $751.92                     26.2                           NaN   \n",
       "4      $355.18                     11.5                           NaN   \n",
       "\n",
       "   Number of Open Accounts  Number of Credit Problems  Current Credit Balance  \\\n",
       "0                       10                          0                    6760   \n",
       "1                       17                          0                    6262   \n",
       "2                        5                          0                   20967   \n",
       "3                        9                          0                   22529   \n",
       "4                       12                          0                   17391   \n",
       "\n",
       "  Maximum Open Credit  Bankruptcies  Tax Liens  \n",
       "0               16056           0.0        0.0  \n",
       "1               19149           0.0        0.0  \n",
       "2               28335           0.0        0.0  \n",
       "3               43915           0.0        0.0  \n",
       "4               37081           0.0        0.0  "
      ]
     },
     "execution_count": 4,
     "metadata": {},
     "output_type": "execute_result"
    }
   ],
   "source": [
    "df.head()\n",
    "#first 5 lines"
   ]
  },
  {
   "cell_type": "code",
   "execution_count": 5,
   "id": "df4a7942",
   "metadata": {},
   "outputs": [
    {
     "data": {
      "text/html": [
       "<div>\n",
       "<style scoped>\n",
       "    .dataframe tbody tr th:only-of-type {\n",
       "        vertical-align: middle;\n",
       "    }\n",
       "\n",
       "    .dataframe tbody tr th {\n",
       "        vertical-align: top;\n",
       "    }\n",
       "\n",
       "    .dataframe thead th {\n",
       "        text-align: right;\n",
       "    }\n",
       "</style>\n",
       "<table border=\"1\" class=\"dataframe\">\n",
       "  <thead>\n",
       "    <tr style=\"text-align: right;\">\n",
       "      <th></th>\n",
       "      <th>Loan ID</th>\n",
       "      <th>Customer ID</th>\n",
       "      <th>Loan Status</th>\n",
       "      <th>Current Loan Amount</th>\n",
       "      <th>Term</th>\n",
       "      <th>Credit Score</th>\n",
       "      <th>Years in current job</th>\n",
       "      <th>Home Ownership</th>\n",
       "      <th>Annual Income</th>\n",
       "      <th>Purpose</th>\n",
       "      <th>Monthly Debt</th>\n",
       "      <th>Years of Credit History</th>\n",
       "      <th>Months since last delinquent</th>\n",
       "      <th>Number of Open Accounts</th>\n",
       "      <th>Number of Credit Problems</th>\n",
       "      <th>Current Credit Balance</th>\n",
       "      <th>Maximum Open Credit</th>\n",
       "      <th>Bankruptcies</th>\n",
       "      <th>Tax Liens</th>\n",
       "    </tr>\n",
       "  </thead>\n",
       "  <tbody>\n",
       "    <tr>\n",
       "      <th>256979</th>\n",
       "      <td>fffef5b7-be99-4666-ac70-2a397d2ee435</td>\n",
       "      <td>7211a8e3-cba4-4132-b939-222eed8a662c</td>\n",
       "      <td>Fully Paid</td>\n",
       "      <td>3911</td>\n",
       "      <td>Short Term</td>\n",
       "      <td>NaN</td>\n",
       "      <td>2 years</td>\n",
       "      <td>Rent</td>\n",
       "      <td>NaN</td>\n",
       "      <td>Debt Consolidation</td>\n",
       "      <td>$1,706.58</td>\n",
       "      <td>19.9</td>\n",
       "      <td>NaN</td>\n",
       "      <td>16</td>\n",
       "      <td>0</td>\n",
       "      <td>43992</td>\n",
       "      <td>44080</td>\n",
       "      <td>0.0</td>\n",
       "      <td>0.0</td>\n",
       "    </tr>\n",
       "    <tr>\n",
       "      <th>256980</th>\n",
       "      <td>ffffca93-aa8c-4123-b8ff-7852f6df889a</td>\n",
       "      <td>616fef0c-8f09-4327-9b5c-48fcfaa52934</td>\n",
       "      <td>Fully Paid</td>\n",
       "      <td>5078</td>\n",
       "      <td>Short Term</td>\n",
       "      <td>737.0</td>\n",
       "      <td>10+ years</td>\n",
       "      <td>Own Home</td>\n",
       "      <td>77186.0</td>\n",
       "      <td>Debt Consolidation</td>\n",
       "      <td>$1,376.47</td>\n",
       "      <td>19.1</td>\n",
       "      <td>47.0</td>\n",
       "      <td>9</td>\n",
       "      <td>0</td>\n",
       "      <td>1717</td>\n",
       "      <td>9758</td>\n",
       "      <td>0.0</td>\n",
       "      <td>0.0</td>\n",
       "    </tr>\n",
       "    <tr>\n",
       "      <th>256981</th>\n",
       "      <td>ffffcb2e-e48e-4d2c-a0d6-ed6bce5bfdbe</td>\n",
       "      <td>971a6682-183b-4a52-8bce-1d3429ade295</td>\n",
       "      <td>Charged Off</td>\n",
       "      <td>12116</td>\n",
       "      <td>Short Term</td>\n",
       "      <td>7460.0</td>\n",
       "      <td>9 years</td>\n",
       "      <td>Home Mortgage</td>\n",
       "      <td>52504.0</td>\n",
       "      <td>Debt Consolidation</td>\n",
       "      <td>$297.96</td>\n",
       "      <td>15.1</td>\n",
       "      <td>82.0</td>\n",
       "      <td>8</td>\n",
       "      <td>0</td>\n",
       "      <td>3315</td>\n",
       "      <td>20090</td>\n",
       "      <td>0.0</td>\n",
       "      <td>0.0</td>\n",
       "    </tr>\n",
       "    <tr>\n",
       "      <th>256982</th>\n",
       "      <td>ffffcb2e-e48e-4d2c-a0d6-ed6bce5bfdbe</td>\n",
       "      <td>971a6682-183b-4a52-8bce-1d3429ade295</td>\n",
       "      <td>Charged Off</td>\n",
       "      <td>12116</td>\n",
       "      <td>Short Term</td>\n",
       "      <td>746.0</td>\n",
       "      <td>9 years</td>\n",
       "      <td>Home Mortgage</td>\n",
       "      <td>52504.0</td>\n",
       "      <td>Debt Consolidation</td>\n",
       "      <td>$297.96</td>\n",
       "      <td>15.1</td>\n",
       "      <td>82.0</td>\n",
       "      <td>8</td>\n",
       "      <td>0</td>\n",
       "      <td>3315</td>\n",
       "      <td>20090</td>\n",
       "      <td>0.0</td>\n",
       "      <td>0.0</td>\n",
       "    </tr>\n",
       "    <tr>\n",
       "      <th>256983</th>\n",
       "      <td>ffffe32e-ed17-459f-9cfd-7b9ee7972933</td>\n",
       "      <td>97281336-1e45-41d2-acb2-263ce56a590e</td>\n",
       "      <td>Fully Paid</td>\n",
       "      <td>27902</td>\n",
       "      <td>Long Term</td>\n",
       "      <td>678.0</td>\n",
       "      <td>10+ years</td>\n",
       "      <td>Home Mortgage</td>\n",
       "      <td>117480.0</td>\n",
       "      <td>Debt Consolidation</td>\n",
       "      <td>$2,525.82</td>\n",
       "      <td>18.0</td>\n",
       "      <td>11.0</td>\n",
       "      <td>10</td>\n",
       "      <td>0</td>\n",
       "      <td>28317</td>\n",
       "      <td>62371</td>\n",
       "      <td>0.0</td>\n",
       "      <td>0.0</td>\n",
       "    </tr>\n",
       "  </tbody>\n",
       "</table>\n",
       "</div>"
      ],
      "text/plain": [
       "                                     Loan ID  \\\n",
       "256979  fffef5b7-be99-4666-ac70-2a397d2ee435   \n",
       "256980  ffffca93-aa8c-4123-b8ff-7852f6df889a   \n",
       "256981  ffffcb2e-e48e-4d2c-a0d6-ed6bce5bfdbe   \n",
       "256982  ffffcb2e-e48e-4d2c-a0d6-ed6bce5bfdbe   \n",
       "256983  ffffe32e-ed17-459f-9cfd-7b9ee7972933   \n",
       "\n",
       "                                 Customer ID  Loan Status  \\\n",
       "256979  7211a8e3-cba4-4132-b939-222eed8a662c   Fully Paid   \n",
       "256980  616fef0c-8f09-4327-9b5c-48fcfaa52934   Fully Paid   \n",
       "256981  971a6682-183b-4a52-8bce-1d3429ade295  Charged Off   \n",
       "256982  971a6682-183b-4a52-8bce-1d3429ade295  Charged Off   \n",
       "256983  97281336-1e45-41d2-acb2-263ce56a590e   Fully Paid   \n",
       "\n",
       "        Current Loan Amount        Term  Credit Score Years in current job  \\\n",
       "256979                 3911  Short Term           NaN              2 years   \n",
       "256980                 5078  Short Term         737.0            10+ years   \n",
       "256981                12116  Short Term        7460.0              9 years   \n",
       "256982                12116  Short Term         746.0              9 years   \n",
       "256983                27902   Long Term         678.0            10+ years   \n",
       "\n",
       "       Home Ownership  Annual Income             Purpose Monthly Debt  \\\n",
       "256979           Rent            NaN  Debt Consolidation   $1,706.58    \n",
       "256980       Own Home        77186.0  Debt Consolidation   $1,376.47    \n",
       "256981  Home Mortgage        52504.0  Debt Consolidation      $297.96   \n",
       "256982  Home Mortgage        52504.0  Debt Consolidation      $297.96   \n",
       "256983  Home Mortgage       117480.0  Debt Consolidation   $2,525.82    \n",
       "\n",
       "        Years of Credit History  Months since last delinquent  \\\n",
       "256979                     19.9                           NaN   \n",
       "256980                     19.1                          47.0   \n",
       "256981                     15.1                          82.0   \n",
       "256982                     15.1                          82.0   \n",
       "256983                     18.0                          11.0   \n",
       "\n",
       "        Number of Open Accounts  Number of Credit Problems  \\\n",
       "256979                       16                          0   \n",
       "256980                        9                          0   \n",
       "256981                        8                          0   \n",
       "256982                        8                          0   \n",
       "256983                       10                          0   \n",
       "\n",
       "        Current Credit Balance Maximum Open Credit  Bankruptcies  Tax Liens  \n",
       "256979                   43992               44080           0.0        0.0  \n",
       "256980                    1717                9758           0.0        0.0  \n",
       "256981                    3315               20090           0.0        0.0  \n",
       "256982                    3315               20090           0.0        0.0  \n",
       "256983                   28317               62371           0.0        0.0  "
      ]
     },
     "execution_count": 5,
     "metadata": {},
     "output_type": "execute_result"
    }
   ],
   "source": [
    "df.tail()\n",
    "#last 5 files"
   ]
  },
  {
   "cell_type": "code",
   "execution_count": 6,
   "id": "5b99ac7a",
   "metadata": {},
   "outputs": [
    {
     "data": {
      "text/html": [
       "<div>\n",
       "<style scoped>\n",
       "    .dataframe tbody tr th:only-of-type {\n",
       "        vertical-align: middle;\n",
       "    }\n",
       "\n",
       "    .dataframe tbody tr th {\n",
       "        vertical-align: top;\n",
       "    }\n",
       "\n",
       "    .dataframe thead th {\n",
       "        text-align: right;\n",
       "    }\n",
       "</style>\n",
       "<table border=\"1\" class=\"dataframe\">\n",
       "  <thead>\n",
       "    <tr style=\"text-align: right;\">\n",
       "      <th></th>\n",
       "      <th>Loan ID</th>\n",
       "      <th>Customer ID</th>\n",
       "      <th>Loan Status</th>\n",
       "      <th>Current Loan Amount</th>\n",
       "      <th>Term</th>\n",
       "      <th>Credit Score</th>\n",
       "      <th>Years in current job</th>\n",
       "      <th>Home Ownership</th>\n",
       "      <th>Annual Income</th>\n",
       "      <th>Purpose</th>\n",
       "      <th>Monthly Debt</th>\n",
       "      <th>Years of Credit History</th>\n",
       "      <th>Months since last delinquent</th>\n",
       "      <th>Number of Open Accounts</th>\n",
       "      <th>Number of Credit Problems</th>\n",
       "      <th>Current Credit Balance</th>\n",
       "      <th>Maximum Open Credit</th>\n",
       "      <th>Bankruptcies</th>\n",
       "      <th>Tax Liens</th>\n",
       "    </tr>\n",
       "  </thead>\n",
       "  <tbody>\n",
       "    <tr>\n",
       "      <th>64164</th>\n",
       "      <td>3fd53768-0fc1-4217-b3d2-12e026235f77</td>\n",
       "      <td>96d83ce5-e446-40ff-8e3b-645b1755a3a4</td>\n",
       "      <td>Charged Off</td>\n",
       "      <td>23813</td>\n",
       "      <td>Short Term</td>\n",
       "      <td>745.0</td>\n",
       "      <td>1 year</td>\n",
       "      <td>Home Mortgage</td>\n",
       "      <td>64493.0</td>\n",
       "      <td>Debt Consolidation</td>\n",
       "      <td>$1,338.23</td>\n",
       "      <td>15.3</td>\n",
       "      <td>NaN</td>\n",
       "      <td>6</td>\n",
       "      <td>0</td>\n",
       "      <td>30094</td>\n",
       "      <td>30866</td>\n",
       "      <td>0.0</td>\n",
       "      <td>0.0</td>\n",
       "    </tr>\n",
       "    <tr>\n",
       "      <th>127776</th>\n",
       "      <td>7f1bf70d-2f02-4205-82d8-12118215c3c1</td>\n",
       "      <td>a425018b-d056-4c0e-9d80-bd31085aedc2</td>\n",
       "      <td>Charged Off</td>\n",
       "      <td>24588</td>\n",
       "      <td>Short Term</td>\n",
       "      <td>712.0</td>\n",
       "      <td>2 years</td>\n",
       "      <td>Home Mortgage</td>\n",
       "      <td>78680.0</td>\n",
       "      <td>Debt Consolidation</td>\n",
       "      <td>$1,429.35</td>\n",
       "      <td>15.4</td>\n",
       "      <td>NaN</td>\n",
       "      <td>14</td>\n",
       "      <td>0</td>\n",
       "      <td>5225</td>\n",
       "      <td>24304</td>\n",
       "      <td>0.0</td>\n",
       "      <td>0.0</td>\n",
       "    </tr>\n",
       "    <tr>\n",
       "      <th>109734</th>\n",
       "      <td>6cfe5573-acc1-4a8d-8aae-4c19be817e25</td>\n",
       "      <td>6bbb36c2-f2d0-429c-ad14-55f9840aa16a</td>\n",
       "      <td>Fully Paid</td>\n",
       "      <td>18256</td>\n",
       "      <td>Short Term</td>\n",
       "      <td>749.0</td>\n",
       "      <td>10+ years</td>\n",
       "      <td>Own Home</td>\n",
       "      <td>99392.0</td>\n",
       "      <td>Debt Consolidation</td>\n",
       "      <td>$1,085.02</td>\n",
       "      <td>19.0</td>\n",
       "      <td>NaN</td>\n",
       "      <td>7</td>\n",
       "      <td>0</td>\n",
       "      <td>9167</td>\n",
       "      <td>24777</td>\n",
       "      <td>0.0</td>\n",
       "      <td>0.0</td>\n",
       "    </tr>\n",
       "    <tr>\n",
       "      <th>99759</th>\n",
       "      <td>631f85ac-0f13-488d-a962-5b7ffcf6cd7e</td>\n",
       "      <td>fc317b6d-af27-40bf-a775-b7e0be0b7f50</td>\n",
       "      <td>Charged Off</td>\n",
       "      <td>11845</td>\n",
       "      <td>Long Term</td>\n",
       "      <td>742.0</td>\n",
       "      <td>2 years</td>\n",
       "      <td>Rent</td>\n",
       "      <td>61200.0</td>\n",
       "      <td>Debt Consolidation</td>\n",
       "      <td>$626.79</td>\n",
       "      <td>15.5</td>\n",
       "      <td>NaN</td>\n",
       "      <td>11</td>\n",
       "      <td>0</td>\n",
       "      <td>13802</td>\n",
       "      <td>55429</td>\n",
       "      <td>0.0</td>\n",
       "      <td>0.0</td>\n",
       "    </tr>\n",
       "    <tr>\n",
       "      <th>204999</th>\n",
       "      <td>cc0695d6-17cd-41ed-8572-64aa9c1bc568</td>\n",
       "      <td>0595ffb1-3ac6-4618-b792-a0141fad47f0</td>\n",
       "      <td>Fully Paid</td>\n",
       "      <td>99999999</td>\n",
       "      <td>Short Term</td>\n",
       "      <td>751.0</td>\n",
       "      <td>7 years</td>\n",
       "      <td>Home Mortgage</td>\n",
       "      <td>78163.0</td>\n",
       "      <td>Debt Consolidation</td>\n",
       "      <td>$476.79</td>\n",
       "      <td>19.4</td>\n",
       "      <td>NaN</td>\n",
       "      <td>9</td>\n",
       "      <td>0</td>\n",
       "      <td>22159</td>\n",
       "      <td>55956</td>\n",
       "      <td>0.0</td>\n",
       "      <td>0.0</td>\n",
       "    </tr>\n",
       "  </tbody>\n",
       "</table>\n",
       "</div>"
      ],
      "text/plain": [
       "                                     Loan ID  \\\n",
       "64164   3fd53768-0fc1-4217-b3d2-12e026235f77   \n",
       "127776  7f1bf70d-2f02-4205-82d8-12118215c3c1   \n",
       "109734  6cfe5573-acc1-4a8d-8aae-4c19be817e25   \n",
       "99759   631f85ac-0f13-488d-a962-5b7ffcf6cd7e   \n",
       "204999  cc0695d6-17cd-41ed-8572-64aa9c1bc568   \n",
       "\n",
       "                                 Customer ID  Loan Status  \\\n",
       "64164   96d83ce5-e446-40ff-8e3b-645b1755a3a4  Charged Off   \n",
       "127776  a425018b-d056-4c0e-9d80-bd31085aedc2  Charged Off   \n",
       "109734  6bbb36c2-f2d0-429c-ad14-55f9840aa16a   Fully Paid   \n",
       "99759   fc317b6d-af27-40bf-a775-b7e0be0b7f50  Charged Off   \n",
       "204999  0595ffb1-3ac6-4618-b792-a0141fad47f0   Fully Paid   \n",
       "\n",
       "        Current Loan Amount        Term  Credit Score Years in current job  \\\n",
       "64164                 23813  Short Term         745.0               1 year   \n",
       "127776                24588  Short Term         712.0              2 years   \n",
       "109734                18256  Short Term         749.0            10+ years   \n",
       "99759                 11845   Long Term         742.0              2 years   \n",
       "204999             99999999  Short Term         751.0              7 years   \n",
       "\n",
       "       Home Ownership  Annual Income             Purpose Monthly Debt  \\\n",
       "64164   Home Mortgage        64493.0  Debt Consolidation   $1,338.23    \n",
       "127776  Home Mortgage        78680.0  Debt Consolidation   $1,429.35    \n",
       "109734       Own Home        99392.0  Debt Consolidation   $1,085.02    \n",
       "99759            Rent        61200.0  Debt Consolidation      $626.79   \n",
       "204999  Home Mortgage        78163.0  Debt Consolidation      $476.79   \n",
       "\n",
       "        Years of Credit History  Months since last delinquent  \\\n",
       "64164                      15.3                           NaN   \n",
       "127776                     15.4                           NaN   \n",
       "109734                     19.0                           NaN   \n",
       "99759                      15.5                           NaN   \n",
       "204999                     19.4                           NaN   \n",
       "\n",
       "        Number of Open Accounts  Number of Credit Problems  \\\n",
       "64164                         6                          0   \n",
       "127776                       14                          0   \n",
       "109734                        7                          0   \n",
       "99759                        11                          0   \n",
       "204999                        9                          0   \n",
       "\n",
       "        Current Credit Balance Maximum Open Credit  Bankruptcies  Tax Liens  \n",
       "64164                    30094               30866           0.0        0.0  \n",
       "127776                    5225               24304           0.0        0.0  \n",
       "109734                    9167               24777           0.0        0.0  \n",
       "99759                    13802               55429           0.0        0.0  \n",
       "204999                   22159               55956           0.0        0.0  "
      ]
     },
     "execution_count": 6,
     "metadata": {},
     "output_type": "execute_result"
    }
   ],
   "source": [
    "df.sample(5)\n",
    "#random 5 lines"
   ]
  },
  {
   "cell_type": "code",
   "execution_count": 7,
   "id": "d0d04054",
   "metadata": {},
   "outputs": [
    {
     "name": "stdout",
     "output_type": "stream",
     "text": [
      "<class 'pandas.core.frame.DataFrame'>\n",
      "RangeIndex: 256984 entries, 0 to 256983\n",
      "Data columns (total 19 columns):\n",
      " #   Column                        Non-Null Count   Dtype  \n",
      "---  ------                        --------------   -----  \n",
      " 0   Loan ID                       256984 non-null  object \n",
      " 1   Customer ID                   256984 non-null  object \n",
      " 2   Loan Status                   256984 non-null  object \n",
      " 3   Current Loan Amount           256984 non-null  int64  \n",
      " 4   Term                          256984 non-null  object \n",
      " 5   Credit Score                  195308 non-null  float64\n",
      " 6   Years in current job          245508 non-null  object \n",
      " 7   Home Ownership                256984 non-null  object \n",
      " 8   Annual Income                 195308 non-null  float64\n",
      " 9   Purpose                       256984 non-null  object \n",
      " 10  Monthly Debt                  256984 non-null  object \n",
      " 11  Years of Credit History       256984 non-null  float64\n",
      " 12  Months since last delinquent  116601 non-null  float64\n",
      " 13  Number of Open Accounts       256984 non-null  int64  \n",
      " 14  Number of Credit Problems     256984 non-null  int64  \n",
      " 15  Current Credit Balance        256984 non-null  int64  \n",
      " 16  Maximum Open Credit           256984 non-null  object \n",
      " 17  Bankruptcies                  256455 non-null  float64\n",
      " 18  Tax Liens                     256961 non-null  float64\n",
      "dtypes: float64(6), int64(4), object(9)\n",
      "memory usage: 37.3+ MB\n"
     ]
    }
   ],
   "source": [
    "df.info()\n",
    "#we see that we have 19 columns, incl object, int and float as datatypes"
   ]
  },
  {
   "cell_type": "code",
   "execution_count": 8,
   "id": "f0c548b6",
   "metadata": {},
   "outputs": [
    {
     "data": {
      "text/html": [
       "<div>\n",
       "<style scoped>\n",
       "    .dataframe tbody tr th:only-of-type {\n",
       "        vertical-align: middle;\n",
       "    }\n",
       "\n",
       "    .dataframe tbody tr th {\n",
       "        vertical-align: top;\n",
       "    }\n",
       "\n",
       "    .dataframe thead th {\n",
       "        text-align: right;\n",
       "    }\n",
       "</style>\n",
       "<table border=\"1\" class=\"dataframe\">\n",
       "  <thead>\n",
       "    <tr style=\"text-align: right;\">\n",
       "      <th></th>\n",
       "      <th>Current Loan Amount</th>\n",
       "      <th>Credit Score</th>\n",
       "      <th>Annual Income</th>\n",
       "      <th>Years of Credit History</th>\n",
       "      <th>Months since last delinquent</th>\n",
       "      <th>Number of Open Accounts</th>\n",
       "      <th>Number of Credit Problems</th>\n",
       "      <th>Current Credit Balance</th>\n",
       "      <th>Bankruptcies</th>\n",
       "      <th>Tax Liens</th>\n",
       "    </tr>\n",
       "  </thead>\n",
       "  <tbody>\n",
       "    <tr>\n",
       "      <th>count</th>\n",
       "      <td>2.569840e+05</td>\n",
       "      <td>195308.000000</td>\n",
       "      <td>1.953080e+05</td>\n",
       "      <td>256984.000000</td>\n",
       "      <td>116601.000000</td>\n",
       "      <td>256984.000000</td>\n",
       "      <td>256984.000000</td>\n",
       "      <td>2.569840e+05</td>\n",
       "      <td>256455.000000</td>\n",
       "      <td>256961.000000</td>\n",
       "    </tr>\n",
       "    <tr>\n",
       "      <th>mean</th>\n",
       "      <td>1.371331e+07</td>\n",
       "      <td>1251.116099</td>\n",
       "      <td>7.195272e+04</td>\n",
       "      <td>18.290195</td>\n",
       "      <td>34.881450</td>\n",
       "      <td>11.106267</td>\n",
       "      <td>0.156628</td>\n",
       "      <td>1.540656e+04</td>\n",
       "      <td>0.110316</td>\n",
       "      <td>0.027203</td>\n",
       "    </tr>\n",
       "    <tr>\n",
       "      <th>std</th>\n",
       "      <td>3.438131e+07</td>\n",
       "      <td>1762.016848</td>\n",
       "      <td>5.887757e+04</td>\n",
       "      <td>7.075747</td>\n",
       "      <td>21.854165</td>\n",
       "      <td>4.982982</td>\n",
       "      <td>0.460731</td>\n",
       "      <td>1.966506e+04</td>\n",
       "      <td>0.336229</td>\n",
       "      <td>0.245950</td>\n",
       "    </tr>\n",
       "    <tr>\n",
       "      <th>min</th>\n",
       "      <td>5.050000e+02</td>\n",
       "      <td>585.000000</td>\n",
       "      <td>0.000000e+00</td>\n",
       "      <td>3.400000</td>\n",
       "      <td>0.000000</td>\n",
       "      <td>0.000000</td>\n",
       "      <td>0.000000</td>\n",
       "      <td>0.000000e+00</td>\n",
       "      <td>0.000000</td>\n",
       "      <td>0.000000</td>\n",
       "    </tr>\n",
       "    <tr>\n",
       "      <th>25%</th>\n",
       "      <td>8.299000e+03</td>\n",
       "      <td>714.000000</td>\n",
       "      <td>4.432100e+04</td>\n",
       "      <td>13.500000</td>\n",
       "      <td>16.000000</td>\n",
       "      <td>8.000000</td>\n",
       "      <td>0.000000</td>\n",
       "      <td>5.974000e+03</td>\n",
       "      <td>0.000000</td>\n",
       "      <td>0.000000</td>\n",
       "    </tr>\n",
       "    <tr>\n",
       "      <th>50%</th>\n",
       "      <td>1.429800e+04</td>\n",
       "      <td>733.000000</td>\n",
       "      <td>6.124200e+04</td>\n",
       "      <td>17.000000</td>\n",
       "      <td>32.000000</td>\n",
       "      <td>10.000000</td>\n",
       "      <td>0.000000</td>\n",
       "      <td>1.107800e+04</td>\n",
       "      <td>0.000000</td>\n",
       "      <td>0.000000</td>\n",
       "    </tr>\n",
       "    <tr>\n",
       "      <th>75%</th>\n",
       "      <td>2.436700e+04</td>\n",
       "      <td>744.000000</td>\n",
       "      <td>8.646200e+04</td>\n",
       "      <td>21.700000</td>\n",
       "      <td>51.000000</td>\n",
       "      <td>14.000000</td>\n",
       "      <td>0.000000</td>\n",
       "      <td>1.931900e+04</td>\n",
       "      <td>0.000000</td>\n",
       "      <td>0.000000</td>\n",
       "    </tr>\n",
       "    <tr>\n",
       "      <th>max</th>\n",
       "      <td>1.000000e+08</td>\n",
       "      <td>7510.000000</td>\n",
       "      <td>8.713547e+06</td>\n",
       "      <td>70.500000</td>\n",
       "      <td>176.000000</td>\n",
       "      <td>76.000000</td>\n",
       "      <td>11.000000</td>\n",
       "      <td>1.731412e+06</td>\n",
       "      <td>7.000000</td>\n",
       "      <td>11.000000</td>\n",
       "    </tr>\n",
       "  </tbody>\n",
       "</table>\n",
       "</div>"
      ],
      "text/plain": [
       "       Current Loan Amount   Credit Score  Annual Income  \\\n",
       "count         2.569840e+05  195308.000000   1.953080e+05   \n",
       "mean          1.371331e+07    1251.116099   7.195272e+04   \n",
       "std           3.438131e+07    1762.016848   5.887757e+04   \n",
       "min           5.050000e+02     585.000000   0.000000e+00   \n",
       "25%           8.299000e+03     714.000000   4.432100e+04   \n",
       "50%           1.429800e+04     733.000000   6.124200e+04   \n",
       "75%           2.436700e+04     744.000000   8.646200e+04   \n",
       "max           1.000000e+08    7510.000000   8.713547e+06   \n",
       "\n",
       "       Years of Credit History  Months since last delinquent  \\\n",
       "count            256984.000000                 116601.000000   \n",
       "mean                 18.290195                     34.881450   \n",
       "std                   7.075747                     21.854165   \n",
       "min                   3.400000                      0.000000   \n",
       "25%                  13.500000                     16.000000   \n",
       "50%                  17.000000                     32.000000   \n",
       "75%                  21.700000                     51.000000   \n",
       "max                  70.500000                    176.000000   \n",
       "\n",
       "       Number of Open Accounts  Number of Credit Problems  \\\n",
       "count            256984.000000              256984.000000   \n",
       "mean                 11.106267                   0.156628   \n",
       "std                   4.982982                   0.460731   \n",
       "min                   0.000000                   0.000000   \n",
       "25%                   8.000000                   0.000000   \n",
       "50%                  10.000000                   0.000000   \n",
       "75%                  14.000000                   0.000000   \n",
       "max                  76.000000                  11.000000   \n",
       "\n",
       "       Current Credit Balance   Bankruptcies      Tax Liens  \n",
       "count            2.569840e+05  256455.000000  256961.000000  \n",
       "mean             1.540656e+04       0.110316       0.027203  \n",
       "std              1.966506e+04       0.336229       0.245950  \n",
       "min              0.000000e+00       0.000000       0.000000  \n",
       "25%              5.974000e+03       0.000000       0.000000  \n",
       "50%              1.107800e+04       0.000000       0.000000  \n",
       "75%              1.931900e+04       0.000000       0.000000  \n",
       "max              1.731412e+06       7.000000      11.000000  "
      ]
     },
     "execution_count": 8,
     "metadata": {},
     "output_type": "execute_result"
    }
   ],
   "source": [
    "df.describe()\n",
    "#statistic values"
   ]
  },
  {
   "cell_type": "code",
   "execution_count": 9,
   "id": "5e82b5cc",
   "metadata": {},
   "outputs": [
    {
     "data": {
      "text/html": [
       "<div>\n",
       "<style scoped>\n",
       "    .dataframe tbody tr th:only-of-type {\n",
       "        vertical-align: middle;\n",
       "    }\n",
       "\n",
       "    .dataframe tbody tr th {\n",
       "        vertical-align: top;\n",
       "    }\n",
       "\n",
       "    .dataframe thead th {\n",
       "        text-align: right;\n",
       "    }\n",
       "</style>\n",
       "<table border=\"1\" class=\"dataframe\">\n",
       "  <thead>\n",
       "    <tr style=\"text-align: right;\">\n",
       "      <th></th>\n",
       "      <th>Current Loan Amount</th>\n",
       "      <th>Credit Score</th>\n",
       "      <th>Annual Income</th>\n",
       "      <th>Years of Credit History</th>\n",
       "      <th>Months since last delinquent</th>\n",
       "      <th>Number of Open Accounts</th>\n",
       "      <th>Number of Credit Problems</th>\n",
       "      <th>Current Credit Balance</th>\n",
       "      <th>Bankruptcies</th>\n",
       "      <th>Tax Liens</th>\n",
       "    </tr>\n",
       "  </thead>\n",
       "  <tbody>\n",
       "    <tr>\n",
       "      <th>Current Loan Amount</th>\n",
       "      <td>1.000000</td>\n",
       "      <td>-0.139743</td>\n",
       "      <td>0.024069</td>\n",
       "      <td>0.014725</td>\n",
       "      <td>0.003488</td>\n",
       "      <td>-0.003094</td>\n",
       "      <td>-0.000062</td>\n",
       "      <td>0.003138</td>\n",
       "      <td>0.003576</td>\n",
       "      <td>-0.003069</td>\n",
       "    </tr>\n",
       "    <tr>\n",
       "      <th>Credit Score</th>\n",
       "      <td>-0.139743</td>\n",
       "      <td>1.000000</td>\n",
       "      <td>-0.033221</td>\n",
       "      <td>-0.011658</td>\n",
       "      <td>-0.007994</td>\n",
       "      <td>0.008124</td>\n",
       "      <td>0.000777</td>\n",
       "      <td>-0.003263</td>\n",
       "      <td>-0.003426</td>\n",
       "      <td>0.004381</td>\n",
       "    </tr>\n",
       "    <tr>\n",
       "      <th>Annual Income</th>\n",
       "      <td>0.024069</td>\n",
       "      <td>-0.033221</td>\n",
       "      <td>1.000000</td>\n",
       "      <td>0.146859</td>\n",
       "      <td>-0.059675</td>\n",
       "      <td>0.140463</td>\n",
       "      <td>-0.013672</td>\n",
       "      <td>0.292165</td>\n",
       "      <td>-0.044837</td>\n",
       "      <td>0.038185</td>\n",
       "    </tr>\n",
       "    <tr>\n",
       "      <th>Years of Credit History</th>\n",
       "      <td>0.014725</td>\n",
       "      <td>-0.011658</td>\n",
       "      <td>0.146859</td>\n",
       "      <td>1.000000</td>\n",
       "      <td>-0.039695</td>\n",
       "      <td>0.128033</td>\n",
       "      <td>0.061251</td>\n",
       "      <td>0.201001</td>\n",
       "      <td>0.062049</td>\n",
       "      <td>0.020915</td>\n",
       "    </tr>\n",
       "    <tr>\n",
       "      <th>Months since last delinquent</th>\n",
       "      <td>0.003488</td>\n",
       "      <td>-0.007994</td>\n",
       "      <td>-0.059675</td>\n",
       "      <td>-0.039695</td>\n",
       "      <td>1.000000</td>\n",
       "      <td>-0.035803</td>\n",
       "      <td>0.088612</td>\n",
       "      <td>-0.024292</td>\n",
       "      <td>0.112907</td>\n",
       "      <td>0.002730</td>\n",
       "    </tr>\n",
       "    <tr>\n",
       "      <th>Number of Open Accounts</th>\n",
       "      <td>-0.003094</td>\n",
       "      <td>0.008124</td>\n",
       "      <td>0.140463</td>\n",
       "      <td>0.128033</td>\n",
       "      <td>-0.035803</td>\n",
       "      <td>1.000000</td>\n",
       "      <td>-0.013731</td>\n",
       "      <td>0.222763</td>\n",
       "      <td>-0.022805</td>\n",
       "      <td>0.005754</td>\n",
       "    </tr>\n",
       "    <tr>\n",
       "      <th>Number of Credit Problems</th>\n",
       "      <td>-0.000062</td>\n",
       "      <td>0.000777</td>\n",
       "      <td>-0.013672</td>\n",
       "      <td>0.061251</td>\n",
       "      <td>0.088612</td>\n",
       "      <td>-0.013731</td>\n",
       "      <td>1.000000</td>\n",
       "      <td>-0.103814</td>\n",
       "      <td>0.755866</td>\n",
       "      <td>0.584917</td>\n",
       "    </tr>\n",
       "    <tr>\n",
       "      <th>Current Credit Balance</th>\n",
       "      <td>0.003138</td>\n",
       "      <td>-0.003263</td>\n",
       "      <td>0.292165</td>\n",
       "      <td>0.201001</td>\n",
       "      <td>-0.024292</td>\n",
       "      <td>0.222763</td>\n",
       "      <td>-0.103814</td>\n",
       "      <td>1.000000</td>\n",
       "      <td>-0.117995</td>\n",
       "      <td>-0.011118</td>\n",
       "    </tr>\n",
       "    <tr>\n",
       "      <th>Bankruptcies</th>\n",
       "      <td>0.003576</td>\n",
       "      <td>-0.003426</td>\n",
       "      <td>-0.044837</td>\n",
       "      <td>0.062049</td>\n",
       "      <td>0.112907</td>\n",
       "      <td>-0.022805</td>\n",
       "      <td>0.755866</td>\n",
       "      <td>-0.117995</td>\n",
       "      <td>1.000000</td>\n",
       "      <td>0.046160</td>\n",
       "    </tr>\n",
       "    <tr>\n",
       "      <th>Tax Liens</th>\n",
       "      <td>-0.003069</td>\n",
       "      <td>0.004381</td>\n",
       "      <td>0.038185</td>\n",
       "      <td>0.020915</td>\n",
       "      <td>0.002730</td>\n",
       "      <td>0.005754</td>\n",
       "      <td>0.584917</td>\n",
       "      <td>-0.011118</td>\n",
       "      <td>0.046160</td>\n",
       "      <td>1.000000</td>\n",
       "    </tr>\n",
       "  </tbody>\n",
       "</table>\n",
       "</div>"
      ],
      "text/plain": [
       "                              Current Loan Amount  Credit Score  \\\n",
       "Current Loan Amount                      1.000000     -0.139743   \n",
       "Credit Score                            -0.139743      1.000000   \n",
       "Annual Income                            0.024069     -0.033221   \n",
       "Years of Credit History                  0.014725     -0.011658   \n",
       "Months since last delinquent             0.003488     -0.007994   \n",
       "Number of Open Accounts                 -0.003094      0.008124   \n",
       "Number of Credit Problems               -0.000062      0.000777   \n",
       "Current Credit Balance                   0.003138     -0.003263   \n",
       "Bankruptcies                             0.003576     -0.003426   \n",
       "Tax Liens                               -0.003069      0.004381   \n",
       "\n",
       "                              Annual Income  Years of Credit History  \\\n",
       "Current Loan Amount                0.024069                 0.014725   \n",
       "Credit Score                      -0.033221                -0.011658   \n",
       "Annual Income                      1.000000                 0.146859   \n",
       "Years of Credit History            0.146859                 1.000000   \n",
       "Months since last delinquent      -0.059675                -0.039695   \n",
       "Number of Open Accounts            0.140463                 0.128033   \n",
       "Number of Credit Problems         -0.013672                 0.061251   \n",
       "Current Credit Balance             0.292165                 0.201001   \n",
       "Bankruptcies                      -0.044837                 0.062049   \n",
       "Tax Liens                          0.038185                 0.020915   \n",
       "\n",
       "                              Months since last delinquent  \\\n",
       "Current Loan Amount                               0.003488   \n",
       "Credit Score                                     -0.007994   \n",
       "Annual Income                                    -0.059675   \n",
       "Years of Credit History                          -0.039695   \n",
       "Months since last delinquent                      1.000000   \n",
       "Number of Open Accounts                          -0.035803   \n",
       "Number of Credit Problems                         0.088612   \n",
       "Current Credit Balance                           -0.024292   \n",
       "Bankruptcies                                      0.112907   \n",
       "Tax Liens                                         0.002730   \n",
       "\n",
       "                              Number of Open Accounts  \\\n",
       "Current Loan Amount                         -0.003094   \n",
       "Credit Score                                 0.008124   \n",
       "Annual Income                                0.140463   \n",
       "Years of Credit History                      0.128033   \n",
       "Months since last delinquent                -0.035803   \n",
       "Number of Open Accounts                      1.000000   \n",
       "Number of Credit Problems                   -0.013731   \n",
       "Current Credit Balance                       0.222763   \n",
       "Bankruptcies                                -0.022805   \n",
       "Tax Liens                                    0.005754   \n",
       "\n",
       "                              Number of Credit Problems  \\\n",
       "Current Loan Amount                           -0.000062   \n",
       "Credit Score                                   0.000777   \n",
       "Annual Income                                 -0.013672   \n",
       "Years of Credit History                        0.061251   \n",
       "Months since last delinquent                   0.088612   \n",
       "Number of Open Accounts                       -0.013731   \n",
       "Number of Credit Problems                      1.000000   \n",
       "Current Credit Balance                        -0.103814   \n",
       "Bankruptcies                                   0.755866   \n",
       "Tax Liens                                      0.584917   \n",
       "\n",
       "                              Current Credit Balance  Bankruptcies  Tax Liens  \n",
       "Current Loan Amount                         0.003138      0.003576  -0.003069  \n",
       "Credit Score                               -0.003263     -0.003426   0.004381  \n",
       "Annual Income                               0.292165     -0.044837   0.038185  \n",
       "Years of Credit History                     0.201001      0.062049   0.020915  \n",
       "Months since last delinquent               -0.024292      0.112907   0.002730  \n",
       "Number of Open Accounts                     0.222763     -0.022805   0.005754  \n",
       "Number of Credit Problems                  -0.103814      0.755866   0.584917  \n",
       "Current Credit Balance                      1.000000     -0.117995  -0.011118  \n",
       "Bankruptcies                               -0.117995      1.000000   0.046160  \n",
       "Tax Liens                                  -0.011118      0.046160   1.000000  "
      ]
     },
     "execution_count": 9,
     "metadata": {},
     "output_type": "execute_result"
    }
   ],
   "source": [
    "df.corr()\n",
    "#correlation between the columns"
   ]
  },
  {
   "cell_type": "code",
   "execution_count": 10,
   "id": "e585a349",
   "metadata": {},
   "outputs": [
    {
     "data": {
      "image/png": "[encoded data removed]",
      "text/plain": [
       "<Figure size 576x576 with 2 Axes>"
      ]
     },
     "metadata": {
      "needs_background": "light"
     },
     "output_type": "display_data"
    }
   ],
   "source": [
    "plt.figure(figsize=(8,8))\n",
    "sns.heatmap(df.corr(),annot=True);"
   ]
  },
  {
   "cell_type": "code",
   "execution_count": 11,
   "id": "680163e1",
   "metadata": {},
   "outputs": [
    {
     "data": {
      "text/plain": [
       "(256984, 19)"
      ]
     },
     "execution_count": 11,
     "metadata": {},
     "output_type": "execute_result"
    }
   ],
   "source": [
    "df.shape"
   ]
  },
  {
   "cell_type": "code",
   "execution_count": 12,
   "id": "79ee7454",
   "metadata": {},
   "outputs": [
    {
     "data": {
      "text/plain": [
       "Index(['Loan ID', 'Customer ID', 'Loan Status', 'Current Loan Amount', 'Term',\n",
       "       'Credit Score', 'Years in current job', 'Home Ownership',\n",
       "       'Annual Income', 'Purpose', 'Monthly Debt', 'Years of Credit History',\n",
       "       'Months since last delinquent', 'Number of Open Accounts',\n",
       "       'Number of Credit Problems', 'Current Credit Balance',\n",
       "       'Maximum Open Credit', 'Bankruptcies', 'Tax Liens'],\n",
       "      dtype='object')"
      ]
     },
     "execution_count": 12,
     "metadata": {},
     "output_type": "execute_result"
    }
   ],
   "source": [
    "df.columns"
   ]
  },
  {
   "cell_type": "code",
   "execution_count": 13,
   "id": "46f28a05",
   "metadata": {},
   "outputs": [
    {
     "data": {
      "text/plain": [
       "Loan ID                              0\n",
       "Customer ID                          0\n",
       "Loan Status                          0\n",
       "Current Loan Amount                  0\n",
       "Term                                 0\n",
       "Credit Score                     61676\n",
       "Years in current job             11476\n",
       "Home Ownership                       0\n",
       "Annual Income                    61676\n",
       "Purpose                              0\n",
       "Monthly Debt                         0\n",
       "Years of Credit History              0\n",
       "Months since last delinquent    140383\n",
       "Number of Open Accounts              0\n",
       "Number of Credit Problems            0\n",
       "Current Credit Balance               0\n",
       "Maximum Open Credit                  0\n",
       "Bankruptcies                       529\n",
       "Tax Liens                           23\n",
       "dtype: int64"
      ]
     },
     "execution_count": 13,
     "metadata": {},
     "output_type": "execute_result"
    }
   ],
   "source": [
    "df.isnull().sum()\n",
    "#check for empty columns, and fill them"
   ]
  },
  {
   "cell_type": "code",
   "execution_count": 14,
   "id": "2049ddfc",
   "metadata": {},
   "outputs": [
    {
     "data": {
      "text/plain": [
       "0          741.0\n",
       "1          734.0\n",
       "2          747.0\n",
       "3          747.0\n",
       "4          746.0\n",
       "           ...  \n",
       "256979       NaN\n",
       "256980     737.0\n",
       "256981    7460.0\n",
       "256982     746.0\n",
       "256983     678.0\n",
       "Name: Credit Score, Length: 256984, dtype: float64"
      ]
     },
     "execution_count": 14,
     "metadata": {},
     "output_type": "execute_result"
    }
   ],
   "source": [
    "df['Credit Score']"
   ]
  },
  {
   "cell_type": "code",
   "execution_count": 15,
   "id": "38dd5051",
   "metadata": {},
   "outputs": [
    {
     "data": {
      "image/png": "[encoded data removed]",
      "text/plain": [
       "<Figure size 432x288 with 1 Axes>"
      ]
     },
     "metadata": {
      "needs_background": "light"
     },
     "output_type": "display_data"
    }
   ],
   "source": [
    "sns.distplot(df['Credit Score']);\n",
    "#There are many inbetween 1000, but much outliers above up to 7000+"
   ]
  },
  {
   "cell_type": "code",
   "execution_count": 16,
   "id": "0832827a",
   "metadata": {},
   "outputs": [
    {
     "data": {
      "image/png": "[encoded data removed]",
      "text/plain": [
       "<Figure size 432x288 with 1 Axes>"
      ]
     },
     "metadata": {
      "needs_background": "light"
     },
     "output_type": "display_data"
    }
   ],
   "source": [
    "sns.countplot(x=df[\"Credit Score\"]);"
   ]
  },
  {
   "cell_type": "code",
   "execution_count": 17,
   "id": "399d05c5",
   "metadata": {},
   "outputs": [
    {
     "data": {
      "image/png": "[encoded data removed]",
      "text/plain": [
       "<Figure size 432x288 with 1 Axes>"
      ]
     },
     "metadata": {
      "needs_background": "light"
     },
     "output_type": "display_data"
    }
   ],
   "source": [
    "sns.countplot(x=df[\"Loan Status\"]);"
   ]
  },
  {
   "cell_type": "code",
   "execution_count": 18,
   "id": "580ebc41",
   "metadata": {},
   "outputs": [],
   "source": [
    "# fill empty rows with mean value in Credit Score\n",
    "df['Credit Score'].fillna(df['Credit Score'].mean(),inplace=True)"
   ]
  },
  {
   "cell_type": "code",
   "execution_count": 19,
   "id": "85d3d173",
   "metadata": {},
   "outputs": [
    {
     "data": {
      "text/plain": [
       "Loan ID                              0\n",
       "Customer ID                          0\n",
       "Loan Status                          0\n",
       "Current Loan Amount                  0\n",
       "Term                                 0\n",
       "Credit Score                         0\n",
       "Years in current job             11476\n",
       "Home Ownership                       0\n",
       "Annual Income                    61676\n",
       "Purpose                              0\n",
       "Monthly Debt                         0\n",
       "Years of Credit History              0\n",
       "Months since last delinquent    140383\n",
       "Number of Open Accounts              0\n",
       "Number of Credit Problems            0\n",
       "Current Credit Balance               0\n",
       "Maximum Open Credit                  0\n",
       "Bankruptcies                       529\n",
       "Tax Liens                           23\n",
       "dtype: int64"
      ]
     },
     "execution_count": 19,
     "metadata": {},
     "output_type": "execute_result"
    }
   ],
   "source": [
    "df.isnull().sum()"
   ]
  },
  {
   "cell_type": "code",
   "execution_count": 20,
   "id": "bbe063e5",
   "metadata": {},
   "outputs": [
    {
     "data": {
      "image/png": "[encoded data removed]",
      "text/plain": [
       "<Figure size 432x288 with 1 Axes>"
      ]
     },
     "metadata": {
      "needs_background": "light"
     },
     "output_type": "display_data"
    }
   ],
   "source": [
    "sns.distplot(df['Credit Score']);"
   ]
  },
  {
   "cell_type": "code",
   "execution_count": 21,
   "id": "57744b8b",
   "metadata": {},
   "outputs": [
    {
     "data": {
      "text/html": [
       "<div>\n",
       "<style scoped>\n",
       "    .dataframe tbody tr th:only-of-type {\n",
       "        vertical-align: middle;\n",
       "    }\n",
       "\n",
       "    .dataframe tbody tr th {\n",
       "        vertical-align: top;\n",
       "    }\n",
       "\n",
       "    .dataframe thead th {\n",
       "        text-align: right;\n",
       "    }\n",
       "</style>\n",
       "<table border=\"1\" class=\"dataframe\">\n",
       "  <thead>\n",
       "    <tr style=\"text-align: right;\">\n",
       "      <th></th>\n",
       "      <th>Current Loan Amount</th>\n",
       "      <th>Credit Score</th>\n",
       "      <th>Annual Income</th>\n",
       "      <th>Years of Credit History</th>\n",
       "      <th>Months since last delinquent</th>\n",
       "      <th>Number of Open Accounts</th>\n",
       "      <th>Number of Credit Problems</th>\n",
       "      <th>Current Credit Balance</th>\n",
       "      <th>Bankruptcies</th>\n",
       "      <th>Tax Liens</th>\n",
       "    </tr>\n",
       "  </thead>\n",
       "  <tbody>\n",
       "    <tr>\n",
       "      <th>count</th>\n",
       "      <td>2.569840e+05</td>\n",
       "      <td>256984.000000</td>\n",
       "      <td>1.953080e+05</td>\n",
       "      <td>256984.000000</td>\n",
       "      <td>116601.000000</td>\n",
       "      <td>256984.000000</td>\n",
       "      <td>256984.000000</td>\n",
       "      <td>2.569840e+05</td>\n",
       "      <td>256455.000000</td>\n",
       "      <td>256961.000000</td>\n",
       "    </tr>\n",
       "    <tr>\n",
       "      <th>mean</th>\n",
       "      <td>1.371331e+07</td>\n",
       "      <td>1251.116099</td>\n",
       "      <td>7.195272e+04</td>\n",
       "      <td>18.290195</td>\n",
       "      <td>34.881450</td>\n",
       "      <td>11.106267</td>\n",
       "      <td>0.156628</td>\n",
       "      <td>1.540656e+04</td>\n",
       "      <td>0.110316</td>\n",
       "      <td>0.027203</td>\n",
       "    </tr>\n",
       "    <tr>\n",
       "      <th>std</th>\n",
       "      <td>3.438131e+07</td>\n",
       "      <td>1536.090361</td>\n",
       "      <td>5.887757e+04</td>\n",
       "      <td>7.075747</td>\n",
       "      <td>21.854165</td>\n",
       "      <td>4.982982</td>\n",
       "      <td>0.460731</td>\n",
       "      <td>1.966506e+04</td>\n",
       "      <td>0.336229</td>\n",
       "      <td>0.245950</td>\n",
       "    </tr>\n",
       "    <tr>\n",
       "      <th>min</th>\n",
       "      <td>5.050000e+02</td>\n",
       "      <td>585.000000</td>\n",
       "      <td>0.000000e+00</td>\n",
       "      <td>3.400000</td>\n",
       "      <td>0.000000</td>\n",
       "      <td>0.000000</td>\n",
       "      <td>0.000000</td>\n",
       "      <td>0.000000e+00</td>\n",
       "      <td>0.000000</td>\n",
       "      <td>0.000000</td>\n",
       "    </tr>\n",
       "    <tr>\n",
       "      <th>25%</th>\n",
       "      <td>8.299000e+03</td>\n",
       "      <td>722.000000</td>\n",
       "      <td>4.432100e+04</td>\n",
       "      <td>13.500000</td>\n",
       "      <td>16.000000</td>\n",
       "      <td>8.000000</td>\n",
       "      <td>0.000000</td>\n",
       "      <td>5.974000e+03</td>\n",
       "      <td>0.000000</td>\n",
       "      <td>0.000000</td>\n",
       "    </tr>\n",
       "    <tr>\n",
       "      <th>50%</th>\n",
       "      <td>1.429800e+04</td>\n",
       "      <td>740.000000</td>\n",
       "      <td>6.124200e+04</td>\n",
       "      <td>17.000000</td>\n",
       "      <td>32.000000</td>\n",
       "      <td>10.000000</td>\n",
       "      <td>0.000000</td>\n",
       "      <td>1.107800e+04</td>\n",
       "      <td>0.000000</td>\n",
       "      <td>0.000000</td>\n",
       "    </tr>\n",
       "    <tr>\n",
       "      <th>75%</th>\n",
       "      <td>2.436700e+04</td>\n",
       "      <td>1251.116099</td>\n",
       "      <td>8.646200e+04</td>\n",
       "      <td>21.700000</td>\n",
       "      <td>51.000000</td>\n",
       "      <td>14.000000</td>\n",
       "      <td>0.000000</td>\n",
       "      <td>1.931900e+04</td>\n",
       "      <td>0.000000</td>\n",
       "      <td>0.000000</td>\n",
       "    </tr>\n",
       "    <tr>\n",
       "      <th>max</th>\n",
       "      <td>1.000000e+08</td>\n",
       "      <td>7510.000000</td>\n",
       "      <td>8.713547e+06</td>\n",
       "      <td>70.500000</td>\n",
       "      <td>176.000000</td>\n",
       "      <td>76.000000</td>\n",
       "      <td>11.000000</td>\n",
       "      <td>1.731412e+06</td>\n",
       "      <td>7.000000</td>\n",
       "      <td>11.000000</td>\n",
       "    </tr>\n",
       "  </tbody>\n",
       "</table>\n",
       "</div>"
      ],
      "text/plain": [
       "       Current Loan Amount   Credit Score  Annual Income  \\\n",
       "count         2.569840e+05  256984.000000   1.953080e+05   \n",
       "mean          1.371331e+07    1251.116099   7.195272e+04   \n",
       "std           3.438131e+07    1536.090361   5.887757e+04   \n",
       "min           5.050000e+02     585.000000   0.000000e+00   \n",
       "25%           8.299000e+03     722.000000   4.432100e+04   \n",
       "50%           1.429800e+04     740.000000   6.124200e+04   \n",
       "75%           2.436700e+04    1251.116099   8.646200e+04   \n",
       "max           1.000000e+08    7510.000000   8.713547e+06   \n",
       "\n",
       "       Years of Credit History  Months since last delinquent  \\\n",
       "count            256984.000000                 116601.000000   \n",
       "mean                 18.290195                     34.881450   \n",
       "std                   7.075747                     21.854165   \n",
       "min                   3.400000                      0.000000   \n",
       "25%                  13.500000                     16.000000   \n",
       "50%                  17.000000                     32.000000   \n",
       "75%                  21.700000                     51.000000   \n",
       "max                  70.500000                    176.000000   \n",
       "\n",
       "       Number of Open Accounts  Number of Credit Problems  \\\n",
       "count            256984.000000              256984.000000   \n",
       "mean                 11.106267                   0.156628   \n",
       "std                   4.982982                   0.460731   \n",
       "min                   0.000000                   0.000000   \n",
       "25%                   8.000000                   0.000000   \n",
       "50%                  10.000000                   0.000000   \n",
       "75%                  14.000000                   0.000000   \n",
       "max                  76.000000                  11.000000   \n",
       "\n",
       "       Current Credit Balance   Bankruptcies      Tax Liens  \n",
       "count            2.569840e+05  256455.000000  256961.000000  \n",
       "mean             1.540656e+04       0.110316       0.027203  \n",
       "std              1.966506e+04       0.336229       0.245950  \n",
       "min              0.000000e+00       0.000000       0.000000  \n",
       "25%              5.974000e+03       0.000000       0.000000  \n",
       "50%              1.107800e+04       0.000000       0.000000  \n",
       "75%              1.931900e+04       0.000000       0.000000  \n",
       "max              1.731412e+06       7.000000      11.000000  "
      ]
     },
     "execution_count": 21,
     "metadata": {},
     "output_type": "execute_result"
    }
   ],
   "source": [
    "df.describe()"
   ]
  },
  {
   "cell_type": "code",
   "execution_count": 22,
   "id": "2cf5d5cc",
   "metadata": {},
   "outputs": [],
   "source": [
    "# ignore the outliers, focus on the credit score up to 1800\n",
    "df=df[df[\"Credit Score\"]<1800]"
   ]
  },
  {
   "cell_type": "code",
   "execution_count": 23,
   "id": "81769555",
   "metadata": {},
   "outputs": [
    {
     "data": {
      "image/png": "[encoded data removed]",
      "text/plain": [
       "<Figure size 432x288 with 1 Axes>"
      ]
     },
     "metadata": {
      "needs_background": "light"
     },
     "output_type": "display_data"
    }
   ],
   "source": [
    "sns.distplot(df['Credit Score']);"
   ]
  },
  {
   "cell_type": "code",
   "execution_count": 24,
   "id": "d9290c01",
   "metadata": {},
   "outputs": [
    {
     "data": {
      "text/plain": [
       "Loan ID                              0\n",
       "Customer ID                          0\n",
       "Loan Status                          0\n",
       "Current Loan Amount                  0\n",
       "Term                                 0\n",
       "Credit Score                         0\n",
       "Years in current job             10527\n",
       "Home Ownership                       0\n",
       "Annual Income                    61676\n",
       "Purpose                              0\n",
       "Monthly Debt                         0\n",
       "Years of Credit History              0\n",
       "Months since last delinquent    131685\n",
       "Number of Open Accounts              0\n",
       "Number of Credit Problems            0\n",
       "Current Credit Balance               0\n",
       "Maximum Open Credit                  0\n",
       "Bankruptcies                       505\n",
       "Tax Liens                           23\n",
       "dtype: int64"
      ]
     },
     "execution_count": 24,
     "metadata": {},
     "output_type": "execute_result"
    }
   ],
   "source": [
    "df.isnull().sum()"
   ]
  },
  {
   "cell_type": "code",
   "execution_count": 25,
   "id": "61f49add",
   "metadata": {},
   "outputs": [
    {
     "data": {
      "text/html": [
       "<div>\n",
       "<style scoped>\n",
       "    .dataframe tbody tr th:only-of-type {\n",
       "        vertical-align: middle;\n",
       "    }\n",
       "\n",
       "    .dataframe tbody tr th {\n",
       "        vertical-align: top;\n",
       "    }\n",
       "\n",
       "    .dataframe thead th {\n",
       "        text-align: right;\n",
       "    }\n",
       "</style>\n",
       "<table border=\"1\" class=\"dataframe\">\n",
       "  <thead>\n",
       "    <tr style=\"text-align: right;\">\n",
       "      <th></th>\n",
       "      <th>Years in current job</th>\n",
       "    </tr>\n",
       "  </thead>\n",
       "  <tbody>\n",
       "    <tr>\n",
       "      <th>0</th>\n",
       "      <td>10+ years</td>\n",
       "    </tr>\n",
       "    <tr>\n",
       "      <th>1</th>\n",
       "      <td>4 years</td>\n",
       "    </tr>\n",
       "    <tr>\n",
       "      <th>2</th>\n",
       "      <td>10+ years</td>\n",
       "    </tr>\n",
       "    <tr>\n",
       "      <th>3</th>\n",
       "      <td>10+ years</td>\n",
       "    </tr>\n",
       "    <tr>\n",
       "      <th>4</th>\n",
       "      <td>4 years</td>\n",
       "    </tr>\n",
       "    <tr>\n",
       "      <th>...</th>\n",
       "      <td>...</td>\n",
       "    </tr>\n",
       "    <tr>\n",
       "      <th>256978</th>\n",
       "      <td>10+ years</td>\n",
       "    </tr>\n",
       "    <tr>\n",
       "      <th>256979</th>\n",
       "      <td>2 years</td>\n",
       "    </tr>\n",
       "    <tr>\n",
       "      <th>256980</th>\n",
       "      <td>10+ years</td>\n",
       "    </tr>\n",
       "    <tr>\n",
       "      <th>256982</th>\n",
       "      <td>9 years</td>\n",
       "    </tr>\n",
       "    <tr>\n",
       "      <th>256983</th>\n",
       "      <td>10+ years</td>\n",
       "    </tr>\n",
       "  </tbody>\n",
       "</table>\n",
       "<p>240797 rows × 1 columns</p>\n",
       "</div>"
      ],
      "text/plain": [
       "       Years in current job\n",
       "0                 10+ years\n",
       "1                   4 years\n",
       "2                 10+ years\n",
       "3                 10+ years\n",
       "4                   4 years\n",
       "...                     ...\n",
       "256978            10+ years\n",
       "256979              2 years\n",
       "256980            10+ years\n",
       "256982              9 years\n",
       "256983            10+ years\n",
       "\n",
       "[240797 rows x 1 columns]"
      ]
     },
     "execution_count": 25,
     "metadata": {},
     "output_type": "execute_result"
    }
   ],
   "source": [
    "df[[\"Years in current job\"]]\n",
    "# datatype is object, turn into int"
   ]
  },
  {
   "cell_type": "code",
   "execution_count": 26,
   "id": "80d79a7d",
   "metadata": {},
   "outputs": [],
   "source": [
    "#remove punctiation\n",
    "df['Years in current job'].replace('[^0-9]',\"\",inplace=True,regex=True)"
   ]
  },
  {
   "cell_type": "code",
   "execution_count": 27,
   "id": "baff1c6c",
   "metadata": {},
   "outputs": [],
   "source": [
    "# fill empty rows with 0 so that we can turn into integer\n",
    "df[\"Years in current job\"].fillna(\"0\", inplace=True)"
   ]
  },
  {
   "cell_type": "code",
   "execution_count": 28,
   "id": "495b3f87",
   "metadata": {
    "scrolled": true
   },
   "outputs": [],
   "source": [
    "# turn \"Years in current job\" from object to int\n",
    "df[\"Years in current job\"] = df[\"Years in current job\"].astype(int)"
   ]
  },
  {
   "cell_type": "code",
   "execution_count": 29,
   "id": "7ea36859",
   "metadata": {},
   "outputs": [
    {
     "name": "stdout",
     "output_type": "stream",
     "text": [
      "<class 'pandas.core.frame.DataFrame'>\n",
      "Int64Index: 240797 entries, 0 to 256983\n",
      "Data columns (total 19 columns):\n",
      " #   Column                        Non-Null Count   Dtype  \n",
      "---  ------                        --------------   -----  \n",
      " 0   Loan ID                       240797 non-null  object \n",
      " 1   Customer ID                   240797 non-null  object \n",
      " 2   Loan Status                   240797 non-null  object \n",
      " 3   Current Loan Amount           240797 non-null  int64  \n",
      " 4   Term                          240797 non-null  object \n",
      " 5   Credit Score                  240797 non-null  float64\n",
      " 6   Years in current job          240797 non-null  int32  \n",
      " 7   Home Ownership                240797 non-null  object \n",
      " 8   Annual Income                 179121 non-null  float64\n",
      " 9   Purpose                       240797 non-null  object \n",
      " 10  Monthly Debt                  240797 non-null  object \n",
      " 11  Years of Credit History       240797 non-null  float64\n",
      " 12  Months since last delinquent  109112 non-null  float64\n",
      " 13  Number of Open Accounts       240797 non-null  int64  \n",
      " 14  Number of Credit Problems     240797 non-null  int64  \n",
      " 15  Current Credit Balance        240797 non-null  int64  \n",
      " 16  Maximum Open Credit           240797 non-null  object \n",
      " 17  Bankruptcies                  240292 non-null  float64\n",
      " 18  Tax Liens                     240774 non-null  float64\n",
      "dtypes: float64(6), int32(1), int64(4), object(8)\n",
      "memory usage: 35.8+ MB\n"
     ]
    }
   ],
   "source": [
    "df.info()"
   ]
  },
  {
   "cell_type": "code",
   "execution_count": 30,
   "id": "2db00541",
   "metadata": {},
   "outputs": [
    {
     "data": {
      "text/plain": [
       "Loan ID                              0\n",
       "Customer ID                          0\n",
       "Loan Status                          0\n",
       "Current Loan Amount                  0\n",
       "Term                                 0\n",
       "Credit Score                         0\n",
       "Years in current job                 0\n",
       "Home Ownership                       0\n",
       "Annual Income                    61676\n",
       "Purpose                              0\n",
       "Monthly Debt                         0\n",
       "Years of Credit History              0\n",
       "Months since last delinquent    131685\n",
       "Number of Open Accounts              0\n",
       "Number of Credit Problems            0\n",
       "Current Credit Balance               0\n",
       "Maximum Open Credit                  0\n",
       "Bankruptcies                       505\n",
       "Tax Liens                           23\n",
       "dtype: int64"
      ]
     },
     "execution_count": 30,
     "metadata": {},
     "output_type": "execute_result"
    }
   ],
   "source": [
    "df.isnull().sum()\n",
    "# now years in current job is not null and integer"
   ]
  },
  {
   "cell_type": "code",
   "execution_count": 31,
   "id": "c7d8fe18",
   "metadata": {},
   "outputs": [],
   "source": [
    "# replce 0's with mean value of \"Years in current job\" to provide better answer\n",
    "df[\"Years in current job\"] = df['Years in current job'].replace(\"0\",df['Years in current job'].mean())"
   ]
  },
  {
   "cell_type": "code",
   "execution_count": 32,
   "id": "70e405c9",
   "metadata": {},
   "outputs": [
    {
     "data": {
      "image/png": "[encoded data removed]",
      "text/plain": [
       "<Figure size 432x288 with 1 Axes>"
      ]
     },
     "metadata": {
      "needs_background": "light"
     },
     "output_type": "display_data"
    }
   ],
   "source": [
    "sns.countplot(x=df[\"Years in current job\"]);"
   ]
  },
  {
   "cell_type": "code",
   "execution_count": 33,
   "id": "e72450cb",
   "metadata": {},
   "outputs": [
    {
     "data": {
      "image/png": "[encoded data removed]",
      "text/plain": [
       "<Figure size 432x288 with 1 Axes>"
      ]
     },
     "metadata": {
      "needs_background": "light"
     },
     "output_type": "display_data"
    }
   ],
   "source": [
    "sns.distplot(df['Annual Income']);"
   ]
  },
  {
   "cell_type": "code",
   "execution_count": 34,
   "id": "7223ed6d",
   "metadata": {},
   "outputs": [],
   "source": [
    "# fill empty rows with Annual income mean value\n",
    "df['Annual Income'].fillna(df[\"Annual Income\"].mean(),inplace=True)"
   ]
  },
  {
   "cell_type": "code",
   "execution_count": 35,
   "id": "f979cc6c",
   "metadata": {},
   "outputs": [
    {
     "data": {
      "image/png": "[encoded data removed]",
      "text/plain": [
       "<Figure size 432x288 with 1 Axes>"
      ]
     },
     "metadata": {
      "needs_background": "light"
     },
     "output_type": "display_data"
    }
   ],
   "source": [
    "sns.distplot(df['Annual Income']);"
   ]
  },
  {
   "cell_type": "code",
   "execution_count": 36,
   "id": "abcf8c3b",
   "metadata": {},
   "outputs": [
    {
     "data": {
      "image/png": "[encoded data removed]",
      "text/plain": [
       "<Figure size 432x288 with 1 Axes>"
      ]
     },
     "metadata": {
      "needs_background": "light"
     },
     "output_type": "display_data"
    }
   ],
   "source": [
    "sns.distplot(df['Months since last delinquent']);"
   ]
  },
  {
   "cell_type": "code",
   "execution_count": 37,
   "id": "753286e3",
   "metadata": {},
   "outputs": [],
   "source": [
    "# fill empty rows with mean value and turn into integer\n",
    "df[\"Months since last delinquent\"].fillna(df[\"Months since last delinquent\"].mean(),inplace=True)\n",
    "df[\"Months since last delinquent\"] = df[\"Months since last delinquent\"].astype(int)"
   ]
  },
  {
   "cell_type": "code",
   "execution_count": 38,
   "id": "6ca02321",
   "metadata": {},
   "outputs": [
    {
     "data": {
      "image/png": "[encoded data removed]",
      "text/plain": [
       "<Figure size 432x288 with 1 Axes>"
      ]
     },
     "metadata": {
      "needs_background": "light"
     },
     "output_type": "display_data"
    }
   ],
   "source": [
    "sns.distplot(df['Months since last delinquent']);"
   ]
  },
  {
   "cell_type": "code",
   "execution_count": 39,
   "id": "64f38160",
   "metadata": {},
   "outputs": [],
   "source": [
    "# ignore the values above 80\n",
    "df=df[df[\"Months since last delinquent\"]<80]"
   ]
  },
  {
   "cell_type": "code",
   "execution_count": 40,
   "id": "ffe281b4",
   "metadata": {},
   "outputs": [
    {
     "data": {
      "image/png": "[encoded data removed]",
      "text/plain": [
       "<Figure size 432x288 with 1 Axes>"
      ]
     },
     "metadata": {
      "needs_background": "light"
     },
     "output_type": "display_data"
    }
   ],
   "source": [
    "sns.distplot(df['Months since last delinquent']);"
   ]
  },
  {
   "cell_type": "code",
   "execution_count": 41,
   "id": "7afe85f9",
   "metadata": {},
   "outputs": [
    {
     "data": {
      "text/plain": [
       "<AxesSubplot:xlabel='Bankruptcies', ylabel='Count'>"
      ]
     },
     "execution_count": 41,
     "metadata": {},
     "output_type": "execute_result"
    },
    {
     "data": {
      "image/png": "[encoded data removed]",
      "text/plain": [
       "<Figure size 432x288 with 1 Axes>"
      ]
     },
     "metadata": {
      "needs_background": "light"
     },
     "output_type": "display_data"
    }
   ],
   "source": [
    "sns.histplot(df['Bankruptcies'])"
   ]
  },
  {
   "cell_type": "code",
   "execution_count": 42,
   "id": "32ceac8b",
   "metadata": {},
   "outputs": [],
   "source": [
    "# fill empty rows with mean value and turn into integer\n",
    "df[\"Bankruptcies\"].fillna(df[\"Bankruptcies\"].mean(),inplace=True)\n",
    "df[\"Bankruptcies\"] = df[\"Bankruptcies\"].astype(int)"
   ]
  },
  {
   "cell_type": "code",
   "execution_count": 43,
   "id": "5d9c3a1b",
   "metadata": {
    "scrolled": false
   },
   "outputs": [
    {
     "data": {
      "text/plain": [
       "<AxesSubplot:xlabel='Bankruptcies', ylabel='Count'>"
      ]
     },
     "execution_count": 43,
     "metadata": {},
     "output_type": "execute_result"
    },
    {
     "data": {
      "image/png": "[encoded data removed]",
      "text/plain": [
       "<Figure size 432x288 with 1 Axes>"
      ]
     },
     "metadata": {
      "needs_background": "light"
     },
     "output_type": "display_data"
    }
   ],
   "source": [
    "sns.histplot(df['Bankruptcies'])"
   ]
  },
  {
   "cell_type": "code",
   "execution_count": 44,
   "id": "8de2e3b1",
   "metadata": {},
   "outputs": [],
   "source": [
    "# ignore the values above 3\n",
    "df=df[df[\"Bankruptcies\"]<3]"
   ]
  },
  {
   "cell_type": "code",
   "execution_count": 45,
   "id": "270b2cb7",
   "metadata": {},
   "outputs": [
    {
     "data": {
      "text/plain": [
       "<AxesSubplot:xlabel='Bankruptcies', ylabel='Count'>"
      ]
     },
     "execution_count": 45,
     "metadata": {},
     "output_type": "execute_result"
    },
    {
     "data": {
      "image/png": "[encoded data removed]",
      "text/plain": [
       "<Figure size 432x288 with 1 Axes>"
      ]
     },
     "metadata": {
      "needs_background": "light"
     },
     "output_type": "display_data"
    }
   ],
   "source": [
    "sns.histplot(df['Bankruptcies'])"
   ]
  },
  {
   "cell_type": "code",
   "execution_count": 46,
   "id": "c3b67902",
   "metadata": {},
   "outputs": [
    {
     "data": {
      "text/plain": [
       "<AxesSubplot:xlabel='Tax Liens', ylabel='Count'>"
      ]
     },
     "execution_count": 46,
     "metadata": {},
     "output_type": "execute_result"
    },
    {
     "data": {
      "image/png": "[encoded data removed]",
      "text/plain": [
       "<Figure size 432x288 with 1 Axes>"
      ]
     },
     "metadata": {
      "needs_background": "light"
     },
     "output_type": "display_data"
    }
   ],
   "source": [
    "sns.histplot(df['Tax Liens'])"
   ]
  },
  {
   "cell_type": "code",
   "execution_count": 47,
   "id": "eb5b4281",
   "metadata": {},
   "outputs": [],
   "source": [
    "# fill empty rows with mean value and turn into integer\n",
    "df[\"Tax Liens\"].fillna(df[\"Tax Liens\"].mean(),inplace=True)\n",
    "df[\"Tax Liens\"] = df[\"Tax Liens\"].astype(int)"
   ]
  },
  {
   "cell_type": "code",
   "execution_count": 48,
   "id": "8e1aad07",
   "metadata": {},
   "outputs": [
    {
     "data": {
      "text/plain": [
       "<AxesSubplot:xlabel='Tax Liens', ylabel='Count'>"
      ]
     },
     "execution_count": 48,
     "metadata": {},
     "output_type": "execute_result"
    },
    {
     "data": {
      "image/png": "[encoded data removed]",
      "text/plain": [
       "<Figure size 432x288 with 1 Axes>"
      ]
     },
     "metadata": {
      "needs_background": "light"
     },
     "output_type": "display_data"
    }
   ],
   "source": [
    "sns.histplot(df['Tax Liens'])"
   ]
  },
  {
   "cell_type": "code",
   "execution_count": 49,
   "id": "41034095",
   "metadata": {},
   "outputs": [],
   "source": [
    "# ignore the values above 3\n",
    "df=df[df[\"Tax Liens\"]<3]"
   ]
  },
  {
   "cell_type": "code",
   "execution_count": 50,
   "id": "c2f10ae5",
   "metadata": {},
   "outputs": [
    {
     "data": {
      "text/plain": [
       "<AxesSubplot:xlabel='Tax Liens', ylabel='Count'>"
      ]
     },
     "execution_count": 50,
     "metadata": {},
     "output_type": "execute_result"
    },
    {
     "data": {
      "image/png": "[encoded data removed]",
      "text/plain": [
       "<Figure size 432x288 with 1 Axes>"
      ]
     },
     "metadata": {
      "needs_background": "light"
     },
     "output_type": "display_data"
    }
   ],
   "source": [
    "sns.histplot(df['Tax Liens'])"
   ]
  },
  {
   "cell_type": "code",
   "execution_count": 51,
   "id": "5a613cff",
   "metadata": {
    "scrolled": true
   },
   "outputs": [
    {
     "data": {
      "text/html": [
       "<div>\n",
       "<style scoped>\n",
       "    .dataframe tbody tr th:only-of-type {\n",
       "        vertical-align: middle;\n",
       "    }\n",
       "\n",
       "    .dataframe tbody tr th {\n",
       "        vertical-align: top;\n",
       "    }\n",
       "\n",
       "    .dataframe thead th {\n",
       "        text-align: right;\n",
       "    }\n",
       "</style>\n",
       "<table border=\"1\" class=\"dataframe\">\n",
       "  <thead>\n",
       "    <tr style=\"text-align: right;\">\n",
       "      <th></th>\n",
       "      <th>Loan ID</th>\n",
       "      <th>Customer ID</th>\n",
       "      <th>Loan Status</th>\n",
       "      <th>Current Loan Amount</th>\n",
       "      <th>Term</th>\n",
       "      <th>Credit Score</th>\n",
       "      <th>Years in current job</th>\n",
       "      <th>Home Ownership</th>\n",
       "      <th>Annual Income</th>\n",
       "      <th>Purpose</th>\n",
       "      <th>Monthly Debt</th>\n",
       "      <th>Years of Credit History</th>\n",
       "      <th>Months since last delinquent</th>\n",
       "      <th>Number of Open Accounts</th>\n",
       "      <th>Number of Credit Problems</th>\n",
       "      <th>Current Credit Balance</th>\n",
       "      <th>Maximum Open Credit</th>\n",
       "      <th>Bankruptcies</th>\n",
       "      <th>Tax Liens</th>\n",
       "    </tr>\n",
       "  </thead>\n",
       "  <tbody>\n",
       "    <tr>\n",
       "      <th>196028</th>\n",
       "      <td>c2ec1b12-49aa-4bfd-9453-2c103fa3c8e9</td>\n",
       "      <td>a70f0f8d-fc4d-4c77-b4bb-e706b4841a5d</td>\n",
       "      <td>Fully Paid</td>\n",
       "      <td>14316</td>\n",
       "      <td>Long Term</td>\n",
       "      <td>689.000000</td>\n",
       "      <td>4</td>\n",
       "      <td>Home Mortgage</td>\n",
       "      <td>147254.000000</td>\n",
       "      <td>Debt Consolidation</td>\n",
       "      <td>$2,932.82</td>\n",
       "      <td>24.5</td>\n",
       "      <td>34</td>\n",
       "      <td>18</td>\n",
       "      <td>0</td>\n",
       "      <td>40151</td>\n",
       "      <td>58530</td>\n",
       "      <td>0</td>\n",
       "      <td>0</td>\n",
       "    </tr>\n",
       "    <tr>\n",
       "      <th>222352</th>\n",
       "      <td>dd4515fb-dd98-4dab-97d6-41a696f1f558</td>\n",
       "      <td>a617386a-70a7-46ff-8c55-324e78f645fc</td>\n",
       "      <td>Fully Paid</td>\n",
       "      <td>17611</td>\n",
       "      <td>Long Term</td>\n",
       "      <td>1251.116099</td>\n",
       "      <td>10</td>\n",
       "      <td>Home Mortgage</td>\n",
       "      <td>72535.550103</td>\n",
       "      <td>Debt Consolidation</td>\n",
       "      <td>$1,086.02</td>\n",
       "      <td>23.9</td>\n",
       "      <td>34</td>\n",
       "      <td>12</td>\n",
       "      <td>1</td>\n",
       "      <td>21038</td>\n",
       "      <td>26036</td>\n",
       "      <td>1</td>\n",
       "      <td>0</td>\n",
       "    </tr>\n",
       "    <tr>\n",
       "      <th>62257</th>\n",
       "      <td>3dfad188-9fd1-4794-8076-e43192ef66d2</td>\n",
       "      <td>383cc219-636d-4535-9f7b-ec1af0b03d5e</td>\n",
       "      <td>Fully Paid</td>\n",
       "      <td>99999999</td>\n",
       "      <td>Short Term</td>\n",
       "      <td>733.000000</td>\n",
       "      <td>2</td>\n",
       "      <td>Rent</td>\n",
       "      <td>44555.000000</td>\n",
       "      <td>Debt Consolidation</td>\n",
       "      <td>$597.77</td>\n",
       "      <td>6.6</td>\n",
       "      <td>11</td>\n",
       "      <td>11</td>\n",
       "      <td>0</td>\n",
       "      <td>8490</td>\n",
       "      <td>13455</td>\n",
       "      <td>0</td>\n",
       "      <td>0</td>\n",
       "    </tr>\n",
       "    <tr>\n",
       "      <th>10739</th>\n",
       "      <td>0ab21b00-3639-430b-baf1-24a359c9bcaa</td>\n",
       "      <td>ad46e7d1-75bd-43c7-8e29-49fe03ae467b</td>\n",
       "      <td>Fully Paid</td>\n",
       "      <td>1227</td>\n",
       "      <td>Short Term</td>\n",
       "      <td>737.000000</td>\n",
       "      <td>10</td>\n",
       "      <td>Home Mortgage</td>\n",
       "      <td>81784.000000</td>\n",
       "      <td>Debt Consolidation</td>\n",
       "      <td>$872.36</td>\n",
       "      <td>19.5</td>\n",
       "      <td>34</td>\n",
       "      <td>13</td>\n",
       "      <td>0</td>\n",
       "      <td>24466</td>\n",
       "      <td>51398</td>\n",
       "      <td>0</td>\n",
       "      <td>0</td>\n",
       "    </tr>\n",
       "    <tr>\n",
       "      <th>191918</th>\n",
       "      <td>bedc301d-02c7-4071-9803-d5b6dba4ba0b</td>\n",
       "      <td>4631f2fa-bcd0-4e42-9e5c-c1e83f3ece8c</td>\n",
       "      <td>Fully Paid</td>\n",
       "      <td>99999999</td>\n",
       "      <td>Short Term</td>\n",
       "      <td>710.000000</td>\n",
       "      <td>5</td>\n",
       "      <td>Home Mortgage</td>\n",
       "      <td>54874.000000</td>\n",
       "      <td>Debt Consolidation</td>\n",
       "      <td>$273.45</td>\n",
       "      <td>16.8</td>\n",
       "      <td>73</td>\n",
       "      <td>7</td>\n",
       "      <td>0</td>\n",
       "      <td>7221</td>\n",
       "      <td>10171</td>\n",
       "      <td>0</td>\n",
       "      <td>0</td>\n",
       "    </tr>\n",
       "  </tbody>\n",
       "</table>\n",
       "</div>"
      ],
      "text/plain": [
       "                                     Loan ID  \\\n",
       "196028  c2ec1b12-49aa-4bfd-9453-2c103fa3c8e9   \n",
       "222352  dd4515fb-dd98-4dab-97d6-41a696f1f558   \n",
       "62257   3dfad188-9fd1-4794-8076-e43192ef66d2   \n",
       "10739   0ab21b00-3639-430b-baf1-24a359c9bcaa   \n",
       "191918  bedc301d-02c7-4071-9803-d5b6dba4ba0b   \n",
       "\n",
       "                                 Customer ID Loan Status  Current Loan Amount  \\\n",
       "196028  a70f0f8d-fc4d-4c77-b4bb-e706b4841a5d  Fully Paid                14316   \n",
       "222352  a617386a-70a7-46ff-8c55-324e78f645fc  Fully Paid                17611   \n",
       "62257   383cc219-636d-4535-9f7b-ec1af0b03d5e  Fully Paid             99999999   \n",
       "10739   ad46e7d1-75bd-43c7-8e29-49fe03ae467b  Fully Paid                 1227   \n",
       "191918  4631f2fa-bcd0-4e42-9e5c-c1e83f3ece8c  Fully Paid             99999999   \n",
       "\n",
       "              Term  Credit Score  Years in current job Home Ownership  \\\n",
       "196028   Long Term    689.000000                     4  Home Mortgage   \n",
       "222352   Long Term   1251.116099                    10  Home Mortgage   \n",
       "62257   Short Term    733.000000                     2           Rent   \n",
       "10739   Short Term    737.000000                    10  Home Mortgage   \n",
       "191918  Short Term    710.000000                     5  Home Mortgage   \n",
       "\n",
       "        Annual Income             Purpose Monthly Debt  \\\n",
       "196028  147254.000000  Debt Consolidation   $2,932.82    \n",
       "222352   72535.550103  Debt Consolidation   $1,086.02    \n",
       "62257    44555.000000  Debt Consolidation      $597.77   \n",
       "10739    81784.000000  Debt Consolidation      $872.36   \n",
       "191918   54874.000000  Debt Consolidation      $273.45   \n",
       "\n",
       "        Years of Credit History  Months since last delinquent  \\\n",
       "196028                     24.5                            34   \n",
       "222352                     23.9                            34   \n",
       "62257                       6.6                            11   \n",
       "10739                      19.5                            34   \n",
       "191918                     16.8                            73   \n",
       "\n",
       "        Number of Open Accounts  Number of Credit Problems  \\\n",
       "196028                       18                          0   \n",
       "222352                       12                          1   \n",
       "62257                        11                          0   \n",
       "10739                        13                          0   \n",
       "191918                        7                          0   \n",
       "\n",
       "        Current Credit Balance Maximum Open Credit  Bankruptcies  Tax Liens  \n",
       "196028                   40151               58530             0          0  \n",
       "222352                   21038               26036             1          0  \n",
       "62257                     8490               13455             0          0  \n",
       "10739                    24466               51398             0          0  \n",
       "191918                    7221               10171             0          0  "
      ]
     },
     "execution_count": 51,
     "metadata": {},
     "output_type": "execute_result"
    }
   ],
   "source": [
    "df.sample(5)"
   ]
  },
  {
   "cell_type": "code",
   "execution_count": 52,
   "id": "44c9aa90",
   "metadata": {},
   "outputs": [],
   "source": [
    "#remove punctiation\n",
    "df['Monthly Debt'].replace('[^0-9.]','',inplace=True,regex=True)\n",
    "# convert Monthly Debt to float\n",
    "df['Monthly Debt']=df['Monthly Debt'].astype(float)"
   ]
  },
  {
   "cell_type": "code",
   "execution_count": 53,
   "id": "4dccabb3",
   "metadata": {},
   "outputs": [
    {
     "data": {
      "image/png": "[encoded data removed]",
      "text/plain": [
       "<Figure size 432x288 with 1 Axes>"
      ]
     },
     "metadata": {
      "needs_background": "light"
     },
     "output_type": "display_data"
    }
   ],
   "source": [
    "sns.histplot(df['Monthly Debt']);"
   ]
  },
  {
   "cell_type": "code",
   "execution_count": 54,
   "id": "3409acb2",
   "metadata": {},
   "outputs": [],
   "source": [
    "#ignore values over 5000\n",
    "df=df[df['Monthly Debt']<5000]"
   ]
  },
  {
   "cell_type": "code",
   "execution_count": 55,
   "id": "16f22a3f",
   "metadata": {
    "scrolled": true
   },
   "outputs": [
    {
     "data": {
      "image/png": "[encoded data removed]",
      "text/plain": [
       "<Figure size 432x288 with 1 Axes>"
      ]
     },
     "metadata": {
      "needs_background": "light"
     },
     "output_type": "display_data"
    }
   ],
   "source": [
    "sns.histplot(df['Monthly Debt']);"
   ]
  },
  {
   "cell_type": "code",
   "execution_count": 56,
   "id": "72494d56",
   "metadata": {},
   "outputs": [],
   "source": [
    "# replace symbols with zero and turn 'Maximum open Credit' to integer\n",
    "df['Maximum Open Credit'].replace('[a-zA-Z@_!#$%^&*()<>?/\\|}{~:]',\"0\",inplace=True,regex=True)\n",
    "df[\"Maximum Open Credit\"]=df[\"Maximum Open Credit\"].astype(int)"
   ]
  },
  {
   "cell_type": "code",
   "execution_count": 57,
   "id": "a4792806",
   "metadata": {
    "scrolled": false
   },
   "outputs": [
    {
     "data": {
      "text/plain": [
       "Loan ID                         0\n",
       "Customer ID                     0\n",
       "Loan Status                     0\n",
       "Current Loan Amount             0\n",
       "Term                            0\n",
       "Credit Score                    0\n",
       "Years in current job            0\n",
       "Home Ownership                  0\n",
       "Annual Income                   0\n",
       "Purpose                         0\n",
       "Monthly Debt                    0\n",
       "Years of Credit History         0\n",
       "Months since last delinquent    0\n",
       "Number of Open Accounts         0\n",
       "Number of Credit Problems       0\n",
       "Current Credit Balance          0\n",
       "Maximum Open Credit             0\n",
       "Bankruptcies                    0\n",
       "Tax Liens                       0\n",
       "dtype: int64"
      ]
     },
     "execution_count": 57,
     "metadata": {},
     "output_type": "execute_result"
    }
   ],
   "source": [
    "df.isnull().sum()\n",
    "#now all columns ar not empty and the right Datatype"
   ]
  },
  {
   "cell_type": "code",
   "execution_count": 58,
   "id": "bc6e1e76",
   "metadata": {},
   "outputs": [
    {
     "data": {
      "text/html": [
       "<div>\n",
       "<style scoped>\n",
       "    .dataframe tbody tr th:only-of-type {\n",
       "        vertical-align: middle;\n",
       "    }\n",
       "\n",
       "    .dataframe tbody tr th {\n",
       "        vertical-align: top;\n",
       "    }\n",
       "\n",
       "    .dataframe thead th {\n",
       "        text-align: right;\n",
       "    }\n",
       "</style>\n",
       "<table border=\"1\" class=\"dataframe\">\n",
       "  <thead>\n",
       "    <tr style=\"text-align: right;\">\n",
       "      <th></th>\n",
       "      <th>Loan ID</th>\n",
       "      <th>Customer ID</th>\n",
       "      <th>Loan Status</th>\n",
       "      <th>Term</th>\n",
       "      <th>Home Ownership</th>\n",
       "      <th>Purpose</th>\n",
       "    </tr>\n",
       "  </thead>\n",
       "  <tbody>\n",
       "    <tr>\n",
       "      <th>0</th>\n",
       "      <td>000025bb-5694-4cff-b17d-192b1a98ba44</td>\n",
       "      <td>5ebc8bb1-5eb9-4404-b11b-a6eebc401a19</td>\n",
       "      <td>Fully Paid</td>\n",
       "      <td>Short Term</td>\n",
       "      <td>Home Mortgage</td>\n",
       "      <td>Debt Consolidation</td>\n",
       "    </tr>\n",
       "    <tr>\n",
       "      <th>1</th>\n",
       "      <td>00002c49-3a29-4bd4-8f67-c8f8fbc1048c</td>\n",
       "      <td>927b388d-2e01-423f-a8dc-f7e42d668f46</td>\n",
       "      <td>Fully Paid</td>\n",
       "      <td>Short Term</td>\n",
       "      <td>Home Mortgage</td>\n",
       "      <td>other</td>\n",
       "    </tr>\n",
       "    <tr>\n",
       "      <th>2</th>\n",
       "      <td>00002d89-27f3-409b-aa76-90834f359a65</td>\n",
       "      <td>defce609-c631-447d-aad6-1270615e89c4</td>\n",
       "      <td>Fully Paid</td>\n",
       "      <td>Short Term</td>\n",
       "      <td>Home Mortgage</td>\n",
       "      <td>Debt Consolidation</td>\n",
       "    </tr>\n",
       "    <tr>\n",
       "      <th>3</th>\n",
       "      <td>00005222-b4d8-45a4-ad8c-186057e24233</td>\n",
       "      <td>070bcecb-aae7-4485-a26a-e0403e7bb6c5</td>\n",
       "      <td>Fully Paid</td>\n",
       "      <td>Short Term</td>\n",
       "      <td>Own Home</td>\n",
       "      <td>Debt Consolidation</td>\n",
       "    </tr>\n",
       "    <tr>\n",
       "      <th>4</th>\n",
       "      <td>0000757f-a121-41ed-b17b-162e76647c1f</td>\n",
       "      <td>dde79588-12f0-4811-bab0-e2b07f633fcd</td>\n",
       "      <td>Fully Paid</td>\n",
       "      <td>Short Term</td>\n",
       "      <td>Rent</td>\n",
       "      <td>Debt Consolidation</td>\n",
       "    </tr>\n",
       "    <tr>\n",
       "      <th>...</th>\n",
       "      <td>...</td>\n",
       "      <td>...</td>\n",
       "      <td>...</td>\n",
       "      <td>...</td>\n",
       "      <td>...</td>\n",
       "      <td>...</td>\n",
       "    </tr>\n",
       "    <tr>\n",
       "      <th>256976</th>\n",
       "      <td>fffe5140-8725-4fd1-b3bf-9e59cb7834eb</td>\n",
       "      <td>df856c29-ce44-4df7-94a6-bd758a1c1332</td>\n",
       "      <td>Charged Off</td>\n",
       "      <td>Short Term</td>\n",
       "      <td>Rent</td>\n",
       "      <td>Business Loan</td>\n",
       "    </tr>\n",
       "    <tr>\n",
       "      <th>256978</th>\n",
       "      <td>fffe84cf-67a1-468d-ab7b-cf06a9c4ee14</td>\n",
       "      <td>460c6cf5-4d12-4e3c-a3d0-46dd67c78cce</td>\n",
       "      <td>Charged Off</td>\n",
       "      <td>Short Term</td>\n",
       "      <td>Home Mortgage</td>\n",
       "      <td>Debt Consolidation</td>\n",
       "    </tr>\n",
       "    <tr>\n",
       "      <th>256979</th>\n",
       "      <td>fffef5b7-be99-4666-ac70-2a397d2ee435</td>\n",
       "      <td>7211a8e3-cba4-4132-b939-222eed8a662c</td>\n",
       "      <td>Fully Paid</td>\n",
       "      <td>Short Term</td>\n",
       "      <td>Rent</td>\n",
       "      <td>Debt Consolidation</td>\n",
       "    </tr>\n",
       "    <tr>\n",
       "      <th>256980</th>\n",
       "      <td>ffffca93-aa8c-4123-b8ff-7852f6df889a</td>\n",
       "      <td>616fef0c-8f09-4327-9b5c-48fcfaa52934</td>\n",
       "      <td>Fully Paid</td>\n",
       "      <td>Short Term</td>\n",
       "      <td>Own Home</td>\n",
       "      <td>Debt Consolidation</td>\n",
       "    </tr>\n",
       "    <tr>\n",
       "      <th>256983</th>\n",
       "      <td>ffffe32e-ed17-459f-9cfd-7b9ee7972933</td>\n",
       "      <td>97281336-1e45-41d2-acb2-263ce56a590e</td>\n",
       "      <td>Fully Paid</td>\n",
       "      <td>Long Term</td>\n",
       "      <td>Home Mortgage</td>\n",
       "      <td>Debt Consolidation</td>\n",
       "    </tr>\n",
       "  </tbody>\n",
       "</table>\n",
       "<p>238071 rows × 6 columns</p>\n",
       "</div>"
      ],
      "text/plain": [
       "                                     Loan ID  \\\n",
       "0       000025bb-5694-4cff-b17d-192b1a98ba44   \n",
       "1       00002c49-3a29-4bd4-8f67-c8f8fbc1048c   \n",
       "2       00002d89-27f3-409b-aa76-90834f359a65   \n",
       "3       00005222-b4d8-45a4-ad8c-186057e24233   \n",
       "4       0000757f-a121-41ed-b17b-162e76647c1f   \n",
       "...                                      ...   \n",
       "256976  fffe5140-8725-4fd1-b3bf-9e59cb7834eb   \n",
       "256978  fffe84cf-67a1-468d-ab7b-cf06a9c4ee14   \n",
       "256979  fffef5b7-be99-4666-ac70-2a397d2ee435   \n",
       "256980  ffffca93-aa8c-4123-b8ff-7852f6df889a   \n",
       "256983  ffffe32e-ed17-459f-9cfd-7b9ee7972933   \n",
       "\n",
       "                                 Customer ID  Loan Status        Term  \\\n",
       "0       5ebc8bb1-5eb9-4404-b11b-a6eebc401a19   Fully Paid  Short Term   \n",
       "1       927b388d-2e01-423f-a8dc-f7e42d668f46   Fully Paid  Short Term   \n",
       "2       defce609-c631-447d-aad6-1270615e89c4   Fully Paid  Short Term   \n",
       "3       070bcecb-aae7-4485-a26a-e0403e7bb6c5   Fully Paid  Short Term   \n",
       "4       dde79588-12f0-4811-bab0-e2b07f633fcd   Fully Paid  Short Term   \n",
       "...                                      ...          ...         ...   \n",
       "256976  df856c29-ce44-4df7-94a6-bd758a1c1332  Charged Off  Short Term   \n",
       "256978  460c6cf5-4d12-4e3c-a3d0-46dd67c78cce  Charged Off  Short Term   \n",
       "256979  7211a8e3-cba4-4132-b939-222eed8a662c   Fully Paid  Short Term   \n",
       "256980  616fef0c-8f09-4327-9b5c-48fcfaa52934   Fully Paid  Short Term   \n",
       "256983  97281336-1e45-41d2-acb2-263ce56a590e   Fully Paid   Long Term   \n",
       "\n",
       "       Home Ownership             Purpose  \n",
       "0       Home Mortgage  Debt Consolidation  \n",
       "1       Home Mortgage               other  \n",
       "2       Home Mortgage  Debt Consolidation  \n",
       "3            Own Home  Debt Consolidation  \n",
       "4                Rent  Debt Consolidation  \n",
       "...               ...                 ...  \n",
       "256976           Rent       Business Loan  \n",
       "256978  Home Mortgage  Debt Consolidation  \n",
       "256979           Rent  Debt Consolidation  \n",
       "256980       Own Home  Debt Consolidation  \n",
       "256983  Home Mortgage  Debt Consolidation  \n",
       "\n",
       "[238071 rows x 6 columns]"
      ]
     },
     "execution_count": 58,
     "metadata": {},
     "output_type": "execute_result"
    }
   ],
   "source": [
    "# show datatype objects\n",
    "df.select_dtypes(\"object_\")"
   ]
  },
  {
   "cell_type": "code",
   "execution_count": 59,
   "id": "f3ef144f",
   "metadata": {},
   "outputs": [
    {
     "data": {
      "text/plain": [
       "Debt Consolidation      188924\n",
       "Home Improvements        13883\n",
       "other                    13120\n",
       "Other                     9045\n",
       "Business Loan             4222\n",
       "Buy a Car                 3105\n",
       "Medical Bills             2636\n",
       "Take a Trip               1465\n",
       "Buy House                 1418\n",
       "Educational Expenses       253\n",
       "Name: Purpose, dtype: int64"
      ]
     },
     "execution_count": 59,
     "metadata": {},
     "output_type": "execute_result"
    }
   ],
   "source": [
    "df[\"Purpose\"].value_counts()\n",
    "#we can see that there are two \"other\", \"Other\", probaly written accidentaly wrong"
   ]
  },
  {
   "cell_type": "code",
   "execution_count": 60,
   "id": "67bcb36f",
   "metadata": {},
   "outputs": [],
   "source": [
    "#combine the two \"other\", \"Other\" values\n",
    "df[\"Purpose\"].replace(\"other\",\"Other\",inplace=True)"
   ]
  },
  {
   "cell_type": "code",
   "execution_count": 61,
   "id": "46e2c5d7",
   "metadata": {},
   "outputs": [
    {
     "data": {
      "text/plain": [
       "Debt Consolidation      188924\n",
       "Other                    22165\n",
       "Home Improvements        13883\n",
       "Business Loan             4222\n",
       "Buy a Car                 3105\n",
       "Medical Bills             2636\n",
       "Take a Trip               1465\n",
       "Buy House                 1418\n",
       "Educational Expenses       253\n",
       "Name: Purpose, dtype: int64"
      ]
     },
     "execution_count": 61,
     "metadata": {},
     "output_type": "execute_result"
    }
   ],
   "source": [
    "df[\"Purpose\"].value_counts()"
   ]
  },
  {
   "cell_type": "code",
   "execution_count": 62,
   "id": "2898cbdd",
   "metadata": {},
   "outputs": [
    {
     "data": {
      "image/png": "[encoded data removed]",
      "text/plain": [
       "<Figure size 432x288 with 1 Axes>"
      ]
     },
     "metadata": {
      "needs_background": "light"
     },
     "output_type": "display_data"
    }
   ],
   "source": [
    "ax=sns.countplot(x=df['Purpose'])\n",
    "plt.xticks(rotation=90);\n",
    "ax.bar_label(ax.containers[0]);"
   ]
  },
  {
   "cell_type": "code",
   "execution_count": 63,
   "id": "a52299d6",
   "metadata": {},
   "outputs": [
    {
     "data": {
      "text/plain": [
       "Home Mortgage    116014\n",
       "Rent             100352\n",
       "Own Home          21168\n",
       "HaveMortgage        537\n",
       "Name: Home Ownership, dtype: int64"
      ]
     },
     "execution_count": 63,
     "metadata": {},
     "output_type": "execute_result"
    }
   ],
   "source": [
    "df[\"Home Ownership\"].value_counts()\n",
    "#we can assume that \"HaveMortgage\" is the same the \"Home Mortgage\""
   ]
  },
  {
   "cell_type": "code",
   "execution_count": 64,
   "id": "4687ede6",
   "metadata": {},
   "outputs": [],
   "source": [
    "#combine the two Mortgages\n",
    "df['Home Ownership'].replace(\"Home Mortgage\",\"HaveMortgage\",inplace=True)"
   ]
  },
  {
   "cell_type": "code",
   "execution_count": 65,
   "id": "566fe5ac",
   "metadata": {},
   "outputs": [
    {
     "data": {
      "image/png": "[encoded data removed]",
      "text/plain": [
       "<Figure size 432x288 with 1 Axes>"
      ]
     },
     "metadata": {
      "needs_background": "light"
     },
     "output_type": "display_data"
    }
   ],
   "source": [
    "ax=sns.countplot(x=df['Home Ownership'])\n",
    "ax.bar_label(ax.containers[0]);"
   ]
  },
  {
   "cell_type": "code",
   "execution_count": 66,
   "id": "d1522979",
   "metadata": {},
   "outputs": [
    {
     "data": {
      "text/plain": [
       "Short Term    180219\n",
       "Long Term      57852\n",
       "Name: Term, dtype: int64"
      ]
     },
     "execution_count": 66,
     "metadata": {},
     "output_type": "execute_result"
    }
   ],
   "source": [
    "df['Term'].value_counts()"
   ]
  },
  {
   "cell_type": "code",
   "execution_count": 67,
   "id": "90b2fccf",
   "metadata": {},
   "outputs": [
    {
     "data": {
      "image/png": "[encoded data removed]",
      "text/plain": [
       "<Figure size 432x288 with 1 Axes>"
      ]
     },
     "metadata": {
      "needs_background": "light"
     },
     "output_type": "display_data"
    }
   ],
   "source": [
    "ax=sns.countplot(x=df[\"Term\"])\n",
    "ax.bar_label(ax.containers[0]);"
   ]
  },
  {
   "cell_type": "code",
   "execution_count": 68,
   "id": "ffc46a8c",
   "metadata": {},
   "outputs": [
    {
     "data": {
      "text/plain": [
       "Fully Paid     174282\n",
       "Charged Off     63789\n",
       "Name: Loan Status, dtype: int64"
      ]
     },
     "execution_count": 68,
     "metadata": {},
     "output_type": "execute_result"
    }
   ],
   "source": [
    "df['Loan Status'].value_counts()"
   ]
  },
  {
   "cell_type": "code",
   "execution_count": 69,
   "id": "d93b4080",
   "metadata": {},
   "outputs": [
    {
     "data": {
      "image/png": "[encoded data removed]",
      "text/plain": [
       "<Figure size 432x288 with 1 Axes>"
      ]
     },
     "metadata": {
      "needs_background": "light"
     },
     "output_type": "display_data"
    }
   ],
   "source": [
    "ax=sns.countplot(x=df['Loan Status'])\n",
    "ax.bar_label(ax.containers[0]);"
   ]
  },
  {
   "cell_type": "code",
   "execution_count": 70,
   "id": "6e5cbeb3",
   "metadata": {},
   "outputs": [
    {
     "data": {
      "text/html": [
       "<div>\n",
       "<style scoped>\n",
       "    .dataframe tbody tr th:only-of-type {\n",
       "        vertical-align: middle;\n",
       "    }\n",
       "\n",
       "    .dataframe tbody tr th {\n",
       "        vertical-align: top;\n",
       "    }\n",
       "\n",
       "    .dataframe thead th {\n",
       "        text-align: right;\n",
       "    }\n",
       "</style>\n",
       "<table border=\"1\" class=\"dataframe\">\n",
       "  <thead>\n",
       "    <tr style=\"text-align: right;\">\n",
       "      <th></th>\n",
       "      <th>Loan ID</th>\n",
       "      <th>Customer ID</th>\n",
       "      <th>Loan Status</th>\n",
       "      <th>Current Loan Amount</th>\n",
       "      <th>Term</th>\n",
       "      <th>Credit Score</th>\n",
       "      <th>Years in current job</th>\n",
       "      <th>Home Ownership</th>\n",
       "      <th>Annual Income</th>\n",
       "      <th>Purpose</th>\n",
       "      <th>Monthly Debt</th>\n",
       "      <th>Years of Credit History</th>\n",
       "      <th>Months since last delinquent</th>\n",
       "      <th>Number of Open Accounts</th>\n",
       "      <th>Number of Credit Problems</th>\n",
       "      <th>Current Credit Balance</th>\n",
       "      <th>Maximum Open Credit</th>\n",
       "      <th>Bankruptcies</th>\n",
       "      <th>Tax Liens</th>\n",
       "    </tr>\n",
       "  </thead>\n",
       "  <tbody>\n",
       "    <tr>\n",
       "      <th>185602</th>\n",
       "      <td>b8949d01-d7d0-48c4-b3ef-8166a38aa428</td>\n",
       "      <td>05469eba-d384-4bc9-aaf1-ebad52f86e7a</td>\n",
       "      <td>Charged Off</td>\n",
       "      <td>6694</td>\n",
       "      <td>Short Term</td>\n",
       "      <td>726.000000</td>\n",
       "      <td>0</td>\n",
       "      <td>Rent</td>\n",
       "      <td>19198.000000</td>\n",
       "      <td>Debt Consolidation</td>\n",
       "      <td>91.99</td>\n",
       "      <td>14.0</td>\n",
       "      <td>34</td>\n",
       "      <td>9</td>\n",
       "      <td>2</td>\n",
       "      <td>4034</td>\n",
       "      <td>30557</td>\n",
       "      <td>0</td>\n",
       "      <td>1</td>\n",
       "    </tr>\n",
       "    <tr>\n",
       "      <th>251035</th>\n",
       "      <td>fa0ecfd8-1f5f-4cd8-b9fe-d7ac4d274d9e</td>\n",
       "      <td>734e8d4d-3e6b-474e-aefc-a58db196f50c</td>\n",
       "      <td>Fully Paid</td>\n",
       "      <td>9131</td>\n",
       "      <td>Short Term</td>\n",
       "      <td>1251.116099</td>\n",
       "      <td>8</td>\n",
       "      <td>HaveMortgage</td>\n",
       "      <td>72535.550103</td>\n",
       "      <td>Debt Consolidation</td>\n",
       "      <td>1275.69</td>\n",
       "      <td>16.1</td>\n",
       "      <td>56</td>\n",
       "      <td>9</td>\n",
       "      <td>0</td>\n",
       "      <td>9430</td>\n",
       "      <td>36691</td>\n",
       "      <td>0</td>\n",
       "      <td>0</td>\n",
       "    </tr>\n",
       "    <tr>\n",
       "      <th>78098</th>\n",
       "      <td>4d870b26-ce46-4fb4-b287-73df53ffb581</td>\n",
       "      <td>96c8931e-8163-41dd-baa4-930141cce6ef</td>\n",
       "      <td>Fully Paid</td>\n",
       "      <td>17712</td>\n",
       "      <td>Short Term</td>\n",
       "      <td>735.000000</td>\n",
       "      <td>10</td>\n",
       "      <td>HaveMortgage</td>\n",
       "      <td>50955.000000</td>\n",
       "      <td>Debt Consolidation</td>\n",
       "      <td>811.03</td>\n",
       "      <td>31.0</td>\n",
       "      <td>78</td>\n",
       "      <td>7</td>\n",
       "      <td>0</td>\n",
       "      <td>17480</td>\n",
       "      <td>24586</td>\n",
       "      <td>0</td>\n",
       "      <td>0</td>\n",
       "    </tr>\n",
       "    <tr>\n",
       "      <th>33776</th>\n",
       "      <td>219f449e-a497-43d9-b94f-b69f0d3bd30e</td>\n",
       "      <td>2b5b36d6-26dc-4b26-b910-2f9d5319ac12</td>\n",
       "      <td>Fully Paid</td>\n",
       "      <td>99999999</td>\n",
       "      <td>Short Term</td>\n",
       "      <td>746.000000</td>\n",
       "      <td>1</td>\n",
       "      <td>HaveMortgage</td>\n",
       "      <td>65221.000000</td>\n",
       "      <td>Debt Consolidation</td>\n",
       "      <td>1190.28</td>\n",
       "      <td>10.4</td>\n",
       "      <td>34</td>\n",
       "      <td>9</td>\n",
       "      <td>1</td>\n",
       "      <td>5820</td>\n",
       "      <td>20860</td>\n",
       "      <td>1</td>\n",
       "      <td>0</td>\n",
       "    </tr>\n",
       "    <tr>\n",
       "      <th>187847</th>\n",
       "      <td>badeb53f-bfed-4407-855c-b178f80d99ff</td>\n",
       "      <td>7a5d0ad3-aa33-45bd-833d-a5dd9858f001</td>\n",
       "      <td>Fully Paid</td>\n",
       "      <td>15284</td>\n",
       "      <td>Short Term</td>\n",
       "      <td>705.000000</td>\n",
       "      <td>9</td>\n",
       "      <td>Rent</td>\n",
       "      <td>50525.000000</td>\n",
       "      <td>Debt Consolidation</td>\n",
       "      <td>463.14</td>\n",
       "      <td>10.3</td>\n",
       "      <td>34</td>\n",
       "      <td>7</td>\n",
       "      <td>0</td>\n",
       "      <td>15065</td>\n",
       "      <td>18394</td>\n",
       "      <td>0</td>\n",
       "      <td>0</td>\n",
       "    </tr>\n",
       "  </tbody>\n",
       "</table>\n",
       "</div>"
      ],
      "text/plain": [
       "                                     Loan ID  \\\n",
       "185602  b8949d01-d7d0-48c4-b3ef-8166a38aa428   \n",
       "251035  fa0ecfd8-1f5f-4cd8-b9fe-d7ac4d274d9e   \n",
       "78098   4d870b26-ce46-4fb4-b287-73df53ffb581   \n",
       "33776   219f449e-a497-43d9-b94f-b69f0d3bd30e   \n",
       "187847  badeb53f-bfed-4407-855c-b178f80d99ff   \n",
       "\n",
       "                                 Customer ID  Loan Status  \\\n",
       "185602  05469eba-d384-4bc9-aaf1-ebad52f86e7a  Charged Off   \n",
       "251035  734e8d4d-3e6b-474e-aefc-a58db196f50c   Fully Paid   \n",
       "78098   96c8931e-8163-41dd-baa4-930141cce6ef   Fully Paid   \n",
       "33776   2b5b36d6-26dc-4b26-b910-2f9d5319ac12   Fully Paid   \n",
       "187847  7a5d0ad3-aa33-45bd-833d-a5dd9858f001   Fully Paid   \n",
       "\n",
       "        Current Loan Amount        Term  Credit Score  Years in current job  \\\n",
       "185602                 6694  Short Term    726.000000                     0   \n",
       "251035                 9131  Short Term   1251.116099                     8   \n",
       "78098                 17712  Short Term    735.000000                    10   \n",
       "33776              99999999  Short Term    746.000000                     1   \n",
       "187847                15284  Short Term    705.000000                     9   \n",
       "\n",
       "       Home Ownership  Annual Income             Purpose  Monthly Debt  \\\n",
       "185602           Rent   19198.000000  Debt Consolidation         91.99   \n",
       "251035   HaveMortgage   72535.550103  Debt Consolidation       1275.69   \n",
       "78098    HaveMortgage   50955.000000  Debt Consolidation        811.03   \n",
       "33776    HaveMortgage   65221.000000  Debt Consolidation       1190.28   \n",
       "187847           Rent   50525.000000  Debt Consolidation        463.14   \n",
       "\n",
       "        Years of Credit History  Months since last delinquent  \\\n",
       "185602                     14.0                            34   \n",
       "251035                     16.1                            56   \n",
       "78098                      31.0                            78   \n",
       "33776                      10.4                            34   \n",
       "187847                     10.3                            34   \n",
       "\n",
       "        Number of Open Accounts  Number of Credit Problems  \\\n",
       "185602                        9                          2   \n",
       "251035                        9                          0   \n",
       "78098                         7                          0   \n",
       "33776                         9                          1   \n",
       "187847                        7                          0   \n",
       "\n",
       "        Current Credit Balance  Maximum Open Credit  Bankruptcies  Tax Liens  \n",
       "185602                    4034                30557             0          1  \n",
       "251035                    9430                36691             0          0  \n",
       "78098                    17480                24586             0          0  \n",
       "33776                     5820                20860             1          0  \n",
       "187847                   15065                18394             0          0  "
      ]
     },
     "execution_count": 70,
     "metadata": {},
     "output_type": "execute_result"
    }
   ],
   "source": [
    "df.sample(5)"
   ]
  },
  {
   "cell_type": "code",
   "execution_count": 71,
   "id": "9a32b70f",
   "metadata": {},
   "outputs": [],
   "source": [
    "# we don't think Loan ID and Customer ID have any impact, so we can delete these rows\n",
    "del df[\"Loan ID\"]"
   ]
  },
  {
   "cell_type": "code",
   "execution_count": 72,
   "id": "bda2c3c6",
   "metadata": {},
   "outputs": [],
   "source": [
    "del df[\"Customer ID\"]"
   ]
  },
  {
   "cell_type": "code",
   "execution_count": 73,
   "id": "95ed310c",
   "metadata": {},
   "outputs": [
    {
     "data": {
      "text/html": [
       "<div>\n",
       "<style scoped>\n",
       "    .dataframe tbody tr th:only-of-type {\n",
       "        vertical-align: middle;\n",
       "    }\n",
       "\n",
       "    .dataframe tbody tr th {\n",
       "        vertical-align: top;\n",
       "    }\n",
       "\n",
       "    .dataframe thead th {\n",
       "        text-align: right;\n",
       "    }\n",
       "</style>\n",
       "<table border=\"1\" class=\"dataframe\">\n",
       "  <thead>\n",
       "    <tr style=\"text-align: right;\">\n",
       "      <th></th>\n",
       "      <th>Loan Status</th>\n",
       "      <th>Current Loan Amount</th>\n",
       "      <th>Term</th>\n",
       "      <th>Credit Score</th>\n",
       "      <th>Years in current job</th>\n",
       "      <th>Home Ownership</th>\n",
       "      <th>Annual Income</th>\n",
       "      <th>Purpose</th>\n",
       "      <th>Monthly Debt</th>\n",
       "      <th>Years of Credit History</th>\n",
       "      <th>Months since last delinquent</th>\n",
       "      <th>Number of Open Accounts</th>\n",
       "      <th>Number of Credit Problems</th>\n",
       "      <th>Current Credit Balance</th>\n",
       "      <th>Maximum Open Credit</th>\n",
       "      <th>Bankruptcies</th>\n",
       "      <th>Tax Liens</th>\n",
       "    </tr>\n",
       "  </thead>\n",
       "  <tbody>\n",
       "    <tr>\n",
       "      <th>79968</th>\n",
       "      <td>Fully Paid</td>\n",
       "      <td>15167</td>\n",
       "      <td>Short Term</td>\n",
       "      <td>736.000000</td>\n",
       "      <td>8</td>\n",
       "      <td>HaveMortgage</td>\n",
       "      <td>80888.000000</td>\n",
       "      <td>Debt Consolidation</td>\n",
       "      <td>1166.13</td>\n",
       "      <td>14.6</td>\n",
       "      <td>46</td>\n",
       "      <td>13</td>\n",
       "      <td>0</td>\n",
       "      <td>24430</td>\n",
       "      <td>30424</td>\n",
       "      <td>0</td>\n",
       "      <td>0</td>\n",
       "    </tr>\n",
       "    <tr>\n",
       "      <th>26692</th>\n",
       "      <td>Charged Off</td>\n",
       "      <td>5004</td>\n",
       "      <td>Short Term</td>\n",
       "      <td>734.000000</td>\n",
       "      <td>3</td>\n",
       "      <td>HaveMortgage</td>\n",
       "      <td>42034.000000</td>\n",
       "      <td>Debt Consolidation</td>\n",
       "      <td>718.07</td>\n",
       "      <td>13.0</td>\n",
       "      <td>34</td>\n",
       "      <td>11</td>\n",
       "      <td>2</td>\n",
       "      <td>11360</td>\n",
       "      <td>16023</td>\n",
       "      <td>1</td>\n",
       "      <td>0</td>\n",
       "    </tr>\n",
       "    <tr>\n",
       "      <th>56149</th>\n",
       "      <td>Fully Paid</td>\n",
       "      <td>35651</td>\n",
       "      <td>Short Term</td>\n",
       "      <td>1251.116099</td>\n",
       "      <td>1</td>\n",
       "      <td>HaveMortgage</td>\n",
       "      <td>72535.550103</td>\n",
       "      <td>Debt Consolidation</td>\n",
       "      <td>2682.31</td>\n",
       "      <td>16.3</td>\n",
       "      <td>72</td>\n",
       "      <td>20</td>\n",
       "      <td>0</td>\n",
       "      <td>42384</td>\n",
       "      <td>46627</td>\n",
       "      <td>0</td>\n",
       "      <td>0</td>\n",
       "    </tr>\n",
       "    <tr>\n",
       "      <th>47251</th>\n",
       "      <td>Fully Paid</td>\n",
       "      <td>33546</td>\n",
       "      <td>Long Term</td>\n",
       "      <td>676.000000</td>\n",
       "      <td>10</td>\n",
       "      <td>Own Home</td>\n",
       "      <td>168096.000000</td>\n",
       "      <td>Debt Consolidation</td>\n",
       "      <td>2549.45</td>\n",
       "      <td>19.0</td>\n",
       "      <td>11</td>\n",
       "      <td>13</td>\n",
       "      <td>0</td>\n",
       "      <td>43722</td>\n",
       "      <td>64870</td>\n",
       "      <td>0</td>\n",
       "      <td>0</td>\n",
       "    </tr>\n",
       "    <tr>\n",
       "      <th>210303</th>\n",
       "      <td>Fully Paid</td>\n",
       "      <td>27969</td>\n",
       "      <td>Short Term</td>\n",
       "      <td>650.000000</td>\n",
       "      <td>0</td>\n",
       "      <td>Rent</td>\n",
       "      <td>62379.000000</td>\n",
       "      <td>Other</td>\n",
       "      <td>511.51</td>\n",
       "      <td>17.6</td>\n",
       "      <td>8</td>\n",
       "      <td>4</td>\n",
       "      <td>0</td>\n",
       "      <td>5037</td>\n",
       "      <td>16302</td>\n",
       "      <td>0</td>\n",
       "      <td>0</td>\n",
       "    </tr>\n",
       "  </tbody>\n",
       "</table>\n",
       "</div>"
      ],
      "text/plain": [
       "        Loan Status  Current Loan Amount        Term  Credit Score  \\\n",
       "79968    Fully Paid                15167  Short Term    736.000000   \n",
       "26692   Charged Off                 5004  Short Term    734.000000   \n",
       "56149    Fully Paid                35651  Short Term   1251.116099   \n",
       "47251    Fully Paid                33546   Long Term    676.000000   \n",
       "210303   Fully Paid                27969  Short Term    650.000000   \n",
       "\n",
       "        Years in current job Home Ownership  Annual Income  \\\n",
       "79968                      8   HaveMortgage   80888.000000   \n",
       "26692                      3   HaveMortgage   42034.000000   \n",
       "56149                      1   HaveMortgage   72535.550103   \n",
       "47251                     10       Own Home  168096.000000   \n",
       "210303                     0           Rent   62379.000000   \n",
       "\n",
       "                   Purpose  Monthly Debt  Years of Credit History  \\\n",
       "79968   Debt Consolidation       1166.13                     14.6   \n",
       "26692   Debt Consolidation        718.07                     13.0   \n",
       "56149   Debt Consolidation       2682.31                     16.3   \n",
       "47251   Debt Consolidation       2549.45                     19.0   \n",
       "210303               Other        511.51                     17.6   \n",
       "\n",
       "        Months since last delinquent  Number of Open Accounts  \\\n",
       "79968                             46                       13   \n",
       "26692                             34                       11   \n",
       "56149                             72                       20   \n",
       "47251                             11                       13   \n",
       "210303                             8                        4   \n",
       "\n",
       "        Number of Credit Problems  Current Credit Balance  \\\n",
       "79968                           0                   24430   \n",
       "26692                           2                   11360   \n",
       "56149                           0                   42384   \n",
       "47251                           0                   43722   \n",
       "210303                          0                    5037   \n",
       "\n",
       "        Maximum Open Credit  Bankruptcies  Tax Liens  \n",
       "79968                 30424             0          0  \n",
       "26692                 16023             1          0  \n",
       "56149                 46627             0          0  \n",
       "47251                 64870             0          0  \n",
       "210303                16302             0          0  "
      ]
     },
     "execution_count": 73,
     "metadata": {},
     "output_type": "execute_result"
    }
   ],
   "source": [
    "df.sample(5)"
   ]
  },
  {
   "cell_type": "code",
   "execution_count": 74,
   "id": "2a269244",
   "metadata": {},
   "outputs": [
    {
     "data": {
      "text/plain": [
       "(238071, 17)"
      ]
     },
     "execution_count": 74,
     "metadata": {},
     "output_type": "execute_result"
    }
   ],
   "source": [
    "df.shape"
   ]
  },
  {
   "cell_type": "code",
   "execution_count": 75,
   "id": "f02f62d8",
   "metadata": {},
   "outputs": [],
   "source": [
    "x = df.drop('Loan Status',axis=1) # x = every column without Loan Status\n",
    "y = df[['Loan Status']]           # y = Loan Status column"
   ]
  },
  {
   "cell_type": "code",
   "execution_count": 76,
   "id": "0c8a062d",
   "metadata": {},
   "outputs": [
    {
     "data": {
      "text/plain": [
       "((238071, 16), (238071, 1))"
      ]
     },
     "execution_count": 76,
     "metadata": {},
     "output_type": "execute_result"
    }
   ],
   "source": [
    "x.shape, y.shape"
   ]
  },
  {
   "cell_type": "code",
   "execution_count": 77,
   "id": "16940b2d",
   "metadata": {},
   "outputs": [],
   "source": [
    "x=pd.get_dummies(x,drop_first=True) #sparse matrix"
   ]
  },
  {
   "cell_type": "code",
   "execution_count": 78,
   "id": "c7170456",
   "metadata": {},
   "outputs": [
    {
     "data": {
      "text/plain": [
       "(238071, 24)"
      ]
     },
     "execution_count": 78,
     "metadata": {},
     "output_type": "execute_result"
    }
   ],
   "source": [
    "x.shape"
   ]
  },
  {
   "cell_type": "code",
   "execution_count": 79,
   "id": "f3793229",
   "metadata": {},
   "outputs": [
    {
     "data": {
      "text/html": [
       "<div>\n",
       "<style scoped>\n",
       "    .dataframe tbody tr th:only-of-type {\n",
       "        vertical-align: middle;\n",
       "    }\n",
       "\n",
       "    .dataframe tbody tr th {\n",
       "        vertical-align: top;\n",
       "    }\n",
       "\n",
       "    .dataframe thead th {\n",
       "        text-align: right;\n",
       "    }\n",
       "</style>\n",
       "<table border=\"1\" class=\"dataframe\">\n",
       "  <thead>\n",
       "    <tr style=\"text-align: right;\">\n",
       "      <th></th>\n",
       "      <th>Current Loan Amount</th>\n",
       "      <th>Credit Score</th>\n",
       "      <th>Years in current job</th>\n",
       "      <th>Annual Income</th>\n",
       "      <th>Monthly Debt</th>\n",
       "      <th>Years of Credit History</th>\n",
       "      <th>Months since last delinquent</th>\n",
       "      <th>Number of Open Accounts</th>\n",
       "      <th>Number of Credit Problems</th>\n",
       "      <th>Current Credit Balance</th>\n",
       "      <th>...</th>\n",
       "      <th>Home Ownership_Own Home</th>\n",
       "      <th>Home Ownership_Rent</th>\n",
       "      <th>Purpose_Buy House</th>\n",
       "      <th>Purpose_Buy a Car</th>\n",
       "      <th>Purpose_Debt Consolidation</th>\n",
       "      <th>Purpose_Educational Expenses</th>\n",
       "      <th>Purpose_Home Improvements</th>\n",
       "      <th>Purpose_Medical Bills</th>\n",
       "      <th>Purpose_Other</th>\n",
       "      <th>Purpose_Take a Trip</th>\n",
       "    </tr>\n",
       "  </thead>\n",
       "  <tbody>\n",
       "    <tr>\n",
       "      <th>0</th>\n",
       "      <td>11520</td>\n",
       "      <td>741.000000</td>\n",
       "      <td>10</td>\n",
       "      <td>33694.000000</td>\n",
       "      <td>584.03</td>\n",
       "      <td>12.3</td>\n",
       "      <td>41</td>\n",
       "      <td>10</td>\n",
       "      <td>0</td>\n",
       "      <td>6760</td>\n",
       "      <td>...</td>\n",
       "      <td>0</td>\n",
       "      <td>0</td>\n",
       "      <td>0</td>\n",
       "      <td>0</td>\n",
       "      <td>1</td>\n",
       "      <td>0</td>\n",
       "      <td>0</td>\n",
       "      <td>0</td>\n",
       "      <td>0</td>\n",
       "      <td>0</td>\n",
       "    </tr>\n",
       "    <tr>\n",
       "      <th>1</th>\n",
       "      <td>3441</td>\n",
       "      <td>734.000000</td>\n",
       "      <td>4</td>\n",
       "      <td>42269.000000</td>\n",
       "      <td>1106.04</td>\n",
       "      <td>26.3</td>\n",
       "      <td>34</td>\n",
       "      <td>17</td>\n",
       "      <td>0</td>\n",
       "      <td>6262</td>\n",
       "      <td>...</td>\n",
       "      <td>0</td>\n",
       "      <td>0</td>\n",
       "      <td>0</td>\n",
       "      <td>0</td>\n",
       "      <td>0</td>\n",
       "      <td>0</td>\n",
       "      <td>0</td>\n",
       "      <td>0</td>\n",
       "      <td>1</td>\n",
       "      <td>0</td>\n",
       "    </tr>\n",
       "    <tr>\n",
       "      <th>2</th>\n",
       "      <td>21029</td>\n",
       "      <td>747.000000</td>\n",
       "      <td>10</td>\n",
       "      <td>90126.000000</td>\n",
       "      <td>1321.85</td>\n",
       "      <td>28.8</td>\n",
       "      <td>34</td>\n",
       "      <td>5</td>\n",
       "      <td>0</td>\n",
       "      <td>20967</td>\n",
       "      <td>...</td>\n",
       "      <td>0</td>\n",
       "      <td>0</td>\n",
       "      <td>0</td>\n",
       "      <td>0</td>\n",
       "      <td>1</td>\n",
       "      <td>0</td>\n",
       "      <td>0</td>\n",
       "      <td>0</td>\n",
       "      <td>0</td>\n",
       "      <td>0</td>\n",
       "    </tr>\n",
       "    <tr>\n",
       "      <th>3</th>\n",
       "      <td>18743</td>\n",
       "      <td>747.000000</td>\n",
       "      <td>10</td>\n",
       "      <td>38072.000000</td>\n",
       "      <td>751.92</td>\n",
       "      <td>26.2</td>\n",
       "      <td>34</td>\n",
       "      <td>9</td>\n",
       "      <td>0</td>\n",
       "      <td>22529</td>\n",
       "      <td>...</td>\n",
       "      <td>1</td>\n",
       "      <td>0</td>\n",
       "      <td>0</td>\n",
       "      <td>0</td>\n",
       "      <td>1</td>\n",
       "      <td>0</td>\n",
       "      <td>0</td>\n",
       "      <td>0</td>\n",
       "      <td>0</td>\n",
       "      <td>0</td>\n",
       "    </tr>\n",
       "    <tr>\n",
       "      <th>4</th>\n",
       "      <td>11731</td>\n",
       "      <td>746.000000</td>\n",
       "      <td>4</td>\n",
       "      <td>50025.000000</td>\n",
       "      <td>355.18</td>\n",
       "      <td>11.5</td>\n",
       "      <td>34</td>\n",
       "      <td>12</td>\n",
       "      <td>0</td>\n",
       "      <td>17391</td>\n",
       "      <td>...</td>\n",
       "      <td>0</td>\n",
       "      <td>1</td>\n",
       "      <td>0</td>\n",
       "      <td>0</td>\n",
       "      <td>1</td>\n",
       "      <td>0</td>\n",
       "      <td>0</td>\n",
       "      <td>0</td>\n",
       "      <td>0</td>\n",
       "      <td>0</td>\n",
       "    </tr>\n",
       "    <tr>\n",
       "      <th>...</th>\n",
       "      <td>...</td>\n",
       "      <td>...</td>\n",
       "      <td>...</td>\n",
       "      <td>...</td>\n",
       "      <td>...</td>\n",
       "      <td>...</td>\n",
       "      <td>...</td>\n",
       "      <td>...</td>\n",
       "      <td>...</td>\n",
       "      <td>...</td>\n",
       "      <td>...</td>\n",
       "      <td>...</td>\n",
       "      <td>...</td>\n",
       "      <td>...</td>\n",
       "      <td>...</td>\n",
       "      <td>...</td>\n",
       "      <td>...</td>\n",
       "      <td>...</td>\n",
       "      <td>...</td>\n",
       "      <td>...</td>\n",
       "      <td>...</td>\n",
       "    </tr>\n",
       "    <tr>\n",
       "      <th>256976</th>\n",
       "      <td>34710</td>\n",
       "      <td>700.000000</td>\n",
       "      <td>9</td>\n",
       "      <td>148755.000000</td>\n",
       "      <td>47.11</td>\n",
       "      <td>34.0</td>\n",
       "      <td>1</td>\n",
       "      <td>3</td>\n",
       "      <td>0</td>\n",
       "      <td>2590</td>\n",
       "      <td>...</td>\n",
       "      <td>0</td>\n",
       "      <td>1</td>\n",
       "      <td>0</td>\n",
       "      <td>0</td>\n",
       "      <td>0</td>\n",
       "      <td>0</td>\n",
       "      <td>0</td>\n",
       "      <td>0</td>\n",
       "      <td>0</td>\n",
       "      <td>0</td>\n",
       "    </tr>\n",
       "    <tr>\n",
       "      <th>256978</th>\n",
       "      <td>11953</td>\n",
       "      <td>717.000000</td>\n",
       "      <td>10</td>\n",
       "      <td>39844.000000</td>\n",
       "      <td>982.82</td>\n",
       "      <td>11.7</td>\n",
       "      <td>34</td>\n",
       "      <td>9</td>\n",
       "      <td>1</td>\n",
       "      <td>4176</td>\n",
       "      <td>...</td>\n",
       "      <td>0</td>\n",
       "      <td>0</td>\n",
       "      <td>0</td>\n",
       "      <td>0</td>\n",
       "      <td>1</td>\n",
       "      <td>0</td>\n",
       "      <td>0</td>\n",
       "      <td>0</td>\n",
       "      <td>0</td>\n",
       "      <td>0</td>\n",
       "    </tr>\n",
       "    <tr>\n",
       "      <th>256979</th>\n",
       "      <td>3911</td>\n",
       "      <td>1251.116099</td>\n",
       "      <td>2</td>\n",
       "      <td>72535.550103</td>\n",
       "      <td>1706.58</td>\n",
       "      <td>19.9</td>\n",
       "      <td>34</td>\n",
       "      <td>16</td>\n",
       "      <td>0</td>\n",
       "      <td>43992</td>\n",
       "      <td>...</td>\n",
       "      <td>0</td>\n",
       "      <td>1</td>\n",
       "      <td>0</td>\n",
       "      <td>0</td>\n",
       "      <td>1</td>\n",
       "      <td>0</td>\n",
       "      <td>0</td>\n",
       "      <td>0</td>\n",
       "      <td>0</td>\n",
       "      <td>0</td>\n",
       "    </tr>\n",
       "    <tr>\n",
       "      <th>256980</th>\n",
       "      <td>5078</td>\n",
       "      <td>737.000000</td>\n",
       "      <td>10</td>\n",
       "      <td>77186.000000</td>\n",
       "      <td>1376.47</td>\n",
       "      <td>19.1</td>\n",
       "      <td>47</td>\n",
       "      <td>9</td>\n",
       "      <td>0</td>\n",
       "      <td>1717</td>\n",
       "      <td>...</td>\n",
       "      <td>1</td>\n",
       "      <td>0</td>\n",
       "      <td>0</td>\n",
       "      <td>0</td>\n",
       "      <td>1</td>\n",
       "      <td>0</td>\n",
       "      <td>0</td>\n",
       "      <td>0</td>\n",
       "      <td>0</td>\n",
       "      <td>0</td>\n",
       "    </tr>\n",
       "    <tr>\n",
       "      <th>256983</th>\n",
       "      <td>27902</td>\n",
       "      <td>678.000000</td>\n",
       "      <td>10</td>\n",
       "      <td>117480.000000</td>\n",
       "      <td>2525.82</td>\n",
       "      <td>18.0</td>\n",
       "      <td>11</td>\n",
       "      <td>10</td>\n",
       "      <td>0</td>\n",
       "      <td>28317</td>\n",
       "      <td>...</td>\n",
       "      <td>0</td>\n",
       "      <td>0</td>\n",
       "      <td>0</td>\n",
       "      <td>0</td>\n",
       "      <td>1</td>\n",
       "      <td>0</td>\n",
       "      <td>0</td>\n",
       "      <td>0</td>\n",
       "      <td>0</td>\n",
       "      <td>0</td>\n",
       "    </tr>\n",
       "  </tbody>\n",
       "</table>\n",
       "<p>238071 rows × 24 columns</p>\n",
       "</div>"
      ],
      "text/plain": [
       "        Current Loan Amount  Credit Score  Years in current job  \\\n",
       "0                     11520    741.000000                    10   \n",
       "1                      3441    734.000000                     4   \n",
       "2                     21029    747.000000                    10   \n",
       "3                     18743    747.000000                    10   \n",
       "4                     11731    746.000000                     4   \n",
       "...                     ...           ...                   ...   \n",
       "256976                34710    700.000000                     9   \n",
       "256978                11953    717.000000                    10   \n",
       "256979                 3911   1251.116099                     2   \n",
       "256980                 5078    737.000000                    10   \n",
       "256983                27902    678.000000                    10   \n",
       "\n",
       "        Annual Income  Monthly Debt  Years of Credit History  \\\n",
       "0        33694.000000        584.03                     12.3   \n",
       "1        42269.000000       1106.04                     26.3   \n",
       "2        90126.000000       1321.85                     28.8   \n",
       "3        38072.000000        751.92                     26.2   \n",
       "4        50025.000000        355.18                     11.5   \n",
       "...               ...           ...                      ...   \n",
       "256976  148755.000000         47.11                     34.0   \n",
       "256978   39844.000000        982.82                     11.7   \n",
       "256979   72535.550103       1706.58                     19.9   \n",
       "256980   77186.000000       1376.47                     19.1   \n",
       "256983  117480.000000       2525.82                     18.0   \n",
       "\n",
       "        Months since last delinquent  Number of Open Accounts  \\\n",
       "0                                 41                       10   \n",
       "1                                 34                       17   \n",
       "2                                 34                        5   \n",
       "3                                 34                        9   \n",
       "4                                 34                       12   \n",
       "...                              ...                      ...   \n",
       "256976                             1                        3   \n",
       "256978                            34                        9   \n",
       "256979                            34                       16   \n",
       "256980                            47                        9   \n",
       "256983                            11                       10   \n",
       "\n",
       "        Number of Credit Problems  Current Credit Balance  ...  \\\n",
       "0                               0                    6760  ...   \n",
       "1                               0                    6262  ...   \n",
       "2                               0                   20967  ...   \n",
       "3                               0                   22529  ...   \n",
       "4                               0                   17391  ...   \n",
       "...                           ...                     ...  ...   \n",
       "256976                          0                    2590  ...   \n",
       "256978                          1                    4176  ...   \n",
       "256979                          0                   43992  ...   \n",
       "256980                          0                    1717  ...   \n",
       "256983                          0                   28317  ...   \n",
       "\n",
       "        Home Ownership_Own Home  Home Ownership_Rent  Purpose_Buy House  \\\n",
       "0                             0                    0                  0   \n",
       "1                             0                    0                  0   \n",
       "2                             0                    0                  0   \n",
       "3                             1                    0                  0   \n",
       "4                             0                    1                  0   \n",
       "...                         ...                  ...                ...   \n",
       "256976                        0                    1                  0   \n",
       "256978                        0                    0                  0   \n",
       "256979                        0                    1                  0   \n",
       "256980                        1                    0                  0   \n",
       "256983                        0                    0                  0   \n",
       "\n",
       "        Purpose_Buy a Car  Purpose_Debt Consolidation  \\\n",
       "0                       0                           1   \n",
       "1                       0                           0   \n",
       "2                       0                           1   \n",
       "3                       0                           1   \n",
       "4                       0                           1   \n",
       "...                   ...                         ...   \n",
       "256976                  0                           0   \n",
       "256978                  0                           1   \n",
       "256979                  0                           1   \n",
       "256980                  0                           1   \n",
       "256983                  0                           1   \n",
       "\n",
       "        Purpose_Educational Expenses  Purpose_Home Improvements  \\\n",
       "0                                  0                          0   \n",
       "1                                  0                          0   \n",
       "2                                  0                          0   \n",
       "3                                  0                          0   \n",
       "4                                  0                          0   \n",
       "...                              ...                        ...   \n",
       "256976                             0                          0   \n",
       "256978                             0                          0   \n",
       "256979                             0                          0   \n",
       "256980                             0                          0   \n",
       "256983                             0                          0   \n",
       "\n",
       "        Purpose_Medical Bills  Purpose_Other  Purpose_Take a Trip  \n",
       "0                           0              0                    0  \n",
       "1                           0              1                    0  \n",
       "2                           0              0                    0  \n",
       "3                           0              0                    0  \n",
       "4                           0              0                    0  \n",
       "...                       ...            ...                  ...  \n",
       "256976                      0              0                    0  \n",
       "256978                      0              0                    0  \n",
       "256979                      0              0                    0  \n",
       "256980                      0              0                    0  \n",
       "256983                      0              0                    0  \n",
       "\n",
       "[238071 rows x 24 columns]"
      ]
     },
     "execution_count": 79,
     "metadata": {},
     "output_type": "execute_result"
    }
   ],
   "source": [
    "x"
   ]
  },
  {
   "cell_type": "code",
   "execution_count": 80,
   "id": "33f6b1c1",
   "metadata": {},
   "outputs": [
    {
     "data": {
      "text/html": [
       "<div>\n",
       "<style scoped>\n",
       "    .dataframe tbody tr th:only-of-type {\n",
       "        vertical-align: middle;\n",
       "    }\n",
       "\n",
       "    .dataframe tbody tr th {\n",
       "        vertical-align: top;\n",
       "    }\n",
       "\n",
       "    .dataframe thead th {\n",
       "        text-align: right;\n",
       "    }\n",
       "</style>\n",
       "<table border=\"1\" class=\"dataframe\">\n",
       "  <thead>\n",
       "    <tr style=\"text-align: right;\">\n",
       "      <th></th>\n",
       "      <th>Loan Status</th>\n",
       "    </tr>\n",
       "  </thead>\n",
       "  <tbody>\n",
       "    <tr>\n",
       "      <th>0</th>\n",
       "      <td>Fully Paid</td>\n",
       "    </tr>\n",
       "    <tr>\n",
       "      <th>1</th>\n",
       "      <td>Fully Paid</td>\n",
       "    </tr>\n",
       "    <tr>\n",
       "      <th>2</th>\n",
       "      <td>Fully Paid</td>\n",
       "    </tr>\n",
       "    <tr>\n",
       "      <th>3</th>\n",
       "      <td>Fully Paid</td>\n",
       "    </tr>\n",
       "    <tr>\n",
       "      <th>4</th>\n",
       "      <td>Fully Paid</td>\n",
       "    </tr>\n",
       "    <tr>\n",
       "      <th>...</th>\n",
       "      <td>...</td>\n",
       "    </tr>\n",
       "    <tr>\n",
       "      <th>256976</th>\n",
       "      <td>Charged Off</td>\n",
       "    </tr>\n",
       "    <tr>\n",
       "      <th>256978</th>\n",
       "      <td>Charged Off</td>\n",
       "    </tr>\n",
       "    <tr>\n",
       "      <th>256979</th>\n",
       "      <td>Fully Paid</td>\n",
       "    </tr>\n",
       "    <tr>\n",
       "      <th>256980</th>\n",
       "      <td>Fully Paid</td>\n",
       "    </tr>\n",
       "    <tr>\n",
       "      <th>256983</th>\n",
       "      <td>Fully Paid</td>\n",
       "    </tr>\n",
       "  </tbody>\n",
       "</table>\n",
       "<p>238071 rows × 1 columns</p>\n",
       "</div>"
      ],
      "text/plain": [
       "        Loan Status\n",
       "0        Fully Paid\n",
       "1        Fully Paid\n",
       "2        Fully Paid\n",
       "3        Fully Paid\n",
       "4        Fully Paid\n",
       "...             ...\n",
       "256976  Charged Off\n",
       "256978  Charged Off\n",
       "256979   Fully Paid\n",
       "256980   Fully Paid\n",
       "256983   Fully Paid\n",
       "\n",
       "[238071 rows x 1 columns]"
      ]
     },
     "execution_count": 80,
     "metadata": {},
     "output_type": "execute_result"
    }
   ],
   "source": [
    "y"
   ]
  },
  {
   "cell_type": "markdown",
   "id": "8132b0d0",
   "metadata": {},
   "source": [
    "### <font color=blue>Classification - Accuracy, Precision, Recall, F1 Score & Confusion Matrix"
   ]
  },
  {
   "cell_type": "code",
   "execution_count": 81,
   "id": "aa8c6750",
   "metadata": {},
   "outputs": [],
   "source": [
    "#import libraries for Classification\n",
    "from sklearn.naive_bayes import GaussianNB\n",
    "from sklearn.naive_bayes import BernoulliNB\n",
    "from sklearn.ensemble import GradientBoostingClassifier\n",
    "from sklearn.tree import DecisionTreeClassifier\n",
    "from sklearn.ensemble import RandomForestClassifier\n",
    "#I had problems with fit SVC and KN, I don't know why the [*] never ended end the result didn't come after several minutes\n",
    "\n",
    "g=GaussianNB()\n",
    "b=BernoulliNB()\n",
    "gb=GradientBoostingClassifier()\n",
    "r=RandomForestClassifier()\n",
    "d=DecisionTreeClassifier()\n",
    "\n",
    "from sklearn.model_selection import train_test_split\n",
    "from sklearn.metrics import accuracy_score, confusion_matrix, classification_report"
   ]
  },
  {
   "cell_type": "code",
   "execution_count": 82,
   "id": "26dcfae2",
   "metadata": {},
   "outputs": [],
   "source": [
    "#split the data 20% test and 80& train size\n",
    "x_train, x_test, y_train, y_test = train_test_split(x,y,test_size=0.20,random_state=42)"
   ]
  },
  {
   "cell_type": "code",
   "execution_count": 83,
   "id": "87c9c790",
   "metadata": {},
   "outputs": [],
   "source": [
    "# Fit & Predict"
   ]
  },
  {
   "cell_type": "code",
   "execution_count": 84,
   "id": "4ffe9b2c",
   "metadata": {},
   "outputs": [],
   "source": [
    "# fit & predict models\n",
    "predG=g.fit(x_train,y_train).predict(x_test)\n",
    "predB=b.fit(x_train,y_train).predict(x_test)\n",
    "predGB=gb.fit(x_train,y_train).predict(x_test)\n",
    "predR=r.fit(x_train,y_train).predict(x_test)\n",
    "predD=d.fit(x_train,y_train).predict(x_test)"
   ]
  },
  {
   "cell_type": "code",
   "execution_count": 85,
   "id": "844b7df9",
   "metadata": {},
   "outputs": [
    {
     "data": {
      "text/plain": [
       "0.4152472960201617"
      ]
     },
     "execution_count": 85,
     "metadata": {},
     "output_type": "execute_result"
    }
   ],
   "source": [
    "accuracy_score(y_test,predG)"
   ]
  },
  {
   "cell_type": "code",
   "execution_count": 86,
   "id": "b085de64",
   "metadata": {},
   "outputs": [
    {
     "data": {
      "text/plain": [
       "array([[12778,    29],\n",
       "       [27814,  6994]], dtype=int64)"
      ]
     },
     "execution_count": 86,
     "metadata": {},
     "output_type": "execute_result"
    }
   ],
   "source": [
    "confusion_matrix(y_test,predG)"
   ]
  },
  {
   "cell_type": "code",
   "execution_count": 87,
   "id": "08f46f90",
   "metadata": {},
   "outputs": [
    {
     "name": "stdout",
     "output_type": "stream",
     "text": [
      "              precision    recall  f1-score   support\n",
      "\n",
      " Charged Off       0.31      1.00      0.48     12807\n",
      "  Fully Paid       1.00      0.20      0.33     34808\n",
      "\n",
      "    accuracy                           0.42     47615\n",
      "   macro avg       0.66      0.60      0.41     47615\n",
      "weighted avg       0.81      0.42      0.37     47615\n",
      "\n"
     ]
    }
   ],
   "source": [
    "print(classification_report(y_test,predG))"
   ]
  },
  {
   "cell_type": "code",
   "execution_count": 88,
   "id": "fc921a40",
   "metadata": {},
   "outputs": [
    {
     "data": {
      "image/png": "[encoded data removed]",
      "text/plain": [
       "<Figure size 432x288 with 2 Axes>"
      ]
     },
     "metadata": {
      "needs_background": "light"
     },
     "output_type": "display_data"
    }
   ],
   "source": [
    "sns.heatmap(confusion_matrix(y_test,predG),annot=True);"
   ]
  },
  {
   "cell_type": "code",
   "execution_count": 89,
   "id": "f781e85d",
   "metadata": {},
   "outputs": [
    {
     "data": {
      "text/plain": [
       "0.7313031607686653"
      ]
     },
     "execution_count": 89,
     "metadata": {},
     "output_type": "execute_result"
    }
   ],
   "source": [
    "accuracy_score(y_test,predB) #Bernoulli shows better results than Gaussian"
   ]
  },
  {
   "cell_type": "code",
   "execution_count": 90,
   "id": "cab3f7cf",
   "metadata": {},
   "outputs": [
    {
     "data": {
      "text/plain": [
       "array([[   99, 12708],\n",
       "       [   86, 34722]], dtype=int64)"
      ]
     },
     "execution_count": 90,
     "metadata": {},
     "output_type": "execute_result"
    }
   ],
   "source": [
    "confusion_matrix(y_test,predB)"
   ]
  },
  {
   "cell_type": "code",
   "execution_count": 91,
   "id": "299defdd",
   "metadata": {},
   "outputs": [
    {
     "name": "stdout",
     "output_type": "stream",
     "text": [
      "              precision    recall  f1-score   support\n",
      "\n",
      " Charged Off       0.54      0.01      0.02     12807\n",
      "  Fully Paid       0.73      1.00      0.84     34808\n",
      "\n",
      "    accuracy                           0.73     47615\n",
      "   macro avg       0.63      0.50      0.43     47615\n",
      "weighted avg       0.68      0.73      0.62     47615\n",
      "\n"
     ]
    }
   ],
   "source": [
    "print(classification_report(y_test,predB))"
   ]
  },
  {
   "cell_type": "code",
   "execution_count": 92,
   "id": "a74c02cc",
   "metadata": {},
   "outputs": [
    {
     "data": {
      "image/png": "[encoded data removed]",
      "text/plain": [
       "<Figure size 432x288 with 2 Axes>"
      ]
     },
     "metadata": {
      "needs_background": "light"
     },
     "output_type": "display_data"
    }
   ],
   "source": [
    "sns.heatmap(confusion_matrix(y_test,predB),annot=True);"
   ]
  },
  {
   "cell_type": "code",
   "execution_count": 93,
   "id": "76088366",
   "metadata": {},
   "outputs": [
    {
     "data": {
      "text/plain": [
       "0.7489446602961252"
      ]
     },
     "execution_count": 93,
     "metadata": {},
     "output_type": "execute_result"
    }
   ],
   "source": [
    "accuracy_score(y_test,predGB)"
   ]
  },
  {
   "cell_type": "code",
   "execution_count": 94,
   "id": "d3615b8b",
   "metadata": {},
   "outputs": [
    {
     "data": {
      "text/plain": [
       "0.831082642024572"
      ]
     },
     "execution_count": 94,
     "metadata": {},
     "output_type": "execute_result"
    }
   ],
   "source": [
    "accuracy_score(y_test,predR) #best results - RandomForest Classifier"
   ]
  },
  {
   "cell_type": "code",
   "execution_count": 95,
   "id": "a8dc216d",
   "metadata": {},
   "outputs": [
    {
     "data": {
      "text/plain": [
       "0.7420140711960517"
      ]
     },
     "execution_count": 95,
     "metadata": {},
     "output_type": "execute_result"
    }
   ],
   "source": [
    "accuracy_score(y_test,predD)"
   ]
  },
  {
   "cell_type": "code",
   "execution_count": 96,
   "id": "86cad2eb",
   "metadata": {},
   "outputs": [
    {
     "data": {
      "text/plain": [
       "array([[ 2481, 10326],\n",
       "       [ 1628, 33180]], dtype=int64)"
      ]
     },
     "execution_count": 96,
     "metadata": {},
     "output_type": "execute_result"
    }
   ],
   "source": [
    "confusion_matrix(y_test,predGB)"
   ]
  },
  {
   "cell_type": "code",
   "execution_count": 97,
   "id": "97f53299",
   "metadata": {},
   "outputs": [
    {
     "data": {
      "text/plain": [
       "array([[ 6414,  6393],\n",
       "       [ 1650, 33158]], dtype=int64)"
      ]
     },
     "execution_count": 97,
     "metadata": {},
     "output_type": "execute_result"
    }
   ],
   "source": [
    "confusion_matrix(y_test,predR)"
   ]
  },
  {
   "cell_type": "code",
   "execution_count": 98,
   "id": "75327ce4",
   "metadata": {},
   "outputs": [
    {
     "data": {
      "text/plain": [
       "array([[ 7683,  5124],\n",
       "       [ 7160, 27648]], dtype=int64)"
      ]
     },
     "execution_count": 98,
     "metadata": {},
     "output_type": "execute_result"
    }
   ],
   "source": [
    "confusion_matrix(y_test,predD)"
   ]
  },
  {
   "cell_type": "code",
   "execution_count": 99,
   "id": "e766c22b",
   "metadata": {},
   "outputs": [
    {
     "name": "stdout",
     "output_type": "stream",
     "text": [
      "              precision    recall  f1-score   support\n",
      "\n",
      " Charged Off       0.60      0.19      0.29     12807\n",
      "  Fully Paid       0.76      0.95      0.85     34808\n",
      "\n",
      "    accuracy                           0.75     47615\n",
      "   macro avg       0.68      0.57      0.57     47615\n",
      "weighted avg       0.72      0.75      0.70     47615\n",
      "\n"
     ]
    }
   ],
   "source": [
    "print(classification_report(y_test,predGB))"
   ]
  },
  {
   "cell_type": "code",
   "execution_count": 100,
   "id": "f2d3a656",
   "metadata": {},
   "outputs": [
    {
     "name": "stdout",
     "output_type": "stream",
     "text": [
      "              precision    recall  f1-score   support\n",
      "\n",
      " Charged Off       0.80      0.50      0.61     12807\n",
      "  Fully Paid       0.84      0.95      0.89     34808\n",
      "\n",
      "    accuracy                           0.83     47615\n",
      "   macro avg       0.82      0.73      0.75     47615\n",
      "weighted avg       0.83      0.83      0.82     47615\n",
      "\n"
     ]
    }
   ],
   "source": [
    "print(classification_report(y_test,predR))"
   ]
  },
  {
   "cell_type": "code",
   "execution_count": 101,
   "id": "fa7658c4",
   "metadata": {},
   "outputs": [
    {
     "name": "stdout",
     "output_type": "stream",
     "text": [
      "              precision    recall  f1-score   support\n",
      "\n",
      " Charged Off       0.52      0.60      0.56     12807\n",
      "  Fully Paid       0.84      0.79      0.82     34808\n",
      "\n",
      "    accuracy                           0.74     47615\n",
      "   macro avg       0.68      0.70      0.69     47615\n",
      "weighted avg       0.76      0.74      0.75     47615\n",
      "\n"
     ]
    }
   ],
   "source": [
    "print(classification_report(y_test,predD))"
   ]
  },
  {
   "cell_type": "code",
   "execution_count": 105,
   "id": "ae830946",
   "metadata": {},
   "outputs": [
    {
     "data": {
      "image/png": "[encoded data removed]",
      "text/plain": [
       "<Figure size 432x288 with 2 Axes>"
      ]
     },
     "metadata": {
      "needs_background": "light"
     },
     "output_type": "display_data"
    }
   ],
   "source": [
    "sns.heatmap(confusion_matrix(y_test,predR),annot=True);"
   ]
  },
  {
   "cell_type": "markdown",
   "id": "cd125e4a",
   "metadata": {},
   "source": [
    "### <font color=green>Define a function to call all Classification Algorithms"
   ]
  },
  {
   "cell_type": "code",
   "execution_count": 102,
   "id": "f372b7ce",
   "metadata": {},
   "outputs": [],
   "source": [
    "#!pip install xgboost"
   ]
  },
  {
   "cell_type": "code",
   "execution_count": 103,
   "id": "c08af6d6",
   "metadata": {},
   "outputs": [],
   "source": [
    "def classification_function(x,y):\n",
    "    #import all algos\n",
    "    from sklearn.naive_bayes import GaussianNB\n",
    "    from sklearn.naive_bayes import BernoulliNB\n",
    "    from sklearn.svm import SVC\n",
    "    from sklearn.neighbors import KNeighborsClassifier\n",
    "    from sklearn.tree import DecisionTreeClassifier\n",
    "    from sklearn.ensemble import RandomForestClassifier\n",
    "    from sklearn.linear_model import LogisticRegression\n",
    "    from xgboost import XGBClassifier\n",
    "    \n",
    "    g=GaussianNB()\n",
    "    b=BernoulliNB()\n",
    "    SVC=SVC()\n",
    "    KN=KNeighborsClassifier()\n",
    "    D=DecisionTreeClassifier()\n",
    "    R=RandomForestClassifier()\n",
    "    Log=LogisticRegression()\n",
    "    XGBC=XGBClassifier()\n",
    "    \n",
    "    #import all metrics\n",
    "    from sklearn.metrics import accuracy_score, precision_score,recall_score, f1_score, confusion_matrix, classification_report\n",
    "    \n",
    "    #split the data 20% test and 80& train size\n",
    "    x_train,x_test,y_train,y_test=train_test_split(x,y,test_size=.20,random_state=42)\n",
    "    \n",
    "    #put all algorithms and their names in seperate lists\n",
    "    algos=[g,b,SVC,KN,D,R,Log,XGBC]\n",
    "    algo_names=['GaussianNB','BernoulliNB','SVC','KNeighborsClassifier','DecisionTreeClassifier','RandomForestClassifier','LogisticRegression','XGBClassifier']\n",
    "    \n",
    "    # put metric in empty list so the scores can be saved in them\n",
    "    accuracy_scored=[]\n",
    "    precision_scored=[]\n",
    "    recall_scored=[]\n",
    "    f1_scored=[]\n",
    "    \n",
    "    for item in algos:\n",
    "        item.fit(x_train,y_train) # train models for all algos\n",
    "        #fit & predict for all scoring methods and add them to their lists\n",
    "        accuracy_scored.append(accuracy_score(y_test,item.predict(x_test)))\n",
    "        precision_scored.append(precision_score(y_test,item.predict(x_test)))\n",
    "        recall_scored.append(recall_score(y_test,item.predict(x_test)))\n",
    "        f1_scored.append(f1_score(y_test,item.predict(x_test)))\n",
    "    \n",
    "    #put the score methods as columns\n",
    "    result=pd.DataFrame(columns=['accuracy_score','precision_score','recall_score','f1_score'],index=algo_names)\n",
    "    #assign the results\n",
    "    result.accuracy_score=accuracy_scored\n",
    "    result.precision_score=precision_scored\n",
    "    result.recall_score=recall_scored\n",
    "    result.f1_score=f1_scored\n",
    "    \n",
    "    #sort and return the results\n",
    "    classification_function.result=result.sort_values('accuracy_score',ascending=False)\n",
    "    return result.sort_values('accuracy_score',ascending=False) "
   ]
  },
  {
   "cell_type": "code",
   "execution_count": 104,
   "id": "24af4be7",
   "metadata": {},
   "outputs": [],
   "source": [
    "# call function\n",
    "#classification_function(x,y) -- not working"
   ]
  }
 ],
 "metadata": {
  "kernelspec": {
   "display_name": "Python 3 (ipykernel)",
   "language": "python",
   "name": "python3"
  },
  "language_info": {
   "codemirror_mode": {
    "name": "ipython",
    "version": 3
   },
   "file_extension": ".py",
   "mimetype": "text/x-python",
   "name": "python",
   "nbconvert_exporter": "python",
   "pygments_lexer": "ipython3",
   "version": "3.9.12"
  }
 },
 "nbformat": 4,
 "nbformat_minor": 5
}
